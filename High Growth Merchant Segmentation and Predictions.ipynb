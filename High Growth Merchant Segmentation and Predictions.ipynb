{
 "cells": [
  {
   "cell_type": "markdown",
   "metadata": {},
   "source": [
    "# Stripe: Analysis of High Growth Merchant Trends"
   ]
  },
  {
   "cell_type": "markdown",
   "metadata": {},
   "source": [
    "The merchants in the sample data can be segmented in terms of recency, longevity, frequency and monetary value of transactions."
   ]
  },
  {
   "cell_type": "code",
   "execution_count": 1,
   "metadata": {},
   "outputs": [],
   "source": [
    "import pandas as pd\n",
    "import matplotlib.pyplot as plt\n",
    "import numpy as np\n",
    "import datetime\n",
    "import seaborn as sns\n",
    "\n",
    "transactions = pd.read_csv(\"stripe.csv\") # load sample data"
   ]
  },
  {
   "cell_type": "code",
   "execution_count": 2,
   "metadata": {},
   "outputs": [
    {
     "data": {
      "text/html": [
       "<div>\n",
       "<style scoped>\n",
       "    .dataframe tbody tr th:only-of-type {\n",
       "        vertical-align: middle;\n",
       "    }\n",
       "\n",
       "    .dataframe tbody tr th {\n",
       "        vertical-align: top;\n",
       "    }\n",
       "\n",
       "    .dataframe thead th {\n",
       "        text-align: right;\n",
       "    }\n",
       "</style>\n",
       "<table border=\"1\" class=\"dataframe\">\n",
       "  <thead>\n",
       "    <tr style=\"text-align: right;\">\n",
       "      <th></th>\n",
       "      <th>user</th>\n",
       "      <th>time</th>\n",
       "      <th>amount_in_cents</th>\n",
       "    </tr>\n",
       "  </thead>\n",
       "  <tbody>\n",
       "    <tr>\n",
       "      <th>0</th>\n",
       "      <td>00038f0484334ac047449166cfbbf6452b31c85c</td>\n",
       "      <td>2016-02-19T23:39:56.925Z</td>\n",
       "      <td>1203</td>\n",
       "    </tr>\n",
       "    <tr>\n",
       "      <th>1</th>\n",
       "      <td>00038f0484334ac047449166cfbbf6452b31c85c</td>\n",
       "      <td>2016-02-19T23:41:47.026Z</td>\n",
       "      <td>1203</td>\n",
       "    </tr>\n",
       "    <tr>\n",
       "      <th>2</th>\n",
       "      <td>00038f0484334ac047449166cfbbf6452b31c85c</td>\n",
       "      <td>2016-02-23T15:19:54.836Z</td>\n",
       "      <td>2405</td>\n",
       "    </tr>\n",
       "    <tr>\n",
       "      <th>3</th>\n",
       "      <td>00038f0484334ac047449166cfbbf6452b31c85c</td>\n",
       "      <td>2016-02-23T15:21:08.273Z</td>\n",
       "      <td>2405</td>\n",
       "    </tr>\n",
       "    <tr>\n",
       "      <th>4</th>\n",
       "      <td>00038f0484334ac047449166cfbbf6452b31c85c</td>\n",
       "      <td>2016-02-24T15:19:39.386Z</td>\n",
       "      <td>1203</td>\n",
       "    </tr>\n",
       "  </tbody>\n",
       "</table>\n",
       "</div>"
      ],
      "text/plain": [
       "                                       user                      time  \\\n",
       "0  00038f0484334ac047449166cfbbf6452b31c85c  2016-02-19T23:39:56.925Z   \n",
       "1  00038f0484334ac047449166cfbbf6452b31c85c  2016-02-19T23:41:47.026Z   \n",
       "2  00038f0484334ac047449166cfbbf6452b31c85c  2016-02-23T15:19:54.836Z   \n",
       "3  00038f0484334ac047449166cfbbf6452b31c85c  2016-02-23T15:21:08.273Z   \n",
       "4  00038f0484334ac047449166cfbbf6452b31c85c  2016-02-24T15:19:39.386Z   \n",
       "\n",
       "   amount_in_cents  \n",
       "0             1203  \n",
       "1             1203  \n",
       "2             2405  \n",
       "3             2405  \n",
       "4             1203  "
      ]
     },
     "execution_count": 2,
     "metadata": {},
     "output_type": "execute_result"
    }
   ],
   "source": [
    "transactions.head() # check data format and column headings"
   ]
  },
  {
   "cell_type": "code",
   "execution_count": 3,
   "metadata": {
    "scrolled": true
   },
   "outputs": [
    {
     "data": {
      "text/plain": [
       "user               0\n",
       "time               0\n",
       "amount_in_cents    0\n",
       "dtype: int64"
      ]
     },
     "execution_count": 3,
     "metadata": {},
     "output_type": "execute_result"
    }
   ],
   "source": [
    "transactions.isnull().sum(axis=0) # check for missing values"
   ]
  },
  {
   "cell_type": "markdown",
   "metadata": {},
   "source": [
    "Calculate transaction frequency and monetary values"
   ]
  },
  {
   "cell_type": "code",
   "execution_count": 4,
   "metadata": {},
   "outputs": [
    {
     "data": {
      "text/html": [
       "<div>\n",
       "<style scoped>\n",
       "    .dataframe tbody tr th:only-of-type {\n",
       "        vertical-align: middle;\n",
       "    }\n",
       "\n",
       "    .dataframe tbody tr th {\n",
       "        vertical-align: top;\n",
       "    }\n",
       "\n",
       "    .dataframe thead th {\n",
       "        text-align: right;\n",
       "    }\n",
       "</style>\n",
       "<table border=\"1\" class=\"dataframe\">\n",
       "  <thead>\n",
       "    <tr style=\"text-align: right;\">\n",
       "      <th></th>\n",
       "      <th>frequency</th>\n",
       "      <th>monetary_value</th>\n",
       "    </tr>\n",
       "    <tr>\n",
       "      <th>user</th>\n",
       "      <th></th>\n",
       "      <th></th>\n",
       "    </tr>\n",
       "  </thead>\n",
       "  <tbody>\n",
       "    <tr>\n",
       "      <th>00038f0484334ac047449166cfbbf6452b31c85c</th>\n",
       "      <td>310</td>\n",
       "      <td>3159.106452</td>\n",
       "    </tr>\n",
       "    <tr>\n",
       "      <th>0012a74e2bb1ab0073b2e18532e87474b6b7cfca</th>\n",
       "      <td>2</td>\n",
       "      <td>4570.000000</td>\n",
       "    </tr>\n",
       "    <tr>\n",
       "      <th>001855810c25d8bb03210f8c0114de27da9cd76c</th>\n",
       "      <td>195</td>\n",
       "      <td>7725.482051</td>\n",
       "    </tr>\n",
       "    <tr>\n",
       "      <th>001f3978fa7cad62f2e2ddfa155184a316282b0e</th>\n",
       "      <td>166</td>\n",
       "      <td>16683.036145</td>\n",
       "    </tr>\n",
       "    <tr>\n",
       "      <th>00317873b9dcbcff6759f7ec4225d8531520fdcb</th>\n",
       "      <td>2</td>\n",
       "      <td>4029.000000</td>\n",
       "    </tr>\n",
       "  </tbody>\n",
       "</table>\n",
       "</div>"
      ],
      "text/plain": [
       "                                          frequency  monetary_value\n",
       "user                                                               \n",
       "00038f0484334ac047449166cfbbf6452b31c85c        310     3159.106452\n",
       "0012a74e2bb1ab0073b2e18532e87474b6b7cfca          2     4570.000000\n",
       "001855810c25d8bb03210f8c0114de27da9cd76c        195     7725.482051\n",
       "001f3978fa7cad62f2e2ddfa155184a316282b0e        166    16683.036145\n",
       "00317873b9dcbcff6759f7ec4225d8531520fdcb          2     4029.000000"
      ]
     },
     "execution_count": 4,
     "metadata": {},
     "output_type": "execute_result"
    }
   ],
   "source": [
    "segments = transactions.groupby('user').agg({'time': 'count', 'amount_in_cents': 'mean'}).rename(columns={'time':'frequency','amount_in_cents':'monetary_value'})\n",
    "segments.head()"
   ]
  },
  {
   "cell_type": "code",
   "execution_count": 5,
   "metadata": {},
   "outputs": [
    {
     "data": {
      "text/plain": [
       "<matplotlib.axes._subplots.AxesSubplot at 0x1a1ea24240>"
      ]
     },
     "execution_count": 5,
     "metadata": {},
     "output_type": "execute_result"
    },
    {
     "data": {
      "image/png": "[encoded data removed]",
      "text/plain": [
       "<Figure size 432x288 with 1 Axes>"
      ]
     },
     "metadata": {
      "needs_background": "light"
     },
     "output_type": "display_data"
    }
   ],
   "source": [
    "segments.plot(0,1,kind='scatter') # plot transaction frequency against average monetary value"
   ]
  },
  {
   "cell_type": "markdown",
   "metadata": {},
   "source": [
    "We can zoom in on the bottom left quandarant to look at merchants with lower frequency and lower monetary value"
   ]
  },
  {
   "cell_type": "code",
   "execution_count": 6,
   "metadata": {},
   "outputs": [
    {
     "data": {
      "text/plain": [
       "<matplotlib.axes._subplots.AxesSubplot at 0x1a1eaedd68>"
      ]
     },
     "execution_count": 6,
     "metadata": {},
     "output_type": "execute_result"
    },
    {
     "data": {
      "image/png": "[encoded data removed]",
      "text/plain": [
       "<Figure size 432x288 with 1 Axes>"
      ]
     },
     "metadata": {
      "needs_background": "light"
     },
     "output_type": "display_data"
    }
   ],
   "source": [
    "segments.plot(0,1,kind='scatter',xlim=[0,2000],ylim=[0,40000])"
   ]
  },
  {
   "cell_type": "markdown",
   "metadata": {},
   "source": [
    "This suggests that we have three kinds of merchant:\n",
    "    low frequency of low value transactions,\n",
    "    high frequency of low value transactions or\n",
    "    low frequency of high value tranactions.\n",
    "    \n",
    "We have no merchants that are both higher frequency and higher value and the majority of merchants are in the bottom left quadrant; lower frequency with lower value"
   ]
  },
  {
   "cell_type": "markdown",
   "metadata": {},
   "source": [
    "The next part of the segmentation takes into account the date of each transaction and recency of last transaction."
   ]
  },
  {
   "cell_type": "code",
   "execution_count": 7,
   "metadata": {},
   "outputs": [
    {
     "name": "stdout",
     "output_type": "stream",
     "text": [
      "2015-11-06T02:33:18.946Z\n",
      "2015-11-06 02:33:18.946000+00:00\n",
      "2017-11-04T23:19:27.1Z\n",
      "2017-11-04 23:19:27.100000+00:00\n"
     ]
    }
   ],
   "source": [
    "# Check date range and data formats\n",
    "\n",
    "first_transaction_time = transactions['time'].min()\n",
    "print(first_transaction_time)\n",
    "STARTTIME = datetime.datetime.strptime(first_transaction_time,'%Y-%m-%dT%H:%M:%S.%f%z')\n",
    "print (STARTTIME)\n",
    "\n",
    "last_transaction_time = transactions['time'].max()\n",
    "print(last_transaction_time)\n",
    "ENDTIME = datetime.datetime.strptime(last_transaction_time,'%Y-%m-%dT%H:%M:%S.%f%z')\n",
    "print (ENDTIME)"
   ]
  },
  {
   "cell_type": "code",
   "execution_count": 8,
   "metadata": {},
   "outputs": [
    {
     "data": {
      "text/html": [
       "<div>\n",
       "<style scoped>\n",
       "    .dataframe tbody tr th:only-of-type {\n",
       "        vertical-align: middle;\n",
       "    }\n",
       "\n",
       "    .dataframe tbody tr th {\n",
       "        vertical-align: top;\n",
       "    }\n",
       "\n",
       "    .dataframe thead th {\n",
       "        text-align: right;\n",
       "    }\n",
       "</style>\n",
       "<table border=\"1\" class=\"dataframe\">\n",
       "  <thead>\n",
       "    <tr style=\"text-align: right;\">\n",
       "      <th></th>\n",
       "      <th>user</th>\n",
       "      <th>time</th>\n",
       "      <th>amount_in_cents</th>\n",
       "      <th>datetime</th>\n",
       "    </tr>\n",
       "  </thead>\n",
       "  <tbody>\n",
       "    <tr>\n",
       "      <th>0</th>\n",
       "      <td>00038f0484334ac047449166cfbbf6452b31c85c</td>\n",
       "      <td>2016-02-19T23:39:56.925Z</td>\n",
       "      <td>1203</td>\n",
       "      <td>2016-02-19 23:39:56.925000+00:00</td>\n",
       "    </tr>\n",
       "    <tr>\n",
       "      <th>1</th>\n",
       "      <td>00038f0484334ac047449166cfbbf6452b31c85c</td>\n",
       "      <td>2016-02-19T23:41:47.026Z</td>\n",
       "      <td>1203</td>\n",
       "      <td>2016-02-19 23:41:47.026000+00:00</td>\n",
       "    </tr>\n",
       "    <tr>\n",
       "      <th>2</th>\n",
       "      <td>00038f0484334ac047449166cfbbf6452b31c85c</td>\n",
       "      <td>2016-02-23T15:19:54.836Z</td>\n",
       "      <td>2405</td>\n",
       "      <td>2016-02-23 15:19:54.836000+00:00</td>\n",
       "    </tr>\n",
       "    <tr>\n",
       "      <th>3</th>\n",
       "      <td>00038f0484334ac047449166cfbbf6452b31c85c</td>\n",
       "      <td>2016-02-23T15:21:08.273Z</td>\n",
       "      <td>2405</td>\n",
       "      <td>2016-02-23 15:21:08.273000+00:00</td>\n",
       "    </tr>\n",
       "    <tr>\n",
       "      <th>4</th>\n",
       "      <td>00038f0484334ac047449166cfbbf6452b31c85c</td>\n",
       "      <td>2016-02-24T15:19:39.386Z</td>\n",
       "      <td>1203</td>\n",
       "      <td>2016-02-24 15:19:39.386000+00:00</td>\n",
       "    </tr>\n",
       "  </tbody>\n",
       "</table>\n",
       "</div>"
      ],
      "text/plain": [
       "                                       user                      time  \\\n",
       "0  00038f0484334ac047449166cfbbf6452b31c85c  2016-02-19T23:39:56.925Z   \n",
       "1  00038f0484334ac047449166cfbbf6452b31c85c  2016-02-19T23:41:47.026Z   \n",
       "2  00038f0484334ac047449166cfbbf6452b31c85c  2016-02-23T15:19:54.836Z   \n",
       "3  00038f0484334ac047449166cfbbf6452b31c85c  2016-02-23T15:21:08.273Z   \n",
       "4  00038f0484334ac047449166cfbbf6452b31c85c  2016-02-24T15:19:39.386Z   \n",
       "\n",
       "   amount_in_cents                         datetime  \n",
       "0             1203 2016-02-19 23:39:56.925000+00:00  \n",
       "1             1203 2016-02-19 23:41:47.026000+00:00  \n",
       "2             2405 2016-02-23 15:19:54.836000+00:00  \n",
       "3             2405 2016-02-23 15:21:08.273000+00:00  \n",
       "4             1203 2016-02-24 15:19:39.386000+00:00  "
      ]
     },
     "execution_count": 8,
     "metadata": {},
     "output_type": "execute_result"
    }
   ],
   "source": [
    "# Convert time string into datetime allowing for the possibility of optional millseconds\n",
    "def parse_time (t) :\n",
    "    try:\n",
    "        return datetime.datetime.strptime(t,'%Y-%m-%dT%H:%M:%S.%f%z')\n",
    "    except ValueError:\n",
    "        return datetime.datetime.strptime(t,'%Y-%m-%dT%H:%M:%S%z')\n",
    "    \n",
    "transactions['datetime'] = transactions['time'].map(parse_time)\n",
    "transactions.head()"
   ]
  },
  {
   "cell_type": "code",
   "execution_count": 14,
   "metadata": {},
   "outputs": [
    {
     "data": {
      "text/html": [
       "<div>\n",
       "<style scoped>\n",
       "    .dataframe tbody tr th:only-of-type {\n",
       "        vertical-align: middle;\n",
       "    }\n",
       "\n",
       "    .dataframe tbody tr th {\n",
       "        vertical-align: top;\n",
       "    }\n",
       "\n",
       "    .dataframe thead tr th {\n",
       "        text-align: left;\n",
       "    }\n",
       "\n",
       "    .dataframe thead tr:last-of-type th {\n",
       "        text-align: right;\n",
       "    }\n",
       "</style>\n",
       "<table border=\"1\" class=\"dataframe\">\n",
       "  <thead>\n",
       "    <tr>\n",
       "      <th></th>\n",
       "      <th colspan=\"3\" halign=\"left\">datetime</th>\n",
       "      <th>amount_in_cents</th>\n",
       "    </tr>\n",
       "    <tr>\n",
       "      <th></th>\n",
       "      <th>first</th>\n",
       "      <th>last</th>\n",
       "      <th>count</th>\n",
       "      <th>mean</th>\n",
       "    </tr>\n",
       "    <tr>\n",
       "      <th>user</th>\n",
       "      <th></th>\n",
       "      <th></th>\n",
       "      <th></th>\n",
       "      <th></th>\n",
       "    </tr>\n",
       "  </thead>\n",
       "  <tbody>\n",
       "    <tr>\n",
       "      <th>00038f0484334ac047449166cfbbf6452b31c85c</th>\n",
       "      <td>2016-02-19 23:39:56.925000+00:00</td>\n",
       "      <td>2016-05-08 14:38:37.264000+00:00</td>\n",
       "      <td>310</td>\n",
       "      <td>3159.106452</td>\n",
       "    </tr>\n",
       "    <tr>\n",
       "      <th>0012a74e2bb1ab0073b2e18532e87474b6b7cfca</th>\n",
       "      <td>2016-11-04 14:50:09.257000+00:00</td>\n",
       "      <td>2016-11-10 00:19:25.407000+00:00</td>\n",
       "      <td>2</td>\n",
       "      <td>4570.000000</td>\n",
       "    </tr>\n",
       "    <tr>\n",
       "      <th>001855810c25d8bb03210f8c0114de27da9cd76c</th>\n",
       "      <td>2016-06-11 15:20:47.121000+00:00</td>\n",
       "      <td>2017-06-04 19:24:12.293000+00:00</td>\n",
       "      <td>195</td>\n",
       "      <td>7725.482051</td>\n",
       "    </tr>\n",
       "    <tr>\n",
       "      <th>001f3978fa7cad62f2e2ddfa155184a316282b0e</th>\n",
       "      <td>2015-11-15 19:57:58.304000+00:00</td>\n",
       "      <td>2016-11-07 18:17:18.690000+00:00</td>\n",
       "      <td>166</td>\n",
       "      <td>16683.036145</td>\n",
       "    </tr>\n",
       "    <tr>\n",
       "      <th>00317873b9dcbcff6759f7ec4225d8531520fdcb</th>\n",
       "      <td>2016-02-11 14:09:14.527000+00:00</td>\n",
       "      <td>2016-02-13 17:00:29.935000+00:00</td>\n",
       "      <td>2</td>\n",
       "      <td>4029.000000</td>\n",
       "    </tr>\n",
       "  </tbody>\n",
       "</table>\n",
       "</div>"
      ],
      "text/plain": [
       "                                                                 datetime  \\\n",
       "                                                                    first   \n",
       "user                                                                        \n",
       "00038f0484334ac047449166cfbbf6452b31c85c 2016-02-19 23:39:56.925000+00:00   \n",
       "0012a74e2bb1ab0073b2e18532e87474b6b7cfca 2016-11-04 14:50:09.257000+00:00   \n",
       "001855810c25d8bb03210f8c0114de27da9cd76c 2016-06-11 15:20:47.121000+00:00   \n",
       "001f3978fa7cad62f2e2ddfa155184a316282b0e 2015-11-15 19:57:58.304000+00:00   \n",
       "00317873b9dcbcff6759f7ec4225d8531520fdcb 2016-02-11 14:09:14.527000+00:00   \n",
       "\n",
       "                                                                           \\\n",
       "                                                                     last   \n",
       "user                                                                        \n",
       "00038f0484334ac047449166cfbbf6452b31c85c 2016-05-08 14:38:37.264000+00:00   \n",
       "0012a74e2bb1ab0073b2e18532e87474b6b7cfca 2016-11-10 00:19:25.407000+00:00   \n",
       "001855810c25d8bb03210f8c0114de27da9cd76c 2017-06-04 19:24:12.293000+00:00   \n",
       "001f3978fa7cad62f2e2ddfa155184a316282b0e 2016-11-07 18:17:18.690000+00:00   \n",
       "00317873b9dcbcff6759f7ec4225d8531520fdcb 2016-02-13 17:00:29.935000+00:00   \n",
       "\n",
       "                                               amount_in_cents  \n",
       "                                         count            mean  \n",
       "user                                                            \n",
       "00038f0484334ac047449166cfbbf6452b31c85c   310     3159.106452  \n",
       "0012a74e2bb1ab0073b2e18532e87474b6b7cfca     2     4570.000000  \n",
       "001855810c25d8bb03210f8c0114de27da9cd76c   195     7725.482051  \n",
       "001f3978fa7cad62f2e2ddfa155184a316282b0e   166    16683.036145  \n",
       "00317873b9dcbcff6759f7ec4225d8531520fdcb     2     4029.000000  "
      ]
     },
     "execution_count": 14,
     "metadata": {},
     "output_type": "execute_result"
    }
   ],
   "source": [
    "time_segments = transactions.groupby('user').agg({'datetime': ['first','last','count'], 'amount_in_cents': ['mean']})\n",
    "time_segments.head()"
   ]
  },
  {
   "cell_type": "code",
   "execution_count": 25,
   "metadata": {},
   "outputs": [
    {
     "data": {
      "text/html": [
       "<div>\n",
       "<style scoped>\n",
       "    .dataframe tbody tr th:only-of-type {\n",
       "        vertical-align: middle;\n",
       "    }\n",
       "\n",
       "    .dataframe tbody tr th {\n",
       "        vertical-align: top;\n",
       "    }\n",
       "\n",
       "    .dataframe thead tr th {\n",
       "        text-align: left;\n",
       "    }\n",
       "\n",
       "    .dataframe thead tr:last-of-type th {\n",
       "        text-align: right;\n",
       "    }\n",
       "</style>\n",
       "<table border=\"1\" class=\"dataframe\">\n",
       "  <thead>\n",
       "    <tr>\n",
       "      <th></th>\n",
       "      <th colspan=\"3\" halign=\"left\">datetime</th>\n",
       "      <th>amount_in_cents</th>\n",
       "      <th>recency</th>\n",
       "      <th>seniority</th>\n",
       "      <th>longevity</th>\n",
       "    </tr>\n",
       "    <tr>\n",
       "      <th></th>\n",
       "      <th>first</th>\n",
       "      <th>last</th>\n",
       "      <th>count</th>\n",
       "      <th>mean</th>\n",
       "      <th></th>\n",
       "      <th></th>\n",
       "      <th></th>\n",
       "    </tr>\n",
       "    <tr>\n",
       "      <th>user</th>\n",
       "      <th></th>\n",
       "      <th></th>\n",
       "      <th></th>\n",
       "      <th></th>\n",
       "      <th></th>\n",
       "      <th></th>\n",
       "      <th></th>\n",
       "    </tr>\n",
       "  </thead>\n",
       "  <tbody>\n",
       "    <tr>\n",
       "      <th>00038f0484334ac047449166cfbbf6452b31c85c</th>\n",
       "      <td>2016-02-19 23:39:56.925000+00:00</td>\n",
       "      <td>2016-05-08 14:38:37.264000+00:00</td>\n",
       "      <td>310</td>\n",
       "      <td>3159.106452</td>\n",
       "      <td>545</td>\n",
       "      <td>623</td>\n",
       "      <td>78</td>\n",
       "    </tr>\n",
       "    <tr>\n",
       "      <th>0012a74e2bb1ab0073b2e18532e87474b6b7cfca</th>\n",
       "      <td>2016-11-04 14:50:09.257000+00:00</td>\n",
       "      <td>2016-11-10 00:19:25.407000+00:00</td>\n",
       "      <td>2</td>\n",
       "      <td>4570.000000</td>\n",
       "      <td>359</td>\n",
       "      <td>365</td>\n",
       "      <td>6</td>\n",
       "    </tr>\n",
       "    <tr>\n",
       "      <th>001855810c25d8bb03210f8c0114de27da9cd76c</th>\n",
       "      <td>2016-06-11 15:20:47.121000+00:00</td>\n",
       "      <td>2017-06-04 19:24:12.293000+00:00</td>\n",
       "      <td>195</td>\n",
       "      <td>7725.482051</td>\n",
       "      <td>153</td>\n",
       "      <td>511</td>\n",
       "      <td>358</td>\n",
       "    </tr>\n",
       "    <tr>\n",
       "      <th>001f3978fa7cad62f2e2ddfa155184a316282b0e</th>\n",
       "      <td>2015-11-15 19:57:58.304000+00:00</td>\n",
       "      <td>2016-11-07 18:17:18.690000+00:00</td>\n",
       "      <td>166</td>\n",
       "      <td>16683.036145</td>\n",
       "      <td>362</td>\n",
       "      <td>720</td>\n",
       "      <td>358</td>\n",
       "    </tr>\n",
       "    <tr>\n",
       "      <th>00317873b9dcbcff6759f7ec4225d8531520fdcb</th>\n",
       "      <td>2016-02-11 14:09:14.527000+00:00</td>\n",
       "      <td>2016-02-13 17:00:29.935000+00:00</td>\n",
       "      <td>2</td>\n",
       "      <td>4029.000000</td>\n",
       "      <td>630</td>\n",
       "      <td>632</td>\n",
       "      <td>2</td>\n",
       "    </tr>\n",
       "  </tbody>\n",
       "</table>\n",
       "</div>"
      ],
      "text/plain": [
       "                                                                 datetime  \\\n",
       "                                                                    first   \n",
       "user                                                                        \n",
       "00038f0484334ac047449166cfbbf6452b31c85c 2016-02-19 23:39:56.925000+00:00   \n",
       "0012a74e2bb1ab0073b2e18532e87474b6b7cfca 2016-11-04 14:50:09.257000+00:00   \n",
       "001855810c25d8bb03210f8c0114de27da9cd76c 2016-06-11 15:20:47.121000+00:00   \n",
       "001f3978fa7cad62f2e2ddfa155184a316282b0e 2015-11-15 19:57:58.304000+00:00   \n",
       "00317873b9dcbcff6759f7ec4225d8531520fdcb 2016-02-11 14:09:14.527000+00:00   \n",
       "\n",
       "                                                                           \\\n",
       "                                                                     last   \n",
       "user                                                                        \n",
       "00038f0484334ac047449166cfbbf6452b31c85c 2016-05-08 14:38:37.264000+00:00   \n",
       "0012a74e2bb1ab0073b2e18532e87474b6b7cfca 2016-11-10 00:19:25.407000+00:00   \n",
       "001855810c25d8bb03210f8c0114de27da9cd76c 2017-06-04 19:24:12.293000+00:00   \n",
       "001f3978fa7cad62f2e2ddfa155184a316282b0e 2016-11-07 18:17:18.690000+00:00   \n",
       "00317873b9dcbcff6759f7ec4225d8531520fdcb 2016-02-13 17:00:29.935000+00:00   \n",
       "\n",
       "                                               amount_in_cents recency  \\\n",
       "                                         count            mean           \n",
       "user                                                                     \n",
       "00038f0484334ac047449166cfbbf6452b31c85c   310     3159.106452     545   \n",
       "0012a74e2bb1ab0073b2e18532e87474b6b7cfca     2     4570.000000     359   \n",
       "001855810c25d8bb03210f8c0114de27da9cd76c   195     7725.482051     153   \n",
       "001f3978fa7cad62f2e2ddfa155184a316282b0e   166    16683.036145     362   \n",
       "00317873b9dcbcff6759f7ec4225d8531520fdcb     2     4029.000000     630   \n",
       "\n",
       "                                         seniority longevity  \n",
       "                                                              \n",
       "user                                                          \n",
       "00038f0484334ac047449166cfbbf6452b31c85c       623        78  \n",
       "0012a74e2bb1ab0073b2e18532e87474b6b7cfca       365         6  \n",
       "001855810c25d8bb03210f8c0114de27da9cd76c       511       358  \n",
       "001f3978fa7cad62f2e2ddfa155184a316282b0e       720       358  \n",
       "00317873b9dcbcff6759f7ec4225d8531520fdcb       632         2  "
      ]
     },
     "execution_count": 25,
     "metadata": {},
     "output_type": "execute_result"
    }
   ],
   "source": [
    "time_segments['recency'] = time_segments['datetime']['last'].map (lambda t : (ENDTIME - t).days)\n",
    "time_segments['seniority'] = time_segments['datetime']['first'].map (lambda t : (ENDTIME - t).days)\n",
    "time_segments['longevity'] = time_segments['seniority'] - time_segments['recency']\n",
    "time_segments.head()"
   ]
  },
  {
   "cell_type": "code",
   "execution_count": 26,
   "metadata": {},
   "outputs": [
    {
     "data": {
      "text/plain": [
       "<matplotlib.axes._subplots.AxesSubplot at 0x1a20658278>"
      ]
     },
     "execution_count": 26,
     "metadata": {},
     "output_type": "execute_result"
    },
    {
     "data": {
      "image/png": "[encoded data removed]",
      "text/plain": [
       "<Figure size 432x288 with 1 Axes>"
      ]
     },
     "metadata": {
      "needs_background": "light"
     },
     "output_type": "display_data"
    }
   ],
   "source": [
    "sns.distplot(time_segments['longevity']) # look for longevity patterns"
   ]
  },
  {
   "cell_type": "markdown",
   "metadata": {},
   "source": [
    "The longevity pattern suggests two clusters of user, those who have been with Stripe for a long time and those who are either very recent or very short-lived."
   ]
  },
  {
   "cell_type": "code",
   "execution_count": 27,
   "metadata": {},
   "outputs": [
    {
     "data": {
      "text/plain": [
       "<matplotlib.axes._subplots.AxesSubplot at 0x1a3dab0048>"
      ]
     },
     "execution_count": 27,
     "metadata": {},
     "output_type": "execute_result"
    },
    {
     "data": {
      "image/png": "[encoded data removed]",
      "text/plain": [
       "<Figure size 432x288 with 1 Axes>"
      ]
     },
     "metadata": {
      "needs_background": "light"
     },
     "output_type": "display_data"
    }
   ],
   "source": [
    "sns.distplot(time_segments['seniority']) # look for loyalty patterns"
   ]
  },
  {
   "cell_type": "markdown",
   "metadata": {},
   "source": [
    "This suggests that most users joined Stripe within the previous year"
   ]
  },
  {
   "cell_type": "markdown",
   "metadata": {},
   "source": [
    "Plot recency against frequency, and recency aginst monetary value"
   ]
  },
  {
   "cell_type": "code",
   "execution_count": 21,
   "metadata": {},
   "outputs": [
    {
     "data": {
      "text/plain": [
       "<matplotlib.axes._subplots.AxesSubplot at 0x1a1ffbbc50>"
      ]
     },
     "execution_count": 21,
     "metadata": {},
     "output_type": "execute_result"
    },
    {
     "data": {
      "image/png": "[encoded data removed]",
      "text/plain": [
       "<Figure size 432x288 with 1 Axes>"
      ]
     },
     "metadata": {
      "needs_background": "light"
     },
     "output_type": "display_data"
    }
   ],
   "source": [
    "time_segments.plot(4,2,kind='scatter') # recency against frequency"
   ]
  },
  {
   "cell_type": "code",
   "execution_count": 22,
   "metadata": {},
   "outputs": [
    {
     "data": {
      "text/plain": [
       "<matplotlib.axes._subplots.AxesSubplot at 0x1a2000f7f0>"
      ]
     },
     "execution_count": 22,
     "metadata": {},
     "output_type": "execute_result"
    },
    {
     "data": {
      "image/png": "[encoded data removed]",
      "text/plain": [
       "<Figure size 432x288 with 1 Axes>"
      ]
     },
     "metadata": {
      "needs_background": "light"
     },
     "output_type": "display_data"
    }
   ],
   "source": [
    "time_segments.plot(4,3,kind='scatter') # recency against monetary"
   ]
  },
  {
   "cell_type": "markdown",
   "metadata": {},
   "source": [
    "This indicates that recency is indepdendant of frequency or monetary value"
   ]
  },
  {
   "cell_type": "markdown",
   "metadata": {},
   "source": [
    "# Identification and Prediction of High Growth Merchants"
   ]
  },
  {
   "cell_type": "markdown",
   "metadata": {},
   "source": [
    "We will define high growth in terms of growth in transaction frequency.\n",
    "\n",
    "Since we have two years of transaction date we would split the data into to one year of historical data and one year of future data. We might define a high growth merchant as a user for whom the second year shows a significant increase in transaction frequency."
   ]
  },
  {
   "cell_type": "code",
   "execution_count": 24,
   "metadata": {},
   "outputs": [
    {
     "data": {
      "text/html": [
       "<div>\n",
       "<style scoped>\n",
       "    .dataframe tbody tr th:only-of-type {\n",
       "        vertical-align: middle;\n",
       "    }\n",
       "\n",
       "    .dataframe tbody tr th {\n",
       "        vertical-align: top;\n",
       "    }\n",
       "\n",
       "    .dataframe thead th {\n",
       "        text-align: right;\n",
       "    }\n",
       "</style>\n",
       "<table border=\"1\" class=\"dataframe\">\n",
       "  <thead>\n",
       "    <tr style=\"text-align: right;\">\n",
       "      <th></th>\n",
       "      <th>user</th>\n",
       "      <th>time</th>\n",
       "      <th>amount_in_cents</th>\n",
       "      <th>datetime</th>\n",
       "      <th>year</th>\n",
       "      <th>quarter</th>\n",
       "      <th>month</th>\n",
       "      <th>week</th>\n",
       "      <th>day</th>\n",
       "    </tr>\n",
       "  </thead>\n",
       "  <tbody>\n",
       "    <tr>\n",
       "      <th>1524705</th>\n",
       "      <td>ffe986bb5a18d164ed9b1cc4e1c07016d396a2c2</td>\n",
       "      <td>2016-08-04T05:19:27.029Z</td>\n",
       "      <td>72998</td>\n",
       "      <td>2016-08-04 05:19:27.029000+00:00</td>\n",
       "      <td>0</td>\n",
       "      <td>2</td>\n",
       "      <td>9</td>\n",
       "      <td>38</td>\n",
       "      <td>272</td>\n",
       "    </tr>\n",
       "    <tr>\n",
       "      <th>1524706</th>\n",
       "      <td>ffe986bb5a18d164ed9b1cc4e1c07016d396a2c2</td>\n",
       "      <td>2016-08-07T18:23:10.951Z</td>\n",
       "      <td>2525</td>\n",
       "      <td>2016-08-07 18:23:10.951000+00:00</td>\n",
       "      <td>0</td>\n",
       "      <td>3</td>\n",
       "      <td>9</td>\n",
       "      <td>39</td>\n",
       "      <td>275</td>\n",
       "    </tr>\n",
       "    <tr>\n",
       "      <th>1524707</th>\n",
       "      <td>ffe986bb5a18d164ed9b1cc4e1c07016d396a2c2</td>\n",
       "      <td>2016-10-13T15:59:23.566Z</td>\n",
       "      <td>4450</td>\n",
       "      <td>2016-10-13 15:59:23.566000+00:00</td>\n",
       "      <td>0</td>\n",
       "      <td>3</td>\n",
       "      <td>11</td>\n",
       "      <td>48</td>\n",
       "      <td>342</td>\n",
       "    </tr>\n",
       "    <tr>\n",
       "      <th>1524708</th>\n",
       "      <td>ffe986bb5a18d164ed9b1cc4e1c07016d396a2c2</td>\n",
       "      <td>2016-12-20T17:40:41.99Z</td>\n",
       "      <td>29223</td>\n",
       "      <td>2016-12-20 17:40:41.990000+00:00</td>\n",
       "      <td>1</td>\n",
       "      <td>4</td>\n",
       "      <td>13</td>\n",
       "      <td>58</td>\n",
       "      <td>410</td>\n",
       "    </tr>\n",
       "    <tr>\n",
       "      <th>1524709</th>\n",
       "      <td>ffe986bb5a18d164ed9b1cc4e1c07016d396a2c2</td>\n",
       "      <td>2017-05-11T01:24:03.075Z</td>\n",
       "      <td>10944</td>\n",
       "      <td>2017-05-11 01:24:03.075000+00:00</td>\n",
       "      <td>1</td>\n",
       "      <td>6</td>\n",
       "      <td>18</td>\n",
       "      <td>78</td>\n",
       "      <td>551</td>\n",
       "    </tr>\n",
       "  </tbody>\n",
       "</table>\n",
       "</div>"
      ],
      "text/plain": [
       "                                             user                      time  \\\n",
       "1524705  ffe986bb5a18d164ed9b1cc4e1c07016d396a2c2  2016-08-04T05:19:27.029Z   \n",
       "1524706  ffe986bb5a18d164ed9b1cc4e1c07016d396a2c2  2016-08-07T18:23:10.951Z   \n",
       "1524707  ffe986bb5a18d164ed9b1cc4e1c07016d396a2c2  2016-10-13T15:59:23.566Z   \n",
       "1524708  ffe986bb5a18d164ed9b1cc4e1c07016d396a2c2   2016-12-20T17:40:41.99Z   \n",
       "1524709  ffe986bb5a18d164ed9b1cc4e1c07016d396a2c2  2017-05-11T01:24:03.075Z   \n",
       "\n",
       "         amount_in_cents                         datetime  year  quarter  \\\n",
       "1524705            72998 2016-08-04 05:19:27.029000+00:00     0        2   \n",
       "1524706             2525 2016-08-07 18:23:10.951000+00:00     0        3   \n",
       "1524707             4450 2016-10-13 15:59:23.566000+00:00     0        3   \n",
       "1524708            29223 2016-12-20 17:40:41.990000+00:00     1        4   \n",
       "1524709            10944 2017-05-11 01:24:03.075000+00:00     1        6   \n",
       "\n",
       "         month  week  day  \n",
       "1524705      9    38  272  \n",
       "1524706      9    39  275  \n",
       "1524707     11    48  342  \n",
       "1524708     13    58  410  \n",
       "1524709     18    78  551  "
      ]
     },
     "execution_count": 24,
     "metadata": {},
     "output_type": "execute_result"
    }
   ],
   "source": [
    "# Add columns for time buckets\n",
    "transactions['year'] = transactions.datetime.map (lambda t: int((t-STARTTIME).days / 365))\n",
    "transactions['quarter'] = transactions.datetime.map (lambda t: int((t-STARTTIME).days / 91))\n",
    "transactions['month'] = transactions.datetime.map (lambda t: int((t-STARTTIME).days / 30))\n",
    "transactions['week'] = transactions.datetime.map (lambda t: int((t-STARTTIME).days / 7))\n",
    "transactions['day'] = transactions.datetime.map (lambda t: (t-STARTTIME).days)\n",
    "\n",
    "transactions.tail()"
   ]
  },
  {
   "cell_type": "code",
   "execution_count": 166,
   "metadata": {},
   "outputs": [
    {
     "data": {
      "text/html": [
       "<div>\n",
       "<style scoped>\n",
       "    .dataframe tbody tr th:only-of-type {\n",
       "        vertical-align: middle;\n",
       "    }\n",
       "\n",
       "    .dataframe tbody tr th {\n",
       "        vertical-align: top;\n",
       "    }\n",
       "\n",
       "    .dataframe thead th {\n",
       "        text-align: right;\n",
       "    }\n",
       "</style>\n",
       "<table border=\"1\" class=\"dataframe\">\n",
       "  <thead>\n",
       "    <tr style=\"text-align: right;\">\n",
       "      <th></th>\n",
       "      <th></th>\n",
       "      <th>frequency</th>\n",
       "    </tr>\n",
       "    <tr>\n",
       "      <th>user</th>\n",
       "      <th>year</th>\n",
       "      <th></th>\n",
       "    </tr>\n",
       "  </thead>\n",
       "  <tbody>\n",
       "    <tr>\n",
       "      <th>00038f0484334ac047449166cfbbf6452b31c85c</th>\n",
       "      <th>0</th>\n",
       "      <td>310</td>\n",
       "    </tr>\n",
       "    <tr>\n",
       "      <th rowspan=\"2\" valign=\"top\">0012a74e2bb1ab0073b2e18532e87474b6b7cfca</th>\n",
       "      <th>0</th>\n",
       "      <td>1</td>\n",
       "    </tr>\n",
       "    <tr>\n",
       "      <th>1</th>\n",
       "      <td>1</td>\n",
       "    </tr>\n",
       "    <tr>\n",
       "      <th rowspan=\"2\" valign=\"top\">001855810c25d8bb03210f8c0114de27da9cd76c</th>\n",
       "      <th>0</th>\n",
       "      <td>2</td>\n",
       "    </tr>\n",
       "    <tr>\n",
       "      <th>1</th>\n",
       "      <td>193</td>\n",
       "    </tr>\n",
       "    <tr>\n",
       "      <th rowspan=\"2\" valign=\"top\">001f3978fa7cad62f2e2ddfa155184a316282b0e</th>\n",
       "      <th>0</th>\n",
       "      <td>165</td>\n",
       "    </tr>\n",
       "    <tr>\n",
       "      <th>1</th>\n",
       "      <td>1</td>\n",
       "    </tr>\n",
       "    <tr>\n",
       "      <th>00317873b9dcbcff6759f7ec4225d8531520fdcb</th>\n",
       "      <th>0</th>\n",
       "      <td>2</td>\n",
       "    </tr>\n",
       "    <tr>\n",
       "      <th>0035123c62bda17867893802719d030620e4d75e</th>\n",
       "      <th>1</th>\n",
       "      <td>2</td>\n",
       "    </tr>\n",
       "    <tr>\n",
       "      <th>004aee0cd377dac9e322f42c12cb68876a47aaa5</th>\n",
       "      <th>0</th>\n",
       "      <td>1</td>\n",
       "    </tr>\n",
       "  </tbody>\n",
       "</table>\n",
       "</div>"
      ],
      "text/plain": [
       "                                               frequency\n",
       "user                                     year           \n",
       "00038f0484334ac047449166cfbbf6452b31c85c 0           310\n",
       "0012a74e2bb1ab0073b2e18532e87474b6b7cfca 0             1\n",
       "                                         1             1\n",
       "001855810c25d8bb03210f8c0114de27da9cd76c 0             2\n",
       "                                         1           193\n",
       "001f3978fa7cad62f2e2ddfa155184a316282b0e 0           165\n",
       "                                         1             1\n",
       "00317873b9dcbcff6759f7ec4225d8531520fdcb 0             2\n",
       "0035123c62bda17867893802719d030620e4d75e 1             2\n",
       "004aee0cd377dac9e322f42c12cb68876a47aaa5 0             1"
      ]
     },
     "execution_count": 166,
     "metadata": {},
     "output_type": "execute_result"
    }
   ],
   "source": [
    "yearly_frequency = transactions.groupby(['user','year']).agg({'datetime':'count'}).rename(columns={'datetime':'frequency'})\n",
    "yearly_frequency.head(10)"
   ]
  },
  {
   "cell_type": "code",
   "execution_count": 167,
   "metadata": {},
   "outputs": [
    {
     "data": {
      "text/html": [
       "<div>\n",
       "<style scoped>\n",
       "    .dataframe tbody tr th:only-of-type {\n",
       "        vertical-align: middle;\n",
       "    }\n",
       "\n",
       "    .dataframe tbody tr th {\n",
       "        vertical-align: top;\n",
       "    }\n",
       "\n",
       "    .dataframe thead th {\n",
       "        text-align: right;\n",
       "    }\n",
       "</style>\n",
       "<table border=\"1\" class=\"dataframe\">\n",
       "  <thead>\n",
       "    <tr style=\"text-align: right;\">\n",
       "      <th></th>\n",
       "      <th></th>\n",
       "      <th>growth</th>\n",
       "    </tr>\n",
       "    <tr>\n",
       "      <th>user</th>\n",
       "      <th>year</th>\n",
       "      <th></th>\n",
       "    </tr>\n",
       "  </thead>\n",
       "  <tbody>\n",
       "    <tr>\n",
       "      <th>78f2d8ae289cdddb9636600247c621253587eab9</th>\n",
       "      <th>1</th>\n",
       "      <td>2481.00</td>\n",
       "    </tr>\n",
       "    <tr>\n",
       "      <th>efbc49f1741354269913ae8974164fcb66b1d1f2</th>\n",
       "      <th>1</th>\n",
       "      <td>1702.00</td>\n",
       "    </tr>\n",
       "    <tr>\n",
       "      <th>98058449c2989069c339fadc11e73e06d673fce7</th>\n",
       "      <th>1</th>\n",
       "      <td>1369.25</td>\n",
       "    </tr>\n",
       "    <tr>\n",
       "      <th>c4a83dc39c62c905db9d1148cc9162ea5431f071</th>\n",
       "      <th>1</th>\n",
       "      <td>1204.00</td>\n",
       "    </tr>\n",
       "    <tr>\n",
       "      <th>1f9728eedff7af82c9dff4c993b72350ca13878b</th>\n",
       "      <th>1</th>\n",
       "      <td>841.40</td>\n",
       "    </tr>\n",
       "    <tr>\n",
       "      <th>572ab8518e567000d3156f412d5740f030376555</th>\n",
       "      <th>1</th>\n",
       "      <td>827.00</td>\n",
       "    </tr>\n",
       "    <tr>\n",
       "      <th>cad034c0805d1802bcb71247a15054c36a3e3ba3</th>\n",
       "      <th>1</th>\n",
       "      <td>761.00</td>\n",
       "    </tr>\n",
       "    <tr>\n",
       "      <th>b813d54a0e9ce7deb0fbf99d677af9dbc48ede17</th>\n",
       "      <th>1</th>\n",
       "      <td>705.00</td>\n",
       "    </tr>\n",
       "    <tr>\n",
       "      <th>5e01900c3df57459256435a5795281c1eb2491af</th>\n",
       "      <th>1</th>\n",
       "      <td>667.00</td>\n",
       "    </tr>\n",
       "    <tr>\n",
       "      <th>253f8339a5f047b0887de5fa8b30fc5b8ff13886</th>\n",
       "      <th>1</th>\n",
       "      <td>636.00</td>\n",
       "    </tr>\n",
       "  </tbody>\n",
       "</table>\n",
       "</div>"
      ],
      "text/plain": [
       "                                                growth\n",
       "user                                     year         \n",
       "78f2d8ae289cdddb9636600247c621253587eab9 1     2481.00\n",
       "efbc49f1741354269913ae8974164fcb66b1d1f2 1     1702.00\n",
       "98058449c2989069c339fadc11e73e06d673fce7 1     1369.25\n",
       "c4a83dc39c62c905db9d1148cc9162ea5431f071 1     1204.00\n",
       "1f9728eedff7af82c9dff4c993b72350ca13878b 1      841.40\n",
       "572ab8518e567000d3156f412d5740f030376555 1      827.00\n",
       "cad034c0805d1802bcb71247a15054c36a3e3ba3 1      761.00\n",
       "b813d54a0e9ce7deb0fbf99d677af9dbc48ede17 1      705.00\n",
       "5e01900c3df57459256435a5795281c1eb2491af 1      667.00\n",
       "253f8339a5f047b0887de5fa8b30fc5b8ff13886 1      636.00"
      ]
     },
     "execution_count": 167,
     "metadata": {},
     "output_type": "execute_result"
    }
   ],
   "source": [
    "# Calculate percentage increase year-on-year; ignore the value for year 0\n",
    "growth_table = yearly_frequency.groupby('user').agg({'frequency':'pct_change'}).rename(columns={'frequency':'growth'})\n",
    "growth_table = growth_table.query('year > 0')\n",
    "growth_table.sort_values(by='growth',ascending=False).head(10)"
   ]
  },
  {
   "cell_type": "markdown",
   "metadata": {},
   "source": [
    "The first challenge is to see if high growth merchants can be predicted solely from the segmentation."
   ]
  },
  {
   "cell_type": "markdown",
   "metadata": {},
   "source": [
    "This growth table tells us who the high growth merchants are. Now, suppose that we only have the past 12 months historical data to work with."
   ]
  },
  {
   "cell_type": "code",
   "execution_count": 168,
   "metadata": {},
   "outputs": [
    {
     "data": {
      "text/html": [
       "<div>\n",
       "<style scoped>\n",
       "    .dataframe tbody tr th:only-of-type {\n",
       "        vertical-align: middle;\n",
       "    }\n",
       "\n",
       "    .dataframe tbody tr th {\n",
       "        vertical-align: top;\n",
       "    }\n",
       "\n",
       "    .dataframe thead th {\n",
       "        text-align: right;\n",
       "    }\n",
       "</style>\n",
       "<table border=\"1\" class=\"dataframe\">\n",
       "  <thead>\n",
       "    <tr style=\"text-align: right;\">\n",
       "      <th></th>\n",
       "      <th>user</th>\n",
       "      <th>time</th>\n",
       "      <th>amount_in_cents</th>\n",
       "      <th>datetime</th>\n",
       "      <th>year</th>\n",
       "      <th>quarter</th>\n",
       "      <th>month</th>\n",
       "      <th>week</th>\n",
       "      <th>day</th>\n",
       "    </tr>\n",
       "  </thead>\n",
       "  <tbody>\n",
       "    <tr>\n",
       "      <th>194825</th>\n",
       "      <td>2a107ca814dc66955200dc823e65dd1bac3c55d4</td>\n",
       "      <td>2016-11-05T02:33:02.733Z</td>\n",
       "      <td>4810</td>\n",
       "      <td>2016-11-05 02:33:02.733000+00:00</td>\n",
       "      <td>0</td>\n",
       "      <td>4</td>\n",
       "      <td>12</td>\n",
       "      <td>52</td>\n",
       "      <td>364</td>\n",
       "    </tr>\n",
       "    <tr>\n",
       "      <th>1458769</th>\n",
       "      <td>f60671ecb28cac7ac7df44723b64da1294604e6e</td>\n",
       "      <td>2016-11-05T02:32:43.482Z</td>\n",
       "      <td>120</td>\n",
       "      <td>2016-11-05 02:32:43.482000+00:00</td>\n",
       "      <td>0</td>\n",
       "      <td>4</td>\n",
       "      <td>12</td>\n",
       "      <td>52</td>\n",
       "      <td>364</td>\n",
       "    </tr>\n",
       "    <tr>\n",
       "      <th>1454041</th>\n",
       "      <td>f5af7990e05759562af81d0fdbb803a67fa205bd</td>\n",
       "      <td>2016-11-05T02:32:41.982Z</td>\n",
       "      <td>3007</td>\n",
       "      <td>2016-11-05 02:32:41.982000+00:00</td>\n",
       "      <td>0</td>\n",
       "      <td>4</td>\n",
       "      <td>12</td>\n",
       "      <td>52</td>\n",
       "      <td>364</td>\n",
       "    </tr>\n",
       "    <tr>\n",
       "      <th>479246</th>\n",
       "      <td>6011f15c2b50517720793be23db3198556154a1c</td>\n",
       "      <td>2016-11-05T02:32:29.54Z</td>\n",
       "      <td>9020</td>\n",
       "      <td>2016-11-05 02:32:29.540000+00:00</td>\n",
       "      <td>0</td>\n",
       "      <td>4</td>\n",
       "      <td>12</td>\n",
       "      <td>52</td>\n",
       "      <td>364</td>\n",
       "    </tr>\n",
       "    <tr>\n",
       "      <th>1361388</th>\n",
       "      <td>dca13b1356ae2bb70e13aa175f93bac2a5e3100b</td>\n",
       "      <td>2016-11-05T02:32:22.313Z</td>\n",
       "      <td>4931</td>\n",
       "      <td>2016-11-05 02:32:22.313000+00:00</td>\n",
       "      <td>0</td>\n",
       "      <td>4</td>\n",
       "      <td>12</td>\n",
       "      <td>52</td>\n",
       "      <td>364</td>\n",
       "    </tr>\n",
       "  </tbody>\n",
       "</table>\n",
       "</div>"
      ],
      "text/plain": [
       "                                             user                      time  \\\n",
       "194825   2a107ca814dc66955200dc823e65dd1bac3c55d4  2016-11-05T02:33:02.733Z   \n",
       "1458769  f60671ecb28cac7ac7df44723b64da1294604e6e  2016-11-05T02:32:43.482Z   \n",
       "1454041  f5af7990e05759562af81d0fdbb803a67fa205bd  2016-11-05T02:32:41.982Z   \n",
       "479246   6011f15c2b50517720793be23db3198556154a1c   2016-11-05T02:32:29.54Z   \n",
       "1361388  dca13b1356ae2bb70e13aa175f93bac2a5e3100b  2016-11-05T02:32:22.313Z   \n",
       "\n",
       "         amount_in_cents                         datetime  year  quarter  \\\n",
       "194825              4810 2016-11-05 02:33:02.733000+00:00     0        4   \n",
       "1458769              120 2016-11-05 02:32:43.482000+00:00     0        4   \n",
       "1454041             3007 2016-11-05 02:32:41.982000+00:00     0        4   \n",
       "479246              9020 2016-11-05 02:32:29.540000+00:00     0        4   \n",
       "1361388             4931 2016-11-05 02:32:22.313000+00:00     0        4   \n",
       "\n",
       "         month  week  day  \n",
       "194825      12    52  364  \n",
       "1458769     12    52  364  \n",
       "1454041     12    52  364  \n",
       "479246      12    52  364  \n",
       "1361388     12    52  364  "
      ]
     },
     "execution_count": 168,
     "metadata": {},
     "output_type": "execute_result"
    }
   ],
   "source": [
    "historical_transactions = transactions.query ('year==0')\n",
    "historical_transactions.sort_values(by=\"time\",ascending=False).head()"
   ]
  },
  {
   "cell_type": "code",
   "execution_count": 169,
   "metadata": {},
   "outputs": [
    {
     "name": "stderr",
     "output_type": "stream",
     "text": [
      "/Users/Dermot/anaconda3/lib/python3.7/site-packages/pandas/core/reshape/merge.py:544: UserWarning: merging between different levels can give an unintended result (2 levels on the left, 1 on the right)\n",
      "  warnings.warn(msg, UserWarning)\n"
     ]
    },
    {
     "data": {
      "text/html": [
       "<div>\n",
       "<style scoped>\n",
       "    .dataframe tbody tr th:only-of-type {\n",
       "        vertical-align: middle;\n",
       "    }\n",
       "\n",
       "    .dataframe tbody tr th {\n",
       "        vertical-align: top;\n",
       "    }\n",
       "\n",
       "    .dataframe thead th {\n",
       "        text-align: right;\n",
       "    }\n",
       "</style>\n",
       "<table border=\"1\" class=\"dataframe\">\n",
       "  <thead>\n",
       "    <tr style=\"text-align: right;\">\n",
       "      <th></th>\n",
       "      <th>(datetime, last)</th>\n",
       "      <th>(datetime, count)</th>\n",
       "      <th>(amount_in_cents, mean)</th>\n",
       "      <th>(recency, )</th>\n",
       "      <th>growth</th>\n",
       "    </tr>\n",
       "    <tr>\n",
       "      <th>user</th>\n",
       "      <th></th>\n",
       "      <th></th>\n",
       "      <th></th>\n",
       "      <th></th>\n",
       "      <th></th>\n",
       "    </tr>\n",
       "  </thead>\n",
       "  <tbody>\n",
       "    <tr>\n",
       "      <th>efbc49f1741354269913ae8974164fcb66b1d1f2</th>\n",
       "      <td>2016-11-05 01:31:47.147000+00:00</td>\n",
       "      <td>1</td>\n",
       "      <td>1924.000000</td>\n",
       "      <td>0</td>\n",
       "      <td>1702.000000</td>\n",
       "    </tr>\n",
       "    <tr>\n",
       "      <th>98058449c2989069c339fadc11e73e06d673fce7</th>\n",
       "      <td>2016-11-05 00:05:29.746000+00:00</td>\n",
       "      <td>4</td>\n",
       "      <td>11905.750000</td>\n",
       "      <td>0</td>\n",
       "      <td>1369.250000</td>\n",
       "    </tr>\n",
       "    <tr>\n",
       "      <th>572ab8518e567000d3156f412d5740f030376555</th>\n",
       "      <td>2016-07-03 22:00:04.174000+00:00</td>\n",
       "      <td>1</td>\n",
       "      <td>1203.000000</td>\n",
       "      <td>124</td>\n",
       "      <td>827.000000</td>\n",
       "    </tr>\n",
       "    <tr>\n",
       "      <th>254f7196e6cfde8f5dadebaa78c4314593d1b244</th>\n",
       "      <td>2016-09-09 17:18:21.650000+00:00</td>\n",
       "      <td>1</td>\n",
       "      <td>120.000000</td>\n",
       "      <td>56</td>\n",
       "      <td>621.000000</td>\n",
       "    </tr>\n",
       "    <tr>\n",
       "      <th>0f8bf09f350a2325bea2e570b8d8ddc7df7888ca</th>\n",
       "      <td>2016-09-02 19:51:24.645000+00:00</td>\n",
       "      <td>1</td>\n",
       "      <td>1443.000000</td>\n",
       "      <td>63</td>\n",
       "      <td>498.000000</td>\n",
       "    </tr>\n",
       "    <tr>\n",
       "      <th>93ea38463d2a46c1a4c7f1bca92990a3a3456ff2</th>\n",
       "      <td>2016-10-15 21:00:13.760000+00:00</td>\n",
       "      <td>1</td>\n",
       "      <td>4089.000000</td>\n",
       "      <td>20</td>\n",
       "      <td>430.000000</td>\n",
       "    </tr>\n",
       "    <tr>\n",
       "      <th>976a7f9c2b9072ab5cba8bbc381ddbd8450ee0af</th>\n",
       "      <td>2016-10-20 03:23:10.336000+00:00</td>\n",
       "      <td>1</td>\n",
       "      <td>11425.000000</td>\n",
       "      <td>15</td>\n",
       "      <td>385.000000</td>\n",
       "    </tr>\n",
       "    <tr>\n",
       "      <th>a5800b1afb725952d2c8b152d68ff2a4e39e815f</th>\n",
       "      <td>2016-10-31 16:54:44.976000+00:00</td>\n",
       "      <td>1</td>\n",
       "      <td>8899.000000</td>\n",
       "      <td>4</td>\n",
       "      <td>358.000000</td>\n",
       "    </tr>\n",
       "    <tr>\n",
       "      <th>bea6e4bf84dc7462a8d50994b36bb5a8e28101c4</th>\n",
       "      <td>2016-11-05 02:32:14.522000+00:00</td>\n",
       "      <td>95</td>\n",
       "      <td>2046.947368</td>\n",
       "      <td>0</td>\n",
       "      <td>328.673684</td>\n",
       "    </tr>\n",
       "    <tr>\n",
       "      <th>210440ae2fe868805dd65c96fe26bd803945534a</th>\n",
       "      <td>2016-10-13 04:49:20.288000+00:00</td>\n",
       "      <td>1</td>\n",
       "      <td>9020.000000</td>\n",
       "      <td>22</td>\n",
       "      <td>321.000000</td>\n",
       "    </tr>\n",
       "  </tbody>\n",
       "</table>\n",
       "</div>"
      ],
      "text/plain": [
       "                                                         (datetime, last)  \\\n",
       "user                                                                        \n",
       "efbc49f1741354269913ae8974164fcb66b1d1f2 2016-11-05 01:31:47.147000+00:00   \n",
       "98058449c2989069c339fadc11e73e06d673fce7 2016-11-05 00:05:29.746000+00:00   \n",
       "572ab8518e567000d3156f412d5740f030376555 2016-07-03 22:00:04.174000+00:00   \n",
       "254f7196e6cfde8f5dadebaa78c4314593d1b244 2016-09-09 17:18:21.650000+00:00   \n",
       "0f8bf09f350a2325bea2e570b8d8ddc7df7888ca 2016-09-02 19:51:24.645000+00:00   \n",
       "93ea38463d2a46c1a4c7f1bca92990a3a3456ff2 2016-10-15 21:00:13.760000+00:00   \n",
       "976a7f9c2b9072ab5cba8bbc381ddbd8450ee0af 2016-10-20 03:23:10.336000+00:00   \n",
       "a5800b1afb725952d2c8b152d68ff2a4e39e815f 2016-10-31 16:54:44.976000+00:00   \n",
       "bea6e4bf84dc7462a8d50994b36bb5a8e28101c4 2016-11-05 02:32:14.522000+00:00   \n",
       "210440ae2fe868805dd65c96fe26bd803945534a 2016-10-13 04:49:20.288000+00:00   \n",
       "\n",
       "                                          (datetime, count)  \\\n",
       "user                                                          \n",
       "efbc49f1741354269913ae8974164fcb66b1d1f2                  1   \n",
       "98058449c2989069c339fadc11e73e06d673fce7                  4   \n",
       "572ab8518e567000d3156f412d5740f030376555                  1   \n",
       "254f7196e6cfde8f5dadebaa78c4314593d1b244                  1   \n",
       "0f8bf09f350a2325bea2e570b8d8ddc7df7888ca                  1   \n",
       "93ea38463d2a46c1a4c7f1bca92990a3a3456ff2                  1   \n",
       "976a7f9c2b9072ab5cba8bbc381ddbd8450ee0af                  1   \n",
       "a5800b1afb725952d2c8b152d68ff2a4e39e815f                  1   \n",
       "bea6e4bf84dc7462a8d50994b36bb5a8e28101c4                 95   \n",
       "210440ae2fe868805dd65c96fe26bd803945534a                  1   \n",
       "\n",
       "                                          (amount_in_cents, mean)  \\\n",
       "user                                                                \n",
       "efbc49f1741354269913ae8974164fcb66b1d1f2              1924.000000   \n",
       "98058449c2989069c339fadc11e73e06d673fce7             11905.750000   \n",
       "572ab8518e567000d3156f412d5740f030376555              1203.000000   \n",
       "254f7196e6cfde8f5dadebaa78c4314593d1b244               120.000000   \n",
       "0f8bf09f350a2325bea2e570b8d8ddc7df7888ca              1443.000000   \n",
       "93ea38463d2a46c1a4c7f1bca92990a3a3456ff2              4089.000000   \n",
       "976a7f9c2b9072ab5cba8bbc381ddbd8450ee0af             11425.000000   \n",
       "a5800b1afb725952d2c8b152d68ff2a4e39e815f              8899.000000   \n",
       "bea6e4bf84dc7462a8d50994b36bb5a8e28101c4              2046.947368   \n",
       "210440ae2fe868805dd65c96fe26bd803945534a              9020.000000   \n",
       "\n",
       "                                          (recency, )       growth  \n",
       "user                                                                \n",
       "efbc49f1741354269913ae8974164fcb66b1d1f2            0  1702.000000  \n",
       "98058449c2989069c339fadc11e73e06d673fce7            0  1369.250000  \n",
       "572ab8518e567000d3156f412d5740f030376555          124   827.000000  \n",
       "254f7196e6cfde8f5dadebaa78c4314593d1b244           56   621.000000  \n",
       "0f8bf09f350a2325bea2e570b8d8ddc7df7888ca           63   498.000000  \n",
       "93ea38463d2a46c1a4c7f1bca92990a3a3456ff2           20   430.000000  \n",
       "976a7f9c2b9072ab5cba8bbc381ddbd8450ee0af           15   385.000000  \n",
       "a5800b1afb725952d2c8b152d68ff2a4e39e815f            4   358.000000  \n",
       "bea6e4bf84dc7462a8d50994b36bb5a8e28101c4            0   328.673684  \n",
       "210440ae2fe868805dd65c96fe26bd803945534a           22   321.000000  "
      ]
     },
     "execution_count": 169,
     "metadata": {},
     "output_type": "execute_result"
    }
   ],
   "source": [
    "# redo segmentation for historical data and merge with growth table\n",
    "\n",
    "historical_time_segments = historical_transactions.groupby('user').agg({'datetime': ['first'.'last','count'], 'amount_in_cents': ['mean']})\n",
    "\n",
    "last_historical_transaction_time = historical_transactions['time'].max()\n",
    "HISTORICAL_ENDTIME = datetime.datetime.strptime(last_historical_transaction_time,'%Y-%m-%dT%H:%M:%S.%f%z')\n",
    "historical_time_segments['recency'] = historical_time_segments['datetime']['last'].map (lambda t : (HISTORICAL_ENDTIME - t).days)\n",
    "historical_time_segments['seniority'] = historical_time_segments['datetime']['first'].map (lambda t : (HISTORICAL_ENDTIME - t).days)\n",
    "historical_time_segments['longevity'] = historical_time_segments['seniority'] - historical_time_segments['recency']\n",
    "\n",
    "\n",
    "analysis = pd.merge (historical_time_segments, growth_table, on='user')\n",
    "analysis.sort_values(by='growth',ascending=False).head(10)"
   ]
  },
  {
   "cell_type": "code",
   "execution_count": 170,
   "metadata": {},
   "outputs": [
    {
     "data": {
      "text/plain": [
       "<matplotlib.axes._subplots.AxesSubplot at 0x11f22d7f0>"
      ]
     },
     "execution_count": 170,
     "metadata": {},
     "output_type": "execute_result"
    },
    {
     "data": {
      "image/png": "[encoded data removed]",
      "text/plain": [
       "<Figure size 432x288 with 1 Axes>"
      ]
     },
     "metadata": {
      "needs_background": "light"
     },
     "output_type": "display_data"
    }
   ],
   "source": [
    "analysis.plot(1,4,kind=\"scatter\") # past frequency against growth"
   ]
  },
  {
   "cell_type": "code",
   "execution_count": 171,
   "metadata": {},
   "outputs": [
    {
     "data": {
      "text/plain": [
       "<matplotlib.axes._subplots.AxesSubplot at 0x12bceaac8>"
      ]
     },
     "execution_count": 171,
     "metadata": {},
     "output_type": "execute_result"
    },
    {
     "data": {
      "image/png": "[encoded data removed]",
      "text/plain": [
       "<Figure size 432x288 with 1 Axes>"
      ]
     },
     "metadata": {
      "needs_background": "light"
     },
     "output_type": "display_data"
    }
   ],
   "source": [
    "analysis.plot(2,4,kind=\"scatter\") # past monetary value against growth"
   ]
  },
  {
   "cell_type": "code",
   "execution_count": 172,
   "metadata": {},
   "outputs": [
    {
     "data": {
      "text/plain": [
       "<matplotlib.axes._subplots.AxesSubplot at 0x12ab0b0b8>"
      ]
     },
     "execution_count": 172,
     "metadata": {},
     "output_type": "execute_result"
    },
    {
     "data": {
      "image/png": "[encoded data removed]",
      "text/plain": [
       "<Figure size 432x288 with 1 Axes>"
      ]
     },
     "metadata": {
      "needs_background": "light"
     },
     "output_type": "display_data"
    }
   ],
   "source": [
    "analysis.plot(3,4,kind=\"scatter\") # past recency against growth"
   ]
  },
  {
   "cell_type": "markdown",
   "metadata": {},
   "source": [
    "Neither past frequency nor monetary value show any correlation with high growth, but recency does"
   ]
  },
  {
   "cell_type": "code",
   "execution_count": 173,
   "metadata": {},
   "outputs": [
    {
     "data": {
      "text/plain": [
       "<matplotlib.axes._subplots.AxesSubplot at 0x12abd9588>"
      ]
     },
     "execution_count": 173,
     "metadata": {},
     "output_type": "execute_result"
    },
    {
     "data": {
      "image/png": "[encoded data removed]",
      "text/plain": [
       "<Figure size 432x288 with 1 Axes>"
      ]
     },
     "metadata": {
      "needs_background": "light"
     },
     "output_type": "display_data"
    }
   ],
   "source": [
    "analysis.plot(3,4,kind=\"scatter\",xlim=[0,180]) # past recency (with last six months) against growth"
   ]
  },
  {
   "cell_type": "markdown",
   "metadata": {},
   "source": [
    "This shows that all of the high growth merchants have been active within the last 6 months"
   ]
  },
  {
   "cell_type": "markdown",
   "metadata": {},
   "source": [
    "The next step is create a growth table based on the last two quarters of the past year"
   ]
  },
  {
   "cell_type": "code",
   "execution_count": 174,
   "metadata": {},
   "outputs": [
    {
     "data": {
      "text/html": [
       "<div>\n",
       "<style scoped>\n",
       "    .dataframe tbody tr th:only-of-type {\n",
       "        vertical-align: middle;\n",
       "    }\n",
       "\n",
       "    .dataframe tbody tr th {\n",
       "        vertical-align: top;\n",
       "    }\n",
       "\n",
       "    .dataframe thead th {\n",
       "        text-align: right;\n",
       "    }\n",
       "</style>\n",
       "<table border=\"1\" class=\"dataframe\">\n",
       "  <thead>\n",
       "    <tr style=\"text-align: right;\">\n",
       "      <th></th>\n",
       "      <th></th>\n",
       "      <th>quarterly_growth</th>\n",
       "    </tr>\n",
       "    <tr>\n",
       "      <th>user</th>\n",
       "      <th>quarter</th>\n",
       "      <th></th>\n",
       "    </tr>\n",
       "  </thead>\n",
       "  <tbody>\n",
       "    <tr>\n",
       "      <th>5068906d0a6c0e88bac8866f9cced904571171db</th>\n",
       "      <th>3</th>\n",
       "      <td>2768.000000</td>\n",
       "    </tr>\n",
       "    <tr>\n",
       "      <th>247e106f37a4d581c2aa9ee05e662723c92f534e</th>\n",
       "      <th>3</th>\n",
       "      <td>1698.428571</td>\n",
       "    </tr>\n",
       "    <tr>\n",
       "      <th>8797a9a53889246d2ce800c4b658620cbc5aa8e2</th>\n",
       "      <th>3</th>\n",
       "      <td>1642.000000</td>\n",
       "    </tr>\n",
       "    <tr>\n",
       "      <th>668e99a10008dac8554799e16fd791788d9d0804</th>\n",
       "      <th>3</th>\n",
       "      <td>1202.000000</td>\n",
       "    </tr>\n",
       "    <tr>\n",
       "      <th>b8eb88580628c27d4df8fb830905f3ea3a411fa9</th>\n",
       "      <th>3</th>\n",
       "      <td>912.000000</td>\n",
       "    </tr>\n",
       "    <tr>\n",
       "      <th>427dc795aeda1aeda416a2e7c95d7268ce9e3e31</th>\n",
       "      <th>3</th>\n",
       "      <td>816.000000</td>\n",
       "    </tr>\n",
       "    <tr>\n",
       "      <th>ae6867a7c70bbbbe6682a85bff369a37fdf2c358</th>\n",
       "      <th>3</th>\n",
       "      <td>787.000000</td>\n",
       "    </tr>\n",
       "    <tr>\n",
       "      <th>267c001db2f2cda88cd446c159291ce2da0636a5</th>\n",
       "      <th>3</th>\n",
       "      <td>762.000000</td>\n",
       "    </tr>\n",
       "    <tr>\n",
       "      <th>65ced72bed26b54ea5f68031423fe7b1b60d1bfd</th>\n",
       "      <th>3</th>\n",
       "      <td>640.000000</td>\n",
       "    </tr>\n",
       "    <tr>\n",
       "      <th>92d2f748071e6b54eba75a379369819e6b33feac</th>\n",
       "      <th>3</th>\n",
       "      <td>615.000000</td>\n",
       "    </tr>\n",
       "  </tbody>\n",
       "</table>\n",
       "</div>"
      ],
      "text/plain": [
       "                                                  quarterly_growth\n",
       "user                                     quarter                  \n",
       "5068906d0a6c0e88bac8866f9cced904571171db 3             2768.000000\n",
       "247e106f37a4d581c2aa9ee05e662723c92f534e 3             1698.428571\n",
       "8797a9a53889246d2ce800c4b658620cbc5aa8e2 3             1642.000000\n",
       "668e99a10008dac8554799e16fd791788d9d0804 3             1202.000000\n",
       "b8eb88580628c27d4df8fb830905f3ea3a411fa9 3              912.000000\n",
       "427dc795aeda1aeda416a2e7c95d7268ce9e3e31 3              816.000000\n",
       "ae6867a7c70bbbbe6682a85bff369a37fdf2c358 3              787.000000\n",
       "267c001db2f2cda88cd446c159291ce2da0636a5 3              762.000000\n",
       "65ced72bed26b54ea5f68031423fe7b1b60d1bfd 3              640.000000\n",
       "92d2f748071e6b54eba75a379369819e6b33feac 3              615.000000"
      ]
     },
     "execution_count": 174,
     "metadata": {},
     "output_type": "execute_result"
    }
   ],
   "source": [
    "quarterly_frequency = historical_transactions.groupby(['user','quarter']).agg({'datetime':'count'}).rename(columns={'datetime':'frequency'})\n",
    "# Calculate percentage increase between the last two quarters\n",
    "quarterly_growth_table = quarterly_frequency.groupby('user').agg({'frequency':'pct_change'}).rename(columns={'frequency':'quarterly_growth'})\n",
    "quarterly_growth_table = quarterly_growth_table.query('quarter == 3')\n",
    "quarterly_growth_table.sort_values(by='quarterly_growth',ascending=False).head(10)"
   ]
  },
  {
   "cell_type": "markdown",
   "metadata": {},
   "source": [
    "Merge with the analysis table to create a kind of feature vector for predictions"
   ]
  },
  {
   "cell_type": "code",
   "execution_count": 175,
   "metadata": {},
   "outputs": [
    {
     "data": {
      "text/html": [
       "<div>\n",
       "<style scoped>\n",
       "    .dataframe tbody tr th:only-of-type {\n",
       "        vertical-align: middle;\n",
       "    }\n",
       "\n",
       "    .dataframe tbody tr th {\n",
       "        vertical-align: top;\n",
       "    }\n",
       "\n",
       "    .dataframe thead th {\n",
       "        text-align: right;\n",
       "    }\n",
       "</style>\n",
       "<table border=\"1\" class=\"dataframe\">\n",
       "  <thead>\n",
       "    <tr style=\"text-align: right;\">\n",
       "      <th></th>\n",
       "      <th>(datetime, last)</th>\n",
       "      <th>(datetime, count)</th>\n",
       "      <th>(amount_in_cents, mean)</th>\n",
       "      <th>(recency, )</th>\n",
       "      <th>growth</th>\n",
       "      <th>quarterly_growth</th>\n",
       "    </tr>\n",
       "    <tr>\n",
       "      <th>user</th>\n",
       "      <th></th>\n",
       "      <th></th>\n",
       "      <th></th>\n",
       "      <th></th>\n",
       "      <th></th>\n",
       "      <th></th>\n",
       "    </tr>\n",
       "  </thead>\n",
       "  <tbody>\n",
       "    <tr>\n",
       "      <th>98058449c2989069c339fadc11e73e06d673fce7</th>\n",
       "      <td>2016-11-05 00:05:29.746000+00:00</td>\n",
       "      <td>4</td>\n",
       "      <td>11905.750000</td>\n",
       "      <td>0</td>\n",
       "      <td>1369.250000</td>\n",
       "      <td>-0.666667</td>\n",
       "    </tr>\n",
       "    <tr>\n",
       "      <th>254f7196e6cfde8f5dadebaa78c4314593d1b244</th>\n",
       "      <td>2016-09-09 17:18:21.650000+00:00</td>\n",
       "      <td>1</td>\n",
       "      <td>120.000000</td>\n",
       "      <td>56</td>\n",
       "      <td>621.000000</td>\n",
       "      <td>-0.900000</td>\n",
       "    </tr>\n",
       "    <tr>\n",
       "      <th>0f8bf09f350a2325bea2e570b8d8ddc7df7888ca</th>\n",
       "      <td>2016-09-02 19:51:24.645000+00:00</td>\n",
       "      <td>1</td>\n",
       "      <td>1443.000000</td>\n",
       "      <td>63</td>\n",
       "      <td>498.000000</td>\n",
       "      <td>-0.500000</td>\n",
       "    </tr>\n",
       "    <tr>\n",
       "      <th>93ea38463d2a46c1a4c7f1bca92990a3a3456ff2</th>\n",
       "      <td>2016-10-15 21:00:13.760000+00:00</td>\n",
       "      <td>1</td>\n",
       "      <td>4089.000000</td>\n",
       "      <td>20</td>\n",
       "      <td>430.000000</td>\n",
       "      <td>-0.991453</td>\n",
       "    </tr>\n",
       "    <tr>\n",
       "      <th>976a7f9c2b9072ab5cba8bbc381ddbd8450ee0af</th>\n",
       "      <td>2016-10-20 03:23:10.336000+00:00</td>\n",
       "      <td>1</td>\n",
       "      <td>11425.000000</td>\n",
       "      <td>15</td>\n",
       "      <td>385.000000</td>\n",
       "      <td>0.000000</td>\n",
       "    </tr>\n",
       "    <tr>\n",
       "      <th>a5800b1afb725952d2c8b152d68ff2a4e39e815f</th>\n",
       "      <td>2016-10-31 16:54:44.976000+00:00</td>\n",
       "      <td>1</td>\n",
       "      <td>8899.000000</td>\n",
       "      <td>4</td>\n",
       "      <td>358.000000</td>\n",
       "      <td>0.000000</td>\n",
       "    </tr>\n",
       "    <tr>\n",
       "      <th>bea6e4bf84dc7462a8d50994b36bb5a8e28101c4</th>\n",
       "      <td>2016-11-05 02:32:14.522000+00:00</td>\n",
       "      <td>95</td>\n",
       "      <td>2046.947368</td>\n",
       "      <td>0</td>\n",
       "      <td>328.673684</td>\n",
       "      <td>25.000000</td>\n",
       "    </tr>\n",
       "    <tr>\n",
       "      <th>210440ae2fe868805dd65c96fe26bd803945534a</th>\n",
       "      <td>2016-10-13 04:49:20.288000+00:00</td>\n",
       "      <td>1</td>\n",
       "      <td>9020.000000</td>\n",
       "      <td>22</td>\n",
       "      <td>321.000000</td>\n",
       "      <td>0.000000</td>\n",
       "    </tr>\n",
       "    <tr>\n",
       "      <th>3d372c5286d5724b72633439dd6b8f3b20250d18</th>\n",
       "      <td>2016-11-01 17:37:57.841000+00:00</td>\n",
       "      <td>1</td>\n",
       "      <td>0.000000</td>\n",
       "      <td>3</td>\n",
       "      <td>246.000000</td>\n",
       "      <td>0.000000</td>\n",
       "    </tr>\n",
       "    <tr>\n",
       "      <th>796fc77904aea3dc2d1b391b7a6d1204143dc800</th>\n",
       "      <td>2016-10-27 15:30:35.101000+00:00</td>\n",
       "      <td>33</td>\n",
       "      <td>30207.060606</td>\n",
       "      <td>8</td>\n",
       "      <td>239.242424</td>\n",
       "      <td>32.000000</td>\n",
       "    </tr>\n",
       "  </tbody>\n",
       "</table>\n",
       "</div>"
      ],
      "text/plain": [
       "                                                         (datetime, last)  \\\n",
       "user                                                                        \n",
       "98058449c2989069c339fadc11e73e06d673fce7 2016-11-05 00:05:29.746000+00:00   \n",
       "254f7196e6cfde8f5dadebaa78c4314593d1b244 2016-09-09 17:18:21.650000+00:00   \n",
       "0f8bf09f350a2325bea2e570b8d8ddc7df7888ca 2016-09-02 19:51:24.645000+00:00   \n",
       "93ea38463d2a46c1a4c7f1bca92990a3a3456ff2 2016-10-15 21:00:13.760000+00:00   \n",
       "976a7f9c2b9072ab5cba8bbc381ddbd8450ee0af 2016-10-20 03:23:10.336000+00:00   \n",
       "a5800b1afb725952d2c8b152d68ff2a4e39e815f 2016-10-31 16:54:44.976000+00:00   \n",
       "bea6e4bf84dc7462a8d50994b36bb5a8e28101c4 2016-11-05 02:32:14.522000+00:00   \n",
       "210440ae2fe868805dd65c96fe26bd803945534a 2016-10-13 04:49:20.288000+00:00   \n",
       "3d372c5286d5724b72633439dd6b8f3b20250d18 2016-11-01 17:37:57.841000+00:00   \n",
       "796fc77904aea3dc2d1b391b7a6d1204143dc800 2016-10-27 15:30:35.101000+00:00   \n",
       "\n",
       "                                          (datetime, count)  \\\n",
       "user                                                          \n",
       "98058449c2989069c339fadc11e73e06d673fce7                  4   \n",
       "254f7196e6cfde8f5dadebaa78c4314593d1b244                  1   \n",
       "0f8bf09f350a2325bea2e570b8d8ddc7df7888ca                  1   \n",
       "93ea38463d2a46c1a4c7f1bca92990a3a3456ff2                  1   \n",
       "976a7f9c2b9072ab5cba8bbc381ddbd8450ee0af                  1   \n",
       "a5800b1afb725952d2c8b152d68ff2a4e39e815f                  1   \n",
       "bea6e4bf84dc7462a8d50994b36bb5a8e28101c4                 95   \n",
       "210440ae2fe868805dd65c96fe26bd803945534a                  1   \n",
       "3d372c5286d5724b72633439dd6b8f3b20250d18                  1   \n",
       "796fc77904aea3dc2d1b391b7a6d1204143dc800                 33   \n",
       "\n",
       "                                          (amount_in_cents, mean)  \\\n",
       "user                                                                \n",
       "98058449c2989069c339fadc11e73e06d673fce7             11905.750000   \n",
       "254f7196e6cfde8f5dadebaa78c4314593d1b244               120.000000   \n",
       "0f8bf09f350a2325bea2e570b8d8ddc7df7888ca              1443.000000   \n",
       "93ea38463d2a46c1a4c7f1bca92990a3a3456ff2              4089.000000   \n",
       "976a7f9c2b9072ab5cba8bbc381ddbd8450ee0af             11425.000000   \n",
       "a5800b1afb725952d2c8b152d68ff2a4e39e815f              8899.000000   \n",
       "bea6e4bf84dc7462a8d50994b36bb5a8e28101c4              2046.947368   \n",
       "210440ae2fe868805dd65c96fe26bd803945534a              9020.000000   \n",
       "3d372c5286d5724b72633439dd6b8f3b20250d18                 0.000000   \n",
       "796fc77904aea3dc2d1b391b7a6d1204143dc800             30207.060606   \n",
       "\n",
       "                                          (recency, )       growth  \\\n",
       "user                                                                 \n",
       "98058449c2989069c339fadc11e73e06d673fce7            0  1369.250000   \n",
       "254f7196e6cfde8f5dadebaa78c4314593d1b244           56   621.000000   \n",
       "0f8bf09f350a2325bea2e570b8d8ddc7df7888ca           63   498.000000   \n",
       "93ea38463d2a46c1a4c7f1bca92990a3a3456ff2           20   430.000000   \n",
       "976a7f9c2b9072ab5cba8bbc381ddbd8450ee0af           15   385.000000   \n",
       "a5800b1afb725952d2c8b152d68ff2a4e39e815f            4   358.000000   \n",
       "bea6e4bf84dc7462a8d50994b36bb5a8e28101c4            0   328.673684   \n",
       "210440ae2fe868805dd65c96fe26bd803945534a           22   321.000000   \n",
       "3d372c5286d5724b72633439dd6b8f3b20250d18            3   246.000000   \n",
       "796fc77904aea3dc2d1b391b7a6d1204143dc800            8   239.242424   \n",
       "\n",
       "                                          quarterly_growth  \n",
       "user                                                        \n",
       "98058449c2989069c339fadc11e73e06d673fce7         -0.666667  \n",
       "254f7196e6cfde8f5dadebaa78c4314593d1b244         -0.900000  \n",
       "0f8bf09f350a2325bea2e570b8d8ddc7df7888ca         -0.500000  \n",
       "93ea38463d2a46c1a4c7f1bca92990a3a3456ff2         -0.991453  \n",
       "976a7f9c2b9072ab5cba8bbc381ddbd8450ee0af          0.000000  \n",
       "a5800b1afb725952d2c8b152d68ff2a4e39e815f          0.000000  \n",
       "bea6e4bf84dc7462a8d50994b36bb5a8e28101c4         25.000000  \n",
       "210440ae2fe868805dd65c96fe26bd803945534a          0.000000  \n",
       "3d372c5286d5724b72633439dd6b8f3b20250d18          0.000000  \n",
       "796fc77904aea3dc2d1b391b7a6d1204143dc800         32.000000  "
      ]
     },
     "execution_count": 175,
     "metadata": {},
     "output_type": "execute_result"
    }
   ],
   "source": [
    "features = pd.merge (analysis, quarterly_growth_table, on='user')\n",
    "features.sort_values(by='growth',ascending=False).head(10)"
   ]
  },
  {
   "cell_type": "code",
   "execution_count": 176,
   "metadata": {},
   "outputs": [
    {
     "data": {
      "text/html": [
       "<div>\n",
       "<style scoped>\n",
       "    .dataframe tbody tr th:only-of-type {\n",
       "        vertical-align: middle;\n",
       "    }\n",
       "\n",
       "    .dataframe tbody tr th {\n",
       "        vertical-align: top;\n",
       "    }\n",
       "\n",
       "    .dataframe thead th {\n",
       "        text-align: right;\n",
       "    }\n",
       "</style>\n",
       "<table border=\"1\" class=\"dataframe\">\n",
       "  <thead>\n",
       "    <tr style=\"text-align: right;\">\n",
       "      <th></th>\n",
       "      <th>(datetime, count)</th>\n",
       "      <th>(amount_in_cents, mean)</th>\n",
       "      <th>(recency, )</th>\n",
       "      <th>growth</th>\n",
       "      <th>quarterly_growth</th>\n",
       "    </tr>\n",
       "  </thead>\n",
       "  <tbody>\n",
       "    <tr>\n",
       "      <th>count</th>\n",
       "      <td>3304.000000</td>\n",
       "      <td>3304.000000</td>\n",
       "      <td>3304.000000</td>\n",
       "      <td>3304.000000</td>\n",
       "      <td>3304.000000</td>\n",
       "    </tr>\n",
       "    <tr>\n",
       "      <th>mean</th>\n",
       "      <td>174.865920</td>\n",
       "      <td>22274.250204</td>\n",
       "      <td>14.543584</td>\n",
       "      <td>5.485802</td>\n",
       "      <td>9.489025</td>\n",
       "    </tr>\n",
       "    <tr>\n",
       "      <th>std</th>\n",
       "      <td>1540.614713</td>\n",
       "      <td>47012.543582</td>\n",
       "      <td>19.919241</td>\n",
       "      <td>35.662200</td>\n",
       "      <td>79.174322</td>\n",
       "    </tr>\n",
       "    <tr>\n",
       "      <th>min</th>\n",
       "      <td>1.000000</td>\n",
       "      <td>0.000000</td>\n",
       "      <td>0.000000</td>\n",
       "      <td>-0.999393</td>\n",
       "      <td>-0.996785</td>\n",
       "    </tr>\n",
       "    <tr>\n",
       "      <th>25%</th>\n",
       "      <td>4.000000</td>\n",
       "      <td>4007.700000</td>\n",
       "      <td>1.000000</td>\n",
       "      <td>-0.632730</td>\n",
       "      <td>-0.393480</td>\n",
       "    </tr>\n",
       "    <tr>\n",
       "      <th>50%</th>\n",
       "      <td>15.000000</td>\n",
       "      <td>7762.947958</td>\n",
       "      <td>6.000000</td>\n",
       "      <td>0.000000</td>\n",
       "      <td>0.262531</td>\n",
       "    </tr>\n",
       "    <tr>\n",
       "      <th>75%</th>\n",
       "      <td>55.000000</td>\n",
       "      <td>19990.392094</td>\n",
       "      <td>21.000000</td>\n",
       "      <td>2.284382</td>\n",
       "      <td>2.108333</td>\n",
       "    </tr>\n",
       "    <tr>\n",
       "      <th>max</th>\n",
       "      <td>59185.000000</td>\n",
       "      <td>638821.000000</td>\n",
       "      <td>91.000000</td>\n",
       "      <td>1369.250000</td>\n",
       "      <td>2768.000000</td>\n",
       "    </tr>\n",
       "  </tbody>\n",
       "</table>\n",
       "</div>"
      ],
      "text/plain": [
       "       (datetime, count)  (amount_in_cents, mean)  (recency, )       growth  \\\n",
       "count        3304.000000              3304.000000  3304.000000  3304.000000   \n",
       "mean          174.865920             22274.250204    14.543584     5.485802   \n",
       "std          1540.614713             47012.543582    19.919241    35.662200   \n",
       "min             1.000000                 0.000000     0.000000    -0.999393   \n",
       "25%             4.000000              4007.700000     1.000000    -0.632730   \n",
       "50%            15.000000              7762.947958     6.000000     0.000000   \n",
       "75%            55.000000             19990.392094    21.000000     2.284382   \n",
       "max         59185.000000            638821.000000    91.000000  1369.250000   \n",
       "\n",
       "       quarterly_growth  \n",
       "count       3304.000000  \n",
       "mean           9.489025  \n",
       "std           79.174322  \n",
       "min           -0.996785  \n",
       "25%           -0.393480  \n",
       "50%            0.262531  \n",
       "75%            2.108333  \n",
       "max         2768.000000  "
      ]
     },
     "execution_count": 176,
     "metadata": {},
     "output_type": "execute_result"
    }
   ],
   "source": [
    "features.describe()"
   ]
  },
  {
   "cell_type": "markdown",
   "metadata": {},
   "source": [
    "No obvious pattern is seen by looking at the ten merchants with highest growth rate, so I plotted the data:"
   ]
  },
  {
   "cell_type": "code",
   "execution_count": 177,
   "metadata": {},
   "outputs": [
    {
     "data": {
      "text/plain": [
       "<matplotlib.axes._subplots.AxesSubplot at 0x12acbcfd0>"
      ]
     },
     "execution_count": 177,
     "metadata": {},
     "output_type": "execute_result"
    },
    {
     "data": {
      "image/png": "[encoded data removed]",
      "text/plain": [
       "<Figure size 432x288 with 1 Axes>"
      ]
     },
     "metadata": {
      "needs_background": "light"
     },
     "output_type": "display_data"
    }
   ],
   "source": [
    "features.plot(5,4,kind=\"scatter\") # past quarterly against future growth"
   ]
  },
  {
   "cell_type": "markdown",
   "metadata": {},
   "source": [
    "Unfortunatly, past quarterly growth shows no correlation with future growth"
   ]
  },
  {
   "cell_type": "markdown",
   "metadata": {},
   "source": [
    "I also analysed daily frequency to look for trends"
   ]
  },
  {
   "cell_type": "code",
   "execution_count": 178,
   "metadata": {},
   "outputs": [],
   "source": [
    "daily_frequency = historical_transactions.groupby(['day']).agg({'datetime':'count'}).rename(columns={'datetime':'frequency'})\n",
    "                                                                                     "
   ]
  },
  {
   "cell_type": "code",
   "execution_count": 179,
   "metadata": {},
   "outputs": [
    {
     "data": {
      "text/plain": [
       "<matplotlib.axes._subplots.AxesSubplot at 0x12ad787b8>"
      ]
     },
     "execution_count": 179,
     "metadata": {},
     "output_type": "execute_result"
    },
    {
     "data": {
      "image/png": "[encoded data removed]",
      "text/plain": [
       "<Figure size 432x288 with 1 Axes>"
      ]
     },
     "metadata": {
      "needs_background": "light"
     },
     "output_type": "display_data"
    }
   ],
   "source": [
    "daily_frequency.plot.line()"
   ]
  },
  {
   "cell_type": "markdown",
   "metadata": {},
   "source": [
    "In the first year of data, there is a general upward trend in transaction frequency, but ..."
   ]
  },
  {
   "cell_type": "code",
   "execution_count": 180,
   "metadata": {},
   "outputs": [
    {
     "data": {
      "text/plain": [
       "<matplotlib.axes._subplots.AxesSubplot at 0x12ad89358>"
      ]
     },
     "execution_count": 180,
     "metadata": {},
     "output_type": "execute_result"
    },
    {
     "data": {
      "image/png": "[encoded data removed]",
      "text/plain": [
       "<Figure size 432x288 with 1 Axes>"
      ]
     },
     "metadata": {
      "needs_background": "light"
     },
     "output_type": "display_data"
    }
   ],
   "source": [
    "future_trends = transactions.groupby(['day']).agg({'datetime':'count'}).rename(columns={'datetime':'frequency'})\n",
    "future_trends.plot.line()"
   ]
  },
  {
   "cell_type": "markdown",
   "metadata": {},
   "source": [
    "However the two-year data shows a different trend, almost the mirror image, declining steadily. Yet we know that some merchants increased frequency from year 1 to year 2, so how to identify which ones?"
   ]
  },
  {
   "cell_type": "markdown",
   "metadata": {},
   "source": [
    "Next steps:\n",
    "        split the users into training and test sets (with the same proportion of high growth merchants in each)\n",
    "        for the training sets normalize the frequency values so that that high daily frequency equals 1.0\n",
    "        create training labels for each merchant in the training set (1.0 if in high growth group, 0.0 otherwise)\n",
    "        train a binary classifier model using the normalized daily frequencies against the training labels\n",
    "        train a regression model using the same data, then interpret the prediction (> 1.0 as high growth)\n",
    "        validate each of the models using the test data\n",
    "        create feature vectors containing the normalized daily frequency and the prediction from the regression model\n",
    "        train another binary classifier using the new set of feature vectors\n",
    "        "
   ]
  },
  {
   "cell_type": "markdown",
   "metadata": {},
   "source": [
    "# Summary"
   ]
  },
  {
   "cell_type": "markdown",
   "metadata": {},
   "source": [
    "The transaction data was segmented by recency, frequency and monetary value.\n",
    "The year-on-year change in frequency was used to identify high growth merchants.\n",
    "The data shows that high growth merchants were active with the last six months of the first year.\n",
    "The total frequency of transactions peaked at the end of the first year and declined in the second year; this would suggest that linear regression would not be adequete to handle the data."
   ]
  },
  {
   "cell_type": "markdown",
   "metadata": {},
   "source": [
    "# Conclusions and Future Work"
   ]
  },
  {
   "cell_type": "markdown",
   "metadata": {},
   "source": [
    "The data suggests one possible predictive feature; has the merchant been active within the last 6 months?\n",
    "However the overall decline in transactions after the first year, would suggest that other factors are at work.\n",
    "It might be interesting to convert the data into a time series, and expriement with some classification models, or possibly a classification model stacked with a regression model.\n",
    "\n",
    "If asked to make an intuitive (without using machine learning) prediction for high growth I would look at merchants, who were active in the past 6 months and are also in the upper 75% quantile of transaction frequency (more than 55 transactions) for the past year."
   ]
  }
 ],
 "metadata": {
  "kernelspec": {
   "display_name": "Python 3",
   "language": "python",
   "name": "python3"
  },
  "language_info": {
   "codemirror_mode": {
    "name": "ipython",
    "version": 3
   },
   "file_extension": ".py",
   "mimetype": "text/x-python",
   "name": "python",
   "nbconvert_exporter": "python",
   "pygments_lexer": "ipython3",
   "version": "3.7.1"
  }
 },
 "nbformat": 4,
 "nbformat_minor": 2
}
