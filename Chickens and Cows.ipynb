{
 "cells": [
  {
   "cell_type": "markdown",
   "metadata": {},
   "source": [
    "Standarise the size of the images and normalize the value range. Note that now all cow types are the same colour and that chickens can be many different colours, so gray scale would be suitable, but we need to be able to detect certain features such as the shape of a cow's head, which is very very different to that of a chicken."
   ]
  },
  {
   "cell_type": "code",
   "execution_count": null,
   "metadata": {},
   "outputs": [],
   "source": [
    "from keras.models import Sequential\n",
    "from keras.layers import Conv2D\n",
    "from keras.layers import MaxPooling2D\n",
    "from keras.layers import Flatten\n",
    "from keras.layers import Dense\n",
    "from sklearn.model_selection import train_test_split\n",
    "import numpy\n",
    "\n",
    "# Define a convolutional neural net classifier, with sequential layers\n",
    "\n",
    "classifier = Sequential()\n",
    "\n",
    "classifier.add(Conv2D(32, (3, 3), input_shape = (64, 64, 3), activation = 'relu'))\n",
    "\n",
    "classifier.add(MaxPooling2D(pool_size = (2, 2)))\n",
    "\n",
    "classifier.add(Flatten())\n",
    "\n",
    "classifier.add(Dense(units = 1, activation = 'sigmoid'))\n",
    "\n",
    "classifier.compile(optimizer = 'adam', loss = 'binary_crossentropy', metrics = ['accuracy'])\n",
    "\n",
    "# Prepare the training and test data\n",
    "\n",
    "cow_data = numpy.array(load_cow_data())\n",
    "\n",
    "cow_train, cow_test = train_test_split(data,test_size=0.3)\n",
    "    \n",
    "chicken_data = numpy.array(load_chicken_data())\n",
    "\n",
    "chicken_train, chicken_test = train_test_split(data,test_size=0.3)\n",
    "\n",
    "labelled_training_set = normalize_and_combine (\"cow\", cow_train, \"chicken\", chicken_train)\n",
    "\n",
    "labelled_test_set = normalize_and_combine(\"cow\", cow_test, \"chicken\", chicken_test)\n",
    "\n",
    "\n",
    "    \n",
    "   "
   ]
  },
  {
   "cell_type": "code",
   "execution_count": null,
   "metadata": {},
   "outputs": [],
   "source": []
  }
 ],
 "metadata": {
  "kernelspec": {
   "display_name": "Python 3",
   "language": "python",
   "name": "python3"
  },
  "language_info": {
   "codemirror_mode": {
    "name": "ipython",
    "version": 3
   },
   "file_extension": ".py",
   "mimetype": "text/x-python",
   "name": "python",
   "nbconvert_exporter": "python",
   "pygments_lexer": "ipython3",
   "version": "3.7.1"
  }
 },
 "nbformat": 4,
 "nbformat_minor": 2
}
