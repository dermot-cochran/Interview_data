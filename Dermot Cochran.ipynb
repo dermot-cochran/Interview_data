{
 "cells": [
  {
   "cell_type": "code",
   "execution_count": 2,
   "metadata": {},
   "outputs": [],
   "source": [
    "import pandas as pd\n",
    "import matplotlib.pyplot as plt\n",
    "import numpy as np\n",
    "from sklearn.dummy import DummyRegressor\n",
    "from sklearn.ensemble import RandomForestRegressor, GradientBoostingRegressor, VotingRegressor\n",
    "from sklearn.model_selection import train_test_split\n",
    "from sklearn.metrics import explained_variance_score, r2_score"
   ]
  },
  {
   "cell_type": "code",
   "execution_count": 5,
   "metadata": {},
   "outputs": [
    {
     "data": {
      "text/plain": [
       "policy_desc                    0\n",
       "claim_count                    0\n",
       "cat_areacode                   0\n",
       "num_vehicleAge                 0\n",
       "num_noClaimDiscountPercent     0\n",
       "cat_carBrand                   0\n",
       "num_populationDensitykmsq      0\n",
       "cat_Region                     0\n",
       "ord_vehicleHP                  0\n",
       "num_exposure                   0\n",
       "cat_fuelType                  22\n",
       "num_driverAge                 14\n",
       "dtype: int64"
      ]
     },
     "execution_count": 5,
     "metadata": {},
     "output_type": "execute_result"
    }
   ],
   "source": [
    "rawdata = pd.read_csv(\"files/casestudy_data.csv\", \n",
    "                      dtype={\"policy_desc\":\"int\",\"claim_count\":\"int\",\"num_vehicleAge\":\"int\",\n",
    "                            \"num_noClaimDiscountPercent\":\"int\",\"num_populationDensitykmsq\":\"int\",\n",
    "                            \"ord_vehicleHP\":\"int\"}, low_memory=False)\n",
    "rawdata.isnull().sum(axis=0) # check for missing values"
   ]
  },
  {
   "cell_type": "code",
   "execution_count": 6,
   "metadata": {},
   "outputs": [
    {
     "data": {
      "text/plain": [
       "policy_desc                    int64\n",
       "claim_count                    int64\n",
       "cat_areacode                  object\n",
       "num_vehicleAge                 int64\n",
       "num_noClaimDiscountPercent     int64\n",
       "cat_carBrand                  object\n",
       "num_populationDensitykmsq      int64\n",
       "cat_Region                    object\n",
       "ord_vehicleHP                  int64\n",
       "num_exposure                  object\n",
       "cat_fuelType                  object\n",
       "num_driverAge                 object\n",
       "dtype: object"
      ]
     },
     "execution_count": 6,
     "metadata": {},
     "output_type": "execute_result"
    }
   ],
   "source": [
    "rawdata.dtypes"
   ]
  },
  {
   "cell_type": "markdown",
   "metadata": {},
   "source": [
    "Check for duplicate policy numbers"
   ]
  },
  {
   "cell_type": "code",
   "execution_count": 7,
   "metadata": {},
   "outputs": [],
   "source": [
    "policy_count = rawdata.groupby('policy_desc').agg({'policy_desc':'count'}).rename(columns={'policy_desc':'instances'})"
   ]
  },
  {
   "cell_type": "code",
   "execution_count": 10,
   "metadata": {},
   "outputs": [
    {
     "name": "stdout",
     "output_type": "stream",
     "text": [
      "1\n"
     ]
    }
   ],
   "source": [
    "print (policy_count['instances'].max())"
   ]
  },
  {
   "cell_type": "markdown",
   "metadata": {},
   "source": [
    "# Clean up missing values by adding new category or flag and median value"
   ]
  },
  {
   "cell_type": "code",
   "execution_count": 11,
   "metadata": {},
   "outputs": [],
   "source": [
    "rawdata['cat_fuelType'].fillna('Unknown',inplace=True)"
   ]
  },
  {
   "cell_type": "code",
   "execution_count": 12,
   "metadata": {},
   "outputs": [
    {
     "name": "stdout",
     "output_type": "stream",
     "text": [
      "1\n"
     ]
    }
   ],
   "source": [
    "median_exposure = rawdata['num_exposure'].value_counts().index[0]\n",
    "print (median_exposure)"
   ]
  },
  {
   "cell_type": "code",
   "execution_count": 82,
   "metadata": {},
   "outputs": [
    {
     "name": "stdout",
     "output_type": "stream",
     "text": [
      "0.0\n"
     ]
    }
   ],
   "source": [
    "rawdata['num_exposure'] = pd.to_numeric(rawdata.num_exposure, errors='coerce', downcast='integer')\n",
    "rawdata['missing_exposure'] = np.where(rawdata['num_exposure'].isnull(), 1, 0)\n",
    "rawdata['missing_exposure'] += np.where(rawdata['num_exposure'].isna(), 1, 0)\n",
    "rawdata['num_exposure'].fillna(median_exposure,inplace=True)\n",
    "print(rawdata['missing_exposure'].mean())"
   ]
  },
  {
   "cell_type": "code",
   "execution_count": 23,
   "metadata": {},
   "outputs": [
    {
     "name": "stdout",
     "output_type": "stream",
     "text": [
      "36\n"
     ]
    }
   ],
   "source": [
    "most_common_driver_age = rawdata['num_driverAge'].value_counts().index[0]\n",
    "print(most_common_driver_age)"
   ]
  },
  {
   "cell_type": "code",
   "execution_count": 83,
   "metadata": {},
   "outputs": [
    {
     "name": "stdout",
     "output_type": "stream",
     "text": [
      "0.0\n"
     ]
    }
   ],
   "source": [
    "rawdata['num_driverAge'] = pd.to_numeric(rawdata.num_driverAge, errors='coerce', downcast='integer')\n",
    "rawdata['missing_driverAge'] = np.where(rawdata['num_driverAge'].isnull(), 1, 0)\n",
    "rawdata['missing_driverAge'] += np.where(rawdata['num_driverAge'].isna(), 1, 0)\n",
    "rawdata['num_driverAge'].fillna(most_common_driver_age,inplace=True)\n",
    "print(rawdata['missing_driverAge'].mean())"
   ]
  },
  {
   "cell_type": "code",
   "execution_count": 54,
   "metadata": {},
   "outputs": [
    {
     "data": {
      "text/plain": [
       "policy_desc                     int64\n",
       "claim_count                     int64\n",
       "cat_areacode                   object\n",
       "num_vehicleAge                  int64\n",
       "num_noClaimDiscountPercent      int64\n",
       "cat_carBrand                   object\n",
       "num_populationDensitykmsq       int64\n",
       "cat_Region                     object\n",
       "ord_vehicleHP                   int64\n",
       "num_exposure                  float64\n",
       "cat_fuelType                   object\n",
       "num_driverAge                    int8\n",
       "missing_exposure                int64\n",
       "missing_driverAge               int64\n",
       "dtype: object"
      ]
     },
     "execution_count": 54,
     "metadata": {},
     "output_type": "execute_result"
    }
   ],
   "source": [
    "rawdata.dtypes"
   ]
  },
  {
   "cell_type": "code",
   "execution_count": 55,
   "metadata": {},
   "outputs": [
    {
     "data": {
      "text/plain": [
       "policy_desc                   0\n",
       "claim_count                   0\n",
       "cat_areacode                  0\n",
       "num_vehicleAge                0\n",
       "num_noClaimDiscountPercent    0\n",
       "cat_carBrand                  0\n",
       "num_populationDensitykmsq     0\n",
       "cat_Region                    0\n",
       "ord_vehicleHP                 0\n",
       "num_exposure                  0\n",
       "cat_fuelType                  0\n",
       "num_driverAge                 0\n",
       "missing_exposure              0\n",
       "missing_driverAge             0\n",
       "dtype: int64"
      ]
     },
     "execution_count": 55,
     "metadata": {},
     "output_type": "execute_result"
    }
   ],
   "source": [
    "rawdata.isnull().sum(axis=0) # re-check for missing values"
   ]
  },
  {
   "cell_type": "markdown",
   "metadata": {},
   "source": [
    "# Exploratory Data Analysis"
   ]
  },
  {
   "cell_type": "markdown",
   "metadata": {},
   "source": [
    "**Assumption**: claim count refers to _future_ claims (i.e. claims that we are trying to predict) but no-claims-discount and exposure refer to _past_ claims (i.e. claims history) therefore they can used as part of the feature vector"
   ]
  },
  {
   "cell_type": "markdown",
   "metadata": {},
   "source": [
    "## Plot each relevant numeric variable against claim count"
   ]
  },
  {
   "cell_type": "code",
   "execution_count": 56,
   "metadata": {},
   "outputs": [
    {
     "data": {
      "text/plain": [
       "<matplotlib.axes._subplots.AxesSubplot at 0x1036f6e10>"
      ]
     },
     "execution_count": 56,
     "metadata": {},
     "output_type": "execute_result"
    },
    {
     "data": {
      "image/png": "[encoded data removed]",
      "text/plain": [
       "<Figure size 432x288 with 1 Axes>"
      ]
     },
     "metadata": {
      "needs_background": "light"
     },
     "output_type": "display_data"
    }
   ],
   "source": [
    "rawdata.plot(3,1,kind='scatter')"
   ]
  },
  {
   "cell_type": "code",
   "execution_count": 57,
   "metadata": {},
   "outputs": [
    {
     "data": {
      "text/plain": [
       "<matplotlib.axes._subplots.AxesSubplot at 0x122a2c6a0>"
      ]
     },
     "execution_count": 57,
     "metadata": {},
     "output_type": "execute_result"
    },
    {
     "data": {
      "image/png": "[encoded data removed]",
      "text/plain": [
       "<Figure size 432x288 with 1 Axes>"
      ]
     },
     "metadata": {
      "needs_background": "light"
     },
     "output_type": "display_data"
    }
   ],
   "source": [
    "rawdata.plot(4,1,kind='scatter')"
   ]
  },
  {
   "cell_type": "code",
   "execution_count": 58,
   "metadata": {},
   "outputs": [
    {
     "data": {
      "text/plain": [
       "<matplotlib.axes._subplots.AxesSubplot at 0x12eb972b0>"
      ]
     },
     "execution_count": 58,
     "metadata": {},
     "output_type": "execute_result"
    },
    {
     "data": {
      "image/png": "[encoded data removed]",
      "text/plain": [
       "<Figure size 432x288 with 1 Axes>"
      ]
     },
     "metadata": {
      "needs_background": "light"
     },
     "output_type": "display_data"
    }
   ],
   "source": [
    "rawdata.plot(6,1,kind='scatter')"
   ]
  },
  {
   "cell_type": "code",
   "execution_count": 59,
   "metadata": {},
   "outputs": [
    {
     "data": {
      "text/plain": [
       "<matplotlib.axes._subplots.AxesSubplot at 0x12eba0be0>"
      ]
     },
     "execution_count": 59,
     "metadata": {},
     "output_type": "execute_result"
    },
    {
     "data": {
      "image/png": "[encoded data removed]",
      "text/plain": [
       "<Figure size 432x288 with 1 Axes>"
      ]
     },
     "metadata": {
      "needs_background": "light"
     },
     "output_type": "display_data"
    }
   ],
   "source": [
    "rawdata.plot(8,1,kind='scatter')"
   ]
  },
  {
   "cell_type": "code",
   "execution_count": 60,
   "metadata": {},
   "outputs": [
    {
     "data": {
      "text/plain": [
       "count    678013.000000\n",
       "mean          6.948194\n",
       "std          64.908621\n",
       "min           4.000000\n",
       "25%           5.000000\n",
       "50%           6.000000\n",
       "75%           7.000000\n",
       "max        9999.000000\n",
       "Name: ord_vehicleHP, dtype: float64"
      ]
     },
     "execution_count": 60,
     "metadata": {},
     "output_type": "execute_result"
    }
   ],
   "source": [
    "rawdata['ord_vehicleHP'].describe()"
   ]
  },
  {
   "cell_type": "code",
   "execution_count": 61,
   "metadata": {},
   "outputs": [
    {
     "data": {
      "text/plain": [
       "<matplotlib.axes._subplots.AxesSubplot at 0x12ecfe278>"
      ]
     },
     "execution_count": 61,
     "metadata": {},
     "output_type": "execute_result"
    },
    {
     "data": {
      "image/png": "[encoded data removed]",
      "text/plain": [
       "<Figure size 432x288 with 1 Axes>"
      ]
     },
     "metadata": {
      "needs_background": "light"
     },
     "output_type": "display_data"
    }
   ],
   "source": [
    "rawdata.plot(8,1,kind='scatter', xlim=[0,20])"
   ]
  },
  {
   "cell_type": "code",
   "execution_count": 62,
   "metadata": {},
   "outputs": [
    {
     "data": {
      "text/plain": [
       "<matplotlib.axes._subplots.AxesSubplot at 0x1292f1cf8>"
      ]
     },
     "execution_count": 62,
     "metadata": {},
     "output_type": "execute_result"
    },
    {
     "data": {
      "image/png": "[encoded data removed]",
      "text/plain": [
       "<Figure size 432x288 with 1 Axes>"
      ]
     },
     "metadata": {
      "needs_background": "light"
     },
     "output_type": "display_data"
    }
   ],
   "source": [
    "rawdata.plot(9,1,kind='scatter')"
   ]
  },
  {
   "cell_type": "code",
   "execution_count": 63,
   "metadata": {},
   "outputs": [
    {
     "data": {
      "text/plain": [
       "<matplotlib.axes._subplots.AxesSubplot at 0x12eb16160>"
      ]
     },
     "execution_count": 63,
     "metadata": {},
     "output_type": "execute_result"
    },
    {
     "data": {
      "image/png": "[encoded data removed]",
      "text/plain": [
       "<Figure size 432x288 with 1 Axes>"
      ]
     },
     "metadata": {
      "needs_background": "light"
     },
     "output_type": "display_data"
    }
   ],
   "source": [
    "rawdata.plot(11,1,kind='scatter')"
   ]
  },
  {
   "cell_type": "markdown",
   "metadata": {},
   "source": [
    "# Feature Engineering"
   ]
  },
  {
   "cell_type": "markdown",
   "metadata": {},
   "source": [
    "## Convert categories into numeric risk factors based on average claim count for each class"
   ]
  },
  {
   "cell_type": "code",
   "execution_count": 64,
   "metadata": {},
   "outputs": [],
   "source": [
    "areacode_analysis = rawdata.groupby('cat_areacode').agg({'claim_count':'mean'}).rename(columns={'claim_count':'areacode_risk'})"
   ]
  },
  {
   "cell_type": "code",
   "execution_count": 65,
   "metadata": {},
   "outputs": [
    {
     "data": {
      "text/html": [
       "<div>\n",
       "<style scoped>\n",
       "    .dataframe tbody tr th:only-of-type {\n",
       "        vertical-align: middle;\n",
       "    }\n",
       "\n",
       "    .dataframe tbody tr th {\n",
       "        vertical-align: top;\n",
       "    }\n",
       "\n",
       "    .dataframe thead th {\n",
       "        text-align: right;\n",
       "    }\n",
       "</style>\n",
       "<table border=\"1\" class=\"dataframe\">\n",
       "  <thead>\n",
       "    <tr style=\"text-align: right;\">\n",
       "      <th></th>\n",
       "      <th>areacode_risk</th>\n",
       "    </tr>\n",
       "    <tr>\n",
       "      <th>cat_areacode</th>\n",
       "      <th></th>\n",
       "    </tr>\n",
       "  </thead>\n",
       "  <tbody>\n",
       "    <tr>\n",
       "      <th>A</th>\n",
       "      <td>0.048703</td>\n",
       "    </tr>\n",
       "    <tr>\n",
       "      <th>B</th>\n",
       "      <td>0.050358</td>\n",
       "    </tr>\n",
       "    <tr>\n",
       "      <th>C</th>\n",
       "      <td>0.051464</td>\n",
       "    </tr>\n",
       "    <tr>\n",
       "      <th>D</th>\n",
       "      <td>0.055595</td>\n",
       "    </tr>\n",
       "    <tr>\n",
       "      <th>E</th>\n",
       "      <td>0.056901</td>\n",
       "    </tr>\n",
       "    <tr>\n",
       "      <th>F</th>\n",
       "      <td>0.062994</td>\n",
       "    </tr>\n",
       "  </tbody>\n",
       "</table>\n",
       "</div>"
      ],
      "text/plain": [
       "              areacode_risk\n",
       "cat_areacode               \n",
       "A                  0.048703\n",
       "B                  0.050358\n",
       "C                  0.051464\n",
       "D                  0.055595\n",
       "E                  0.056901\n",
       "F                  0.062994"
      ]
     },
     "execution_count": 65,
     "metadata": {},
     "output_type": "execute_result"
    }
   ],
   "source": [
    "areacode_analysis.head(7)"
   ]
  },
  {
   "cell_type": "code",
   "execution_count": 66,
   "metadata": {},
   "outputs": [],
   "source": [
    "carbrand_analysis = rawdata.groupby('cat_carBrand').agg({'claim_count':'mean'}).rename(columns={'claim_count':'carbrand_risk'})"
   ]
  },
  {
   "cell_type": "code",
   "execution_count": 67,
   "metadata": {},
   "outputs": [
    {
     "data": {
      "text/html": [
       "<div>\n",
       "<style scoped>\n",
       "    .dataframe tbody tr th:only-of-type {\n",
       "        vertical-align: middle;\n",
       "    }\n",
       "\n",
       "    .dataframe tbody tr th {\n",
       "        vertical-align: top;\n",
       "    }\n",
       "\n",
       "    .dataframe thead th {\n",
       "        text-align: right;\n",
       "    }\n",
       "</style>\n",
       "<table border=\"1\" class=\"dataframe\">\n",
       "  <thead>\n",
       "    <tr style=\"text-align: right;\">\n",
       "      <th></th>\n",
       "      <th>carbrand_risk</th>\n",
       "    </tr>\n",
       "    <tr>\n",
       "      <th>cat_carBrand</th>\n",
       "      <th></th>\n",
       "    </tr>\n",
       "  </thead>\n",
       "  <tbody>\n",
       "    <tr>\n",
       "      <th>B1</th>\n",
       "      <td>0.053319</td>\n",
       "    </tr>\n",
       "    <tr>\n",
       "      <th>B10</th>\n",
       "      <td>0.048455</td>\n",
       "    </tr>\n",
       "    <tr>\n",
       "      <th>B11</th>\n",
       "      <td>0.053073</td>\n",
       "    </tr>\n",
       "    <tr>\n",
       "      <th>B12</th>\n",
       "      <td>0.053360</td>\n",
       "    </tr>\n",
       "    <tr>\n",
       "      <th>B13</th>\n",
       "      <td>0.053293</td>\n",
       "    </tr>\n",
       "    <tr>\n",
       "      <th>B14</th>\n",
       "      <td>0.041018</td>\n",
       "    </tr>\n",
       "    <tr>\n",
       "      <th>B2</th>\n",
       "      <td>0.053547</td>\n",
       "    </tr>\n",
       "    <tr>\n",
       "      <th>B3</th>\n",
       "      <td>0.052776</td>\n",
       "    </tr>\n",
       "    <tr>\n",
       "      <th>B4</th>\n",
       "      <td>0.052107</td>\n",
       "    </tr>\n",
       "    <tr>\n",
       "      <th>B5</th>\n",
       "      <td>0.058124</td>\n",
       "    </tr>\n",
       "    <tr>\n",
       "      <th>B6</th>\n",
       "      <td>0.051212</td>\n",
       "    </tr>\n",
       "  </tbody>\n",
       "</table>\n",
       "</div>"
      ],
      "text/plain": [
       "              carbrand_risk\n",
       "cat_carBrand               \n",
       "B1                 0.053319\n",
       "B10                0.048455\n",
       "B11                0.053073\n",
       "B12                0.053360\n",
       "B13                0.053293\n",
       "B14                0.041018\n",
       "B2                 0.053547\n",
       "B3                 0.052776\n",
       "B4                 0.052107\n",
       "B5                 0.058124\n",
       "B6                 0.051212"
      ]
     },
     "execution_count": 67,
     "metadata": {},
     "output_type": "execute_result"
    }
   ],
   "source": [
    "carbrand_analysis.head(15)"
   ]
  },
  {
   "cell_type": "code",
   "execution_count": 68,
   "metadata": {},
   "outputs": [],
   "source": [
    "region_analysis = rawdata.groupby('cat_Region').agg({'claim_count':'mean'}).rename(columns={'claim_count':'region_risk'})"
   ]
  },
  {
   "cell_type": "code",
   "execution_count": 69,
   "metadata": {},
   "outputs": [
    {
     "data": {
      "text/html": [
       "<div>\n",
       "<style scoped>\n",
       "    .dataframe tbody tr th:only-of-type {\n",
       "        vertical-align: middle;\n",
       "    }\n",
       "\n",
       "    .dataframe tbody tr th {\n",
       "        vertical-align: top;\n",
       "    }\n",
       "\n",
       "    .dataframe thead th {\n",
       "        text-align: right;\n",
       "    }\n",
       "</style>\n",
       "<table border=\"1\" class=\"dataframe\">\n",
       "  <thead>\n",
       "    <tr style=\"text-align: right;\">\n",
       "      <th></th>\n",
       "      <th>region_risk</th>\n",
       "    </tr>\n",
       "    <tr>\n",
       "      <th>cat_Region</th>\n",
       "      <th></th>\n",
       "    </tr>\n",
       "  </thead>\n",
       "  <tbody>\n",
       "    <tr>\n",
       "      <th>R11</th>\n",
       "      <td>0.056999</td>\n",
       "    </tr>\n",
       "    <tr>\n",
       "      <th>R21</th>\n",
       "      <td>0.052875</td>\n",
       "    </tr>\n",
       "    <tr>\n",
       "      <th>R22</th>\n",
       "      <td>0.054916</td>\n",
       "    </tr>\n",
       "    <tr>\n",
       "      <th>R23</th>\n",
       "      <td>0.034495</td>\n",
       "    </tr>\n",
       "    <tr>\n",
       "      <th>R24</th>\n",
       "      <td>0.057310</td>\n",
       "    </tr>\n",
       "    <tr>\n",
       "      <th>R25</th>\n",
       "      <td>0.058111</td>\n",
       "    </tr>\n",
       "    <tr>\n",
       "      <th>R26</th>\n",
       "      <td>0.048704</td>\n",
       "    </tr>\n",
       "    <tr>\n",
       "      <th>R31</th>\n",
       "      <td>0.043101</td>\n",
       "    </tr>\n",
       "    <tr>\n",
       "      <th>R41</th>\n",
       "      <td>0.047036</td>\n",
       "    </tr>\n",
       "    <tr>\n",
       "      <th>R42</th>\n",
       "      <td>0.060455</td>\n",
       "    </tr>\n",
       "    <tr>\n",
       "      <th>R43</th>\n",
       "      <td>0.042986</td>\n",
       "    </tr>\n",
       "    <tr>\n",
       "      <th>R52</th>\n",
       "      <td>0.051870</td>\n",
       "    </tr>\n",
       "    <tr>\n",
       "      <th>R53</th>\n",
       "      <td>0.064147</td>\n",
       "    </tr>\n",
       "    <tr>\n",
       "      <th>R54</th>\n",
       "      <td>0.050824</td>\n",
       "    </tr>\n",
       "    <tr>\n",
       "      <th>R72</th>\n",
       "      <td>0.043027</td>\n",
       "    </tr>\n",
       "    <tr>\n",
       "      <th>R73</th>\n",
       "      <td>0.040138</td>\n",
       "    </tr>\n",
       "    <tr>\n",
       "      <th>R74</th>\n",
       "      <td>0.056711</td>\n",
       "    </tr>\n",
       "    <tr>\n",
       "      <th>R82</th>\n",
       "      <td>0.059373</td>\n",
       "    </tr>\n",
       "    <tr>\n",
       "      <th>R83</th>\n",
       "      <td>0.035748</td>\n",
       "    </tr>\n",
       "    <tr>\n",
       "      <th>R91</th>\n",
       "      <td>0.043206</td>\n",
       "    </tr>\n",
       "    <tr>\n",
       "      <th>R93</th>\n",
       "      <td>0.049259</td>\n",
       "    </tr>\n",
       "    <tr>\n",
       "      <th>R94</th>\n",
       "      <td>0.054694</td>\n",
       "    </tr>\n",
       "  </tbody>\n",
       "</table>\n",
       "</div>"
      ],
      "text/plain": [
       "            region_risk\n",
       "cat_Region             \n",
       "R11            0.056999\n",
       "R21            0.052875\n",
       "R22            0.054916\n",
       "R23            0.034495\n",
       "R24            0.057310\n",
       "R25            0.058111\n",
       "R26            0.048704\n",
       "R31            0.043101\n",
       "R41            0.047036\n",
       "R42            0.060455\n",
       "R43            0.042986\n",
       "R52            0.051870\n",
       "R53            0.064147\n",
       "R54            0.050824\n",
       "R72            0.043027\n",
       "R73            0.040138\n",
       "R74            0.056711\n",
       "R82            0.059373\n",
       "R83            0.035748\n",
       "R91            0.043206\n",
       "R93            0.049259\n",
       "R94            0.054694"
      ]
     },
     "execution_count": 69,
     "metadata": {},
     "output_type": "execute_result"
    }
   ],
   "source": [
    "region_analysis.head(50)"
   ]
  },
  {
   "cell_type": "code",
   "execution_count": 70,
   "metadata": {},
   "outputs": [],
   "source": [
    "fueltype_analysis = rawdata.groupby('cat_fuelType').agg({'claim_count':'mean'}).rename(columns={'claim_count':'fueltype_risk'})"
   ]
  },
  {
   "cell_type": "code",
   "execution_count": 71,
   "metadata": {},
   "outputs": [
    {
     "data": {
      "text/html": [
       "<div>\n",
       "<style scoped>\n",
       "    .dataframe tbody tr th:only-of-type {\n",
       "        vertical-align: middle;\n",
       "    }\n",
       "\n",
       "    .dataframe tbody tr th {\n",
       "        vertical-align: top;\n",
       "    }\n",
       "\n",
       "    .dataframe thead th {\n",
       "        text-align: right;\n",
       "    }\n",
       "</style>\n",
       "<table border=\"1\" class=\"dataframe\">\n",
       "  <thead>\n",
       "    <tr style=\"text-align: right;\">\n",
       "      <th></th>\n",
       "      <th>fueltype_risk</th>\n",
       "    </tr>\n",
       "    <tr>\n",
       "      <th>cat_fuelType</th>\n",
       "      <th></th>\n",
       "    </tr>\n",
       "  </thead>\n",
       "  <tbody>\n",
       "    <tr>\n",
       "      <th>Diesel</th>\n",
       "      <td>0.050120</td>\n",
       "    </tr>\n",
       "    <tr>\n",
       "      <th>Electric</th>\n",
       "      <td>0.200000</td>\n",
       "    </tr>\n",
       "    <tr>\n",
       "      <th>Regular</th>\n",
       "      <td>0.056243</td>\n",
       "    </tr>\n",
       "    <tr>\n",
       "      <th>Unknown</th>\n",
       "      <td>0.045455</td>\n",
       "    </tr>\n",
       "  </tbody>\n",
       "</table>\n",
       "</div>"
      ],
      "text/plain": [
       "              fueltype_risk\n",
       "cat_fuelType               \n",
       "Diesel             0.050120\n",
       "Electric           0.200000\n",
       "Regular            0.056243\n",
       "Unknown            0.045455"
      ]
     },
     "execution_count": 71,
     "metadata": {},
     "output_type": "execute_result"
    }
   ],
   "source": [
    "fueltype_analysis.head()"
   ]
  },
  {
   "cell_type": "code",
   "execution_count": 72,
   "metadata": {},
   "outputs": [],
   "source": [
    "engineered_data = pd.merge (rawdata, areacode_analysis, on='cat_areacode')\n",
    "engineered_data = pd.merge (engineered_data, carbrand_analysis, on='cat_carBrand')\n",
    "engineered_data = pd.merge (engineered_data, region_analysis, on='cat_Region')\n",
    "engineered_data = pd.merge (engineered_data, fueltype_analysis, on = 'cat_fuelType')\n",
    "features = engineered_data.drop(['cat_areacode', 'cat_Region', 'cat_carBrand','cat_fuelType'], axis=1)"
   ]
  },
  {
   "cell_type": "code",
   "execution_count": 73,
   "metadata": {},
   "outputs": [
    {
     "data": {
      "text/html": [
       "<div>\n",
       "<style scoped>\n",
       "    .dataframe tbody tr th:only-of-type {\n",
       "        vertical-align: middle;\n",
       "    }\n",
       "\n",
       "    .dataframe tbody tr th {\n",
       "        vertical-align: top;\n",
       "    }\n",
       "\n",
       "    .dataframe thead th {\n",
       "        text-align: right;\n",
       "    }\n",
       "</style>\n",
       "<table border=\"1\" class=\"dataframe\">\n",
       "  <thead>\n",
       "    <tr style=\"text-align: right;\">\n",
       "      <th></th>\n",
       "      <th>policy_desc</th>\n",
       "      <th>claim_count</th>\n",
       "      <th>num_vehicleAge</th>\n",
       "      <th>num_noClaimDiscountPercent</th>\n",
       "      <th>num_populationDensitykmsq</th>\n",
       "      <th>ord_vehicleHP</th>\n",
       "      <th>num_exposure</th>\n",
       "      <th>num_driverAge</th>\n",
       "      <th>missing_exposure</th>\n",
       "      <th>missing_driverAge</th>\n",
       "      <th>areacode_risk</th>\n",
       "      <th>carbrand_risk</th>\n",
       "      <th>region_risk</th>\n",
       "      <th>fueltype_risk</th>\n",
       "    </tr>\n",
       "  </thead>\n",
       "  <tbody>\n",
       "    <tr>\n",
       "      <th>0</th>\n",
       "      <td>1</td>\n",
       "      <td>1</td>\n",
       "      <td>0</td>\n",
       "      <td>50</td>\n",
       "      <td>1217</td>\n",
       "      <td>5</td>\n",
       "      <td>0.10</td>\n",
       "      <td>55</td>\n",
       "      <td>0</td>\n",
       "      <td>0</td>\n",
       "      <td>0.055595</td>\n",
       "      <td>0.05336</td>\n",
       "      <td>0.059373</td>\n",
       "      <td>0.056243</td>\n",
       "    </tr>\n",
       "    <tr>\n",
       "      <th>1</th>\n",
       "      <td>3</td>\n",
       "      <td>1</td>\n",
       "      <td>0</td>\n",
       "      <td>50</td>\n",
       "      <td>1217</td>\n",
       "      <td>5</td>\n",
       "      <td>0.77</td>\n",
       "      <td>55</td>\n",
       "      <td>0</td>\n",
       "      <td>0</td>\n",
       "      <td>0.055595</td>\n",
       "      <td>0.05336</td>\n",
       "      <td>0.059373</td>\n",
       "      <td>0.056243</td>\n",
       "    </tr>\n",
       "    <tr>\n",
       "      <th>2</th>\n",
       "      <td>731</td>\n",
       "      <td>1</td>\n",
       "      <td>9</td>\n",
       "      <td>90</td>\n",
       "      <td>745</td>\n",
       "      <td>8</td>\n",
       "      <td>0.12</td>\n",
       "      <td>23</td>\n",
       "      <td>0</td>\n",
       "      <td>0</td>\n",
       "      <td>0.055595</td>\n",
       "      <td>0.05336</td>\n",
       "      <td>0.059373</td>\n",
       "      <td>0.056243</td>\n",
       "    </tr>\n",
       "    <tr>\n",
       "      <th>3</th>\n",
       "      <td>732</td>\n",
       "      <td>2</td>\n",
       "      <td>9</td>\n",
       "      <td>90</td>\n",
       "      <td>745</td>\n",
       "      <td>8</td>\n",
       "      <td>0.21</td>\n",
       "      <td>23</td>\n",
       "      <td>0</td>\n",
       "      <td>0</td>\n",
       "      <td>0.055595</td>\n",
       "      <td>0.05336</td>\n",
       "      <td>0.059373</td>\n",
       "      <td>0.056243</td>\n",
       "    </tr>\n",
       "    <tr>\n",
       "      <th>4</th>\n",
       "      <td>1052</td>\n",
       "      <td>1</td>\n",
       "      <td>0</td>\n",
       "      <td>68</td>\n",
       "      <td>1871</td>\n",
       "      <td>10</td>\n",
       "      <td>0.08</td>\n",
       "      <td>58</td>\n",
       "      <td>0</td>\n",
       "      <td>0</td>\n",
       "      <td>0.055595</td>\n",
       "      <td>0.05336</td>\n",
       "      <td>0.059373</td>\n",
       "      <td>0.056243</td>\n",
       "    </tr>\n",
       "  </tbody>\n",
       "</table>\n",
       "</div>"
      ],
      "text/plain": [
       "   policy_desc  claim_count  num_vehicleAge  num_noClaimDiscountPercent  \\\n",
       "0            1            1               0                          50   \n",
       "1            3            1               0                          50   \n",
       "2          731            1               9                          90   \n",
       "3          732            2               9                          90   \n",
       "4         1052            1               0                          68   \n",
       "\n",
       "   num_populationDensitykmsq  ord_vehicleHP  num_exposure  num_driverAge  \\\n",
       "0                       1217              5          0.10             55   \n",
       "1                       1217              5          0.77             55   \n",
       "2                        745              8          0.12             23   \n",
       "3                        745              8          0.21             23   \n",
       "4                       1871             10          0.08             58   \n",
       "\n",
       "   missing_exposure  missing_driverAge  areacode_risk  carbrand_risk  \\\n",
       "0                 0                  0       0.055595        0.05336   \n",
       "1                 0                  0       0.055595        0.05336   \n",
       "2                 0                  0       0.055595        0.05336   \n",
       "3                 0                  0       0.055595        0.05336   \n",
       "4                 0                  0       0.055595        0.05336   \n",
       "\n",
       "   region_risk  fueltype_risk  \n",
       "0     0.059373       0.056243  \n",
       "1     0.059373       0.056243  \n",
       "2     0.059373       0.056243  \n",
       "3     0.059373       0.056243  \n",
       "4     0.059373       0.056243  "
      ]
     },
     "execution_count": 73,
     "metadata": {},
     "output_type": "execute_result"
    }
   ],
   "source": [
    "features.head()"
   ]
  },
  {
   "cell_type": "markdown",
   "metadata": {},
   "source": [
    "## Check for dependencies between features"
   ]
  },
  {
   "cell_type": "code",
   "execution_count": 74,
   "metadata": {},
   "outputs": [
    {
     "data": {
      "text/plain": [
       "<matplotlib.axes._subplots.AxesSubplot at 0x12ec920b8>"
      ]
     },
     "execution_count": 74,
     "metadata": {},
     "output_type": "execute_result"
    },
    {
     "data": {
      "image/png": "[encoded data removed]",
      "text/plain": [
       "<Figure size 432x288 with 1 Axes>"
      ]
     },
     "metadata": {
      "needs_background": "light"
     },
     "output_type": "display_data"
    }
   ],
   "source": [
    "features.plot (3, 6, kind='scatter')"
   ]
  },
  {
   "cell_type": "code",
   "execution_count": 75,
   "metadata": {},
   "outputs": [
    {
     "data": {
      "text/plain": [
       "<matplotlib.axes._subplots.AxesSubplot at 0x12ed455c0>"
      ]
     },
     "execution_count": 75,
     "metadata": {},
     "output_type": "execute_result"
    },
    {
     "data": {
      "image/png": "[encoded data removed]",
      "text/plain": [
       "<Figure size 432x288 with 1 Axes>"
      ]
     },
     "metadata": {
      "needs_background": "light"
     },
     "output_type": "display_data"
    }
   ],
   "source": [
    "features.plot (3, 6, kind='scatter', xlim=[50,125], ylim=[0,1.25])"
   ]
  },
  {
   "cell_type": "code",
   "execution_count": 76,
   "metadata": {},
   "outputs": [
    {
     "data": {
      "text/plain": [
       "<matplotlib.axes._subplots.AxesSubplot at 0x12746f710>"
      ]
     },
     "execution_count": 76,
     "metadata": {},
     "output_type": "execute_result"
    },
    {
     "data": {
      "image/png": "[encoded data removed]",
      "text/plain": [
       "<Figure size 432x288 with 1 Axes>"
      ]
     },
     "metadata": {
      "needs_background": "light"
     },
     "output_type": "display_data"
    }
   ],
   "source": [
    "features.plot (3, 6, kind='scatter', xlim=[50,80], ylim=[0,0.8])"
   ]
  },
  {
   "cell_type": "code",
   "execution_count": 77,
   "metadata": {},
   "outputs": [
    {
     "data": {
      "text/plain": [
       "<matplotlib.axes._subplots.AxesSubplot at 0x1274d0358>"
      ]
     },
     "execution_count": 77,
     "metadata": {},
     "output_type": "execute_result"
    },
    {
     "data": {
      "image/png": "[encoded data removed]",
      "text/plain": [
       "<Figure size 432x288 with 1 Axes>"
      ]
     },
     "metadata": {
      "needs_background": "light"
     },
     "output_type": "display_data"
    }
   ],
   "source": [
    "features.plot (4, 10, kind='scatter')"
   ]
  },
  {
   "cell_type": "code",
   "execution_count": 78,
   "metadata": {},
   "outputs": [
    {
     "data": {
      "text/plain": [
       "<matplotlib.axes._subplots.AxesSubplot at 0x1250425f8>"
      ]
     },
     "execution_count": 78,
     "metadata": {},
     "output_type": "execute_result"
    },
    {
     "data": {
      "image/png": "[encoded data removed]",
      "text/plain": [
       "<Figure size 432x288 with 1 Axes>"
      ]
     },
     "metadata": {
      "needs_background": "light"
     },
     "output_type": "display_data"
    }
   ],
   "source": [
    "features.plot (4, 12, kind='scatter')"
   ]
  },
  {
   "cell_type": "code",
   "execution_count": 79,
   "metadata": {},
   "outputs": [
    {
     "data": {
      "text/plain": [
       "<matplotlib.axes._subplots.AxesSubplot at 0x125042e10>"
      ]
     },
     "execution_count": 79,
     "metadata": {},
     "output_type": "execute_result"
    },
    {
     "data": {
      "image/png": "[encoded data removed]",
      "text/plain": [
       "<Figure size 432x288 with 1 Axes>"
      ]
     },
     "metadata": {
      "needs_background": "light"
     },
     "output_type": "display_data"
    }
   ],
   "source": [
    "features.plot (12, 10, kind='scatter')"
   ]
  },
  {
   "cell_type": "code",
   "execution_count": 80,
   "metadata": {},
   "outputs": [
    {
     "data": {
      "text/plain": [
       "<matplotlib.axes._subplots.AxesSubplot at 0x122950a90>"
      ]
     },
     "execution_count": 80,
     "metadata": {},
     "output_type": "execute_result"
    },
    {
     "data": {
      "image/png": "[encoded data removed]",
      "text/plain": [
       "<Figure size 432x288 with 1 Axes>"
      ]
     },
     "metadata": {
      "needs_background": "light"
     },
     "output_type": "display_data"
    }
   ],
   "source": [
    "features.plot (5, 11, kind='scatter')"
   ]
  },
  {
   "cell_type": "markdown",
   "metadata": {},
   "source": [
    "# Split into training and test sets"
   ]
  },
  {
   "cell_type": "code",
   "execution_count": 84,
   "metadata": {},
   "outputs": [],
   "source": [
    "train_set, test_set = train_test_split(features,test_size=0.7)"
   ]
  },
  {
   "cell_type": "code",
   "execution_count": 85,
   "metadata": {},
   "outputs": [
    {
     "data": {
      "text/html": [
       "<div>\n",
       "<style scoped>\n",
       "    .dataframe tbody tr th:only-of-type {\n",
       "        vertical-align: middle;\n",
       "    }\n",
       "\n",
       "    .dataframe tbody tr th {\n",
       "        vertical-align: top;\n",
       "    }\n",
       "\n",
       "    .dataframe thead th {\n",
       "        text-align: right;\n",
       "    }\n",
       "</style>\n",
       "<table border=\"1\" class=\"dataframe\">\n",
       "  <thead>\n",
       "    <tr style=\"text-align: right;\">\n",
       "      <th></th>\n",
       "      <th>policy_desc</th>\n",
       "      <th>claim_count</th>\n",
       "      <th>num_vehicleAge</th>\n",
       "      <th>num_noClaimDiscountPercent</th>\n",
       "      <th>num_populationDensitykmsq</th>\n",
       "      <th>ord_vehicleHP</th>\n",
       "      <th>num_exposure</th>\n",
       "      <th>num_driverAge</th>\n",
       "      <th>missing_exposure</th>\n",
       "      <th>missing_driverAge</th>\n",
       "      <th>areacode_risk</th>\n",
       "      <th>carbrand_risk</th>\n",
       "      <th>region_risk</th>\n",
       "      <th>fueltype_risk</th>\n",
       "    </tr>\n",
       "  </thead>\n",
       "  <tbody>\n",
       "    <tr>\n",
       "      <th>300936</th>\n",
       "      <td>4119191</td>\n",
       "      <td>0</td>\n",
       "      <td>18</td>\n",
       "      <td>50</td>\n",
       "      <td>163</td>\n",
       "      <td>7</td>\n",
       "      <td>1.00</td>\n",
       "      <td>48</td>\n",
       "      <td>0</td>\n",
       "      <td>0</td>\n",
       "      <td>0.051464</td>\n",
       "      <td>0.052107</td>\n",
       "      <td>0.057310</td>\n",
       "      <td>0.056243</td>\n",
       "    </tr>\n",
       "    <tr>\n",
       "      <th>270735</th>\n",
       "      <td>2210392</td>\n",
       "      <td>0</td>\n",
       "      <td>11</td>\n",
       "      <td>50</td>\n",
       "      <td>44</td>\n",
       "      <td>8</td>\n",
       "      <td>0.96</td>\n",
       "      <td>45</td>\n",
       "      <td>0</td>\n",
       "      <td>0</td>\n",
       "      <td>0.048703</td>\n",
       "      <td>0.048455</td>\n",
       "      <td>0.057310</td>\n",
       "      <td>0.056243</td>\n",
       "    </tr>\n",
       "    <tr>\n",
       "      <th>571881</th>\n",
       "      <td>1020981</td>\n",
       "      <td>0</td>\n",
       "      <td>0</td>\n",
       "      <td>50</td>\n",
       "      <td>418</td>\n",
       "      <td>5</td>\n",
       "      <td>0.52</td>\n",
       "      <td>53</td>\n",
       "      <td>0</td>\n",
       "      <td>0</td>\n",
       "      <td>0.051464</td>\n",
       "      <td>0.053547</td>\n",
       "      <td>0.064147</td>\n",
       "      <td>0.050120</td>\n",
       "    </tr>\n",
       "    <tr>\n",
       "      <th>157227</th>\n",
       "      <td>2227773</td>\n",
       "      <td>0</td>\n",
       "      <td>7</td>\n",
       "      <td>72</td>\n",
       "      <td>3317</td>\n",
       "      <td>7</td>\n",
       "      <td>0.23</td>\n",
       "      <td>29</td>\n",
       "      <td>0</td>\n",
       "      <td>0</td>\n",
       "      <td>0.056901</td>\n",
       "      <td>0.051212</td>\n",
       "      <td>0.049259</td>\n",
       "      <td>0.056243</td>\n",
       "    </tr>\n",
       "    <tr>\n",
       "      <th>8304</th>\n",
       "      <td>4161666</td>\n",
       "      <td>0</td>\n",
       "      <td>18</td>\n",
       "      <td>50</td>\n",
       "      <td>156</td>\n",
       "      <td>9</td>\n",
       "      <td>0.49</td>\n",
       "      <td>36</td>\n",
       "      <td>0</td>\n",
       "      <td>0</td>\n",
       "      <td>0.051464</td>\n",
       "      <td>0.053360</td>\n",
       "      <td>0.059373</td>\n",
       "      <td>0.056243</td>\n",
       "    </tr>\n",
       "  </tbody>\n",
       "</table>\n",
       "</div>"
      ],
      "text/plain": [
       "        policy_desc  claim_count  num_vehicleAge  num_noClaimDiscountPercent  \\\n",
       "300936      4119191            0              18                          50   \n",
       "270735      2210392            0              11                          50   \n",
       "571881      1020981            0               0                          50   \n",
       "157227      2227773            0               7                          72   \n",
       "8304        4161666            0              18                          50   \n",
       "\n",
       "        num_populationDensitykmsq  ord_vehicleHP  num_exposure  num_driverAge  \\\n",
       "300936                        163              7          1.00             48   \n",
       "270735                         44              8          0.96             45   \n",
       "571881                        418              5          0.52             53   \n",
       "157227                       3317              7          0.23             29   \n",
       "8304                          156              9          0.49             36   \n",
       "\n",
       "        missing_exposure  missing_driverAge  areacode_risk  carbrand_risk  \\\n",
       "300936                 0                  0       0.051464       0.052107   \n",
       "270735                 0                  0       0.048703       0.048455   \n",
       "571881                 0                  0       0.051464       0.053547   \n",
       "157227                 0                  0       0.056901       0.051212   \n",
       "8304                   0                  0       0.051464       0.053360   \n",
       "\n",
       "        region_risk  fueltype_risk  \n",
       "300936     0.057310       0.056243  \n",
       "270735     0.057310       0.056243  \n",
       "571881     0.064147       0.050120  \n",
       "157227     0.049259       0.056243  \n",
       "8304       0.059373       0.056243  "
      ]
     },
     "execution_count": 85,
     "metadata": {},
     "output_type": "execute_result"
    }
   ],
   "source": [
    "train_set.head()"
   ]
  },
  {
   "cell_type": "code",
   "execution_count": 86,
   "metadata": {},
   "outputs": [
    {
     "data": {
      "text/html": [
       "<div>\n",
       "<style scoped>\n",
       "    .dataframe tbody tr th:only-of-type {\n",
       "        vertical-align: middle;\n",
       "    }\n",
       "\n",
       "    .dataframe tbody tr th {\n",
       "        vertical-align: top;\n",
       "    }\n",
       "\n",
       "    .dataframe thead th {\n",
       "        text-align: right;\n",
       "    }\n",
       "</style>\n",
       "<table border=\"1\" class=\"dataframe\">\n",
       "  <thead>\n",
       "    <tr style=\"text-align: right;\">\n",
       "      <th></th>\n",
       "      <th>policy_desc</th>\n",
       "      <th>claim_count</th>\n",
       "      <th>num_vehicleAge</th>\n",
       "      <th>num_noClaimDiscountPercent</th>\n",
       "      <th>num_populationDensitykmsq</th>\n",
       "      <th>ord_vehicleHP</th>\n",
       "      <th>num_exposure</th>\n",
       "      <th>num_driverAge</th>\n",
       "      <th>missing_exposure</th>\n",
       "      <th>missing_driverAge</th>\n",
       "      <th>areacode_risk</th>\n",
       "      <th>carbrand_risk</th>\n",
       "      <th>region_risk</th>\n",
       "      <th>fueltype_risk</th>\n",
       "    </tr>\n",
       "  </thead>\n",
       "  <tbody>\n",
       "    <tr>\n",
       "      <th>561307</th>\n",
       "      <td>4130008</td>\n",
       "      <td>0</td>\n",
       "      <td>13</td>\n",
       "      <td>64</td>\n",
       "      <td>52</td>\n",
       "      <td>6</td>\n",
       "      <td>1.00</td>\n",
       "      <td>47</td>\n",
       "      <td>0</td>\n",
       "      <td>0</td>\n",
       "      <td>0.050358</td>\n",
       "      <td>0.053319</td>\n",
       "      <td>0.064147</td>\n",
       "      <td>0.050120</td>\n",
       "    </tr>\n",
       "    <tr>\n",
       "      <th>216002</th>\n",
       "      <td>3092966</td>\n",
       "      <td>0</td>\n",
       "      <td>16</td>\n",
       "      <td>51</td>\n",
       "      <td>169</td>\n",
       "      <td>4</td>\n",
       "      <td>0.84</td>\n",
       "      <td>45</td>\n",
       "      <td>0</td>\n",
       "      <td>0</td>\n",
       "      <td>0.051464</td>\n",
       "      <td>0.053547</td>\n",
       "      <td>0.051870</td>\n",
       "      <td>0.056243</td>\n",
       "    </tr>\n",
       "    <tr>\n",
       "      <th>288291</th>\n",
       "      <td>4115355</td>\n",
       "      <td>0</td>\n",
       "      <td>10</td>\n",
       "      <td>50</td>\n",
       "      <td>155</td>\n",
       "      <td>7</td>\n",
       "      <td>1.00</td>\n",
       "      <td>50</td>\n",
       "      <td>0</td>\n",
       "      <td>0</td>\n",
       "      <td>0.051464</td>\n",
       "      <td>0.053319</td>\n",
       "      <td>0.057310</td>\n",
       "      <td>0.056243</td>\n",
       "    </tr>\n",
       "    <tr>\n",
       "      <th>302396</th>\n",
       "      <td>3046407</td>\n",
       "      <td>0</td>\n",
       "      <td>7</td>\n",
       "      <td>50</td>\n",
       "      <td>1064</td>\n",
       "      <td>5</td>\n",
       "      <td>1.00</td>\n",
       "      <td>61</td>\n",
       "      <td>0</td>\n",
       "      <td>0</td>\n",
       "      <td>0.055595</td>\n",
       "      <td>0.052776</td>\n",
       "      <td>0.057310</td>\n",
       "      <td>0.056243</td>\n",
       "    </tr>\n",
       "    <tr>\n",
       "      <th>369566</th>\n",
       "      <td>3135314</td>\n",
       "      <td>0</td>\n",
       "      <td>1</td>\n",
       "      <td>50</td>\n",
       "      <td>398</td>\n",
       "      <td>11</td>\n",
       "      <td>1.00</td>\n",
       "      <td>37</td>\n",
       "      <td>0</td>\n",
       "      <td>0</td>\n",
       "      <td>0.051464</td>\n",
       "      <td>0.052776</td>\n",
       "      <td>0.059373</td>\n",
       "      <td>0.050120</td>\n",
       "    </tr>\n",
       "  </tbody>\n",
       "</table>\n",
       "</div>"
      ],
      "text/plain": [
       "        policy_desc  claim_count  num_vehicleAge  num_noClaimDiscountPercent  \\\n",
       "561307      4130008            0              13                          64   \n",
       "216002      3092966            0              16                          51   \n",
       "288291      4115355            0              10                          50   \n",
       "302396      3046407            0               7                          50   \n",
       "369566      3135314            0               1                          50   \n",
       "\n",
       "        num_populationDensitykmsq  ord_vehicleHP  num_exposure  num_driverAge  \\\n",
       "561307                         52              6          1.00             47   \n",
       "216002                        169              4          0.84             45   \n",
       "288291                        155              7          1.00             50   \n",
       "302396                       1064              5          1.00             61   \n",
       "369566                        398             11          1.00             37   \n",
       "\n",
       "        missing_exposure  missing_driverAge  areacode_risk  carbrand_risk  \\\n",
       "561307                 0                  0       0.050358       0.053319   \n",
       "216002                 0                  0       0.051464       0.053547   \n",
       "288291                 0                  0       0.051464       0.053319   \n",
       "302396                 0                  0       0.055595       0.052776   \n",
       "369566                 0                  0       0.051464       0.052776   \n",
       "\n",
       "        region_risk  fueltype_risk  \n",
       "561307     0.064147       0.050120  \n",
       "216002     0.051870       0.056243  \n",
       "288291     0.057310       0.056243  \n",
       "302396     0.057310       0.056243  \n",
       "369566     0.059373       0.050120  "
      ]
     },
     "execution_count": 86,
     "metadata": {},
     "output_type": "execute_result"
    }
   ],
   "source": [
    "test_set.head()"
   ]
  },
  {
   "cell_type": "code",
   "execution_count": 87,
   "metadata": {},
   "outputs": [],
   "source": [
    "train_labels = train_set[['claim_count']]"
   ]
  },
  {
   "cell_type": "code",
   "execution_count": 88,
   "metadata": {},
   "outputs": [],
   "source": [
    "test_labels = test_set[['claim_count']]"
   ]
  },
  {
   "cell_type": "code",
   "execution_count": 89,
   "metadata": {},
   "outputs": [],
   "source": [
    "train_features = train_set.drop(['claim_count','policy_desc'], axis=1)"
   ]
  },
  {
   "cell_type": "code",
   "execution_count": 90,
   "metadata": {},
   "outputs": [],
   "source": [
    "test_features = test_set.drop(['claim_count','policy_desc'], axis=1)"
   ]
  },
  {
   "cell_type": "code",
   "execution_count": 91,
   "metadata": {},
   "outputs": [
    {
     "data": {
      "text/html": [
       "<div>\n",
       "<style scoped>\n",
       "    .dataframe tbody tr th:only-of-type {\n",
       "        vertical-align: middle;\n",
       "    }\n",
       "\n",
       "    .dataframe tbody tr th {\n",
       "        vertical-align: top;\n",
       "    }\n",
       "\n",
       "    .dataframe thead th {\n",
       "        text-align: right;\n",
       "    }\n",
       "</style>\n",
       "<table border=\"1\" class=\"dataframe\">\n",
       "  <thead>\n",
       "    <tr style=\"text-align: right;\">\n",
       "      <th></th>\n",
       "      <th>num_vehicleAge</th>\n",
       "      <th>num_noClaimDiscountPercent</th>\n",
       "      <th>num_populationDensitykmsq</th>\n",
       "      <th>ord_vehicleHP</th>\n",
       "      <th>num_exposure</th>\n",
       "      <th>num_driverAge</th>\n",
       "      <th>missing_exposure</th>\n",
       "      <th>missing_driverAge</th>\n",
       "      <th>areacode_risk</th>\n",
       "      <th>carbrand_risk</th>\n",
       "      <th>region_risk</th>\n",
       "      <th>fueltype_risk</th>\n",
       "    </tr>\n",
       "  </thead>\n",
       "  <tbody>\n",
       "    <tr>\n",
       "      <th>300936</th>\n",
       "      <td>18</td>\n",
       "      <td>50</td>\n",
       "      <td>163</td>\n",
       "      <td>7</td>\n",
       "      <td>1.00</td>\n",
       "      <td>48</td>\n",
       "      <td>0</td>\n",
       "      <td>0</td>\n",
       "      <td>0.051464</td>\n",
       "      <td>0.052107</td>\n",
       "      <td>0.057310</td>\n",
       "      <td>0.056243</td>\n",
       "    </tr>\n",
       "    <tr>\n",
       "      <th>270735</th>\n",
       "      <td>11</td>\n",
       "      <td>50</td>\n",
       "      <td>44</td>\n",
       "      <td>8</td>\n",
       "      <td>0.96</td>\n",
       "      <td>45</td>\n",
       "      <td>0</td>\n",
       "      <td>0</td>\n",
       "      <td>0.048703</td>\n",
       "      <td>0.048455</td>\n",
       "      <td>0.057310</td>\n",
       "      <td>0.056243</td>\n",
       "    </tr>\n",
       "    <tr>\n",
       "      <th>571881</th>\n",
       "      <td>0</td>\n",
       "      <td>50</td>\n",
       "      <td>418</td>\n",
       "      <td>5</td>\n",
       "      <td>0.52</td>\n",
       "      <td>53</td>\n",
       "      <td>0</td>\n",
       "      <td>0</td>\n",
       "      <td>0.051464</td>\n",
       "      <td>0.053547</td>\n",
       "      <td>0.064147</td>\n",
       "      <td>0.050120</td>\n",
       "    </tr>\n",
       "    <tr>\n",
       "      <th>157227</th>\n",
       "      <td>7</td>\n",
       "      <td>72</td>\n",
       "      <td>3317</td>\n",
       "      <td>7</td>\n",
       "      <td>0.23</td>\n",
       "      <td>29</td>\n",
       "      <td>0</td>\n",
       "      <td>0</td>\n",
       "      <td>0.056901</td>\n",
       "      <td>0.051212</td>\n",
       "      <td>0.049259</td>\n",
       "      <td>0.056243</td>\n",
       "    </tr>\n",
       "    <tr>\n",
       "      <th>8304</th>\n",
       "      <td>18</td>\n",
       "      <td>50</td>\n",
       "      <td>156</td>\n",
       "      <td>9</td>\n",
       "      <td>0.49</td>\n",
       "      <td>36</td>\n",
       "      <td>0</td>\n",
       "      <td>0</td>\n",
       "      <td>0.051464</td>\n",
       "      <td>0.053360</td>\n",
       "      <td>0.059373</td>\n",
       "      <td>0.056243</td>\n",
       "    </tr>\n",
       "  </tbody>\n",
       "</table>\n",
       "</div>"
      ],
      "text/plain": [
       "        num_vehicleAge  num_noClaimDiscountPercent  num_populationDensitykmsq  \\\n",
       "300936              18                          50                        163   \n",
       "270735              11                          50                         44   \n",
       "571881               0                          50                        418   \n",
       "157227               7                          72                       3317   \n",
       "8304                18                          50                        156   \n",
       "\n",
       "        ord_vehicleHP  num_exposure  num_driverAge  missing_exposure  \\\n",
       "300936              7          1.00             48                 0   \n",
       "270735              8          0.96             45                 0   \n",
       "571881              5          0.52             53                 0   \n",
       "157227              7          0.23             29                 0   \n",
       "8304                9          0.49             36                 0   \n",
       "\n",
       "        missing_driverAge  areacode_risk  carbrand_risk  region_risk  \\\n",
       "300936                  0       0.051464       0.052107     0.057310   \n",
       "270735                  0       0.048703       0.048455     0.057310   \n",
       "571881                  0       0.051464       0.053547     0.064147   \n",
       "157227                  0       0.056901       0.051212     0.049259   \n",
       "8304                    0       0.051464       0.053360     0.059373   \n",
       "\n",
       "        fueltype_risk  \n",
       "300936       0.056243  \n",
       "270735       0.056243  \n",
       "571881       0.050120  \n",
       "157227       0.056243  \n",
       "8304         0.056243  "
      ]
     },
     "execution_count": 91,
     "metadata": {},
     "output_type": "execute_result"
    }
   ],
   "source": [
    "train_features.head()"
   ]
  },
  {
   "cell_type": "code",
   "execution_count": 92,
   "metadata": {},
   "outputs": [
    {
     "data": {
      "text/html": [
       "<div>\n",
       "<style scoped>\n",
       "    .dataframe tbody tr th:only-of-type {\n",
       "        vertical-align: middle;\n",
       "    }\n",
       "\n",
       "    .dataframe tbody tr th {\n",
       "        vertical-align: top;\n",
       "    }\n",
       "\n",
       "    .dataframe thead th {\n",
       "        text-align: right;\n",
       "    }\n",
       "</style>\n",
       "<table border=\"1\" class=\"dataframe\">\n",
       "  <thead>\n",
       "    <tr style=\"text-align: right;\">\n",
       "      <th></th>\n",
       "      <th>num_vehicleAge</th>\n",
       "      <th>num_noClaimDiscountPercent</th>\n",
       "      <th>num_populationDensitykmsq</th>\n",
       "      <th>ord_vehicleHP</th>\n",
       "      <th>num_exposure</th>\n",
       "      <th>num_driverAge</th>\n",
       "      <th>missing_exposure</th>\n",
       "      <th>missing_driverAge</th>\n",
       "      <th>areacode_risk</th>\n",
       "      <th>carbrand_risk</th>\n",
       "      <th>region_risk</th>\n",
       "      <th>fueltype_risk</th>\n",
       "    </tr>\n",
       "  </thead>\n",
       "  <tbody>\n",
       "    <tr>\n",
       "      <th>561307</th>\n",
       "      <td>13</td>\n",
       "      <td>64</td>\n",
       "      <td>52</td>\n",
       "      <td>6</td>\n",
       "      <td>1.00</td>\n",
       "      <td>47</td>\n",
       "      <td>0</td>\n",
       "      <td>0</td>\n",
       "      <td>0.050358</td>\n",
       "      <td>0.053319</td>\n",
       "      <td>0.064147</td>\n",
       "      <td>0.050120</td>\n",
       "    </tr>\n",
       "    <tr>\n",
       "      <th>216002</th>\n",
       "      <td>16</td>\n",
       "      <td>51</td>\n",
       "      <td>169</td>\n",
       "      <td>4</td>\n",
       "      <td>0.84</td>\n",
       "      <td>45</td>\n",
       "      <td>0</td>\n",
       "      <td>0</td>\n",
       "      <td>0.051464</td>\n",
       "      <td>0.053547</td>\n",
       "      <td>0.051870</td>\n",
       "      <td>0.056243</td>\n",
       "    </tr>\n",
       "    <tr>\n",
       "      <th>288291</th>\n",
       "      <td>10</td>\n",
       "      <td>50</td>\n",
       "      <td>155</td>\n",
       "      <td>7</td>\n",
       "      <td>1.00</td>\n",
       "      <td>50</td>\n",
       "      <td>0</td>\n",
       "      <td>0</td>\n",
       "      <td>0.051464</td>\n",
       "      <td>0.053319</td>\n",
       "      <td>0.057310</td>\n",
       "      <td>0.056243</td>\n",
       "    </tr>\n",
       "    <tr>\n",
       "      <th>302396</th>\n",
       "      <td>7</td>\n",
       "      <td>50</td>\n",
       "      <td>1064</td>\n",
       "      <td>5</td>\n",
       "      <td>1.00</td>\n",
       "      <td>61</td>\n",
       "      <td>0</td>\n",
       "      <td>0</td>\n",
       "      <td>0.055595</td>\n",
       "      <td>0.052776</td>\n",
       "      <td>0.057310</td>\n",
       "      <td>0.056243</td>\n",
       "    </tr>\n",
       "    <tr>\n",
       "      <th>369566</th>\n",
       "      <td>1</td>\n",
       "      <td>50</td>\n",
       "      <td>398</td>\n",
       "      <td>11</td>\n",
       "      <td>1.00</td>\n",
       "      <td>37</td>\n",
       "      <td>0</td>\n",
       "      <td>0</td>\n",
       "      <td>0.051464</td>\n",
       "      <td>0.052776</td>\n",
       "      <td>0.059373</td>\n",
       "      <td>0.050120</td>\n",
       "    </tr>\n",
       "  </tbody>\n",
       "</table>\n",
       "</div>"
      ],
      "text/plain": [
       "        num_vehicleAge  num_noClaimDiscountPercent  num_populationDensitykmsq  \\\n",
       "561307              13                          64                         52   \n",
       "216002              16                          51                        169   \n",
       "288291              10                          50                        155   \n",
       "302396               7                          50                       1064   \n",
       "369566               1                          50                        398   \n",
       "\n",
       "        ord_vehicleHP  num_exposure  num_driverAge  missing_exposure  \\\n",
       "561307              6          1.00             47                 0   \n",
       "216002              4          0.84             45                 0   \n",
       "288291              7          1.00             50                 0   \n",
       "302396              5          1.00             61                 0   \n",
       "369566             11          1.00             37                 0   \n",
       "\n",
       "        missing_driverAge  areacode_risk  carbrand_risk  region_risk  \\\n",
       "561307                  0       0.050358       0.053319     0.064147   \n",
       "216002                  0       0.051464       0.053547     0.051870   \n",
       "288291                  0       0.051464       0.053319     0.057310   \n",
       "302396                  0       0.055595       0.052776     0.057310   \n",
       "369566                  0       0.051464       0.052776     0.059373   \n",
       "\n",
       "        fueltype_risk  \n",
       "561307       0.050120  \n",
       "216002       0.056243  \n",
       "288291       0.056243  \n",
       "302396       0.056243  \n",
       "369566       0.050120  "
      ]
     },
     "execution_count": 92,
     "metadata": {},
     "output_type": "execute_result"
    }
   ],
   "source": [
    "test_features.head()"
   ]
  },
  {
   "cell_type": "markdown",
   "metadata": {},
   "source": [
    "# Ensemble Voting Regression using Random Forest and Gradient Boosting"
   ]
  },
  {
   "cell_type": "code",
   "execution_count": 93,
   "metadata": {},
   "outputs": [],
   "source": [
    "gb = GradientBoostingRegressor(random_state=1, n_estimators=700, max_depth=5, min_samples_leaf=3, subsample=0.5)\n",
    "rf = RandomForestRegressor(random_state=4, n_estimators=700, max_depth=5, min_samples_leaf=3)"
   ]
  },
  {
   "cell_type": "code",
   "execution_count": 94,
   "metadata": {},
   "outputs": [
    {
     "data": {
      "text/plain": [
       "GradientBoostingRegressor(alpha=0.9, criterion='friedman_mse', init=None,\n",
       "                          learning_rate=0.1, loss='ls', max_depth=5,\n",
       "                          max_features=None, max_leaf_nodes=None,\n",
       "                          min_impurity_decrease=0.0, min_impurity_split=None,\n",
       "                          min_samples_leaf=3, min_samples_split=2,\n",
       "                          min_weight_fraction_leaf=0.0, n_estimators=700,\n",
       "                          n_iter_no_change=None, presort='auto', random_state=1,\n",
       "                          subsample=0.5, tol=0.0001, validation_fraction=0.1,\n",
       "                          verbose=0, warm_start=False)"
      ]
     },
     "execution_count": 94,
     "metadata": {},
     "output_type": "execute_result"
    }
   ],
   "source": [
    "gb.fit (train_features, np.ravel(train_labels))"
   ]
  },
  {
   "cell_type": "code",
   "execution_count": 95,
   "metadata": {},
   "outputs": [
    {
     "data": {
      "text/plain": [
       "RandomForestRegressor(bootstrap=True, criterion='mse', max_depth=5,\n",
       "                      max_features='auto', max_leaf_nodes=None,\n",
       "                      min_impurity_decrease=0.0, min_impurity_split=None,\n",
       "                      min_samples_leaf=3, min_samples_split=2,\n",
       "                      min_weight_fraction_leaf=0.0, n_estimators=700,\n",
       "                      n_jobs=None, oob_score=False, random_state=4, verbose=0,\n",
       "                      warm_start=False)"
      ]
     },
     "execution_count": 95,
     "metadata": {},
     "output_type": "execute_result"
    }
   ],
   "source": [
    "rf.fit (train_features, np.ravel(train_labels))"
   ]
  },
  {
   "cell_type": "code",
   "execution_count": 96,
   "metadata": {},
   "outputs": [],
   "source": [
    "voting = VotingRegressor(estimators=[('gb', gb), ('rf', rf)])"
   ]
  },
  {
   "cell_type": "code",
   "execution_count": 97,
   "metadata": {},
   "outputs": [],
   "source": [
    "gb_test_predictions = gb.predict(test_features)"
   ]
  },
  {
   "cell_type": "code",
   "execution_count": 98,
   "metadata": {},
   "outputs": [],
   "source": [
    "gb_test_score = gb.score (test_features, test_labels)"
   ]
  },
  {
   "cell_type": "code",
   "execution_count": 99,
   "metadata": {},
   "outputs": [
    {
     "name": "stdout",
     "output_type": "stream",
     "text": [
      "0.0233675020541384\n"
     ]
    }
   ],
   "source": [
    "print (gb_test_score)"
   ]
  },
  {
   "cell_type": "code",
   "execution_count": 100,
   "metadata": {},
   "outputs": [],
   "source": [
    "rf_test_predictions = rf.predict(test_features)"
   ]
  },
  {
   "cell_type": "code",
   "execution_count": 101,
   "metadata": {},
   "outputs": [],
   "source": [
    "rf_test_score = rf.score (test_features, test_labels)"
   ]
  },
  {
   "cell_type": "code",
   "execution_count": 102,
   "metadata": {},
   "outputs": [
    {
     "name": "stdout",
     "output_type": "stream",
     "text": [
      "0.027494775356115667\n"
     ]
    }
   ],
   "source": [
    "print (rf_test_score)"
   ]
  },
  {
   "cell_type": "code",
   "execution_count": 103,
   "metadata": {},
   "outputs": [
    {
     "data": {
      "text/plain": [
       "VotingRegressor(estimators=[('gb',\n",
       "                             GradientBoostingRegressor(alpha=0.9,\n",
       "                                                       criterion='friedman_mse',\n",
       "                                                       init=None,\n",
       "                                                       learning_rate=0.1,\n",
       "                                                       loss='ls', max_depth=5,\n",
       "                                                       max_features=None,\n",
       "                                                       max_leaf_nodes=None,\n",
       "                                                       min_impurity_decrease=0.0,\n",
       "                                                       min_impurity_split=None,\n",
       "                                                       min_samples_leaf=3,\n",
       "                                                       min_samples_split=2,\n",
       "                                                       min_weight_fraction_leaf=0.0,\n",
       "                                                       n_estimators=700,\n",
       "                                                       n_iter_no_change=None,\n",
       "                                                       presort='a...\n",
       "                                                       warm_start=False)),\n",
       "                            ('rf',\n",
       "                             RandomForestRegressor(bootstrap=True,\n",
       "                                                   criterion='mse', max_depth=5,\n",
       "                                                   max_features='auto',\n",
       "                                                   max_leaf_nodes=None,\n",
       "                                                   min_impurity_decrease=0.0,\n",
       "                                                   min_impurity_split=None,\n",
       "                                                   min_samples_leaf=3,\n",
       "                                                   min_samples_split=2,\n",
       "                                                   min_weight_fraction_leaf=0.0,\n",
       "                                                   n_estimators=700,\n",
       "                                                   n_jobs=None, oob_score=False,\n",
       "                                                   random_state=4, verbose=0,\n",
       "                                                   warm_start=False))],\n",
       "                n_jobs=None, weights=None)"
      ]
     },
     "execution_count": 103,
     "metadata": {},
     "output_type": "execute_result"
    }
   ],
   "source": [
    "voting.fit (train_features, np.ravel(train_labels))"
   ]
  },
  {
   "cell_type": "code",
   "execution_count": 104,
   "metadata": {},
   "outputs": [],
   "source": [
    "test_predictions = voting.predict(test_features)"
   ]
  },
  {
   "cell_type": "markdown",
   "metadata": {},
   "source": [
    "# Validation of Predictions (compare metrics with a baseline prediction)"
   ]
  },
  {
   "cell_type": "code",
   "execution_count": 105,
   "metadata": {},
   "outputs": [],
   "source": [
    "test_score = voting.score (test_features, test_labels)"
   ]
  },
  {
   "cell_type": "code",
   "execution_count": 106,
   "metadata": {},
   "outputs": [
    {
     "name": "stdout",
     "output_type": "stream",
     "text": [
      "0.033753116222790314\n"
     ]
    }
   ],
   "source": [
    "print (test_score)"
   ]
  },
  {
   "cell_type": "code",
   "execution_count": 107,
   "metadata": {},
   "outputs": [],
   "source": [
    "dummy = DummyRegressor(strategy=\"median\") # baseline non-prediction is to use the median value of claim count"
   ]
  },
  {
   "cell_type": "code",
   "execution_count": 108,
   "metadata": {},
   "outputs": [
    {
     "data": {
      "text/plain": [
       "DummyRegressor(constant=None, quantile=None, strategy='median')"
      ]
     },
     "execution_count": 108,
     "metadata": {},
     "output_type": "execute_result"
    }
   ],
   "source": [
    "dummy.fit (train_features, np.ravel(train_labels))"
   ]
  },
  {
   "cell_type": "code",
   "execution_count": 109,
   "metadata": {},
   "outputs": [],
   "source": [
    "dummy_predictions = dummy.predict(test_features)"
   ]
  },
  {
   "cell_type": "code",
   "execution_count": 110,
   "metadata": {},
   "outputs": [],
   "source": [
    "model_explained_variance = explained_variance_score (test_labels, test_predictions)"
   ]
  },
  {
   "cell_type": "code",
   "execution_count": 111,
   "metadata": {},
   "outputs": [
    {
     "name": "stdout",
     "output_type": "stream",
     "text": [
      "0.0337559150180593\n"
     ]
    }
   ],
   "source": [
    "print (model_explained_variance)"
   ]
  },
  {
   "cell_type": "code",
   "execution_count": 112,
   "metadata": {},
   "outputs": [
    {
     "name": "stdout",
     "output_type": "stream",
     "text": [
      "0.023374493764813375\n"
     ]
    }
   ],
   "source": [
    "print (explained_variance_score (test_labels, gb_test_predictions))"
   ]
  },
  {
   "cell_type": "code",
   "execution_count": 113,
   "metadata": {},
   "outputs": [
    {
     "name": "stdout",
     "output_type": "stream",
     "text": [
      "0.027495267789181654\n"
     ]
    }
   ],
   "source": [
    "print (explained_variance_score (test_labels, rf_test_predictions))"
   ]
  },
  {
   "cell_type": "code",
   "execution_count": 114,
   "metadata": {},
   "outputs": [],
   "source": [
    "baseline_explained_variance = explained_variance_score (test_labels, dummy_predictions)"
   ]
  },
  {
   "cell_type": "code",
   "execution_count": 115,
   "metadata": {},
   "outputs": [
    {
     "name": "stdout",
     "output_type": "stream",
     "text": [
      "0.0\n"
     ]
    }
   ],
   "source": [
    "print (baseline_explained_variance)"
   ]
  },
  {
   "cell_type": "code",
   "execution_count": 116,
   "metadata": {},
   "outputs": [],
   "source": [
    "explained_variance_improvement = model_explained_variance - baseline_explained_variance"
   ]
  },
  {
   "cell_type": "code",
   "execution_count": 117,
   "metadata": {},
   "outputs": [
    {
     "name": "stdout",
     "output_type": "stream",
     "text": [
      "0.0337559150180593\n"
     ]
    }
   ],
   "source": [
    "print (explained_variance_improvement)"
   ]
  },
  {
   "cell_type": "code",
   "execution_count": 119,
   "metadata": {},
   "outputs": [],
   "source": [
    "model_score = r2_score (test_labels, test_predictions)"
   ]
  },
  {
   "cell_type": "code",
   "execution_count": 120,
   "metadata": {},
   "outputs": [
    {
     "name": "stdout",
     "output_type": "stream",
     "text": [
      "0.033753116222790314\n"
     ]
    }
   ],
   "source": [
    "print (model_score)"
   ]
  },
  {
   "cell_type": "code",
   "execution_count": 121,
   "metadata": {},
   "outputs": [
    {
     "name": "stdout",
     "output_type": "stream",
     "text": [
      "0.0233675020541384\n"
     ]
    }
   ],
   "source": [
    "print (r2_score (test_labels, gb_test_predictions))"
   ]
  },
  {
   "cell_type": "code",
   "execution_count": 122,
   "metadata": {},
   "outputs": [
    {
     "name": "stdout",
     "output_type": "stream",
     "text": [
      "0.027494775356115664\n"
     ]
    }
   ],
   "source": [
    "print (r2_score (test_labels, rf_test_predictions))"
   ]
  },
  {
   "cell_type": "code",
   "execution_count": 123,
   "metadata": {},
   "outputs": [],
   "source": [
    "baseline_score = r2_score (test_labels, dummy_predictions)"
   ]
  },
  {
   "cell_type": "code",
   "execution_count": 124,
   "metadata": {},
   "outputs": [
    {
     "name": "stdout",
     "output_type": "stream",
     "text": [
      "-0.04923768791659522\n"
     ]
    }
   ],
   "source": [
    "print (baseline_score)"
   ]
  },
  {
   "cell_type": "code",
   "execution_count": 125,
   "metadata": {},
   "outputs": [],
   "source": [
    "score_improvement = model_score - baseline_score"
   ]
  },
  {
   "cell_type": "code",
   "execution_count": 126,
   "metadata": {},
   "outputs": [
    {
     "name": "stdout",
     "output_type": "stream",
     "text": [
      "0.08299080413938553\n"
     ]
    }
   ],
   "source": [
    "print (score_improvement)"
   ]
  }
 ],
 "metadata": {
  "celltoolbar": "Slideshow",
  "kernelspec": {
   "display_name": "Python 3",
   "language": "python",
   "name": "python3"
  },
  "language_info": {
   "codemirror_mode": {
    "name": "ipython",
    "version": 3
   },
   "file_extension": ".py",
   "mimetype": "text/x-python",
   "name": "python",
   "nbconvert_exporter": "python",
   "pygments_lexer": "ipython3",
   "version": "3.7.1"
  }
 },
 "nbformat": 4,
 "nbformat_minor": 2
}
