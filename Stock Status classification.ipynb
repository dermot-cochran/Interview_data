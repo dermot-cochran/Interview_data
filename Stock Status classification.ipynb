{
 "cells": [
  {
   "cell_type": "code",
   "execution_count": 1,
   "metadata": {},
   "outputs": [],
   "source": [
    "import datetime\n",
    "import numpy as np\n",
    "import pandas as pd\n",
    "import json"
   ]
  },
  {
   "cell_type": "code",
   "execution_count": 2,
   "metadata": {},
   "outputs": [],
   "source": [
    "with open (\"product-sales.json\", 'r') as json_product_data:\n",
    "    product_sales = json.load (json_product_data)"
   ]
  },
  {
   "cell_type": "code",
   "execution_count": 3,
   "metadata": {},
   "outputs": [],
   "source": [
    "with open (\"shop-sales.json\", 'r') as json_sales_data:\n",
    "    shop_sales = json.load (json_sales_data)"
   ]
  },
  {
   "cell_type": "code",
   "execution_count": 4,
   "metadata": {},
   "outputs": [],
   "source": [
    "shop_sales_key = {(shop_key, date_key): values\n",
    "              for shop_key, shop_dict in shop_sales.items()\n",
    "              for date_key, values in shop_dict.items()}"
   ]
  },
  {
   "cell_type": "code",
   "execution_count": 5,
   "metadata": {},
   "outputs": [],
   "source": [
    "shop_sales_table = pd.DataFrame.from_dict(shop_sales_key, orient=\"index\")"
   ]
  },
  {
   "cell_type": "code",
   "execution_count": 6,
   "metadata": {},
   "outputs": [],
   "source": [
    "shop_sales_table['Shop'] = shop_sales_table.index.map (lambda list: list[0])\n",
    "shop_sales_table['Date'] = shop_sales_table.index.map (lambda list: list[1])"
   ]
  },
  {
   "cell_type": "code",
   "execution_count": 7,
   "metadata": {},
   "outputs": [],
   "source": [
    "shop_sales_table.rename(columns = {list(shop_sales_table)[0]: 'Total'}, inplace = True)"
   ]
  },
  {
   "cell_type": "code",
   "execution_count": 8,
   "metadata": {},
   "outputs": [],
   "source": [
    "product_sales_key = {(shop_key, product_key, date_key): values\n",
    "              for shop_key, shop_dict in product_sales.items()\n",
    "              for product_key, product_dict in shop_dict.items()\n",
    "              for date_key, values in product_dict.items()}"
   ]
  },
  {
   "cell_type": "code",
   "execution_count": 9,
   "metadata": {},
   "outputs": [],
   "source": [
    "product_sales_table = pd.DataFrame.from_dict (product_sales_key, orient=\"index\")"
   ]
  },
  {
   "cell_type": "code",
   "execution_count": 10,
   "metadata": {},
   "outputs": [],
   "source": [
    "product_sales_table.rename(columns = {list(product_sales_table)[0]: 'Sales'}, inplace = True)"
   ]
  },
  {
   "cell_type": "code",
   "execution_count": 11,
   "metadata": {},
   "outputs": [],
   "source": [
    "product_sales_table['Shop'] = product_sales_table.index.map (lambda list: list[0])\n",
    "product_sales_table['Product'] = product_sales_table.index.map (lambda list: list[1])\n",
    "product_sales_table['Date'] = product_sales_table.index.map (lambda list: list[2])"
   ]
  },
  {
   "cell_type": "code",
   "execution_count": 12,
   "metadata": {},
   "outputs": [],
   "source": [
    "sales = pd.merge_ordered(product_sales_table, shop_sales_table, on=('Shop','Date')).fillna(0)"
   ]
  },
  {
   "cell_type": "code",
   "execution_count": 13,
   "metadata": {},
   "outputs": [],
   "source": [
    "sales['datetime'] = sales['Date'].map (lambda t: datetime.datetime.strptime(t,'%Y-%m-%d'))\n",
    "start_datetime = sales['datetime'].min()\n",
    "end_datetime = sales['datetime'].max()"
   ]
  },
  {
   "cell_type": "code",
   "execution_count": 14,
   "metadata": {},
   "outputs": [],
   "source": [
    "def recency (t):\n",
    "    return (end_datetime - datetime.datetime.strptime(t,'%Y-%m-%d')).days\n",
    "sales['Recency'] = sales['Date'].map(recency)"
   ]
  },
  {
   "cell_type": "code",
   "execution_count": 15,
   "metadata": {},
   "outputs": [],
   "source": [
    "# Add zero counts for missing data\n",
    "sales.set_index('datetime', inplace=True)\n",
    "timeseries = sales.groupby(['Shop','Product'])['Sales','Total','Recency'].resample('D').sum()"
   ]
  },
  {
   "cell_type": "markdown",
   "metadata": {},
   "source": [
    "# Approach: neither a clustering problem nor a supervised classification\n",
    "\n",
    "If the product sales count in any shop, is less than a given threshold on the day, then classify as \"out of stock\". The threshold is calculated using a one-sided 70% confidence interval (mean - 1.04 * st.dev.), assuming a 'normal' Gaussian distribution and independence of temporal events (yesterday's sale count does not directly influence today's sale count).\n",
    "\n",
    "If no sales count for last 90 days, then instead classify as \"discontinued\".\n",
    "\n",
    "If less than 30 historical sales for any product in shop, instead classify as \"unknown\" i.e. limited stock.\n",
    "\n",
    "If no sales data from shop on the day, then assume a data outage and also classify as \"unknown\" (limited stock).\n",
    "\n",
    "Classify as \"in stock\" if neither \"out of stock\", nor \"discontinued\", nor \"unknown\""
   ]
  },
  {
   "cell_type": "code",
   "execution_count": 16,
   "metadata": {},
   "outputs": [],
   "source": [
    "analysis = timeseries.groupby(['Shop','Product']).agg({'Sales':['mean','std']}).fillna(0)"
   ]
  },
  {
   "cell_type": "code",
   "execution_count": 17,
   "metadata": {},
   "outputs": [],
   "source": [
    "# Calculate 70% confidence interval, one-sided (z=1.04)\n",
    "analysis['Threshold'] = analysis['Sales']['mean'] - 1.04 * analysis['Sales']['std']"
   ]
  },
  {
   "cell_type": "code",
   "execution_count": 18,
   "metadata": {},
   "outputs": [],
   "source": [
    "recent_sales = sales.groupby(['Shop','Product']).agg({'Sales':['last','count'],\n",
    "                                                      'Total':['last'],\n",
    "                                                      'Recency':['min']}).fillna(0)"
   ]
  },
  {
   "cell_type": "code",
   "execution_count": 19,
   "metadata": {},
   "outputs": [],
   "source": [
    "predictions = pd.merge (analysis, recent_sales, on=['Shop','Product'])"
   ]
  },
  {
   "cell_type": "code",
   "execution_count": 20,
   "metadata": {},
   "outputs": [],
   "source": [
    "predictions['StockOut'] = np.where (predictions['Sales']['last'] < predictions['Threshold'],1,0)"
   ]
  },
  {
   "cell_type": "code",
   "execution_count": 21,
   "metadata": {},
   "outputs": [],
   "source": [
    "predictions['Discontinued'] = np.where (predictions['Recency']['min'] > 90, 2, 0)"
   ]
  },
  {
   "cell_type": "code",
   "execution_count": 22,
   "metadata": {},
   "outputs": [],
   "source": [
    "predictions['Unknown'] = np.where (predictions['Sales']['count'] < 30, 3, 0)"
   ]
  },
  {
   "cell_type": "code",
   "execution_count": 23,
   "metadata": {},
   "outputs": [],
   "source": [
    "predictions['DataOutage'] = np.where (predictions['Total']['last'] == 0, 3, 0)"
   ]
  },
  {
   "cell_type": "code",
   "execution_count": 24,
   "metadata": {},
   "outputs": [],
   "source": [
    "# Classify as \"in stock\" if neither \"out of stock\", nor \"discontinued\", nor \"unknown\"\n",
    "predictions['Label'] = predictions[['StockOut','Discontinued','Unknown','DataOutage']].max(axis=1)\n",
    "predictions['Stock status'] = np.choose(predictions['Label'],[\"In stock\",\"Out of stock\", \"Discontinued\", \"Unknown\"])"
   ]
  },
  {
   "cell_type": "code",
   "execution_count": 25,
   "metadata": {},
   "outputs": [],
   "source": [
    "output = predictions['Stock status'].unstack('Shop').fillna(\"Unknown\")"
   ]
  },
  {
   "cell_type": "code",
   "execution_count": 26,
   "metadata": {},
   "outputs": [],
   "source": [
    "output_dict = output.to_dict()"
   ]
  },
  {
   "cell_type": "code",
   "execution_count": 27,
   "metadata": {},
   "outputs": [],
   "source": [
    "with open('output.json', 'w') as f:\n",
    "    json.dump(output_dict, f)"
   ]
  },
  {
   "cell_type": "code",
   "execution_count": 28,
   "metadata": {},
   "outputs": [],
   "source": [
    "# The End."
   ]
  }
 ],
 "metadata": {
  "kernelspec": {
   "display_name": "Python 3",
   "language": "python",
   "name": "python3"
  },
  "language_info": {
   "codemirror_mode": {
    "name": "ipython",
    "version": 3
   },
   "file_extension": ".py",
   "mimetype": "text/x-python",
   "name": "python",
   "nbconvert_exporter": "python",
   "pygments_lexer": "ipython3",
   "version": "3.7.1"
  }
 },
 "nbformat": 4,
 "nbformat_minor": 2
}
