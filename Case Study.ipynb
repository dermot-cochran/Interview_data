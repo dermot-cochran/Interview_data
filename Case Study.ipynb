{
 "cells": [
  {
   "cell_type": "code",
   "execution_count": 1,
   "metadata": {},
   "outputs": [],
   "source": [
    "import pandas as pd\n",
    "import matplotlib.pyplot as plt\n",
    "import numpy as np"
   ]
  },
  {
   "cell_type": "markdown",
   "metadata": {},
   "source": [
    "# Load arrivals and departures data"
   ]
  },
  {
   "cell_type": "code",
   "execution_count": 2,
   "metadata": {},
   "outputs": [
    {
     "data": {
      "text/html": [
       "<div>\n",
       "<style scoped>\n",
       "    .dataframe tbody tr th:only-of-type {\n",
       "        vertical-align: middle;\n",
       "    }\n",
       "\n",
       "    .dataframe tbody tr th {\n",
       "        vertical-align: top;\n",
       "    }\n",
       "\n",
       "    .dataframe thead th {\n",
       "        text-align: right;\n",
       "    }\n",
       "</style>\n",
       "<table border=\"1\" class=\"dataframe\">\n",
       "  <thead>\n",
       "    <tr style=\"text-align: right;\">\n",
       "      <th></th>\n",
       "      <th>mode</th>\n",
       "      <th>flight_number</th>\n",
       "      <th>callsign</th>\n",
       "      <th>aircraft_model_code</th>\n",
       "      <th>aircraft_model_description</th>\n",
       "      <th>aircraft_registration</th>\n",
       "      <th>airline_name</th>\n",
       "      <th>airline_iata</th>\n",
       "      <th>airline_icao</th>\n",
       "      <th>flight_origin_code_iata</th>\n",
       "      <th>...</th>\n",
       "      <th>flight_origin_time_offset</th>\n",
       "      <th>flight_destination_code_iata</th>\n",
       "      <th>flight_destination_code_icao</th>\n",
       "      <th>flight_destination_name</th>\n",
       "      <th>flight_destination_time_offset</th>\n",
       "      <th>flight_departure_scheduled</th>\n",
       "      <th>flight_departure_real</th>\n",
       "      <th>flight_arrival_scheduled</th>\n",
       "      <th>flight_arrival_real</th>\n",
       "      <th>flight_duaration</th>\n",
       "    </tr>\n",
       "  </thead>\n",
       "  <tbody>\n",
       "    <tr>\n",
       "      <th>0</th>\n",
       "      <td>arrivals</td>\n",
       "      <td>JL41</td>\n",
       "      <td>JAL41</td>\n",
       "      <td>B788</td>\n",
       "      <td>Boeing 787-8 Dreamliner</td>\n",
       "      <td>JA837J</td>\n",
       "      <td>Japan Airlines</td>\n",
       "      <td>JL</td>\n",
       "      <td>JAL</td>\n",
       "      <td>HND</td>\n",
       "      <td>...</td>\n",
       "      <td>32400</td>\n",
       "      <td>LHR</td>\n",
       "      <td>EGLL</td>\n",
       "      <td>London Heathrow Airport</td>\n",
       "      <td>3600</td>\n",
       "      <td>1558284900</td>\n",
       "      <td>1.558287e+09</td>\n",
       "      <td>1558329900</td>\n",
       "      <td>1.558329e+09</td>\n",
       "      <td>41940.0</td>\n",
       "    </tr>\n",
       "    <tr>\n",
       "      <th>1</th>\n",
       "      <td>arrivals</td>\n",
       "      <td>SA234</td>\n",
       "      <td>SAA234</td>\n",
       "      <td>A333</td>\n",
       "      <td>Airbus A330-343</td>\n",
       "      <td>ZS-SXK</td>\n",
       "      <td>South African Airways</td>\n",
       "      <td>SA</td>\n",
       "      <td>SAA</td>\n",
       "      <td>JNB</td>\n",
       "      <td>...</td>\n",
       "      <td>7200</td>\n",
       "      <td>LHR</td>\n",
       "      <td>EGLL</td>\n",
       "      <td>London Heathrow Airport</td>\n",
       "      <td>3600</td>\n",
       "      <td>1558288800</td>\n",
       "      <td>1.558290e+09</td>\n",
       "      <td>1558329900</td>\n",
       "      <td>1.558329e+09</td>\n",
       "      <td>39720.0</td>\n",
       "    </tr>\n",
       "    <tr>\n",
       "      <th>2</th>\n",
       "      <td>arrivals</td>\n",
       "      <td>QF1</td>\n",
       "      <td>QFA1</td>\n",
       "      <td>A388</td>\n",
       "      <td>Airbus A380-842</td>\n",
       "      <td>VH-OQA</td>\n",
       "      <td>Qantas</td>\n",
       "      <td>QF</td>\n",
       "      <td>QFA</td>\n",
       "      <td>SIN</td>\n",
       "      <td>...</td>\n",
       "      <td>28800</td>\n",
       "      <td>LHR</td>\n",
       "      <td>EGLL</td>\n",
       "      <td>London Heathrow Airport</td>\n",
       "      <td>3600</td>\n",
       "      <td>1558281300</td>\n",
       "      <td>1.558286e+09</td>\n",
       "      <td>1558329900</td>\n",
       "      <td>1.558333e+09</td>\n",
       "      <td>46860.0</td>\n",
       "    </tr>\n",
       "    <tr>\n",
       "      <th>3</th>\n",
       "      <td>arrivals</td>\n",
       "      <td>BI3</td>\n",
       "      <td>RBA003</td>\n",
       "      <td>B788</td>\n",
       "      <td>Boeing 787-8 Dreamliner</td>\n",
       "      <td>V8-DLD</td>\n",
       "      <td>Royal Brunei Airlines</td>\n",
       "      <td>BI</td>\n",
       "      <td>RBA</td>\n",
       "      <td>BWN</td>\n",
       "      <td>...</td>\n",
       "      <td>28800</td>\n",
       "      <td>LHR</td>\n",
       "      <td>EGLL</td>\n",
       "      <td>London Heathrow Airport</td>\n",
       "      <td>3600</td>\n",
       "      <td>1558277700</td>\n",
       "      <td>1.558278e+09</td>\n",
       "      <td>1558329900</td>\n",
       "      <td>1.558329e+09</td>\n",
       "      <td>51120.0</td>\n",
       "    </tr>\n",
       "    <tr>\n",
       "      <th>4</th>\n",
       "      <td>arrivals</td>\n",
       "      <td>VS4</td>\n",
       "      <td>VIR4C</td>\n",
       "      <td>A333</td>\n",
       "      <td>Airbus A330-343</td>\n",
       "      <td>G-VWAG</td>\n",
       "      <td>Virgin Atlantic</td>\n",
       "      <td>VS</td>\n",
       "      <td>VIR</td>\n",
       "      <td>JFK</td>\n",
       "      <td>...</td>\n",
       "      <td>-14400</td>\n",
       "      <td>LHR</td>\n",
       "      <td>EGLL</td>\n",
       "      <td>London Heathrow Airport</td>\n",
       "      <td>3600</td>\n",
       "      <td>1558303200</td>\n",
       "      <td>1.558306e+09</td>\n",
       "      <td>1558329900</td>\n",
       "      <td>1.558329e+09</td>\n",
       "      <td>23220.0</td>\n",
       "    </tr>\n",
       "  </tbody>\n",
       "</table>\n",
       "<p>5 rows × 22 columns</p>\n",
       "</div>"
      ],
      "text/plain": [
       "       mode flight_number callsign aircraft_model_code  \\\n",
       "0  arrivals          JL41    JAL41                B788   \n",
       "1  arrivals         SA234   SAA234                A333   \n",
       "2  arrivals           QF1     QFA1                A388   \n",
       "3  arrivals           BI3   RBA003                B788   \n",
       "4  arrivals           VS4    VIR4C                A333   \n",
       "\n",
       "  aircraft_model_description aircraft_registration           airline_name  \\\n",
       "0    Boeing 787-8 Dreamliner                JA837J         Japan Airlines   \n",
       "1            Airbus A330-343                ZS-SXK  South African Airways   \n",
       "2            Airbus A380-842                VH-OQA                 Qantas   \n",
       "3    Boeing 787-8 Dreamliner                V8-DLD  Royal Brunei Airlines   \n",
       "4            Airbus A330-343                G-VWAG        Virgin Atlantic   \n",
       "\n",
       "  airline_iata airline_icao flight_origin_code_iata        ...         \\\n",
       "0           JL          JAL                     HND        ...          \n",
       "1           SA          SAA                     JNB        ...          \n",
       "2           QF          QFA                     SIN        ...          \n",
       "3           BI          RBA                     BWN        ...          \n",
       "4           VS          VIR                     JFK        ...          \n",
       "\n",
       "  flight_origin_time_offset flight_destination_code_iata  \\\n",
       "0                     32400                          LHR   \n",
       "1                      7200                          LHR   \n",
       "2                     28800                          LHR   \n",
       "3                     28800                          LHR   \n",
       "4                    -14400                          LHR   \n",
       "\n",
       "   flight_destination_code_icao  flight_destination_name  \\\n",
       "0                          EGLL  London Heathrow Airport   \n",
       "1                          EGLL  London Heathrow Airport   \n",
       "2                          EGLL  London Heathrow Airport   \n",
       "3                          EGLL  London Heathrow Airport   \n",
       "4                          EGLL  London Heathrow Airport   \n",
       "\n",
       "  flight_destination_time_offset flight_departure_scheduled  \\\n",
       "0                           3600                 1558284900   \n",
       "1                           3600                 1558288800   \n",
       "2                           3600                 1558281300   \n",
       "3                           3600                 1558277700   \n",
       "4                           3600                 1558303200   \n",
       "\n",
       "   flight_departure_real  flight_arrival_scheduled  flight_arrival_real  \\\n",
       "0           1.558287e+09                1558329900         1.558329e+09   \n",
       "1           1.558290e+09                1558329900         1.558329e+09   \n",
       "2           1.558286e+09                1558329900         1.558333e+09   \n",
       "3           1.558278e+09                1558329900         1.558329e+09   \n",
       "4           1.558306e+09                1558329900         1.558329e+09   \n",
       "\n",
       "   flight_duaration  \n",
       "0           41940.0  \n",
       "1           39720.0  \n",
       "2           46860.0  \n",
       "3           51120.0  \n",
       "4           23220.0  \n",
       "\n",
       "[5 rows x 22 columns]"
      ]
     },
     "execution_count": 2,
     "metadata": {},
     "output_type": "execute_result"
    }
   ],
   "source": [
    "arrivals = pd.read_csv(\"data/arrivals.csv\", sep='\\t')\n",
    "arrivals.head()"
   ]
  },
  {
   "cell_type": "code",
   "execution_count": 3,
   "metadata": {},
   "outputs": [
    {
     "data": {
      "text/html": [
       "<div>\n",
       "<style scoped>\n",
       "    .dataframe tbody tr th:only-of-type {\n",
       "        vertical-align: middle;\n",
       "    }\n",
       "\n",
       "    .dataframe tbody tr th {\n",
       "        vertical-align: top;\n",
       "    }\n",
       "\n",
       "    .dataframe thead th {\n",
       "        text-align: right;\n",
       "    }\n",
       "</style>\n",
       "<table border=\"1\" class=\"dataframe\">\n",
       "  <thead>\n",
       "    <tr style=\"text-align: right;\">\n",
       "      <th></th>\n",
       "      <th>mode</th>\n",
       "      <th>flight_number</th>\n",
       "      <th>callsign</th>\n",
       "      <th>aircraft_model_code</th>\n",
       "      <th>aircraft_model_description</th>\n",
       "      <th>aircraft_registration</th>\n",
       "      <th>airline_name</th>\n",
       "      <th>airline_iata</th>\n",
       "      <th>airline_icao</th>\n",
       "      <th>flight_origin_code_iata</th>\n",
       "      <th>...</th>\n",
       "      <th>flight_origin_time_offset</th>\n",
       "      <th>flight_destination_code_iata</th>\n",
       "      <th>flight_destination_code_icao</th>\n",
       "      <th>flight_destination_name</th>\n",
       "      <th>flight_destination_time_offset</th>\n",
       "      <th>flight_departure_scheduled</th>\n",
       "      <th>flight_departure_real</th>\n",
       "      <th>flight_arrival_scheduled</th>\n",
       "      <th>flight_arrival_real</th>\n",
       "      <th>flight_duration</th>\n",
       "    </tr>\n",
       "  </thead>\n",
       "  <tbody>\n",
       "    <tr>\n",
       "      <th>0</th>\n",
       "      <td>arrivals</td>\n",
       "      <td>JL41</td>\n",
       "      <td>JAL41</td>\n",
       "      <td>B788</td>\n",
       "      <td>Boeing 787-8 Dreamliner</td>\n",
       "      <td>JA837J</td>\n",
       "      <td>Japan Airlines</td>\n",
       "      <td>JL</td>\n",
       "      <td>JAL</td>\n",
       "      <td>HND</td>\n",
       "      <td>...</td>\n",
       "      <td>32400</td>\n",
       "      <td>LHR</td>\n",
       "      <td>EGLL</td>\n",
       "      <td>London Heathrow Airport</td>\n",
       "      <td>3600</td>\n",
       "      <td>1558284900</td>\n",
       "      <td>1.558287e+09</td>\n",
       "      <td>1558329900</td>\n",
       "      <td>1.558329e+09</td>\n",
       "      <td>41940.0</td>\n",
       "    </tr>\n",
       "    <tr>\n",
       "      <th>1</th>\n",
       "      <td>arrivals</td>\n",
       "      <td>SA234</td>\n",
       "      <td>SAA234</td>\n",
       "      <td>A333</td>\n",
       "      <td>Airbus A330-343</td>\n",
       "      <td>ZS-SXK</td>\n",
       "      <td>South African Airways</td>\n",
       "      <td>SA</td>\n",
       "      <td>SAA</td>\n",
       "      <td>JNB</td>\n",
       "      <td>...</td>\n",
       "      <td>7200</td>\n",
       "      <td>LHR</td>\n",
       "      <td>EGLL</td>\n",
       "      <td>London Heathrow Airport</td>\n",
       "      <td>3600</td>\n",
       "      <td>1558288800</td>\n",
       "      <td>1.558290e+09</td>\n",
       "      <td>1558329900</td>\n",
       "      <td>1.558329e+09</td>\n",
       "      <td>39720.0</td>\n",
       "    </tr>\n",
       "    <tr>\n",
       "      <th>2</th>\n",
       "      <td>arrivals</td>\n",
       "      <td>QF1</td>\n",
       "      <td>QFA1</td>\n",
       "      <td>A388</td>\n",
       "      <td>Airbus A380-842</td>\n",
       "      <td>VH-OQA</td>\n",
       "      <td>Qantas</td>\n",
       "      <td>QF</td>\n",
       "      <td>QFA</td>\n",
       "      <td>SIN</td>\n",
       "      <td>...</td>\n",
       "      <td>28800</td>\n",
       "      <td>LHR</td>\n",
       "      <td>EGLL</td>\n",
       "      <td>London Heathrow Airport</td>\n",
       "      <td>3600</td>\n",
       "      <td>1558281300</td>\n",
       "      <td>1.558286e+09</td>\n",
       "      <td>1558329900</td>\n",
       "      <td>1.558333e+09</td>\n",
       "      <td>46860.0</td>\n",
       "    </tr>\n",
       "    <tr>\n",
       "      <th>3</th>\n",
       "      <td>arrivals</td>\n",
       "      <td>BI3</td>\n",
       "      <td>RBA003</td>\n",
       "      <td>B788</td>\n",
       "      <td>Boeing 787-8 Dreamliner</td>\n",
       "      <td>V8-DLD</td>\n",
       "      <td>Royal Brunei Airlines</td>\n",
       "      <td>BI</td>\n",
       "      <td>RBA</td>\n",
       "      <td>BWN</td>\n",
       "      <td>...</td>\n",
       "      <td>28800</td>\n",
       "      <td>LHR</td>\n",
       "      <td>EGLL</td>\n",
       "      <td>London Heathrow Airport</td>\n",
       "      <td>3600</td>\n",
       "      <td>1558277700</td>\n",
       "      <td>1.558278e+09</td>\n",
       "      <td>1558329900</td>\n",
       "      <td>1.558329e+09</td>\n",
       "      <td>51120.0</td>\n",
       "    </tr>\n",
       "    <tr>\n",
       "      <th>4</th>\n",
       "      <td>arrivals</td>\n",
       "      <td>VS4</td>\n",
       "      <td>VIR4C</td>\n",
       "      <td>A333</td>\n",
       "      <td>Airbus A330-343</td>\n",
       "      <td>G-VWAG</td>\n",
       "      <td>Virgin Atlantic</td>\n",
       "      <td>VS</td>\n",
       "      <td>VIR</td>\n",
       "      <td>JFK</td>\n",
       "      <td>...</td>\n",
       "      <td>-14400</td>\n",
       "      <td>LHR</td>\n",
       "      <td>EGLL</td>\n",
       "      <td>London Heathrow Airport</td>\n",
       "      <td>3600</td>\n",
       "      <td>1558303200</td>\n",
       "      <td>1.558306e+09</td>\n",
       "      <td>1558329900</td>\n",
       "      <td>1.558329e+09</td>\n",
       "      <td>23220.0</td>\n",
       "    </tr>\n",
       "  </tbody>\n",
       "</table>\n",
       "<p>5 rows × 22 columns</p>\n",
       "</div>"
      ],
      "text/plain": [
       "       mode flight_number callsign aircraft_model_code  \\\n",
       "0  arrivals          JL41    JAL41                B788   \n",
       "1  arrivals         SA234   SAA234                A333   \n",
       "2  arrivals           QF1     QFA1                A388   \n",
       "3  arrivals           BI3   RBA003                B788   \n",
       "4  arrivals           VS4    VIR4C                A333   \n",
       "\n",
       "  aircraft_model_description aircraft_registration           airline_name  \\\n",
       "0    Boeing 787-8 Dreamliner                JA837J         Japan Airlines   \n",
       "1            Airbus A330-343                ZS-SXK  South African Airways   \n",
       "2            Airbus A380-842                VH-OQA                 Qantas   \n",
       "3    Boeing 787-8 Dreamliner                V8-DLD  Royal Brunei Airlines   \n",
       "4            Airbus A330-343                G-VWAG        Virgin Atlantic   \n",
       "\n",
       "  airline_iata airline_icao flight_origin_code_iata       ...         \\\n",
       "0           JL          JAL                     HND       ...          \n",
       "1           SA          SAA                     JNB       ...          \n",
       "2           QF          QFA                     SIN       ...          \n",
       "3           BI          RBA                     BWN       ...          \n",
       "4           VS          VIR                     JFK       ...          \n",
       "\n",
       "  flight_origin_time_offset flight_destination_code_iata  \\\n",
       "0                     32400                          LHR   \n",
       "1                      7200                          LHR   \n",
       "2                     28800                          LHR   \n",
       "3                     28800                          LHR   \n",
       "4                    -14400                          LHR   \n",
       "\n",
       "   flight_destination_code_icao  flight_destination_name  \\\n",
       "0                          EGLL  London Heathrow Airport   \n",
       "1                          EGLL  London Heathrow Airport   \n",
       "2                          EGLL  London Heathrow Airport   \n",
       "3                          EGLL  London Heathrow Airport   \n",
       "4                          EGLL  London Heathrow Airport   \n",
       "\n",
       "  flight_destination_time_offset flight_departure_scheduled  \\\n",
       "0                           3600                 1558284900   \n",
       "1                           3600                 1558288800   \n",
       "2                           3600                 1558281300   \n",
       "3                           3600                 1558277700   \n",
       "4                           3600                 1558303200   \n",
       "\n",
       "   flight_departure_real  flight_arrival_scheduled  flight_arrival_real  \\\n",
       "0           1.558287e+09                1558329900         1.558329e+09   \n",
       "1           1.558290e+09                1558329900         1.558329e+09   \n",
       "2           1.558286e+09                1558329900         1.558333e+09   \n",
       "3           1.558278e+09                1558329900         1.558329e+09   \n",
       "4           1.558306e+09                1558329900         1.558329e+09   \n",
       "\n",
       "   flight_duration  \n",
       "0          41940.0  \n",
       "1          39720.0  \n",
       "2          46860.0  \n",
       "3          51120.0  \n",
       "4          23220.0  \n",
       "\n",
       "[5 rows x 22 columns]"
      ]
     },
     "execution_count": 3,
     "metadata": {},
     "output_type": "execute_result"
    }
   ],
   "source": [
    "arrivals = arrivals.rename(columns={'flight_duaration':'flight_duration'})\n",
    "arrivals.head()"
   ]
  },
  {
   "cell_type": "code",
   "execution_count": 4,
   "metadata": {},
   "outputs": [
    {
     "data": {
      "text/plain": [
       "mode                                  0\n",
       "flight_number                         0\n",
       "callsign                           6460\n",
       "aircraft_model_code                  72\n",
       "aircraft_model_description         4625\n",
       "aircraft_registration              4553\n",
       "airline_name                          0\n",
       "airline_iata                          0\n",
       "airline_icao                          0\n",
       "flight_origin_code_iata               0\n",
       "flight_origin_code_icao              97\n",
       "flight_origin_name                    0\n",
       "flight_origin_time_offset             0\n",
       "flight_destination_code_iata          0\n",
       "flight_destination_code_icao          0\n",
       "flight_destination_name               0\n",
       "flight_destination_time_offset        0\n",
       "flight_departure_scheduled            0\n",
       "flight_departure_real              7083\n",
       "flight_arrival_scheduled              0\n",
       "flight_arrival_real               10327\n",
       "flight_duration                   10785\n",
       "dtype: int64"
      ]
     },
     "execution_count": 4,
     "metadata": {},
     "output_type": "execute_result"
    }
   ],
   "source": [
    "arrivals.isnull().sum(axis=0) # check for missing values"
   ]
  },
  {
   "cell_type": "code",
   "execution_count": 5,
   "metadata": {},
   "outputs": [
    {
     "data": {
      "text/html": [
       "<div>\n",
       "<style scoped>\n",
       "    .dataframe tbody tr th:only-of-type {\n",
       "        vertical-align: middle;\n",
       "    }\n",
       "\n",
       "    .dataframe tbody tr th {\n",
       "        vertical-align: top;\n",
       "    }\n",
       "\n",
       "    .dataframe thead th {\n",
       "        text-align: right;\n",
       "    }\n",
       "</style>\n",
       "<table border=\"1\" class=\"dataframe\">\n",
       "  <thead>\n",
       "    <tr style=\"text-align: right;\">\n",
       "      <th></th>\n",
       "      <th>mode</th>\n",
       "      <th>flight_number</th>\n",
       "      <th>callsign</th>\n",
       "      <th>aircraft_model_code</th>\n",
       "      <th>aircraft_model_description</th>\n",
       "      <th>aircraft_registration</th>\n",
       "      <th>airline_name</th>\n",
       "      <th>airline_iata</th>\n",
       "      <th>airline_icao</th>\n",
       "      <th>flight_origin_code_iata</th>\n",
       "      <th>...</th>\n",
       "      <th>flight_origin_time_offset</th>\n",
       "      <th>flight_destination_code_iata</th>\n",
       "      <th>flight_destination_code_icao</th>\n",
       "      <th>flight_destination_name</th>\n",
       "      <th>flight_destination_time_offset</th>\n",
       "      <th>flight_departure_scheduled</th>\n",
       "      <th>flight_departure_real</th>\n",
       "      <th>flight_arrival_scheduled</th>\n",
       "      <th>flight_arrival_real</th>\n",
       "      <th>flight_duaration</th>\n",
       "    </tr>\n",
       "  </thead>\n",
       "  <tbody>\n",
       "    <tr>\n",
       "      <th>0</th>\n",
       "      <td>arrivals</td>\n",
       "      <td>JL41</td>\n",
       "      <td>JAL41</td>\n",
       "      <td>B788</td>\n",
       "      <td>Boeing 787-8 Dreamliner</td>\n",
       "      <td>JA837J</td>\n",
       "      <td>Japan Airlines</td>\n",
       "      <td>JL</td>\n",
       "      <td>JAL</td>\n",
       "      <td>HND</td>\n",
       "      <td>...</td>\n",
       "      <td>32400</td>\n",
       "      <td>LHR</td>\n",
       "      <td>EGLL</td>\n",
       "      <td>London Heathrow Airport</td>\n",
       "      <td>3600</td>\n",
       "      <td>1558284900</td>\n",
       "      <td>1.558287e+09</td>\n",
       "      <td>1558329900</td>\n",
       "      <td>1.558329e+09</td>\n",
       "      <td>41940.0</td>\n",
       "    </tr>\n",
       "    <tr>\n",
       "      <th>1</th>\n",
       "      <td>arrivals</td>\n",
       "      <td>SA234</td>\n",
       "      <td>SAA234</td>\n",
       "      <td>A333</td>\n",
       "      <td>Airbus A330-343</td>\n",
       "      <td>ZS-SXK</td>\n",
       "      <td>South African Airways</td>\n",
       "      <td>SA</td>\n",
       "      <td>SAA</td>\n",
       "      <td>JNB</td>\n",
       "      <td>...</td>\n",
       "      <td>7200</td>\n",
       "      <td>LHR</td>\n",
       "      <td>EGLL</td>\n",
       "      <td>London Heathrow Airport</td>\n",
       "      <td>3600</td>\n",
       "      <td>1558288800</td>\n",
       "      <td>1.558290e+09</td>\n",
       "      <td>1558329900</td>\n",
       "      <td>1.558329e+09</td>\n",
       "      <td>39720.0</td>\n",
       "    </tr>\n",
       "    <tr>\n",
       "      <th>2</th>\n",
       "      <td>arrivals</td>\n",
       "      <td>QF1</td>\n",
       "      <td>QFA1</td>\n",
       "      <td>A388</td>\n",
       "      <td>Airbus A380-842</td>\n",
       "      <td>VH-OQA</td>\n",
       "      <td>Qantas</td>\n",
       "      <td>QF</td>\n",
       "      <td>QFA</td>\n",
       "      <td>SIN</td>\n",
       "      <td>...</td>\n",
       "      <td>28800</td>\n",
       "      <td>LHR</td>\n",
       "      <td>EGLL</td>\n",
       "      <td>London Heathrow Airport</td>\n",
       "      <td>3600</td>\n",
       "      <td>1558281300</td>\n",
       "      <td>1.558286e+09</td>\n",
       "      <td>1558329900</td>\n",
       "      <td>1.558333e+09</td>\n",
       "      <td>46860.0</td>\n",
       "    </tr>\n",
       "    <tr>\n",
       "      <th>3</th>\n",
       "      <td>arrivals</td>\n",
       "      <td>BI3</td>\n",
       "      <td>RBA003</td>\n",
       "      <td>B788</td>\n",
       "      <td>Boeing 787-8 Dreamliner</td>\n",
       "      <td>V8-DLD</td>\n",
       "      <td>Royal Brunei Airlines</td>\n",
       "      <td>BI</td>\n",
       "      <td>RBA</td>\n",
       "      <td>BWN</td>\n",
       "      <td>...</td>\n",
       "      <td>28800</td>\n",
       "      <td>LHR</td>\n",
       "      <td>EGLL</td>\n",
       "      <td>London Heathrow Airport</td>\n",
       "      <td>3600</td>\n",
       "      <td>1558277700</td>\n",
       "      <td>1.558278e+09</td>\n",
       "      <td>1558329900</td>\n",
       "      <td>1.558329e+09</td>\n",
       "      <td>51120.0</td>\n",
       "    </tr>\n",
       "    <tr>\n",
       "      <th>4</th>\n",
       "      <td>arrivals</td>\n",
       "      <td>VS4</td>\n",
       "      <td>VIR4C</td>\n",
       "      <td>A333</td>\n",
       "      <td>Airbus A330-343</td>\n",
       "      <td>G-VWAG</td>\n",
       "      <td>Virgin Atlantic</td>\n",
       "      <td>VS</td>\n",
       "      <td>VIR</td>\n",
       "      <td>JFK</td>\n",
       "      <td>...</td>\n",
       "      <td>-14400</td>\n",
       "      <td>LHR</td>\n",
       "      <td>EGLL</td>\n",
       "      <td>London Heathrow Airport</td>\n",
       "      <td>3600</td>\n",
       "      <td>1558303200</td>\n",
       "      <td>1.558306e+09</td>\n",
       "      <td>1558329900</td>\n",
       "      <td>1.558329e+09</td>\n",
       "      <td>23220.0</td>\n",
       "    </tr>\n",
       "  </tbody>\n",
       "</table>\n",
       "<p>5 rows × 22 columns</p>\n",
       "</div>"
      ],
      "text/plain": [
       "       mode flight_number callsign aircraft_model_code  \\\n",
       "0  arrivals          JL41    JAL41                B788   \n",
       "1  arrivals         SA234   SAA234                A333   \n",
       "2  arrivals           QF1     QFA1                A388   \n",
       "3  arrivals           BI3   RBA003                B788   \n",
       "4  arrivals           VS4    VIR4C                A333   \n",
       "\n",
       "  aircraft_model_description aircraft_registration           airline_name  \\\n",
       "0    Boeing 787-8 Dreamliner                JA837J         Japan Airlines   \n",
       "1            Airbus A330-343                ZS-SXK  South African Airways   \n",
       "2            Airbus A380-842                VH-OQA                 Qantas   \n",
       "3    Boeing 787-8 Dreamliner                V8-DLD  Royal Brunei Airlines   \n",
       "4            Airbus A330-343                G-VWAG        Virgin Atlantic   \n",
       "\n",
       "  airline_iata airline_icao flight_origin_code_iata        ...         \\\n",
       "0           JL          JAL                     HND        ...          \n",
       "1           SA          SAA                     JNB        ...          \n",
       "2           QF          QFA                     SIN        ...          \n",
       "3           BI          RBA                     BWN        ...          \n",
       "4           VS          VIR                     JFK        ...          \n",
       "\n",
       "  flight_origin_time_offset flight_destination_code_iata  \\\n",
       "0                     32400                          LHR   \n",
       "1                      7200                          LHR   \n",
       "2                     28800                          LHR   \n",
       "3                     28800                          LHR   \n",
       "4                    -14400                          LHR   \n",
       "\n",
       "   flight_destination_code_icao  flight_destination_name  \\\n",
       "0                          EGLL  London Heathrow Airport   \n",
       "1                          EGLL  London Heathrow Airport   \n",
       "2                          EGLL  London Heathrow Airport   \n",
       "3                          EGLL  London Heathrow Airport   \n",
       "4                          EGLL  London Heathrow Airport   \n",
       "\n",
       "  flight_destination_time_offset flight_departure_scheduled  \\\n",
       "0                           3600                 1558284900   \n",
       "1                           3600                 1558288800   \n",
       "2                           3600                 1558281300   \n",
       "3                           3600                 1558277700   \n",
       "4                           3600                 1558303200   \n",
       "\n",
       "   flight_departure_real  flight_arrival_scheduled  flight_arrival_real  \\\n",
       "0           1.558287e+09                1558329900         1.558329e+09   \n",
       "1           1.558290e+09                1558329900         1.558329e+09   \n",
       "2           1.558286e+09                1558329900         1.558333e+09   \n",
       "3           1.558278e+09                1558329900         1.558329e+09   \n",
       "4           1.558306e+09                1558329900         1.558329e+09   \n",
       "\n",
       "   flight_duaration  \n",
       "0           41940.0  \n",
       "1           39720.0  \n",
       "2           46860.0  \n",
       "3           51120.0  \n",
       "4           23220.0  \n",
       "\n",
       "[5 rows x 22 columns]"
      ]
     },
     "execution_count": 5,
     "metadata": {},
     "output_type": "execute_result"
    }
   ],
   "source": [
    "departures = pd.read_csv(\"data/departures.csv\", sep='\\t')\n",
    "departures.head()"
   ]
  },
  {
   "cell_type": "code",
   "execution_count": 6,
   "metadata": {},
   "outputs": [
    {
     "data": {
      "text/html": [
       "<div>\n",
       "<style scoped>\n",
       "    .dataframe tbody tr th:only-of-type {\n",
       "        vertical-align: middle;\n",
       "    }\n",
       "\n",
       "    .dataframe tbody tr th {\n",
       "        vertical-align: top;\n",
       "    }\n",
       "\n",
       "    .dataframe thead th {\n",
       "        text-align: right;\n",
       "    }\n",
       "</style>\n",
       "<table border=\"1\" class=\"dataframe\">\n",
       "  <thead>\n",
       "    <tr style=\"text-align: right;\">\n",
       "      <th></th>\n",
       "      <th>mode</th>\n",
       "      <th>flight_number</th>\n",
       "      <th>callsign</th>\n",
       "      <th>aircraft_model_code</th>\n",
       "      <th>aircraft_model_description</th>\n",
       "      <th>aircraft_registration</th>\n",
       "      <th>airline_name</th>\n",
       "      <th>airline_iata</th>\n",
       "      <th>airline_icao</th>\n",
       "      <th>flight_origin_code_iata</th>\n",
       "      <th>...</th>\n",
       "      <th>flight_origin_time_offset</th>\n",
       "      <th>flight_destination_code_iata</th>\n",
       "      <th>flight_destination_code_icao</th>\n",
       "      <th>flight_destination_name</th>\n",
       "      <th>flight_destination_time_offset</th>\n",
       "      <th>flight_departure_scheduled</th>\n",
       "      <th>flight_departure_real</th>\n",
       "      <th>flight_arrival_scheduled</th>\n",
       "      <th>flight_arrival_real</th>\n",
       "      <th>flight_duration</th>\n",
       "    </tr>\n",
       "  </thead>\n",
       "  <tbody>\n",
       "    <tr>\n",
       "      <th>0</th>\n",
       "      <td>arrivals</td>\n",
       "      <td>JL41</td>\n",
       "      <td>JAL41</td>\n",
       "      <td>B788</td>\n",
       "      <td>Boeing 787-8 Dreamliner</td>\n",
       "      <td>JA837J</td>\n",
       "      <td>Japan Airlines</td>\n",
       "      <td>JL</td>\n",
       "      <td>JAL</td>\n",
       "      <td>HND</td>\n",
       "      <td>...</td>\n",
       "      <td>32400</td>\n",
       "      <td>LHR</td>\n",
       "      <td>EGLL</td>\n",
       "      <td>London Heathrow Airport</td>\n",
       "      <td>3600</td>\n",
       "      <td>1558284900</td>\n",
       "      <td>1.558287e+09</td>\n",
       "      <td>1558329900</td>\n",
       "      <td>1.558329e+09</td>\n",
       "      <td>41940.0</td>\n",
       "    </tr>\n",
       "    <tr>\n",
       "      <th>1</th>\n",
       "      <td>arrivals</td>\n",
       "      <td>SA234</td>\n",
       "      <td>SAA234</td>\n",
       "      <td>A333</td>\n",
       "      <td>Airbus A330-343</td>\n",
       "      <td>ZS-SXK</td>\n",
       "      <td>South African Airways</td>\n",
       "      <td>SA</td>\n",
       "      <td>SAA</td>\n",
       "      <td>JNB</td>\n",
       "      <td>...</td>\n",
       "      <td>7200</td>\n",
       "      <td>LHR</td>\n",
       "      <td>EGLL</td>\n",
       "      <td>London Heathrow Airport</td>\n",
       "      <td>3600</td>\n",
       "      <td>1558288800</td>\n",
       "      <td>1.558290e+09</td>\n",
       "      <td>1558329900</td>\n",
       "      <td>1.558329e+09</td>\n",
       "      <td>39720.0</td>\n",
       "    </tr>\n",
       "    <tr>\n",
       "      <th>2</th>\n",
       "      <td>arrivals</td>\n",
       "      <td>QF1</td>\n",
       "      <td>QFA1</td>\n",
       "      <td>A388</td>\n",
       "      <td>Airbus A380-842</td>\n",
       "      <td>VH-OQA</td>\n",
       "      <td>Qantas</td>\n",
       "      <td>QF</td>\n",
       "      <td>QFA</td>\n",
       "      <td>SIN</td>\n",
       "      <td>...</td>\n",
       "      <td>28800</td>\n",
       "      <td>LHR</td>\n",
       "      <td>EGLL</td>\n",
       "      <td>London Heathrow Airport</td>\n",
       "      <td>3600</td>\n",
       "      <td>1558281300</td>\n",
       "      <td>1.558286e+09</td>\n",
       "      <td>1558329900</td>\n",
       "      <td>1.558333e+09</td>\n",
       "      <td>46860.0</td>\n",
       "    </tr>\n",
       "    <tr>\n",
       "      <th>3</th>\n",
       "      <td>arrivals</td>\n",
       "      <td>BI3</td>\n",
       "      <td>RBA003</td>\n",
       "      <td>B788</td>\n",
       "      <td>Boeing 787-8 Dreamliner</td>\n",
       "      <td>V8-DLD</td>\n",
       "      <td>Royal Brunei Airlines</td>\n",
       "      <td>BI</td>\n",
       "      <td>RBA</td>\n",
       "      <td>BWN</td>\n",
       "      <td>...</td>\n",
       "      <td>28800</td>\n",
       "      <td>LHR</td>\n",
       "      <td>EGLL</td>\n",
       "      <td>London Heathrow Airport</td>\n",
       "      <td>3600</td>\n",
       "      <td>1558277700</td>\n",
       "      <td>1.558278e+09</td>\n",
       "      <td>1558329900</td>\n",
       "      <td>1.558329e+09</td>\n",
       "      <td>51120.0</td>\n",
       "    </tr>\n",
       "    <tr>\n",
       "      <th>4</th>\n",
       "      <td>arrivals</td>\n",
       "      <td>VS4</td>\n",
       "      <td>VIR4C</td>\n",
       "      <td>A333</td>\n",
       "      <td>Airbus A330-343</td>\n",
       "      <td>G-VWAG</td>\n",
       "      <td>Virgin Atlantic</td>\n",
       "      <td>VS</td>\n",
       "      <td>VIR</td>\n",
       "      <td>JFK</td>\n",
       "      <td>...</td>\n",
       "      <td>-14400</td>\n",
       "      <td>LHR</td>\n",
       "      <td>EGLL</td>\n",
       "      <td>London Heathrow Airport</td>\n",
       "      <td>3600</td>\n",
       "      <td>1558303200</td>\n",
       "      <td>1.558306e+09</td>\n",
       "      <td>1558329900</td>\n",
       "      <td>1.558329e+09</td>\n",
       "      <td>23220.0</td>\n",
       "    </tr>\n",
       "  </tbody>\n",
       "</table>\n",
       "<p>5 rows × 22 columns</p>\n",
       "</div>"
      ],
      "text/plain": [
       "       mode flight_number callsign aircraft_model_code  \\\n",
       "0  arrivals          JL41    JAL41                B788   \n",
       "1  arrivals         SA234   SAA234                A333   \n",
       "2  arrivals           QF1     QFA1                A388   \n",
       "3  arrivals           BI3   RBA003                B788   \n",
       "4  arrivals           VS4    VIR4C                A333   \n",
       "\n",
       "  aircraft_model_description aircraft_registration           airline_name  \\\n",
       "0    Boeing 787-8 Dreamliner                JA837J         Japan Airlines   \n",
       "1            Airbus A330-343                ZS-SXK  South African Airways   \n",
       "2            Airbus A380-842                VH-OQA                 Qantas   \n",
       "3    Boeing 787-8 Dreamliner                V8-DLD  Royal Brunei Airlines   \n",
       "4            Airbus A330-343                G-VWAG        Virgin Atlantic   \n",
       "\n",
       "  airline_iata airline_icao flight_origin_code_iata       ...         \\\n",
       "0           JL          JAL                     HND       ...          \n",
       "1           SA          SAA                     JNB       ...          \n",
       "2           QF          QFA                     SIN       ...          \n",
       "3           BI          RBA                     BWN       ...          \n",
       "4           VS          VIR                     JFK       ...          \n",
       "\n",
       "  flight_origin_time_offset flight_destination_code_iata  \\\n",
       "0                     32400                          LHR   \n",
       "1                      7200                          LHR   \n",
       "2                     28800                          LHR   \n",
       "3                     28800                          LHR   \n",
       "4                    -14400                          LHR   \n",
       "\n",
       "   flight_destination_code_icao  flight_destination_name  \\\n",
       "0                          EGLL  London Heathrow Airport   \n",
       "1                          EGLL  London Heathrow Airport   \n",
       "2                          EGLL  London Heathrow Airport   \n",
       "3                          EGLL  London Heathrow Airport   \n",
       "4                          EGLL  London Heathrow Airport   \n",
       "\n",
       "  flight_destination_time_offset flight_departure_scheduled  \\\n",
       "0                           3600                 1558284900   \n",
       "1                           3600                 1558288800   \n",
       "2                           3600                 1558281300   \n",
       "3                           3600                 1558277700   \n",
       "4                           3600                 1558303200   \n",
       "\n",
       "   flight_departure_real  flight_arrival_scheduled  flight_arrival_real  \\\n",
       "0           1.558287e+09                1558329900         1.558329e+09   \n",
       "1           1.558290e+09                1558329900         1.558329e+09   \n",
       "2           1.558286e+09                1558329900         1.558333e+09   \n",
       "3           1.558278e+09                1558329900         1.558329e+09   \n",
       "4           1.558306e+09                1558329900         1.558329e+09   \n",
       "\n",
       "   flight_duration  \n",
       "0          41940.0  \n",
       "1          39720.0  \n",
       "2          46860.0  \n",
       "3          51120.0  \n",
       "4          23220.0  \n",
       "\n",
       "[5 rows x 22 columns]"
      ]
     },
     "execution_count": 6,
     "metadata": {},
     "output_type": "execute_result"
    }
   ],
   "source": [
    "departures = departures.rename(columns={'flight_duaration':'flight_duration'})\n",
    "departures.head()"
   ]
  },
  {
   "cell_type": "code",
   "execution_count": 7,
   "metadata": {},
   "outputs": [
    {
     "data": {
      "text/plain": [
       "mode                                   0\n",
       "flight_number                          0\n",
       "callsign                           12316\n",
       "aircraft_model_code                  145\n",
       "aircraft_model_description          9103\n",
       "aircraft_registration               8958\n",
       "airline_name                           0\n",
       "airline_iata                           0\n",
       "airline_icao                           0\n",
       "flight_origin_code_iata                0\n",
       "flight_origin_code_icao               97\n",
       "flight_origin_name                     0\n",
       "flight_origin_time_offset              0\n",
       "flight_destination_code_iata           0\n",
       "flight_destination_code_icao         111\n",
       "flight_destination_name                0\n",
       "flight_destination_time_offset         0\n",
       "flight_departure_scheduled             0\n",
       "flight_departure_real              13262\n",
       "flight_arrival_scheduled               0\n",
       "flight_arrival_real                22013\n",
       "flight_duration                   147423\n",
       "dtype: int64"
      ]
     },
     "execution_count": 7,
     "metadata": {},
     "output_type": "execute_result"
    }
   ],
   "source": [
    "departures.isnull().sum(axis=0) # check for missing values"
   ]
  },
  {
   "cell_type": "markdown",
   "metadata": {},
   "source": [
    "# Load weather data"
   ]
  },
  {
   "cell_type": "code",
   "execution_count": 8,
   "metadata": {},
   "outputs": [
    {
     "data": {
      "text/html": [
       "<div>\n",
       "<style scoped>\n",
       "    .dataframe tbody tr th:only-of-type {\n",
       "        vertical-align: middle;\n",
       "    }\n",
       "\n",
       "    .dataframe tbody tr th {\n",
       "        vertical-align: top;\n",
       "    }\n",
       "\n",
       "    .dataframe thead th {\n",
       "        text-align: right;\n",
       "    }\n",
       "</style>\n",
       "<table border=\"1\" class=\"dataframe\">\n",
       "  <thead>\n",
       "    <tr style=\"text-align: right;\">\n",
       "      <th></th>\n",
       "      <th>AIRPORT_IATA</th>\n",
       "      <th>AIRPORT_ICAO</th>\n",
       "      <th>UTC DATE/TIME</th>\n",
       "      <th>METAR</th>\n",
       "      <th>DESCRIPTION</th>\n",
       "      <th>timestamp</th>\n",
       "      <th>hours</th>\n",
       "    </tr>\n",
       "  </thead>\n",
       "  <tbody>\n",
       "    <tr>\n",
       "      <th>0</th>\n",
       "      <td>LHR</td>\n",
       "      <td>EGLL</td>\n",
       "      <td>2019-05-18 23:50:00</td>\n",
       "      <td>EGLL 182350Z AUTO 01003KT 9999 NCD 11/09 Q1009...</td>\n",
       "      <td>Day: 18th Time: 23:50 UTC Wind direction: 10 W...</td>\n",
       "      <td>1.558220e+09</td>\n",
       "      <td>432839</td>\n",
       "    </tr>\n",
       "    <tr>\n",
       "      <th>1</th>\n",
       "      <td>LHR</td>\n",
       "      <td>EGLL</td>\n",
       "      <td>2019-05-18 23:20:00</td>\n",
       "      <td>EGLL 182320Z AUTO 02002KT 9999 NCD 10/08 Q1009...</td>\n",
       "      <td>Day: 18th Time: 23:20 UTC Wind direction: 20 W...</td>\n",
       "      <td>1.558218e+09</td>\n",
       "      <td>432838</td>\n",
       "    </tr>\n",
       "    <tr>\n",
       "      <th>2</th>\n",
       "      <td>LHR</td>\n",
       "      <td>EGLL</td>\n",
       "      <td>2019-05-18 22:50:00</td>\n",
       "      <td>EGLL 182250Z AUTO 04002KT 9999 NCD 12/09 Q1009...</td>\n",
       "      <td>Day: 18th Time: 22:50 UTC Wind direction: 40 W...</td>\n",
       "      <td>1.558216e+09</td>\n",
       "      <td>432838</td>\n",
       "    </tr>\n",
       "    <tr>\n",
       "      <th>3</th>\n",
       "      <td>LHR</td>\n",
       "      <td>EGLL</td>\n",
       "      <td>2019-05-18 22:20:00</td>\n",
       "      <td>EGLL 182220Z AUTO 06002KT 9999 NCD 12/09 Q1008</td>\n",
       "      <td>Day: 18th Time: 22:20 UTC Wind direction: 60 W...</td>\n",
       "      <td>1.558214e+09</td>\n",
       "      <td>432837</td>\n",
       "    </tr>\n",
       "    <tr>\n",
       "      <th>4</th>\n",
       "      <td>LHR</td>\n",
       "      <td>EGLL</td>\n",
       "      <td>2019-05-18 21:50:00</td>\n",
       "      <td>EGLL 182150Z AUTO VRB02KT 9999 NCD 13/09 Q1008...</td>\n",
       "      <td>Day: 18th Time: 21:50 UTC Wind speed: 2kt Temp...</td>\n",
       "      <td>1.558213e+09</td>\n",
       "      <td>432837</td>\n",
       "    </tr>\n",
       "  </tbody>\n",
       "</table>\n",
       "</div>"
      ],
      "text/plain": [
       "  AIRPORT_IATA AIRPORT_ICAO        UTC DATE/TIME  \\\n",
       "0          LHR         EGLL  2019-05-18 23:50:00   \n",
       "1          LHR         EGLL  2019-05-18 23:20:00   \n",
       "2          LHR         EGLL  2019-05-18 22:50:00   \n",
       "3          LHR         EGLL  2019-05-18 22:20:00   \n",
       "4          LHR         EGLL  2019-05-18 21:50:00   \n",
       "\n",
       "                                               METAR  \\\n",
       "0  EGLL 182350Z AUTO 01003KT 9999 NCD 11/09 Q1009...   \n",
       "1  EGLL 182320Z AUTO 02002KT 9999 NCD 10/08 Q1009...   \n",
       "2  EGLL 182250Z AUTO 04002KT 9999 NCD 12/09 Q1009...   \n",
       "3     EGLL 182220Z AUTO 06002KT 9999 NCD 12/09 Q1008   \n",
       "4  EGLL 182150Z AUTO VRB02KT 9999 NCD 13/09 Q1008...   \n",
       "\n",
       "                                         DESCRIPTION     timestamp   hours  \n",
       "0  Day: 18th Time: 23:50 UTC Wind direction: 10 W...  1.558220e+09  432839  \n",
       "1  Day: 18th Time: 23:20 UTC Wind direction: 20 W...  1.558218e+09  432838  \n",
       "2  Day: 18th Time: 22:50 UTC Wind direction: 40 W...  1.558216e+09  432838  \n",
       "3  Day: 18th Time: 22:20 UTC Wind direction: 60 W...  1.558214e+09  432837  \n",
       "4  Day: 18th Time: 21:50 UTC Wind speed: 2kt Temp...  1.558213e+09  432837  "
      ]
     },
     "execution_count": 8,
     "metadata": {},
     "output_type": "execute_result"
    }
   ],
   "source": [
    "import datetime\n",
    "\n",
    "weather = pd.read_csv(\"data/METAR_all_airports.csv\")\n",
    "weather['timestamp'] = weather['UTC DATE/TIME'].map(lambda t: datetime.datetime.strptime(t,'%Y-%m-%d %H:%M:%S').timestamp())\n",
    "weather['hours'] = weather['timestamp'].map(lambda s: np.rint(s/3600)).astype(int)\n",
    "weather.head()"
   ]
  },
  {
   "cell_type": "code",
   "execution_count": 9,
   "metadata": {},
   "outputs": [
    {
     "data": {
      "text/plain": [
       "AIRPORT_IATA     0\n",
       "AIRPORT_ICAO     0\n",
       "UTC DATE/TIME    0\n",
       "METAR            0\n",
       "DESCRIPTION      0\n",
       "timestamp        0\n",
       "hours            0\n",
       "dtype: int64"
      ]
     },
     "execution_count": 9,
     "metadata": {},
     "output_type": "execute_result"
    }
   ],
   "source": [
    "weather.isnull().sum(axis=0) # check for missing values"
   ]
  },
  {
   "cell_type": "code",
   "execution_count": 10,
   "metadata": {},
   "outputs": [
    {
     "data": {
      "text/html": [
       "<div>\n",
       "<style scoped>\n",
       "    .dataframe tbody tr th:only-of-type {\n",
       "        vertical-align: middle;\n",
       "    }\n",
       "\n",
       "    .dataframe tbody tr th {\n",
       "        vertical-align: top;\n",
       "    }\n",
       "\n",
       "    .dataframe thead th {\n",
       "        text-align: right;\n",
       "    }\n",
       "</style>\n",
       "<table border=\"1\" class=\"dataframe\">\n",
       "  <thead>\n",
       "    <tr style=\"text-align: right;\">\n",
       "      <th></th>\n",
       "      <th>AIRPORT_IATA</th>\n",
       "      <th>hours</th>\n",
       "      <th>METAR</th>\n",
       "      <th>DESCRIPTION</th>\n",
       "    </tr>\n",
       "  </thead>\n",
       "  <tbody>\n",
       "    <tr>\n",
       "      <th>0</th>\n",
       "      <td>ATH</td>\n",
       "      <td>432815</td>\n",
       "      <td>LGAV 180020Z VRB01KT CAVOK 13/10 Q1009 NOSIG</td>\n",
       "      <td>Day: 18th Time: 00:20 UTC Wind speed: 1kt Temp...</td>\n",
       "    </tr>\n",
       "    <tr>\n",
       "      <th>1</th>\n",
       "      <td>ATH</td>\n",
       "      <td>432816</td>\n",
       "      <td>LGAV 180050Z 20002KT CAVOK 13/10 Q1009 NOSIG</td>\n",
       "      <td>Day: 18th Time: 00:50 UTC Wind direction: 200 ...</td>\n",
       "    </tr>\n",
       "    <tr>\n",
       "      <th>2</th>\n",
       "      <td>ATH</td>\n",
       "      <td>432817</td>\n",
       "      <td>LGAV 180150Z VRB01KT CAVOK 13/11 Q1009 NOSIG</td>\n",
       "      <td>Day: 18th Time: 01:50 UTC Wind speed: 1kt Temp...</td>\n",
       "    </tr>\n",
       "    <tr>\n",
       "      <th>3</th>\n",
       "      <td>ATH</td>\n",
       "      <td>432818</td>\n",
       "      <td>LGAV 180250Z VRB01KT CAVOK 13/11 Q1010 NOSIG</td>\n",
       "      <td>Day: 18th Time: 02:50 UTC Wind speed: 1kt Temp...</td>\n",
       "    </tr>\n",
       "    <tr>\n",
       "      <th>4</th>\n",
       "      <td>ATH</td>\n",
       "      <td>432819</td>\n",
       "      <td>LGAV 180350Z 00000KT CAVOK 12/10 Q1009 NOSIG</td>\n",
       "      <td>Day: 18th Time: 03:50 UTC Wind direction: 0 Wi...</td>\n",
       "    </tr>\n",
       "  </tbody>\n",
       "</table>\n",
       "</div>"
      ],
      "text/plain": [
       "  AIRPORT_IATA   hours                                         METAR  \\\n",
       "0          ATH  432815  LGAV 180020Z VRB01KT CAVOK 13/10 Q1009 NOSIG   \n",
       "1          ATH  432816  LGAV 180050Z 20002KT CAVOK 13/10 Q1009 NOSIG   \n",
       "2          ATH  432817  LGAV 180150Z VRB01KT CAVOK 13/11 Q1009 NOSIG   \n",
       "3          ATH  432818  LGAV 180250Z VRB01KT CAVOK 13/11 Q1010 NOSIG   \n",
       "4          ATH  432819  LGAV 180350Z 00000KT CAVOK 12/10 Q1009 NOSIG   \n",
       "\n",
       "                                         DESCRIPTION  \n",
       "0  Day: 18th Time: 00:20 UTC Wind speed: 1kt Temp...  \n",
       "1  Day: 18th Time: 00:50 UTC Wind direction: 200 ...  \n",
       "2  Day: 18th Time: 01:50 UTC Wind speed: 1kt Temp...  \n",
       "3  Day: 18th Time: 02:50 UTC Wind speed: 1kt Temp...  \n",
       "4  Day: 18th Time: 03:50 UTC Wind direction: 0 Wi...  "
      ]
     },
     "execution_count": 10,
     "metadata": {},
     "output_type": "execute_result"
    }
   ],
   "source": [
    "airport_weather = weather.groupby(['AIRPORT_IATA','hours']).agg({'METAR':'last','DESCRIPTION':'last'}).reset_index()\n",
    "airport_weather.head()"
   ]
  },
  {
   "cell_type": "code",
   "execution_count": 11,
   "metadata": {},
   "outputs": [
    {
     "data": {
      "text/plain": [
       "AIRPORT_IATA    0\n",
       "hours           0\n",
       "METAR           0\n",
       "DESCRIPTION     0\n",
       "dtype: int64"
      ]
     },
     "execution_count": 11,
     "metadata": {},
     "output_type": "execute_result"
    }
   ],
   "source": [
    "airport_weather.isnull().sum(axis=0) # check for missing values"
   ]
  },
  {
   "cell_type": "markdown",
   "metadata": {},
   "source": [
    "# Calculate flight delays and cancellations"
   ]
  },
  {
   "cell_type": "code",
   "execution_count": 12,
   "metadata": {},
   "outputs": [
    {
     "data": {
      "text/plain": [
       "mode                                   0\n",
       "flight_number                          0\n",
       "callsign                           12316\n",
       "aircraft_model_code                  145\n",
       "aircraft_model_description          9103\n",
       "aircraft_registration               8958\n",
       "airline_name                           0\n",
       "airline_iata                           0\n",
       "airline_icao                           0\n",
       "flight_origin_code_iata                0\n",
       "flight_origin_code_icao               97\n",
       "flight_origin_name                     0\n",
       "flight_origin_time_offset              0\n",
       "flight_destination_code_iata           0\n",
       "flight_destination_code_icao         111\n",
       "flight_destination_name                0\n",
       "flight_destination_time_offset         0\n",
       "flight_departure_scheduled             0\n",
       "flight_departure_real              13262\n",
       "flight_arrival_scheduled               0\n",
       "flight_arrival_real                22013\n",
       "flight_duration                   147423\n",
       "dtype: int64"
      ]
     },
     "execution_count": 12,
     "metadata": {},
     "output_type": "execute_result"
    }
   ],
   "source": [
    "flights = pd.concat ([arrivals,departures], sort=False).drop_duplicates()\n",
    "flights.isnull().sum(axis=0) # re-check for missing values"
   ]
  },
  {
   "cell_type": "code",
   "execution_count": 13,
   "metadata": {},
   "outputs": [
    {
     "data": {
      "text/plain": [
       "count    282133.000000\n",
       "mean          0.047006\n",
       "std           0.211652\n",
       "min           0.000000\n",
       "25%           0.000000\n",
       "50%           0.000000\n",
       "75%           0.000000\n",
       "max           1.000000\n",
       "Name: assumed_cancellation, dtype: float64"
      ]
     },
     "execution_count": 13,
     "metadata": {},
     "output_type": "execute_result"
    }
   ],
   "source": [
    "flights['assumed_cancellation'] = np.where(flights['flight_departure_real'].isnull(),1,0).astype(int)\n",
    "flights['assumed_cancellation'].describe()"
   ]
  },
  {
   "cell_type": "code",
   "execution_count": 14,
   "metadata": {},
   "outputs": [],
   "source": [
    "flights['flight_arrival_real'] = np.where(flights['flight_arrival_real'].isnull(),\n",
    "                                          flights['flight_arrival_scheduled'],\n",
    "                                          flights['flight_arrival_real'])\n",
    "flights['scheduled_arrival_hour'] = flights['flight_arrival_scheduled'].map(lambda s: np.rint(s/3600)).astype(int)"
   ]
  },
  {
   "cell_type": "code",
   "execution_count": 15,
   "metadata": {},
   "outputs": [],
   "source": [
    "flights['flight_departure_real'] = np.where(flights['flight_departure_real'].isnull(),\n",
    "                                          flights['flight_departure_scheduled'],\n",
    "                                          flights['flight_departure_real'])\n",
    "flights['scheduled_departure_hour'] = flights['flight_departure_scheduled'].map(lambda s: np.rint(s/3600)).astype(int)"
   ]
  },
  {
   "cell_type": "code",
   "execution_count": 16,
   "metadata": {},
   "outputs": [],
   "source": [
    "flights['flight_duration_scheduled'] = flights['flight_arrival_scheduled'] - flights['flight_departure_scheduled']\n",
    "\n",
    "flights['flight_duration'] = np.where(flights['flight_duration'].isnull(),\n",
    "                                          flights['flight_duration_scheduled'],\n",
    "                                          flights['flight_duration'])"
   ]
  },
  {
   "cell_type": "code",
   "execution_count": 17,
   "metadata": {},
   "outputs": [],
   "source": [
    "flights['callsign'].fillna('Missing', inplace=True)\n",
    "flights['aircraft_model_code'].fillna('Missing', inplace=True)\n",
    "flights['aircraft_model_description'].fillna('Missing', inplace=True)\n",
    "flights['aircraft_registration'].fillna('Missing', inplace=True)\n",
    "flights['flight_origin_code_icao'].fillna('Missing', inplace=True)\n",
    "flights['flight_destination_code_icao'].fillna('Missing', inplace=True)"
   ]
  },
  {
   "cell_type": "code",
   "execution_count": 18,
   "metadata": {},
   "outputs": [
    {
     "data": {
      "text/plain": [
       "mode                              0\n",
       "flight_number                     0\n",
       "callsign                          0\n",
       "aircraft_model_code               0\n",
       "aircraft_model_description        0\n",
       "aircraft_registration             0\n",
       "airline_name                      0\n",
       "airline_iata                      0\n",
       "airline_icao                      0\n",
       "flight_origin_code_iata           0\n",
       "flight_origin_code_icao           0\n",
       "flight_origin_name                0\n",
       "flight_origin_time_offset         0\n",
       "flight_destination_code_iata      0\n",
       "flight_destination_code_icao      0\n",
       "flight_destination_name           0\n",
       "flight_destination_time_offset    0\n",
       "flight_departure_scheduled        0\n",
       "flight_departure_real             0\n",
       "flight_arrival_scheduled          0\n",
       "flight_arrival_real               0\n",
       "flight_duration                   0\n",
       "assumed_cancellation              0\n",
       "scheduled_arrival_hour            0\n",
       "scheduled_departure_hour          0\n",
       "flight_duration_scheduled         0\n",
       "dtype: int64"
      ]
     },
     "execution_count": 18,
     "metadata": {},
     "output_type": "execute_result"
    }
   ],
   "source": [
    "flights.isnull().sum(axis=0) # re-check for missing values"
   ]
  },
  {
   "cell_type": "code",
   "execution_count": 19,
   "metadata": {},
   "outputs": [
    {
     "data": {
      "text/plain": [
       "count    282133.000000\n",
       "mean        707.976486\n",
       "std        2289.777189\n",
       "min           0.000000\n",
       "25%           0.000000\n",
       "50%           0.000000\n",
       "75%         386.000000\n",
       "max       85290.000000\n",
       "Name: arrival_delay, dtype: float64"
      ]
     },
     "execution_count": 19,
     "metadata": {},
     "output_type": "execute_result"
    }
   ],
   "source": [
    "flights['arrival_delay'] = np.where(flights['flight_arrival_real'] < flights['flight_arrival_scheduled'],0,\n",
    "                                   flights['flight_arrival_real'] - flights['flight_arrival_scheduled'])\n",
    "flights['arrival_delay'].describe()"
   ]
  },
  {
   "cell_type": "code",
   "execution_count": 20,
   "metadata": {},
   "outputs": [
    {
     "data": {
      "text/plain": [
       "count    282133.000000\n",
       "mean       1818.733222\n",
       "std        2853.318770\n",
       "min           0.000000\n",
       "25%         612.000000\n",
       "50%        1134.000000\n",
       "75%        2024.000000\n",
       "max      139440.000000\n",
       "Name: departure_delay, dtype: float64"
      ]
     },
     "execution_count": 20,
     "metadata": {},
     "output_type": "execute_result"
    }
   ],
   "source": [
    "flights['departure_delay'] = np.where(flights['flight_departure_real'] < flights['flight_departure_scheduled'],0,\n",
    "                                      flights['flight_departure_real'] - flights['flight_departure_scheduled'])\n",
    "flights['departure_delay'].describe()"
   ]
  },
  {
   "cell_type": "markdown",
   "metadata": {},
   "source": [
    "# Derive features from the categorical data"
   ]
  },
  {
   "cell_type": "code",
   "execution_count": 21,
   "metadata": {},
   "outputs": [
    {
     "data": {
      "text/plain": [
       "origin_departure_delay    float64\n",
       "origin_cancellation       float64\n",
       "dtype: object"
      ]
     },
     "execution_count": 21,
     "metadata": {},
     "output_type": "execute_result"
    }
   ],
   "source": [
    "origin_delays = flights.groupby('flight_origin_name').agg({'departure_delay':'mean',\n",
    "                                                           'assumed_cancellation':'mean'}).rename(\n",
    "    columns={'departure_delay':'origin_departure_delay',\n",
    "                       'assumed_cancellation':'origin_cancellation'})\n",
    "    \n",
    "origin_delays.dtypes"
   ]
  },
  {
   "cell_type": "code",
   "execution_count": 22,
   "metadata": {},
   "outputs": [
    {
     "data": {
      "text/html": [
       "<div>\n",
       "<style scoped>\n",
       "    .dataframe tbody tr th:only-of-type {\n",
       "        vertical-align: middle;\n",
       "    }\n",
       "\n",
       "    .dataframe tbody tr th {\n",
       "        vertical-align: top;\n",
       "    }\n",
       "\n",
       "    .dataframe thead th {\n",
       "        text-align: right;\n",
       "    }\n",
       "</style>\n",
       "<table border=\"1\" class=\"dataframe\">\n",
       "  <thead>\n",
       "    <tr style=\"text-align: right;\">\n",
       "      <th></th>\n",
       "      <th>origin_departure_delay</th>\n",
       "      <th>origin_cancellation</th>\n",
       "    </tr>\n",
       "    <tr>\n",
       "      <th>flight_origin_name</th>\n",
       "      <th></th>\n",
       "      <th></th>\n",
       "    </tr>\n",
       "  </thead>\n",
       "  <tbody>\n",
       "    <tr>\n",
       "      <th>Angeles City Clark International Airport</th>\n",
       "      <td>21897.000000</td>\n",
       "      <td>0.000000</td>\n",
       "    </tr>\n",
       "    <tr>\n",
       "      <th>Rutland Southern Vermont Regional Airport</th>\n",
       "      <td>19046.000000</td>\n",
       "      <td>0.000000</td>\n",
       "    </tr>\n",
       "    <tr>\n",
       "      <th>Cold Lake</th>\n",
       "      <td>14233.000000</td>\n",
       "      <td>0.000000</td>\n",
       "    </tr>\n",
       "    <tr>\n",
       "      <th>Salisbury Ocean City Wicomico Regional Airport</th>\n",
       "      <td>11314.000000</td>\n",
       "      <td>0.000000</td>\n",
       "    </tr>\n",
       "    <tr>\n",
       "      <th>Maastricht Aachen Airport</th>\n",
       "      <td>9493.428571</td>\n",
       "      <td>0.714286</td>\n",
       "    </tr>\n",
       "  </tbody>\n",
       "</table>\n",
       "</div>"
      ],
      "text/plain": [
       "                                                origin_departure_delay  \\\n",
       "flight_origin_name                                                       \n",
       "Angeles City Clark International Airport                  21897.000000   \n",
       "Rutland Southern Vermont Regional Airport                 19046.000000   \n",
       "Cold Lake                                                 14233.000000   \n",
       "Salisbury Ocean City Wicomico Regional Airport            11314.000000   \n",
       "Maastricht Aachen Airport                                  9493.428571   \n",
       "\n",
       "                                                origin_cancellation  \n",
       "flight_origin_name                                                   \n",
       "Angeles City Clark International Airport                   0.000000  \n",
       "Rutland Southern Vermont Regional Airport                  0.000000  \n",
       "Cold Lake                                                  0.000000  \n",
       "Salisbury Ocean City Wicomico Regional Airport             0.000000  \n",
       "Maastricht Aachen Airport                                  0.714286  "
      ]
     },
     "execution_count": 22,
     "metadata": {},
     "output_type": "execute_result"
    }
   ],
   "source": [
    "origin_delays.sort_values(by='origin_departure_delay', ascending=False).head()"
   ]
  },
  {
   "cell_type": "code",
   "execution_count": 23,
   "metadata": {},
   "outputs": [
    {
     "data": {
      "text/plain": [
       "destination_arrival_delay    float64\n",
       "dtype: object"
      ]
     },
     "execution_count": 23,
     "metadata": {},
     "output_type": "execute_result"
    }
   ],
   "source": [
    "destination_delays = flights.groupby('flight_destination_name').agg({'arrival_delay':'mean'}).rename(\n",
    "    columns={'arrival_delay':'destination_arrival_delay'})\n",
    "    \n",
    "destination_delays.dtypes"
   ]
  },
  {
   "cell_type": "code",
   "execution_count": 24,
   "metadata": {},
   "outputs": [
    {
     "data": {
      "text/html": [
       "<div>\n",
       "<style scoped>\n",
       "    .dataframe tbody tr th:only-of-type {\n",
       "        vertical-align: middle;\n",
       "    }\n",
       "\n",
       "    .dataframe tbody tr th {\n",
       "        vertical-align: top;\n",
       "    }\n",
       "\n",
       "    .dataframe thead th {\n",
       "        text-align: right;\n",
       "    }\n",
       "</style>\n",
       "<table border=\"1\" class=\"dataframe\">\n",
       "  <thead>\n",
       "    <tr style=\"text-align: right;\">\n",
       "      <th></th>\n",
       "      <th>destination_arrival_delay</th>\n",
       "    </tr>\n",
       "    <tr>\n",
       "      <th>flight_destination_name</th>\n",
       "      <th></th>\n",
       "    </tr>\n",
       "  </thead>\n",
       "  <tbody>\n",
       "    <tr>\n",
       "      <th>Lake City Gateway Airport</th>\n",
       "      <td>14857.000</td>\n",
       "    </tr>\n",
       "    <tr>\n",
       "      <th>Millington Regional Jetport</th>\n",
       "      <td>13437.000</td>\n",
       "    </tr>\n",
       "    <tr>\n",
       "      <th>Vitoria Eurico de Aguiar Salles Airport</th>\n",
       "      <td>9273.000</td>\n",
       "    </tr>\n",
       "    <tr>\n",
       "      <th>Kassel Calden Airport</th>\n",
       "      <td>8569.625</td>\n",
       "    </tr>\n",
       "    <tr>\n",
       "      <th>Jacksonville Cecil Airport</th>\n",
       "      <td>8514.000</td>\n",
       "    </tr>\n",
       "  </tbody>\n",
       "</table>\n",
       "</div>"
      ],
      "text/plain": [
       "                                         destination_arrival_delay\n",
       "flight_destination_name                                           \n",
       "Lake City Gateway Airport                                14857.000\n",
       "Millington Regional Jetport                              13437.000\n",
       "Vitoria Eurico de Aguiar Salles Airport                   9273.000\n",
       "Kassel Calden Airport                                     8569.625\n",
       "Jacksonville Cecil Airport                                8514.000"
      ]
     },
     "execution_count": 24,
     "metadata": {},
     "output_type": "execute_result"
    }
   ],
   "source": [
    "destination_delays.sort_values(by='destination_arrival_delay', ascending=False).head()"
   ]
  },
  {
   "cell_type": "code",
   "execution_count": 25,
   "metadata": {},
   "outputs": [
    {
     "data": {
      "text/plain": [
       "airline_departure_delay    float64\n",
       "airline_arrival_delay      float64\n",
       "airline_cancellation       float64\n",
       "dtype: object"
      ]
     },
     "execution_count": 25,
     "metadata": {},
     "output_type": "execute_result"
    }
   ],
   "source": [
    "airline_delays = flights.groupby('airline_name').agg({'departure_delay':'mean','arrival_delay':'mean',\n",
    "                                                     'assumed_cancellation':'mean'}).rename(\n",
    "columns={'departure_delay':'airline_departure_delay','arrival_delay':'airline_arrival_delay',\n",
    "        'assumed_cancellation':'airline_cancellation'})\n",
    "\n",
    "airline_delays.dtypes"
   ]
  },
  {
   "cell_type": "code",
   "execution_count": 26,
   "metadata": {},
   "outputs": [
    {
     "data": {
      "text/html": [
       "<div>\n",
       "<style scoped>\n",
       "    .dataframe tbody tr th:only-of-type {\n",
       "        vertical-align: middle;\n",
       "    }\n",
       "\n",
       "    .dataframe tbody tr th {\n",
       "        vertical-align: top;\n",
       "    }\n",
       "\n",
       "    .dataframe thead th {\n",
       "        text-align: right;\n",
       "    }\n",
       "</style>\n",
       "<table border=\"1\" class=\"dataframe\">\n",
       "  <thead>\n",
       "    <tr style=\"text-align: right;\">\n",
       "      <th></th>\n",
       "      <th>airline_departure_delay</th>\n",
       "      <th>airline_arrival_delay</th>\n",
       "      <th>airline_cancellation</th>\n",
       "    </tr>\n",
       "    <tr>\n",
       "      <th>airline_name</th>\n",
       "      <th></th>\n",
       "      <th></th>\n",
       "      <th></th>\n",
       "    </tr>\n",
       "  </thead>\n",
       "  <tbody>\n",
       "    <tr>\n",
       "      <th>El Al Israel Cargo</th>\n",
       "      <td>25850.00</td>\n",
       "      <td>24160.0</td>\n",
       "      <td>0.000</td>\n",
       "    </tr>\n",
       "    <tr>\n",
       "      <th>Magma Aviation</th>\n",
       "      <td>18494.00</td>\n",
       "      <td>312.5</td>\n",
       "      <td>0.000</td>\n",
       "    </tr>\n",
       "    <tr>\n",
       "      <th>Frontier (Seymour the Walrus Livery)</th>\n",
       "      <td>14423.50</td>\n",
       "      <td>12360.0</td>\n",
       "      <td>0.000</td>\n",
       "    </tr>\n",
       "    <tr>\n",
       "      <th>Nolinor Aviation</th>\n",
       "      <td>14066.25</td>\n",
       "      <td>0.0</td>\n",
       "      <td>0.375</td>\n",
       "    </tr>\n",
       "    <tr>\n",
       "      <th>Norwegian (Thor Heyerdahl livery)</th>\n",
       "      <td>13890.00</td>\n",
       "      <td>0.0</td>\n",
       "      <td>0.000</td>\n",
       "    </tr>\n",
       "  </tbody>\n",
       "</table>\n",
       "</div>"
      ],
      "text/plain": [
       "                                      airline_departure_delay  \\\n",
       "airline_name                                                    \n",
       "El Al Israel Cargo                                   25850.00   \n",
       "Magma Aviation                                       18494.00   \n",
       "Frontier (Seymour the Walrus Livery)                 14423.50   \n",
       "Nolinor Aviation                                     14066.25   \n",
       "Norwegian (Thor Heyerdahl livery)                    13890.00   \n",
       "\n",
       "                                      airline_arrival_delay  \\\n",
       "airline_name                                                  \n",
       "El Al Israel Cargo                                  24160.0   \n",
       "Magma Aviation                                        312.5   \n",
       "Frontier (Seymour the Walrus Livery)                12360.0   \n",
       "Nolinor Aviation                                        0.0   \n",
       "Norwegian (Thor Heyerdahl livery)                       0.0   \n",
       "\n",
       "                                      airline_cancellation  \n",
       "airline_name                                                \n",
       "El Al Israel Cargo                                   0.000  \n",
       "Magma Aviation                                       0.000  \n",
       "Frontier (Seymour the Walrus Livery)                 0.000  \n",
       "Nolinor Aviation                                     0.375  \n",
       "Norwegian (Thor Heyerdahl livery)                    0.000  "
      ]
     },
     "execution_count": 26,
     "metadata": {},
     "output_type": "execute_result"
    }
   ],
   "source": [
    "airline_delays.sort_values(by='airline_departure_delay', ascending=False).head()"
   ]
  },
  {
   "cell_type": "code",
   "execution_count": 27,
   "metadata": {},
   "outputs": [
    {
     "data": {
      "text/html": [
       "<div>\n",
       "<style scoped>\n",
       "    .dataframe tbody tr th:only-of-type {\n",
       "        vertical-align: middle;\n",
       "    }\n",
       "\n",
       "    .dataframe tbody tr th {\n",
       "        vertical-align: top;\n",
       "    }\n",
       "\n",
       "    .dataframe thead th {\n",
       "        text-align: right;\n",
       "    }\n",
       "</style>\n",
       "<table border=\"1\" class=\"dataframe\">\n",
       "  <thead>\n",
       "    <tr style=\"text-align: right;\">\n",
       "      <th></th>\n",
       "      <th>airline_departure_delay</th>\n",
       "      <th>airline_arrival_delay</th>\n",
       "      <th>airline_cancellation</th>\n",
       "    </tr>\n",
       "    <tr>\n",
       "      <th>airline_name</th>\n",
       "      <th></th>\n",
       "      <th></th>\n",
       "      <th></th>\n",
       "    </tr>\n",
       "  </thead>\n",
       "  <tbody>\n",
       "    <tr>\n",
       "      <th>El Al Israel Cargo</th>\n",
       "      <td>25850.00000</td>\n",
       "      <td>24160.000000</td>\n",
       "      <td>0.000000</td>\n",
       "    </tr>\n",
       "    <tr>\n",
       "      <th>Frontier (Seymour the Walrus Livery)</th>\n",
       "      <td>14423.50000</td>\n",
       "      <td>12360.000000</td>\n",
       "      <td>0.000000</td>\n",
       "    </tr>\n",
       "    <tr>\n",
       "      <th>Cargolux (Cutaway Livery)</th>\n",
       "      <td>11677.00000</td>\n",
       "      <td>9461.500000</td>\n",
       "      <td>0.250000</td>\n",
       "    </tr>\n",
       "    <tr>\n",
       "      <th>Aviolet</th>\n",
       "      <td>9727.00000</td>\n",
       "      <td>8299.000000</td>\n",
       "      <td>0.000000</td>\n",
       "    </tr>\n",
       "    <tr>\n",
       "      <th>Ethiopian Cargo</th>\n",
       "      <td>6943.62963</td>\n",
       "      <td>8209.777778</td>\n",
       "      <td>0.074074</td>\n",
       "    </tr>\n",
       "  </tbody>\n",
       "</table>\n",
       "</div>"
      ],
      "text/plain": [
       "                                      airline_departure_delay  \\\n",
       "airline_name                                                    \n",
       "El Al Israel Cargo                                25850.00000   \n",
       "Frontier (Seymour the Walrus Livery)              14423.50000   \n",
       "Cargolux (Cutaway Livery)                         11677.00000   \n",
       "Aviolet                                            9727.00000   \n",
       "Ethiopian Cargo                                    6943.62963   \n",
       "\n",
       "                                      airline_arrival_delay  \\\n",
       "airline_name                                                  \n",
       "El Al Israel Cargo                             24160.000000   \n",
       "Frontier (Seymour the Walrus Livery)           12360.000000   \n",
       "Cargolux (Cutaway Livery)                       9461.500000   \n",
       "Aviolet                                         8299.000000   \n",
       "Ethiopian Cargo                                 8209.777778   \n",
       "\n",
       "                                      airline_cancellation  \n",
       "airline_name                                                \n",
       "El Al Israel Cargo                                0.000000  \n",
       "Frontier (Seymour the Walrus Livery)              0.000000  \n",
       "Cargolux (Cutaway Livery)                         0.250000  \n",
       "Aviolet                                           0.000000  \n",
       "Ethiopian Cargo                                   0.074074  "
      ]
     },
     "execution_count": 27,
     "metadata": {},
     "output_type": "execute_result"
    }
   ],
   "source": [
    "airline_delays.sort_values(by='airline_arrival_delay', ascending=False).head()"
   ]
  },
  {
   "cell_type": "code",
   "execution_count": 28,
   "metadata": {},
   "outputs": [
    {
     "data": {
      "text/plain": [
       "aircraft_departure_delay    float64\n",
       "aircraft_arrival_delay      float64\n",
       "aircraft_cancellation       float64\n",
       "dtype: object"
      ]
     },
     "execution_count": 28,
     "metadata": {},
     "output_type": "execute_result"
    }
   ],
   "source": [
    "aircraft_delays = flights.groupby('aircraft_model_code').agg({'departure_delay':'mean','arrival_delay':'mean',\n",
    "                                                                    'assumed_cancellation':'mean'}).rename(\n",
    "columns={'departure_delay':'aircraft_departure_delay','arrival_delay':'aircraft_arrival_delay',\n",
    "        'assumed_cancellation':'aircraft_cancellation'})\n",
    "\n",
    "aircraft_delays.dtypes"
   ]
  },
  {
   "cell_type": "code",
   "execution_count": 29,
   "metadata": {},
   "outputs": [
    {
     "data": {
      "text/html": [
       "<div>\n",
       "<style scoped>\n",
       "    .dataframe tbody tr th:only-of-type {\n",
       "        vertical-align: middle;\n",
       "    }\n",
       "\n",
       "    .dataframe tbody tr th {\n",
       "        vertical-align: top;\n",
       "    }\n",
       "\n",
       "    .dataframe thead th {\n",
       "        text-align: right;\n",
       "    }\n",
       "</style>\n",
       "<table border=\"1\" class=\"dataframe\">\n",
       "  <thead>\n",
       "    <tr style=\"text-align: right;\">\n",
       "      <th></th>\n",
       "      <th>aircraft_departure_delay</th>\n",
       "      <th>aircraft_arrival_delay</th>\n",
       "      <th>aircraft_cancellation</th>\n",
       "    </tr>\n",
       "    <tr>\n",
       "      <th>aircraft_model_code</th>\n",
       "      <th></th>\n",
       "      <th></th>\n",
       "      <th></th>\n",
       "    </tr>\n",
       "  </thead>\n",
       "  <tbody>\n",
       "    <tr>\n",
       "      <th>SW4</th>\n",
       "      <td>2280.666667</td>\n",
       "      <td>8937.000000</td>\n",
       "      <td>0.00000</td>\n",
       "    </tr>\n",
       "    <tr>\n",
       "      <th>C152</th>\n",
       "      <td>4898.000000</td>\n",
       "      <td>5899.000000</td>\n",
       "      <td>0.00000</td>\n",
       "    </tr>\n",
       "    <tr>\n",
       "      <th>0000</th>\n",
       "      <td>7057.833333</td>\n",
       "      <td>5795.833333</td>\n",
       "      <td>0.00000</td>\n",
       "    </tr>\n",
       "    <tr>\n",
       "      <th>LJ35</th>\n",
       "      <td>5589.428571</td>\n",
       "      <td>3383.142857</td>\n",
       "      <td>0.00000</td>\n",
       "    </tr>\n",
       "    <tr>\n",
       "      <th>A30B</th>\n",
       "      <td>3503.281250</td>\n",
       "      <td>3338.062500</td>\n",
       "      <td>0.15625</td>\n",
       "    </tr>\n",
       "  </tbody>\n",
       "</table>\n",
       "</div>"
      ],
      "text/plain": [
       "                     aircraft_departure_delay  aircraft_arrival_delay  \\\n",
       "aircraft_model_code                                                     \n",
       "SW4                               2280.666667             8937.000000   \n",
       "C152                              4898.000000             5899.000000   \n",
       "0000                              7057.833333             5795.833333   \n",
       "LJ35                              5589.428571             3383.142857   \n",
       "A30B                              3503.281250             3338.062500   \n",
       "\n",
       "                     aircraft_cancellation  \n",
       "aircraft_model_code                         \n",
       "SW4                                0.00000  \n",
       "C152                               0.00000  \n",
       "0000                               0.00000  \n",
       "LJ35                               0.00000  \n",
       "A30B                               0.15625  "
      ]
     },
     "execution_count": 29,
     "metadata": {},
     "output_type": "execute_result"
    }
   ],
   "source": [
    "aircraft_delays.sort_values(by='aircraft_arrival_delay', ascending=False).head()"
   ]
  },
  {
   "cell_type": "code",
   "execution_count": 30,
   "metadata": {},
   "outputs": [
    {
     "data": {
      "text/plain": [
       "mode                               object\n",
       "flight_number                      object\n",
       "callsign                           object\n",
       "aircraft_model_code                object\n",
       "aircraft_model_description         object\n",
       "aircraft_registration              object\n",
       "airline_name                       object\n",
       "airline_iata                       object\n",
       "airline_icao                       object\n",
       "flight_origin_code_iata            object\n",
       "flight_origin_code_icao            object\n",
       "flight_origin_name                 object\n",
       "flight_origin_time_offset           int64\n",
       "flight_destination_code_iata       object\n",
       "flight_destination_code_icao       object\n",
       "flight_destination_name            object\n",
       "flight_destination_time_offset      int64\n",
       "flight_departure_scheduled          int64\n",
       "flight_departure_real             float64\n",
       "flight_arrival_scheduled            int64\n",
       "flight_arrival_real               float64\n",
       "flight_duration                   float64\n",
       "assumed_cancellation                int64\n",
       "scheduled_arrival_hour              int64\n",
       "scheduled_departure_hour            int64\n",
       "flight_duration_scheduled           int64\n",
       "arrival_delay                     float64\n",
       "departure_delay                   float64\n",
       "origin_departure_delay            float64\n",
       "origin_cancellation               float64\n",
       "destination_arrival_delay         float64\n",
       "airline_departure_delay           float64\n",
       "airline_arrival_delay             float64\n",
       "airline_cancellation              float64\n",
       "aircraft_departure_delay          float64\n",
       "aircraft_arrival_delay            float64\n",
       "aircraft_cancellation             float64\n",
       "dtype: object"
      ]
     },
     "execution_count": 30,
     "metadata": {},
     "output_type": "execute_result"
    }
   ],
   "source": [
    "flights = pd.merge (flights, origin_delays, on='flight_origin_name', suffixes=('_flight','_origin'))\n",
    "flights = pd.merge (flights, destination_delays, on='flight_destination_name', suffixes=('_flight','_destination'))\n",
    "flights = pd.merge (flights, airline_delays, on='airline_name', suffixes=('_flight','_airline'))\n",
    "flights = pd.merge (flights, aircraft_delays, on='aircraft_model_code', suffixes=('_flight','_aircraft'))\n",
    "flights.dtypes"
   ]
  },
  {
   "cell_type": "code",
   "execution_count": 31,
   "metadata": {},
   "outputs": [
    {
     "data": {
      "text/plain": [
       "mode                              0\n",
       "flight_number                     0\n",
       "callsign                          0\n",
       "aircraft_model_code               0\n",
       "aircraft_model_description        0\n",
       "aircraft_registration             0\n",
       "airline_name                      0\n",
       "airline_iata                      0\n",
       "airline_icao                      0\n",
       "flight_origin_code_iata           0\n",
       "flight_origin_code_icao           0\n",
       "flight_origin_name                0\n",
       "flight_origin_time_offset         0\n",
       "flight_destination_code_iata      0\n",
       "flight_destination_code_icao      0\n",
       "flight_destination_name           0\n",
       "flight_destination_time_offset    0\n",
       "flight_departure_scheduled        0\n",
       "flight_departure_real             0\n",
       "flight_arrival_scheduled          0\n",
       "flight_arrival_real               0\n",
       "flight_duration                   0\n",
       "assumed_cancellation              0\n",
       "scheduled_arrival_hour            0\n",
       "scheduled_departure_hour          0\n",
       "flight_duration_scheduled         0\n",
       "arrival_delay                     0\n",
       "departure_delay                   0\n",
       "origin_departure_delay            0\n",
       "origin_cancellation               0\n",
       "destination_arrival_delay         0\n",
       "airline_departure_delay           0\n",
       "airline_arrival_delay             0\n",
       "airline_cancellation              0\n",
       "aircraft_departure_delay          0\n",
       "aircraft_arrival_delay            0\n",
       "aircraft_cancellation             0\n",
       "dtype: int64"
      ]
     },
     "execution_count": 31,
     "metadata": {},
     "output_type": "execute_result"
    }
   ],
   "source": [
    "flights.isnull().sum(axis=0) # re-check for missing values"
   ]
  },
  {
   "cell_type": "code",
   "execution_count": 32,
   "metadata": {},
   "outputs": [
    {
     "data": {
      "text/plain": [
       "<matplotlib.axes._subplots.AxesSubplot at 0x1057ef160>"
      ]
     },
     "execution_count": 32,
     "metadata": {},
     "output_type": "execute_result"
    },
    {
     "data": {
      "image/png": "[encoded data removed]",
      "text/plain": [
       "<Figure size 432x288 with 1 Axes>"
      ]
     },
     "metadata": {
      "needs_background": "light"
     },
     "output_type": "display_data"
    }
   ],
   "source": [
    "flights.plot ('airline_arrival_delay', 'arrival_delay', kind='scatter')"
   ]
  },
  {
   "cell_type": "code",
   "execution_count": 33,
   "metadata": {},
   "outputs": [
    {
     "name": "stdout",
     "output_type": "stream",
     "text": [
      "0.0289657022354306\n"
     ]
    }
   ],
   "source": [
    "from sklearn.metrics import explained_variance_score, r2_score\n",
    "\n",
    "print (explained_variance_score (flights['arrival_delay'], flights['airline_arrival_delay']))"
   ]
  },
  {
   "cell_type": "code",
   "execution_count": 34,
   "metadata": {},
   "outputs": [
    {
     "name": "stdout",
     "output_type": "stream",
     "text": [
      "0.028965702235430713\n"
     ]
    }
   ],
   "source": [
    "print (r2_score (flights['arrival_delay'], flights['airline_arrival_delay']))"
   ]
  },
  {
   "cell_type": "code",
   "execution_count": 35,
   "metadata": {},
   "outputs": [
    {
     "name": "stdout",
     "output_type": "stream",
     "text": [
      "0.011183536476836009\n"
     ]
    }
   ],
   "source": [
    "print (explained_variance_score (flights['arrival_delay'], flights['aircraft_arrival_delay']))"
   ]
  },
  {
   "cell_type": "code",
   "execution_count": 36,
   "metadata": {},
   "outputs": [
    {
     "name": "stdout",
     "output_type": "stream",
     "text": [
      "0.011183536476835898\n"
     ]
    }
   ],
   "source": [
    "print (r2_score (flights['arrival_delay'], flights['aircraft_arrival_delay']))"
   ]
  },
  {
   "cell_type": "code",
   "execution_count": 37,
   "metadata": {},
   "outputs": [
    {
     "name": "stdout",
     "output_type": "stream",
     "text": [
      "0.01943271733567653\n"
     ]
    }
   ],
   "source": [
    "print (explained_variance_score (flights['arrival_delay'], flights['destination_arrival_delay']))"
   ]
  },
  {
   "cell_type": "code",
   "execution_count": 38,
   "metadata": {},
   "outputs": [
    {
     "name": "stdout",
     "output_type": "stream",
     "text": [
      "0.03507124920176963\n"
     ]
    }
   ],
   "source": [
    "print (explained_variance_score (flights['departure_delay'], flights['origin_departure_delay']))"
   ]
  },
  {
   "cell_type": "code",
   "execution_count": 39,
   "metadata": {},
   "outputs": [
    {
     "name": "stdout",
     "output_type": "stream",
     "text": [
      "0.07887898985493258\n"
     ]
    }
   ],
   "source": [
    "print (explained_variance_score (flights['assumed_cancellation'], flights['origin_cancellation']))"
   ]
  },
  {
   "cell_type": "code",
   "execution_count": 42,
   "metadata": {},
   "outputs": [
    {
     "name": "stdout",
     "output_type": "stream",
     "text": [
      "0.21007337063634002\n"
     ]
    }
   ],
   "source": [
    "print (explained_variance_score (flights['assumed_cancellation'], flights['airline_cancellation']))"
   ]
  },
  {
   "cell_type": "code",
   "execution_count": 44,
   "metadata": {},
   "outputs": [
    {
     "name": "stdout",
     "output_type": "stream",
     "text": [
      "0.5538384901480515\n"
     ]
    }
   ],
   "source": [
    "print (explained_variance_score (flights['assumed_cancellation'], flights['aircraft_cancellation']))"
   ]
  },
  {
   "cell_type": "code",
   "execution_count": 46,
   "metadata": {},
   "outputs": [
    {
     "name": "stdout",
     "output_type": "stream",
     "text": [
      "0.5538384901480515\n"
     ]
    }
   ],
   "source": [
    "print (r2_score (flights['assumed_cancellation'], flights['aircraft_cancellation']))"
   ]
  },
  {
   "cell_type": "markdown",
   "metadata": {},
   "source": [
    "# Derive features from the weather data"
   ]
  },
  {
   "cell_type": "code",
   "execution_count": 47,
   "metadata": {},
   "outputs": [
    {
     "data": {
      "text/html": [
       "<div>\n",
       "<style scoped>\n",
       "    .dataframe tbody tr th:only-of-type {\n",
       "        vertical-align: middle;\n",
       "    }\n",
       "\n",
       "    .dataframe tbody tr th {\n",
       "        vertical-align: top;\n",
       "    }\n",
       "\n",
       "    .dataframe thead th {\n",
       "        text-align: right;\n",
       "    }\n",
       "</style>\n",
       "<table border=\"1\" class=\"dataframe\">\n",
       "  <thead>\n",
       "    <tr style=\"text-align: right;\">\n",
       "      <th></th>\n",
       "      <th>mode</th>\n",
       "      <th>flight_number</th>\n",
       "      <th>callsign</th>\n",
       "      <th>aircraft_model_code</th>\n",
       "      <th>aircraft_model_description</th>\n",
       "      <th>aircraft_registration</th>\n",
       "      <th>airline_name</th>\n",
       "      <th>airline_iata</th>\n",
       "      <th>airline_icao</th>\n",
       "      <th>flight_origin_code_iata</th>\n",
       "      <th>...</th>\n",
       "      <th>aircraft_arrival_delay</th>\n",
       "      <th>aircraft_cancellation</th>\n",
       "      <th>AIRPORT_IATA_destination</th>\n",
       "      <th>hours_destination</th>\n",
       "      <th>departure_METAR</th>\n",
       "      <th>departure_weather</th>\n",
       "      <th>AIRPORT_IATA_arrival</th>\n",
       "      <th>hours_arrival</th>\n",
       "      <th>arrival_METAR</th>\n",
       "      <th>arrival_weather</th>\n",
       "    </tr>\n",
       "  </thead>\n",
       "  <tbody>\n",
       "    <tr>\n",
       "      <th>0</th>\n",
       "      <td>arrivals</td>\n",
       "      <td>UA900</td>\n",
       "      <td>UAL900</td>\n",
       "      <td>B77W</td>\n",
       "      <td>Boeing 777-322(ER)</td>\n",
       "      <td>N2644U</td>\n",
       "      <td>United Airlines</td>\n",
       "      <td>UA</td>\n",
       "      <td>UAL</td>\n",
       "      <td>LHR</td>\n",
       "      <td>...</td>\n",
       "      <td>651.610162</td>\n",
       "      <td>0.008396</td>\n",
       "      <td>LHR</td>\n",
       "      <td>432873</td>\n",
       "      <td>EGLL 200950Z AUTO 36006KT 310V050 9999 FEW031 ...</td>\n",
       "      <td>Day: 20th Time: 09:50 UTC Wind direction: 360 ...</td>\n",
       "      <td>SFO</td>\n",
       "      <td>432885</td>\n",
       "      <td>KSFO 202156Z 26015G19KT 10SM SCT029 17/08 A300...</td>\n",
       "      <td>Day: 20th Time: 21:56 UTC Wind direction: 260 ...</td>\n",
       "    </tr>\n",
       "    <tr>\n",
       "      <th>1</th>\n",
       "      <td>departures</td>\n",
       "      <td>UA900</td>\n",
       "      <td>UAL900</td>\n",
       "      <td>B77W</td>\n",
       "      <td>Boeing 777-322(ER)</td>\n",
       "      <td>N2644U</td>\n",
       "      <td>United Airlines</td>\n",
       "      <td>UA</td>\n",
       "      <td>UAL</td>\n",
       "      <td>LHR</td>\n",
       "      <td>...</td>\n",
       "      <td>651.610162</td>\n",
       "      <td>0.008396</td>\n",
       "      <td>LHR</td>\n",
       "      <td>432873</td>\n",
       "      <td>EGLL 200950Z AUTO 36006KT 310V050 9999 FEW031 ...</td>\n",
       "      <td>Day: 20th Time: 09:50 UTC Wind direction: 360 ...</td>\n",
       "      <td>SFO</td>\n",
       "      <td>432885</td>\n",
       "      <td>KSFO 202156Z 26015G19KT 10SM SCT029 17/08 A300...</td>\n",
       "      <td>Day: 20th Time: 21:56 UTC Wind direction: 260 ...</td>\n",
       "    </tr>\n",
       "    <tr>\n",
       "      <th>2</th>\n",
       "      <td>arrivals</td>\n",
       "      <td>VS19</td>\n",
       "      <td>VIR19Z</td>\n",
       "      <td>B789</td>\n",
       "      <td>Boeing 787-9 Dreamliner</td>\n",
       "      <td>G-VZIG</td>\n",
       "      <td>Virgin Atlantic</td>\n",
       "      <td>VS</td>\n",
       "      <td>VIR</td>\n",
       "      <td>LHR</td>\n",
       "      <td>...</td>\n",
       "      <td>546.642424</td>\n",
       "      <td>0.019941</td>\n",
       "      <td>LHR</td>\n",
       "      <td>432874</td>\n",
       "      <td>EGLL 201050Z AUTO 33007KT 280V020 9999 FEW036 ...</td>\n",
       "      <td>Day: 20th Time: 10:50 UTC Wind direction: 330 ...</td>\n",
       "      <td>SFO</td>\n",
       "      <td>432885</td>\n",
       "      <td>KSFO 202156Z 26015G19KT 10SM SCT029 17/08 A300...</td>\n",
       "      <td>Day: 20th Time: 21:56 UTC Wind direction: 260 ...</td>\n",
       "    </tr>\n",
       "    <tr>\n",
       "      <th>3</th>\n",
       "      <td>departures</td>\n",
       "      <td>VS19</td>\n",
       "      <td>VIR19Z</td>\n",
       "      <td>B789</td>\n",
       "      <td>Boeing 787-9 Dreamliner</td>\n",
       "      <td>G-VZIG</td>\n",
       "      <td>Virgin Atlantic</td>\n",
       "      <td>VS</td>\n",
       "      <td>VIR</td>\n",
       "      <td>LHR</td>\n",
       "      <td>...</td>\n",
       "      <td>546.642424</td>\n",
       "      <td>0.019941</td>\n",
       "      <td>LHR</td>\n",
       "      <td>432874</td>\n",
       "      <td>EGLL 201050Z AUTO 33007KT 280V020 9999 FEW036 ...</td>\n",
       "      <td>Day: 20th Time: 10:50 UTC Wind direction: 330 ...</td>\n",
       "      <td>SFO</td>\n",
       "      <td>432885</td>\n",
       "      <td>KSFO 202156Z 26015G19KT 10SM SCT029 17/08 A300...</td>\n",
       "      <td>Day: 20th Time: 21:56 UTC Wind direction: 260 ...</td>\n",
       "    </tr>\n",
       "    <tr>\n",
       "      <th>4</th>\n",
       "      <td>arrivals</td>\n",
       "      <td>BA285</td>\n",
       "      <td>BAW11M</td>\n",
       "      <td>B744</td>\n",
       "      <td>Boeing 747-436</td>\n",
       "      <td>G-BYGD</td>\n",
       "      <td>British Airways</td>\n",
       "      <td>BA</td>\n",
       "      <td>BAW</td>\n",
       "      <td>LHR</td>\n",
       "      <td>...</td>\n",
       "      <td>1258.780803</td>\n",
       "      <td>0.041184</td>\n",
       "      <td>LHR</td>\n",
       "      <td>432874</td>\n",
       "      <td>EGLL 201050Z AUTO 33007KT 280V020 9999 FEW036 ...</td>\n",
       "      <td>Day: 20th Time: 10:50 UTC Wind direction: 330 ...</td>\n",
       "      <td>SFO</td>\n",
       "      <td>432885</td>\n",
       "      <td>KSFO 202156Z 26015G19KT 10SM SCT029 17/08 A300...</td>\n",
       "      <td>Day: 20th Time: 21:56 UTC Wind direction: 260 ...</td>\n",
       "    </tr>\n",
       "  </tbody>\n",
       "</table>\n",
       "<p>5 rows × 45 columns</p>\n",
       "</div>"
      ],
      "text/plain": [
       "         mode flight_number callsign aircraft_model_code  \\\n",
       "0    arrivals         UA900   UAL900                B77W   \n",
       "1  departures         UA900   UAL900                B77W   \n",
       "2    arrivals          VS19   VIR19Z                B789   \n",
       "3  departures          VS19   VIR19Z                B789   \n",
       "4    arrivals         BA285   BAW11M                B744   \n",
       "\n",
       "  aircraft_model_description aircraft_registration     airline_name  \\\n",
       "0         Boeing 777-322(ER)                N2644U  United Airlines   \n",
       "1         Boeing 777-322(ER)                N2644U  United Airlines   \n",
       "2    Boeing 787-9 Dreamliner                G-VZIG  Virgin Atlantic   \n",
       "3    Boeing 787-9 Dreamliner                G-VZIG  Virgin Atlantic   \n",
       "4             Boeing 747-436                G-BYGD  British Airways   \n",
       "\n",
       "  airline_iata airline_icao flight_origin_code_iata  \\\n",
       "0           UA          UAL                     LHR   \n",
       "1           UA          UAL                     LHR   \n",
       "2           VS          VIR                     LHR   \n",
       "3           VS          VIR                     LHR   \n",
       "4           BA          BAW                     LHR   \n",
       "\n",
       "                         ...                         aircraft_arrival_delay  \\\n",
       "0                        ...                                     651.610162   \n",
       "1                        ...                                     651.610162   \n",
       "2                        ...                                     546.642424   \n",
       "3                        ...                                     546.642424   \n",
       "4                        ...                                    1258.780803   \n",
       "\n",
       "  aircraft_cancellation  AIRPORT_IATA_destination hours_destination  \\\n",
       "0              0.008396                       LHR            432873   \n",
       "1              0.008396                       LHR            432873   \n",
       "2              0.019941                       LHR            432874   \n",
       "3              0.019941                       LHR            432874   \n",
       "4              0.041184                       LHR            432874   \n",
       "\n",
       "                                     departure_METAR  \\\n",
       "0  EGLL 200950Z AUTO 36006KT 310V050 9999 FEW031 ...   \n",
       "1  EGLL 200950Z AUTO 36006KT 310V050 9999 FEW031 ...   \n",
       "2  EGLL 201050Z AUTO 33007KT 280V020 9999 FEW036 ...   \n",
       "3  EGLL 201050Z AUTO 33007KT 280V020 9999 FEW036 ...   \n",
       "4  EGLL 201050Z AUTO 33007KT 280V020 9999 FEW036 ...   \n",
       "\n",
       "                                   departure_weather  AIRPORT_IATA_arrival  \\\n",
       "0  Day: 20th Time: 09:50 UTC Wind direction: 360 ...                   SFO   \n",
       "1  Day: 20th Time: 09:50 UTC Wind direction: 360 ...                   SFO   \n",
       "2  Day: 20th Time: 10:50 UTC Wind direction: 330 ...                   SFO   \n",
       "3  Day: 20th Time: 10:50 UTC Wind direction: 330 ...                   SFO   \n",
       "4  Day: 20th Time: 10:50 UTC Wind direction: 330 ...                   SFO   \n",
       "\n",
       "   hours_arrival                                      arrival_METAR  \\\n",
       "0         432885  KSFO 202156Z 26015G19KT 10SM SCT029 17/08 A300...   \n",
       "1         432885  KSFO 202156Z 26015G19KT 10SM SCT029 17/08 A300...   \n",
       "2         432885  KSFO 202156Z 26015G19KT 10SM SCT029 17/08 A300...   \n",
       "3         432885  KSFO 202156Z 26015G19KT 10SM SCT029 17/08 A300...   \n",
       "4         432885  KSFO 202156Z 26015G19KT 10SM SCT029 17/08 A300...   \n",
       "\n",
       "                                     arrival_weather  \n",
       "0  Day: 20th Time: 21:56 UTC Wind direction: 260 ...  \n",
       "1  Day: 20th Time: 21:56 UTC Wind direction: 260 ...  \n",
       "2  Day: 20th Time: 21:56 UTC Wind direction: 260 ...  \n",
       "3  Day: 20th Time: 21:56 UTC Wind direction: 260 ...  \n",
       "4  Day: 20th Time: 21:56 UTC Wind direction: 260 ...  \n",
       "\n",
       "[5 rows x 45 columns]"
      ]
     },
     "execution_count": 47,
     "metadata": {},
     "output_type": "execute_result"
    }
   ],
   "source": [
    "flight_weather = pd.merge(flights,airport_weather, \n",
    "                          left_on=['flight_origin_code_iata','scheduled_departure_hour'], \n",
    "                          right_on=['AIRPORT_IATA','hours'], \n",
    "                          suffixes=('_origin','_departure')).rename(columns={'METAR':'departure_METAR',\n",
    "                                                                             'DESCRIPTION':'departure_weather'})\n",
    "flight_weather = pd.merge(flight_weather,airport_weather, \n",
    "                          left_on=['flight_destination_code_iata','scheduled_arrival_hour'], \n",
    "                          right_on=['AIRPORT_IATA','hours'], \n",
    "                          suffixes=('_destination','_arrival')).rename(columns={'METAR':'arrival_METAR',\n",
    "                                                                             'DESCRIPTION':'arrival_weather'})\n",
    "flight_weather.head()"
   ]
  },
  {
   "cell_type": "code",
   "execution_count": 48,
   "metadata": {},
   "outputs": [
    {
     "data": {
      "text/plain": [
       "mode                              0\n",
       "flight_number                     0\n",
       "callsign                          0\n",
       "aircraft_model_code               0\n",
       "aircraft_model_description        0\n",
       "aircraft_registration             0\n",
       "airline_name                      0\n",
       "airline_iata                      0\n",
       "airline_icao                      0\n",
       "flight_origin_code_iata           0\n",
       "flight_origin_code_icao           0\n",
       "flight_origin_name                0\n",
       "flight_origin_time_offset         0\n",
       "flight_destination_code_iata      0\n",
       "flight_destination_code_icao      0\n",
       "flight_destination_name           0\n",
       "flight_destination_time_offset    0\n",
       "flight_departure_scheduled        0\n",
       "flight_departure_real             0\n",
       "flight_arrival_scheduled          0\n",
       "flight_arrival_real               0\n",
       "flight_duration                   0\n",
       "assumed_cancellation              0\n",
       "scheduled_arrival_hour            0\n",
       "scheduled_departure_hour          0\n",
       "flight_duration_scheduled         0\n",
       "arrival_delay                     0\n",
       "departure_delay                   0\n",
       "origin_departure_delay            0\n",
       "origin_cancellation               0\n",
       "destination_arrival_delay         0\n",
       "airline_departure_delay           0\n",
       "airline_arrival_delay             0\n",
       "airline_cancellation              0\n",
       "aircraft_departure_delay          0\n",
       "aircraft_arrival_delay            0\n",
       "aircraft_cancellation             0\n",
       "AIRPORT_IATA_destination          0\n",
       "hours_destination                 0\n",
       "departure_METAR                   0\n",
       "departure_weather                 0\n",
       "AIRPORT_IATA_arrival              0\n",
       "hours_arrival                     0\n",
       "arrival_METAR                     0\n",
       "arrival_weather                   0\n",
       "dtype: int64"
      ]
     },
     "execution_count": 48,
     "metadata": {},
     "output_type": "execute_result"
    }
   ],
   "source": [
    "flight_weather.isnull().sum(axis=0) # check for missing values"
   ]
  },
  {
   "cell_type": "code",
   "execution_count": 49,
   "metadata": {},
   "outputs": [
    {
     "data": {
      "text/plain": [
       "mode                               object\n",
       "flight_number                      object\n",
       "callsign                           object\n",
       "aircraft_model_code                object\n",
       "aircraft_model_description         object\n",
       "aircraft_registration              object\n",
       "airline_name                       object\n",
       "airline_iata                       object\n",
       "airline_icao                       object\n",
       "flight_origin_code_iata            object\n",
       "flight_origin_code_icao            object\n",
       "flight_origin_name                 object\n",
       "flight_origin_time_offset           int64\n",
       "flight_destination_code_iata       object\n",
       "flight_destination_code_icao       object\n",
       "flight_destination_name            object\n",
       "flight_destination_time_offset      int64\n",
       "flight_departure_scheduled          int64\n",
       "flight_departure_real             float64\n",
       "flight_arrival_scheduled            int64\n",
       "flight_arrival_real               float64\n",
       "flight_duration                   float64\n",
       "assumed_cancellation                int64\n",
       "scheduled_arrival_hour              int64\n",
       "scheduled_departure_hour            int64\n",
       "flight_duration_scheduled           int64\n",
       "arrival_delay                     float64\n",
       "departure_delay                   float64\n",
       "origin_departure_delay            float64\n",
       "origin_cancellation               float64\n",
       "destination_arrival_delay         float64\n",
       "airline_departure_delay           float64\n",
       "airline_arrival_delay             float64\n",
       "airline_cancellation              float64\n",
       "aircraft_departure_delay          float64\n",
       "aircraft_arrival_delay            float64\n",
       "aircraft_cancellation             float64\n",
       "AIRPORT_IATA_destination           object\n",
       "hours_destination                   int64\n",
       "departure_METAR                    object\n",
       "departure_weather                  object\n",
       "AIRPORT_IATA_arrival               object\n",
       "hours_arrival                       int64\n",
       "arrival_METAR                      object\n",
       "arrival_weather                    object\n",
       "dtype: object"
      ]
     },
     "execution_count": 49,
     "metadata": {},
     "output_type": "execute_result"
    }
   ],
   "source": [
    "flight_weather.dtypes"
   ]
  },
  {
   "cell_type": "code",
   "execution_count": 50,
   "metadata": {},
   "outputs": [
    {
     "data": {
      "text/plain": [
       "count    25539.000000\n",
       "mean      9912.734719\n",
       "std        603.695498\n",
       "min        700.000000\n",
       "25%       9999.000000\n",
       "50%       9999.000000\n",
       "75%       9999.000000\n",
       "max       9999.000000\n",
       "Name: departure_visibility, dtype: float64"
      ]
     },
     "execution_count": 50,
     "metadata": {},
     "output_type": "execute_result"
    }
   ],
   "source": [
    "import re\n",
    "\n",
    "def extract_visibility (w):\n",
    "    match = re.search('Visibility: (.+?) m',w)\n",
    "    if match:\n",
    "        return int (match.group(1))\n",
    "    else:\n",
    "        return 9999 # METAR NOSIG default is 9999 m\n",
    "\n",
    "flight_weather['departure_visibility'] = flight_weather['departure_weather'].map(lambda w: extract_visibility(w))\n",
    "flight_weather['arrival_visibility'] = flight_weather['arrival_weather'].map(lambda w: extract_visibility(w))\n",
    "\n",
    "flight_weather['departure_visibility'].describe()"
   ]
  },
  {
   "cell_type": "code",
   "execution_count": 51,
   "metadata": {},
   "outputs": [
    {
     "name": "stdout",
     "output_type": "stream",
     "text": [
      "-0.05240637972192541\n"
     ]
    }
   ],
   "source": [
    "print (explained_variance_score (flight_weather['arrival_delay'],flight_weather['arrival_visibility']))"
   ]
  },
  {
   "cell_type": "code",
   "execution_count": 52,
   "metadata": {},
   "outputs": [
    {
     "name": "stdout",
     "output_type": "stream",
     "text": [
      "-0.04114611289283254\n"
     ]
    }
   ],
   "source": [
    "print (explained_variance_score (flight_weather['departure_delay'],flight_weather['departure_visibility']))"
   ]
  },
  {
   "cell_type": "code",
   "execution_count": 53,
   "metadata": {},
   "outputs": [
    {
     "data": {
      "text/plain": [
       "<matplotlib.axes._subplots.AxesSubplot at 0x11e229eb8>"
      ]
     },
     "execution_count": 53,
     "metadata": {},
     "output_type": "execute_result"
    },
    {
     "data": {
      "image/png": "[encoded data removed]",
      "text/plain": [
       "<Figure size 432x288 with 1 Axes>"
      ]
     },
     "metadata": {
      "needs_background": "light"
     },
     "output_type": "display_data"
    }
   ],
   "source": [
    "flight_weather.plot('departure_visibility', 'departure_delay', kind='scatter')"
   ]
  },
  {
   "cell_type": "code",
   "execution_count": 54,
   "metadata": {},
   "outputs": [
    {
     "data": {
      "text/plain": [
       "<matplotlib.axes._subplots.AxesSubplot at 0x11e079b00>"
      ]
     },
     "execution_count": 54,
     "metadata": {},
     "output_type": "execute_result"
    },
    {
     "data": {
      "image/png": "[encoded data removed]",
      "text/plain": [
       "<Figure size 432x288 with 1 Axes>"
      ]
     },
     "metadata": {
      "needs_background": "light"
     },
     "output_type": "display_data"
    }
   ],
   "source": [
    "flight_weather.plot('arrival_visibility', 'arrival_delay', kind='scatter')"
   ]
  },
  {
   "cell_type": "code",
   "execution_count": 55,
   "metadata": {},
   "outputs": [
    {
     "data": {
      "text/plain": [
       "count    25539.000000\n",
       "mean        19.097733\n",
       "std          4.654455\n",
       "min          6.000000\n",
       "25%         16.000000\n",
       "50%         18.000000\n",
       "75%         22.000000\n",
       "max         34.000000\n",
       "Name: departure_temperature, dtype: float64"
      ]
     },
     "execution_count": 55,
     "metadata": {},
     "output_type": "execute_result"
    }
   ],
   "source": [
    "def extract_temperature (w):\n",
    "    match = re.search('Temperature: (.+?)C',w)\n",
    "    if match:\n",
    "        return int (match.group(1))\n",
    "    else:\n",
    "        return 16 # if temperature missing then assume gloval average temperature as default\n",
    "\n",
    "flight_weather['departure_temperature'] = flight_weather['departure_weather'].map(lambda w: extract_temperature(w))\n",
    "flight_weather['arrival_temperature'] = flight_weather['arrival_weather'].map(lambda w: extract_temperature(w))\n",
    "\n",
    "flight_weather['departure_temperature'].describe()"
   ]
  },
  {
   "cell_type": "code",
   "execution_count": 56,
   "metadata": {},
   "outputs": [
    {
     "data": {
      "text/plain": [
       "count    25539.0\n",
       "mean         0.0\n",
       "std          0.0\n",
       "min          0.0\n",
       "25%          0.0\n",
       "50%          0.0\n",
       "75%          0.0\n",
       "max          0.0\n",
       "Name: freezing_at_departure, dtype: float64"
      ]
     },
     "execution_count": 56,
     "metadata": {},
     "output_type": "execute_result"
    }
   ],
   "source": [
    "def is_freezing (t):\n",
    "    if (t < 4):\n",
    "        return 1\n",
    "    else:\n",
    "        return 0\n",
    "\n",
    "flight_weather['freezing_at_departure'] = flight_weather['departure_temperature'].map(lambda t: is_freezing(t))\n",
    "flight_weather['freezing_at_arrival'] = flight_weather['arrival_temperature'].map(lambda t: is_freezing(t))\n",
    "\n",
    "flight_weather['freezing_at_departure'].describe()"
   ]
  },
  {
   "cell_type": "code",
   "execution_count": 57,
   "metadata": {},
   "outputs": [
    {
     "data": {
      "text/plain": [
       "<matplotlib.axes._subplots.AxesSubplot at 0x11e143b38>"
      ]
     },
     "execution_count": 57,
     "metadata": {},
     "output_type": "execute_result"
    },
    {
     "data": {
      "image/png": "[encoded data removed]",
      "text/plain": [
       "<Figure size 432x288 with 1 Axes>"
      ]
     },
     "metadata": {
      "needs_background": "light"
     },
     "output_type": "display_data"
    }
   ],
   "source": [
    "flight_weather.plot('departure_temperature', 'departure_delay', kind='scatter')"
   ]
  },
  {
   "cell_type": "code",
   "execution_count": 58,
   "metadata": {},
   "outputs": [
    {
     "data": {
      "text/plain": [
       "<matplotlib.axes._subplots.AxesSubplot at 0x11e476128>"
      ]
     },
     "execution_count": 58,
     "metadata": {},
     "output_type": "execute_result"
    },
    {
     "data": {
      "image/png": "[encoded data removed]",
      "text/plain": [
       "<Figure size 432x288 with 1 Axes>"
      ]
     },
     "metadata": {
      "needs_background": "light"
     },
     "output_type": "display_data"
    }
   ],
   "source": [
    "flight_weather.plot('arrival_temperature', 'arrival_delay', kind='scatter')"
   ]
  },
  {
   "cell_type": "code",
   "execution_count": 59,
   "metadata": {},
   "outputs": [
    {
     "data": {
      "text/plain": [
       "count    25539.000000\n",
       "mean         8.702847\n",
       "std          4.467975\n",
       "min          0.000000\n",
       "25%          6.000000\n",
       "50%          8.000000\n",
       "75%         11.000000\n",
       "max         33.000000\n",
       "Name: departure_windspeed, dtype: float64"
      ]
     },
     "execution_count": 59,
     "metadata": {},
     "output_type": "execute_result"
    }
   ],
   "source": [
    "def extract_windspeed (w):\n",
    "    match = re.search('Wind speed: (.+?)kt',w)\n",
    "    if match:\n",
    "        return int (match.group(1))\n",
    "    else:\n",
    "        return 0 # if windspeed is missing then assume no wind\n",
    "\n",
    "flight_weather['departure_windspeed'] = flight_weather['departure_weather'].map(lambda w: extract_windspeed(w))\n",
    "flight_weather['arrival_windspeed'] = flight_weather['arrival_weather'].map(lambda w: extract_windspeed(w))\n",
    "\n",
    "flight_weather['departure_windspeed'].describe()"
   ]
  },
  {
   "cell_type": "code",
   "execution_count": 60,
   "metadata": {},
   "outputs": [
    {
     "data": {
      "text/plain": [
       "<matplotlib.axes._subplots.AxesSubplot at 0x11e639048>"
      ]
     },
     "execution_count": 60,
     "metadata": {},
     "output_type": "execute_result"
    },
    {
     "data": {
      "image/png": "[encoded data removed]",
      "text/plain": [
       "<Figure size 432x288 with 1 Axes>"
      ]
     },
     "metadata": {
      "needs_background": "light"
     },
     "output_type": "display_data"
    }
   ],
   "source": [
    "flight_weather.plot('departure_windspeed', 'departure_delay', kind='scatter')"
   ]
  },
  {
   "cell_type": "code",
   "execution_count": 61,
   "metadata": {},
   "outputs": [
    {
     "data": {
      "text/plain": [
       "<matplotlib.axes._subplots.AxesSubplot at 0x11e6f94e0>"
      ]
     },
     "execution_count": 61,
     "metadata": {},
     "output_type": "execute_result"
    },
    {
     "data": {
      "image/png": "[encoded data removed]",
      "text/plain": [
       "<Figure size 432x288 with 1 Axes>"
      ]
     },
     "metadata": {
      "needs_background": "light"
     },
     "output_type": "display_data"
    }
   ],
   "source": [
    "flight_weather.plot('arrival_windspeed', 'arrival_delay', kind='scatter')"
   ]
  },
  {
   "cell_type": "code",
   "execution_count": 62,
   "metadata": {},
   "outputs": [
    {
     "data": {
      "text/plain": [
       "count    25539.000000\n",
       "mean      1007.669838\n",
       "std          8.642688\n",
       "min       1000.000000\n",
       "25%       1000.000000\n",
       "50%       1001.000000\n",
       "75%       1015.000000\n",
       "max       1031.000000\n",
       "Name: departure_pressure, dtype: float64"
      ]
     },
     "execution_count": 62,
     "metadata": {},
     "output_type": "execute_result"
    }
   ],
   "source": [
    "def extract_pressure (w):\n",
    "    match = re.search('Pressure: (.+?) hPa',w)\n",
    "    if match:\n",
    "        return int (match.group(1))\n",
    "    else:\n",
    "        return 1000 # if pressure is missing then assume global average\n",
    "\n",
    "flight_weather['departure_pressure'] = flight_weather['departure_weather'].map(lambda w: extract_pressure(w))\n",
    "flight_weather['arrival_pressure'] = flight_weather['arrival_weather'].map(lambda w: extract_pressure(w))\n",
    "\n",
    "flight_weather['departure_pressure'].describe()"
   ]
  },
  {
   "cell_type": "code",
   "execution_count": 63,
   "metadata": {},
   "outputs": [
    {
     "data": {
      "text/plain": [
       "<matplotlib.axes._subplots.AxesSubplot at 0x11e7470b8>"
      ]
     },
     "execution_count": 63,
     "metadata": {},
     "output_type": "execute_result"
    },
    {
     "data": {
      "image/png": "[encoded data removed]",
      "text/plain": [
       "<Figure size 432x288 with 1 Axes>"
      ]
     },
     "metadata": {
      "needs_background": "light"
     },
     "output_type": "display_data"
    }
   ],
   "source": [
    "flight_weather.plot('departure_pressure', 'departure_delay', kind='scatter')"
   ]
  },
  {
   "cell_type": "code",
   "execution_count": 64,
   "metadata": {},
   "outputs": [
    {
     "data": {
      "text/plain": [
       "<matplotlib.axes._subplots.AxesSubplot at 0x11f8e87b8>"
      ]
     },
     "execution_count": 64,
     "metadata": {},
     "output_type": "execute_result"
    },
    {
     "data": {
      "image/png": "[encoded data removed]",
      "text/plain": [
       "<Figure size 432x288 with 1 Axes>"
      ]
     },
     "metadata": {
      "needs_background": "light"
     },
     "output_type": "display_data"
    }
   ],
   "source": [
    "flight_weather.plot('arrival_pressure', 'arrival_delay', kind='scatter')"
   ]
  },
  {
   "cell_type": "code",
   "execution_count": 65,
   "metadata": {},
   "outputs": [
    {
     "data": {
      "text/plain": [
       "count    25539.000000\n",
       "mean        11.480168\n",
       "std          4.152691\n",
       "min         -2.000000\n",
       "25%          9.000000\n",
       "50%         11.000000\n",
       "75%         14.000000\n",
       "max         25.000000\n",
       "Name: departure_dewpoint, dtype: float64"
      ]
     },
     "execution_count": 65,
     "metadata": {},
     "output_type": "execute_result"
    }
   ],
   "source": [
    "def extract_dewpoint (w):\n",
    "    match = re.search('Dew point: (.+?)C',w)\n",
    "    if match:\n",
    "        return int (match.group(1))\n",
    "    else:\n",
    "        return 16 # if temperature missing then global average temperature as default\n",
    "\n",
    "flight_weather['departure_dewpoint'] = flight_weather['departure_weather'].map(lambda w: extract_dewpoint(w))\n",
    "flight_weather['arrival_dewpoint'] = flight_weather['arrival_weather'].map(lambda w: extract_dewpoint(w))\n",
    "flight_weather['departure_clouds'] = flight_weather['departure_temperature'] - flight_weather['departure_dewpoint']\n",
    "flight_weather['arrival_clouds'] = flight_weather['arrival_temperature'] - flight_weather['arrival_dewpoint']\n",
    "\n",
    "flight_weather['departure_dewpoint'].describe()"
   ]
  },
  {
   "cell_type": "code",
   "execution_count": 66,
   "metadata": {},
   "outputs": [
    {
     "data": {
      "text/plain": [
       "count    25539.000000\n",
       "mean        11.563021\n",
       "std          4.195023\n",
       "min         -2.000000\n",
       "25%          9.000000\n",
       "50%         11.000000\n",
       "75%         14.000000\n",
       "max         25.000000\n",
       "Name: arrival_dewpoint, dtype: float64"
      ]
     },
     "execution_count": 66,
     "metadata": {},
     "output_type": "execute_result"
    }
   ],
   "source": [
    "flight_weather['arrival_dewpoint'].describe()"
   ]
  },
  {
   "cell_type": "code",
   "execution_count": 67,
   "metadata": {},
   "outputs": [
    {
     "data": {
      "text/plain": [
       "count    25539.000000\n",
       "mean         7.617565\n",
       "std          4.614260\n",
       "min          0.000000\n",
       "25%          4.000000\n",
       "50%          7.000000\n",
       "75%         10.000000\n",
       "max         24.000000\n",
       "Name: departure_clouds, dtype: float64"
      ]
     },
     "execution_count": 67,
     "metadata": {},
     "output_type": "execute_result"
    }
   ],
   "source": [
    "flight_weather['departure_clouds'].describe()"
   ]
  },
  {
   "cell_type": "code",
   "execution_count": 68,
   "metadata": {},
   "outputs": [
    {
     "data": {
      "text/plain": [
       "count    25539.000000\n",
       "mean         7.558362\n",
       "std          4.613021\n",
       "min          0.000000\n",
       "25%          4.000000\n",
       "50%          7.000000\n",
       "75%         10.000000\n",
       "max         24.000000\n",
       "Name: arrival_clouds, dtype: float64"
      ]
     },
     "execution_count": 68,
     "metadata": {},
     "output_type": "execute_result"
    }
   ],
   "source": [
    "flight_weather['arrival_clouds'].describe()"
   ]
  },
  {
   "cell_type": "code",
   "execution_count": 69,
   "metadata": {},
   "outputs": [
    {
     "data": {
      "text/plain": [
       "<matplotlib.axes._subplots.AxesSubplot at 0x11fe94358>"
      ]
     },
     "execution_count": 69,
     "metadata": {},
     "output_type": "execute_result"
    },
    {
     "data": {
      "image/png": "[encoded data removed]",
      "text/plain": [
       "<Figure size 432x288 with 1 Axes>"
      ]
     },
     "metadata": {
      "needs_background": "light"
     },
     "output_type": "display_data"
    }
   ],
   "source": [
    "flight_weather.plot('departure_dewpoint', 'departure_delay', kind='scatter')"
   ]
  },
  {
   "cell_type": "code",
   "execution_count": 70,
   "metadata": {},
   "outputs": [
    {
     "data": {
      "text/plain": [
       "<matplotlib.axes._subplots.AxesSubplot at 0x12001b8d0>"
      ]
     },
     "execution_count": 70,
     "metadata": {},
     "output_type": "execute_result"
    },
    {
     "data": {
      "image/png": "[encoded data removed]",
      "text/plain": [
       "<Figure size 432x288 with 1 Axes>"
      ]
     },
     "metadata": {
      "needs_background": "light"
     },
     "output_type": "display_data"
    }
   ],
   "source": [
    "flight_weather.plot('arrival_dewpoint', 'arrival_delay', kind='scatter')"
   ]
  },
  {
   "cell_type": "code",
   "execution_count": 71,
   "metadata": {},
   "outputs": [
    {
     "name": "stdout",
     "output_type": "stream",
     "text": [
      "0.00018604841301383956\n"
     ]
    }
   ],
   "source": [
    "print (explained_variance_score (flight_weather['departure_delay'],flight_weather['departure_dewpoint']))"
   ]
  },
  {
   "cell_type": "code",
   "execution_count": 72,
   "metadata": {},
   "outputs": [
    {
     "name": "stdout",
     "output_type": "stream",
     "text": [
      "0.00012621855383365688\n"
     ]
    }
   ],
   "source": [
    "print (explained_variance_score (flight_weather['arrival_delay'],flight_weather['arrival_dewpoint']))"
   ]
  },
  {
   "cell_type": "code",
   "execution_count": 73,
   "metadata": {},
   "outputs": [
    {
     "data": {
      "text/plain": [
       "<matplotlib.axes._subplots.AxesSubplot at 0x1203a7320>"
      ]
     },
     "execution_count": 73,
     "metadata": {},
     "output_type": "execute_result"
    },
    {
     "data": {
      "image/png": "[encoded data removed]",
      "text/plain": [
       "<Figure size 432x288 with 1 Axes>"
      ]
     },
     "metadata": {
      "needs_background": "light"
     },
     "output_type": "display_data"
    }
   ],
   "source": [
    "flight_weather.plot('departure_clouds', 'departure_delay', kind='scatter')"
   ]
  },
  {
   "cell_type": "code",
   "execution_count": 74,
   "metadata": {},
   "outputs": [
    {
     "data": {
      "text/plain": [
       "<matplotlib.axes._subplots.AxesSubplot at 0x120482b70>"
      ]
     },
     "execution_count": 74,
     "metadata": {},
     "output_type": "execute_result"
    },
    {
     "data": {
      "image/png": "[encoded data removed]",
      "text/plain": [
       "<Figure size 432x288 with 1 Axes>"
      ]
     },
     "metadata": {
      "needs_background": "light"
     },
     "output_type": "display_data"
    }
   ],
   "source": [
    "flight_weather.plot('arrival_clouds', 'arrival_delay', kind='scatter')"
   ]
  },
  {
   "cell_type": "code",
   "execution_count": 75,
   "metadata": {},
   "outputs": [
    {
     "data": {
      "text/plain": [
       "<matplotlib.axes._subplots.AxesSubplot at 0x1207cb518>"
      ]
     },
     "execution_count": 75,
     "metadata": {},
     "output_type": "execute_result"
    },
    {
     "data": {
      "image/png": "[encoded data removed]",
      "text/plain": [
       "<Figure size 432x288 with 1 Axes>"
      ]
     },
     "metadata": {
      "needs_background": "light"
     },
     "output_type": "display_data"
    }
   ],
   "source": [
    "flight_weather.plot('departure_delay', 'arrival_delay', kind='scatter')"
   ]
  },
  {
   "cell_type": "code",
   "execution_count": 76,
   "metadata": {},
   "outputs": [
    {
     "name": "stdout",
     "output_type": "stream",
     "text": [
      "0.6200186730704473\n"
     ]
    }
   ],
   "source": [
    "print (explained_variance_score (flight_weather['arrival_delay'],flight_weather['departure_delay']))"
   ]
  },
  {
   "cell_type": "code",
   "execution_count": 77,
   "metadata": {},
   "outputs": [
    {
     "name": "stdout",
     "output_type": "stream",
     "text": [
      "0.34271916634105437\n"
     ]
    }
   ],
   "source": [
    "print (r2_score (flight_weather['arrival_delay'],flight_weather['departure_delay']))"
   ]
  },
  {
   "cell_type": "markdown",
   "metadata": {},
   "source": [
    "# Derive time-related features for recent delays and cancellations"
   ]
  },
  {
   "cell_type": "code",
   "execution_count": 78,
   "metadata": {},
   "outputs": [
    {
     "data": {
      "text/plain": [
       "mode                               object\n",
       "flight_number                      object\n",
       "callsign                           object\n",
       "aircraft_model_code                object\n",
       "aircraft_model_description         object\n",
       "aircraft_registration              object\n",
       "airline_name                       object\n",
       "airline_iata                       object\n",
       "airline_icao                       object\n",
       "flight_origin_code_iata            object\n",
       "flight_origin_code_icao            object\n",
       "flight_origin_name                 object\n",
       "flight_origin_time_offset           int64\n",
       "flight_destination_code_iata       object\n",
       "flight_destination_code_icao       object\n",
       "flight_destination_name            object\n",
       "flight_destination_time_offset      int64\n",
       "flight_departure_scheduled          int64\n",
       "flight_departure_real             float64\n",
       "flight_arrival_scheduled            int64\n",
       "flight_arrival_real               float64\n",
       "flight_duration                   float64\n",
       "assumed_cancellation                int64\n",
       "scheduled_arrival_hour              int64\n",
       "scheduled_departure_hour            int64\n",
       "flight_duration_scheduled           int64\n",
       "arrival_delay                     float64\n",
       "departure_delay                   float64\n",
       "origin_departure_delay            float64\n",
       "origin_cancellation               float64\n",
       "                                   ...   \n",
       "airline_cancellation              float64\n",
       "aircraft_departure_delay          float64\n",
       "aircraft_arrival_delay            float64\n",
       "aircraft_cancellation             float64\n",
       "AIRPORT_IATA_destination           object\n",
       "hours_destination                   int64\n",
       "departure_METAR                    object\n",
       "departure_weather                  object\n",
       "AIRPORT_IATA_arrival               object\n",
       "hours_arrival                       int64\n",
       "arrival_METAR                      object\n",
       "arrival_weather                    object\n",
       "departure_visibility                int64\n",
       "arrival_visibility                  int64\n",
       "departure_temperature               int64\n",
       "arrival_temperature                 int64\n",
       "freezing_at_departure               int64\n",
       "freezing_at_arrival                 int64\n",
       "departure_windspeed                 int64\n",
       "arrival_windspeed                   int64\n",
       "departure_pressure                  int64\n",
       "arrival_pressure                    int64\n",
       "departure_dewpoint                  int64\n",
       "arrival_dewpoint                    int64\n",
       "departure_clouds                    int64\n",
       "arrival_clouds                      int64\n",
       "departure_previous_hour             int64\n",
       "departure_day                       int64\n",
       "arrival_previous_hour               int64\n",
       "arrival_day                         int64\n",
       "Length: 63, dtype: object"
      ]
     },
     "execution_count": 78,
     "metadata": {},
     "output_type": "execute_result"
    }
   ],
   "source": [
    "flight_weather['departure_previous_hour'] = flight_weather['scheduled_departure_hour'].map(lambda h: h-1)\n",
    "flight_weather['departure_day'] = flight_weather['departure_previous_hour'].map(lambda h: np.rint((h)/24)).astype(int)\n",
    "flight_weather['arrival_previous_hour'] = flight_weather['scheduled_arrival_hour'].map(lambda h: h-1)\n",
    "flight_weather['arrival_day'] = flight_weather['arrival_previous_hour'].map(lambda h: np.rint((h)/24)).astype(int)\n",
    "flight_weather.dtypes"
   ]
  },
  {
   "cell_type": "code",
   "execution_count": 79,
   "metadata": {},
   "outputs": [
    {
     "data": {
      "text/html": [
       "<div>\n",
       "<style scoped>\n",
       "    .dataframe tbody tr th:only-of-type {\n",
       "        vertical-align: middle;\n",
       "    }\n",
       "\n",
       "    .dataframe tbody tr th {\n",
       "        vertical-align: top;\n",
       "    }\n",
       "\n",
       "    .dataframe thead th {\n",
       "        text-align: right;\n",
       "    }\n",
       "</style>\n",
       "<table border=\"1\" class=\"dataframe\">\n",
       "  <thead>\n",
       "    <tr style=\"text-align: right;\">\n",
       "      <th></th>\n",
       "      <th>flight_origin_code_iata</th>\n",
       "      <th>departure_day</th>\n",
       "      <th>departure_backlog_today</th>\n",
       "      <th>cancellations_today</th>\n",
       "    </tr>\n",
       "  </thead>\n",
       "  <tbody>\n",
       "    <tr>\n",
       "      <th>0</th>\n",
       "      <td>ATH</td>\n",
       "      <td>18035</td>\n",
       "      <td>2490.727273</td>\n",
       "      <td>0.0</td>\n",
       "    </tr>\n",
       "    <tr>\n",
       "      <th>1</th>\n",
       "      <td>ATH</td>\n",
       "      <td>18036</td>\n",
       "      <td>2078.193548</td>\n",
       "      <td>0.0</td>\n",
       "    </tr>\n",
       "    <tr>\n",
       "      <th>2</th>\n",
       "      <td>ATH</td>\n",
       "      <td>18037</td>\n",
       "      <td>1606.814815</td>\n",
       "      <td>0.0</td>\n",
       "    </tr>\n",
       "    <tr>\n",
       "      <th>3</th>\n",
       "      <td>ATH</td>\n",
       "      <td>18038</td>\n",
       "      <td>1404.600000</td>\n",
       "      <td>0.0</td>\n",
       "    </tr>\n",
       "    <tr>\n",
       "      <th>4</th>\n",
       "      <td>ATH</td>\n",
       "      <td>18039</td>\n",
       "      <td>1092.244444</td>\n",
       "      <td>0.0</td>\n",
       "    </tr>\n",
       "  </tbody>\n",
       "</table>\n",
       "</div>"
      ],
      "text/plain": [
       "  flight_origin_code_iata  departure_day  departure_backlog_today  \\\n",
       "0                     ATH          18035              2490.727273   \n",
       "1                     ATH          18036              2078.193548   \n",
       "2                     ATH          18037              1606.814815   \n",
       "3                     ATH          18038              1404.600000   \n",
       "4                     ATH          18039              1092.244444   \n",
       "\n",
       "   cancellations_today  \n",
       "0                  0.0  \n",
       "1                  0.0  \n",
       "2                  0.0  \n",
       "3                  0.0  \n",
       "4                  0.0  "
      ]
     },
     "execution_count": 79,
     "metadata": {},
     "output_type": "execute_result"
    }
   ],
   "source": [
    "departure_backlog_daily = flight_weather.groupby(['flight_origin_code_iata',\n",
    "                            'departure_day']).agg({'departure_delay':'mean',\n",
    "                                                'assumed_cancellation':'mean'}).reset_index().rename(\n",
    "    columns={'departure_delay':'departure_backlog_today',\n",
    "                    'assumed_cancellation':'cancellations_today'})\n",
    "\n",
    "departure_backlog_daily.head()"
   ]
  },
  {
   "cell_type": "code",
   "execution_count": 80,
   "metadata": {},
   "outputs": [
    {
     "data": {
      "text/html": [
       "<div>\n",
       "<style scoped>\n",
       "    .dataframe tbody tr th:only-of-type {\n",
       "        vertical-align: middle;\n",
       "    }\n",
       "\n",
       "    .dataframe tbody tr th {\n",
       "        vertical-align: top;\n",
       "    }\n",
       "\n",
       "    .dataframe thead th {\n",
       "        text-align: right;\n",
       "    }\n",
       "</style>\n",
       "<table border=\"1\" class=\"dataframe\">\n",
       "  <thead>\n",
       "    <tr style=\"text-align: right;\">\n",
       "      <th></th>\n",
       "      <th>flight_origin_code_iata</th>\n",
       "      <th>scheduled_departure_hour</th>\n",
       "      <th>departure_backlog</th>\n",
       "      <th>previous_cancellations</th>\n",
       "    </tr>\n",
       "  </thead>\n",
       "  <tbody>\n",
       "    <tr>\n",
       "      <th>0</th>\n",
       "      <td>ATH</td>\n",
       "      <td>432849</td>\n",
       "      <td>3118.0</td>\n",
       "      <td>0.0</td>\n",
       "    </tr>\n",
       "    <tr>\n",
       "      <th>1</th>\n",
       "      <td>ATH</td>\n",
       "      <td>432850</td>\n",
       "      <td>1269.5</td>\n",
       "      <td>0.0</td>\n",
       "    </tr>\n",
       "    <tr>\n",
       "      <th>2</th>\n",
       "      <td>ATH</td>\n",
       "      <td>432851</td>\n",
       "      <td>2199.0</td>\n",
       "      <td>0.0</td>\n",
       "    </tr>\n",
       "    <tr>\n",
       "      <th>3</th>\n",
       "      <td>ATH</td>\n",
       "      <td>432852</td>\n",
       "      <td>2895.0</td>\n",
       "      <td>0.0</td>\n",
       "    </tr>\n",
       "    <tr>\n",
       "      <th>4</th>\n",
       "      <td>ATH</td>\n",
       "      <td>432853</td>\n",
       "      <td>1447.0</td>\n",
       "      <td>0.0</td>\n",
       "    </tr>\n",
       "  </tbody>\n",
       "</table>\n",
       "</div>"
      ],
      "text/plain": [
       "  flight_origin_code_iata  scheduled_departure_hour  departure_backlog  \\\n",
       "0                     ATH                    432849             3118.0   \n",
       "1                     ATH                    432850             1269.5   \n",
       "2                     ATH                    432851             2199.0   \n",
       "3                     ATH                    432852             2895.0   \n",
       "4                     ATH                    432853             1447.0   \n",
       "\n",
       "   previous_cancellations  \n",
       "0                     0.0  \n",
       "1                     0.0  \n",
       "2                     0.0  \n",
       "3                     0.0  \n",
       "4                     0.0  "
      ]
     },
     "execution_count": 80,
     "metadata": {},
     "output_type": "execute_result"
    }
   ],
   "source": [
    "departure_backlog = flight_weather.groupby(['flight_origin_code_iata',\n",
    "                            'scheduled_departure_hour']).agg({'departure_delay':'mean',\n",
    "                                                'assumed_cancellation':'mean'}).reset_index().rename(\n",
    "    columns={'departure_delay':'departure_backlog',\n",
    "                    'assumed_cancellation':'previous_cancellations'})   \n",
    "\n",
    "departure_backlog.head()"
   ]
  },
  {
   "cell_type": "code",
   "execution_count": 81,
   "metadata": {},
   "outputs": [
    {
     "data": {
      "text/plain": [
       "mode                                  object\n",
       "flight_number                         object\n",
       "callsign                              object\n",
       "aircraft_model_code                   object\n",
       "aircraft_model_description            object\n",
       "aircraft_registration                 object\n",
       "airline_name                          object\n",
       "airline_iata                          object\n",
       "airline_icao                          object\n",
       "flight_origin_code_iata               object\n",
       "flight_origin_code_icao               object\n",
       "flight_origin_name                    object\n",
       "flight_origin_time_offset              int64\n",
       "flight_destination_code_iata          object\n",
       "flight_destination_code_icao          object\n",
       "flight_destination_name               object\n",
       "flight_destination_time_offset         int64\n",
       "flight_departure_scheduled             int64\n",
       "flight_departure_real                float64\n",
       "flight_arrival_scheduled               int64\n",
       "flight_arrival_real                  float64\n",
       "flight_duration                      float64\n",
       "assumed_cancellation                   int64\n",
       "scheduled_arrival_hour                 int64\n",
       "scheduled_departure_hour_current       int64\n",
       "flight_duration_scheduled              int64\n",
       "arrival_delay                        float64\n",
       "departure_delay                      float64\n",
       "origin_departure_delay               float64\n",
       "origin_cancellation                  float64\n",
       "                                      ...   \n",
       "hours_destination                      int64\n",
       "departure_METAR                       object\n",
       "departure_weather                     object\n",
       "AIRPORT_IATA_arrival                  object\n",
       "hours_arrival                          int64\n",
       "arrival_METAR                         object\n",
       "arrival_weather                       object\n",
       "departure_visibility                   int64\n",
       "arrival_visibility                     int64\n",
       "departure_temperature                  int64\n",
       "arrival_temperature                    int64\n",
       "freezing_at_departure                  int64\n",
       "freezing_at_arrival                    int64\n",
       "departure_windspeed                    int64\n",
       "arrival_windspeed                      int64\n",
       "departure_pressure                     int64\n",
       "arrival_pressure                       int64\n",
       "departure_dewpoint                     int64\n",
       "arrival_dewpoint                       int64\n",
       "departure_clouds                       int64\n",
       "arrival_clouds                         int64\n",
       "departure_previous_hour                int64\n",
       "departure_day                          int64\n",
       "arrival_previous_hour                  int64\n",
       "arrival_day                            int64\n",
       "departure_backlog_today              float64\n",
       "cancellations_today                  float64\n",
       "scheduled_departure_hour_previous      int64\n",
       "departure_backlog                    float64\n",
       "previous_cancellations               float64\n",
       "Length: 68, dtype: object"
      ]
     },
     "execution_count": 81,
     "metadata": {},
     "output_type": "execute_result"
    }
   ],
   "source": [
    "features = pd.merge(flight_weather,departure_backlog_daily, \n",
    "                          on=['flight_origin_code_iata','departure_day'],\n",
    "                        suffixes=('_flights','_backlog'))\n",
    "\n",
    "features = pd.merge(features,departure_backlog, \n",
    "                          left_on=['flight_origin_code_iata','departure_previous_hour'], \n",
    "                          right_on=['flight_origin_code_iata','scheduled_departure_hour'], \n",
    "                          suffixes=('_current','_previous'))\n",
    "                                    \n",
    "features.dtypes"
   ]
  },
  {
   "cell_type": "code",
   "execution_count": 82,
   "metadata": {},
   "outputs": [
    {
     "data": {
      "text/html": [
       "<div>\n",
       "<style scoped>\n",
       "    .dataframe tbody tr th:only-of-type {\n",
       "        vertical-align: middle;\n",
       "    }\n",
       "\n",
       "    .dataframe tbody tr th {\n",
       "        vertical-align: top;\n",
       "    }\n",
       "\n",
       "    .dataframe thead th {\n",
       "        text-align: right;\n",
       "    }\n",
       "</style>\n",
       "<table border=\"1\" class=\"dataframe\">\n",
       "  <thead>\n",
       "    <tr style=\"text-align: right;\">\n",
       "      <th></th>\n",
       "      <th>mode</th>\n",
       "      <th>flight_number</th>\n",
       "      <th>callsign</th>\n",
       "      <th>aircraft_model_code</th>\n",
       "      <th>aircraft_model_description</th>\n",
       "      <th>aircraft_registration</th>\n",
       "      <th>airline_name</th>\n",
       "      <th>airline_iata</th>\n",
       "      <th>airline_icao</th>\n",
       "      <th>flight_origin_code_iata</th>\n",
       "      <th>...</th>\n",
       "      <th>arrival_clouds</th>\n",
       "      <th>departure_previous_hour</th>\n",
       "      <th>departure_day</th>\n",
       "      <th>arrival_previous_hour</th>\n",
       "      <th>arrival_day</th>\n",
       "      <th>departure_backlog_today</th>\n",
       "      <th>cancellations_today</th>\n",
       "      <th>scheduled_departure_hour_previous</th>\n",
       "      <th>departure_backlog</th>\n",
       "      <th>previous_cancellations</th>\n",
       "    </tr>\n",
       "  </thead>\n",
       "  <tbody>\n",
       "    <tr>\n",
       "      <th>0</th>\n",
       "      <td>arrivals</td>\n",
       "      <td>UA900</td>\n",
       "      <td>UAL900</td>\n",
       "      <td>B77W</td>\n",
       "      <td>Boeing 777-322(ER)</td>\n",
       "      <td>N2644U</td>\n",
       "      <td>United Airlines</td>\n",
       "      <td>UA</td>\n",
       "      <td>UAL</td>\n",
       "      <td>LHR</td>\n",
       "      <td>...</td>\n",
       "      <td>9</td>\n",
       "      <td>432872</td>\n",
       "      <td>18036</td>\n",
       "      <td>432884</td>\n",
       "      <td>18037</td>\n",
       "      <td>1700.658228</td>\n",
       "      <td>0.037975</td>\n",
       "      <td>432872</td>\n",
       "      <td>1597.625</td>\n",
       "      <td>0.0</td>\n",
       "    </tr>\n",
       "    <tr>\n",
       "      <th>1</th>\n",
       "      <td>departures</td>\n",
       "      <td>UA900</td>\n",
       "      <td>UAL900</td>\n",
       "      <td>B77W</td>\n",
       "      <td>Boeing 777-322(ER)</td>\n",
       "      <td>N2644U</td>\n",
       "      <td>United Airlines</td>\n",
       "      <td>UA</td>\n",
       "      <td>UAL</td>\n",
       "      <td>LHR</td>\n",
       "      <td>...</td>\n",
       "      <td>9</td>\n",
       "      <td>432872</td>\n",
       "      <td>18036</td>\n",
       "      <td>432884</td>\n",
       "      <td>18037</td>\n",
       "      <td>1700.658228</td>\n",
       "      <td>0.037975</td>\n",
       "      <td>432872</td>\n",
       "      <td>1597.625</td>\n",
       "      <td>0.0</td>\n",
       "    </tr>\n",
       "    <tr>\n",
       "      <th>2</th>\n",
       "      <td>arrivals</td>\n",
       "      <td>AA101</td>\n",
       "      <td>AAL101</td>\n",
       "      <td>B772</td>\n",
       "      <td>Boeing 777-223(ER)</td>\n",
       "      <td>N767AJ</td>\n",
       "      <td>American Airlines</td>\n",
       "      <td>AA</td>\n",
       "      <td>AAL</td>\n",
       "      <td>LHR</td>\n",
       "      <td>...</td>\n",
       "      <td>10</td>\n",
       "      <td>432872</td>\n",
       "      <td>18036</td>\n",
       "      <td>432880</td>\n",
       "      <td>18037</td>\n",
       "      <td>1700.658228</td>\n",
       "      <td>0.037975</td>\n",
       "      <td>432872</td>\n",
       "      <td>1597.625</td>\n",
       "      <td>0.0</td>\n",
       "    </tr>\n",
       "    <tr>\n",
       "      <th>3</th>\n",
       "      <td>departures</td>\n",
       "      <td>AA101</td>\n",
       "      <td>AAL101</td>\n",
       "      <td>B772</td>\n",
       "      <td>Boeing 777-223(ER)</td>\n",
       "      <td>N767AJ</td>\n",
       "      <td>American Airlines</td>\n",
       "      <td>AA</td>\n",
       "      <td>AAL</td>\n",
       "      <td>LHR</td>\n",
       "      <td>...</td>\n",
       "      <td>10</td>\n",
       "      <td>432872</td>\n",
       "      <td>18036</td>\n",
       "      <td>432880</td>\n",
       "      <td>18037</td>\n",
       "      <td>1700.658228</td>\n",
       "      <td>0.037975</td>\n",
       "      <td>432872</td>\n",
       "      <td>1597.625</td>\n",
       "      <td>0.0</td>\n",
       "    </tr>\n",
       "    <tr>\n",
       "      <th>4</th>\n",
       "      <td>arrivals</td>\n",
       "      <td>BA283</td>\n",
       "      <td>BAW283</td>\n",
       "      <td>B744</td>\n",
       "      <td>Boeing 747-436</td>\n",
       "      <td>G-CIVW</td>\n",
       "      <td>British Airways</td>\n",
       "      <td>BA</td>\n",
       "      <td>BAW</td>\n",
       "      <td>LHR</td>\n",
       "      <td>...</td>\n",
       "      <td>10</td>\n",
       "      <td>432872</td>\n",
       "      <td>18036</td>\n",
       "      <td>432883</td>\n",
       "      <td>18037</td>\n",
       "      <td>1700.658228</td>\n",
       "      <td>0.037975</td>\n",
       "      <td>432872</td>\n",
       "      <td>1597.625</td>\n",
       "      <td>0.0</td>\n",
       "    </tr>\n",
       "  </tbody>\n",
       "</table>\n",
       "<p>5 rows × 68 columns</p>\n",
       "</div>"
      ],
      "text/plain": [
       "         mode flight_number callsign aircraft_model_code  \\\n",
       "0    arrivals         UA900   UAL900                B77W   \n",
       "1  departures         UA900   UAL900                B77W   \n",
       "2    arrivals         AA101   AAL101                B772   \n",
       "3  departures         AA101   AAL101                B772   \n",
       "4    arrivals         BA283   BAW283                B744   \n",
       "\n",
       "  aircraft_model_description aircraft_registration       airline_name  \\\n",
       "0         Boeing 777-322(ER)                N2644U    United Airlines   \n",
       "1         Boeing 777-322(ER)                N2644U    United Airlines   \n",
       "2         Boeing 777-223(ER)                N767AJ  American Airlines   \n",
       "3         Boeing 777-223(ER)                N767AJ  American Airlines   \n",
       "4             Boeing 747-436                G-CIVW    British Airways   \n",
       "\n",
       "  airline_iata airline_icao flight_origin_code_iata           ...            \\\n",
       "0           UA          UAL                     LHR           ...             \n",
       "1           UA          UAL                     LHR           ...             \n",
       "2           AA          AAL                     LHR           ...             \n",
       "3           AA          AAL                     LHR           ...             \n",
       "4           BA          BAW                     LHR           ...             \n",
       "\n",
       "  arrival_clouds departure_previous_hour  departure_day arrival_previous_hour  \\\n",
       "0              9                  432872          18036                432884   \n",
       "1              9                  432872          18036                432884   \n",
       "2             10                  432872          18036                432880   \n",
       "3             10                  432872          18036                432880   \n",
       "4             10                  432872          18036                432883   \n",
       "\n",
       "  arrival_day departure_backlog_today  cancellations_today  \\\n",
       "0       18037             1700.658228             0.037975   \n",
       "1       18037             1700.658228             0.037975   \n",
       "2       18037             1700.658228             0.037975   \n",
       "3       18037             1700.658228             0.037975   \n",
       "4       18037             1700.658228             0.037975   \n",
       "\n",
       "   scheduled_departure_hour_previous  departure_backlog  \\\n",
       "0                             432872           1597.625   \n",
       "1                             432872           1597.625   \n",
       "2                             432872           1597.625   \n",
       "3                             432872           1597.625   \n",
       "4                             432872           1597.625   \n",
       "\n",
       "   previous_cancellations  \n",
       "0                     0.0  \n",
       "1                     0.0  \n",
       "2                     0.0  \n",
       "3                     0.0  \n",
       "4                     0.0  \n",
       "\n",
       "[5 rows x 68 columns]"
      ]
     },
     "execution_count": 82,
     "metadata": {},
     "output_type": "execute_result"
    }
   ],
   "source": [
    "features.head()"
   ]
  },
  {
   "cell_type": "code",
   "execution_count": 83,
   "metadata": {},
   "outputs": [
    {
     "data": {
      "text/plain": [
       "<matplotlib.axes._subplots.AxesSubplot at 0x120873320>"
      ]
     },
     "execution_count": 83,
     "metadata": {},
     "output_type": "execute_result"
    },
    {
     "data": {
      "image/png": "[encoded data removed]",
      "text/plain": [
       "<Figure size 432x288 with 1 Axes>"
      ]
     },
     "metadata": {
      "needs_background": "light"
     },
     "output_type": "display_data"
    }
   ],
   "source": [
    "features.plot('departure_delay','departure_backlog',kind='scatter')"
   ]
  },
  {
   "cell_type": "code",
   "execution_count": 84,
   "metadata": {},
   "outputs": [
    {
     "data": {
      "text/plain": [
       "<matplotlib.axes._subplots.AxesSubplot at 0x120b6c438>"
      ]
     },
     "execution_count": 84,
     "metadata": {},
     "output_type": "execute_result"
    },
    {
     "data": {
      "image/png": "[encoded data removed]",
      "text/plain": [
       "<Figure size 432x288 with 1 Axes>"
      ]
     },
     "metadata": {
      "needs_background": "light"
     },
     "output_type": "display_data"
    }
   ],
   "source": [
    "features.plot('departure_delay','departure_backlog_today',kind='scatter')"
   ]
  },
  {
   "cell_type": "code",
   "execution_count": 85,
   "metadata": {},
   "outputs": [
    {
     "data": {
      "text/html": [
       "<div>\n",
       "<style scoped>\n",
       "    .dataframe tbody tr th:only-of-type {\n",
       "        vertical-align: middle;\n",
       "    }\n",
       "\n",
       "    .dataframe tbody tr th {\n",
       "        vertical-align: top;\n",
       "    }\n",
       "\n",
       "    .dataframe thead th {\n",
       "        text-align: right;\n",
       "    }\n",
       "</style>\n",
       "<table border=\"1\" class=\"dataframe\">\n",
       "  <thead>\n",
       "    <tr style=\"text-align: right;\">\n",
       "      <th></th>\n",
       "      <th>flight_destination_code_iata</th>\n",
       "      <th>arrival_day</th>\n",
       "      <th>arrival_backlog_today</th>\n",
       "    </tr>\n",
       "  </thead>\n",
       "  <tbody>\n",
       "    <tr>\n",
       "      <th>0</th>\n",
       "      <td>ATH</td>\n",
       "      <td>18035</td>\n",
       "      <td>1000.250000</td>\n",
       "    </tr>\n",
       "    <tr>\n",
       "      <th>1</th>\n",
       "      <td>ATH</td>\n",
       "      <td>18036</td>\n",
       "      <td>1526.490566</td>\n",
       "    </tr>\n",
       "    <tr>\n",
       "      <th>2</th>\n",
       "      <td>ATH</td>\n",
       "      <td>18037</td>\n",
       "      <td>599.535714</td>\n",
       "    </tr>\n",
       "    <tr>\n",
       "      <th>3</th>\n",
       "      <td>ATH</td>\n",
       "      <td>18038</td>\n",
       "      <td>492.016949</td>\n",
       "    </tr>\n",
       "    <tr>\n",
       "      <th>4</th>\n",
       "      <td>ATH</td>\n",
       "      <td>18039</td>\n",
       "      <td>561.784314</td>\n",
       "    </tr>\n",
       "  </tbody>\n",
       "</table>\n",
       "</div>"
      ],
      "text/plain": [
       "  flight_destination_code_iata  arrival_day  arrival_backlog_today\n",
       "0                          ATH        18035            1000.250000\n",
       "1                          ATH        18036            1526.490566\n",
       "2                          ATH        18037             599.535714\n",
       "3                          ATH        18038             492.016949\n",
       "4                          ATH        18039             561.784314"
      ]
     },
     "execution_count": 85,
     "metadata": {},
     "output_type": "execute_result"
    }
   ],
   "source": [
    "arrival_backlog_daily = flight_weather.groupby(['flight_destination_code_iata',\n",
    "                            'arrival_day']).agg({'arrival_delay':'mean'}).reset_index().rename(\n",
    "    columns={'arrival_delay':'arrival_backlog_today'})\n",
    "    \n",
    "arrival_backlog_daily.head()"
   ]
  },
  {
   "cell_type": "code",
   "execution_count": 86,
   "metadata": {},
   "outputs": [
    {
     "data": {
      "text/html": [
       "<div>\n",
       "<style scoped>\n",
       "    .dataframe tbody tr th:only-of-type {\n",
       "        vertical-align: middle;\n",
       "    }\n",
       "\n",
       "    .dataframe tbody tr th {\n",
       "        vertical-align: top;\n",
       "    }\n",
       "\n",
       "    .dataframe thead th {\n",
       "        text-align: right;\n",
       "    }\n",
       "</style>\n",
       "<table border=\"1\" class=\"dataframe\">\n",
       "  <thead>\n",
       "    <tr style=\"text-align: right;\">\n",
       "      <th></th>\n",
       "      <th>flight_destination_code_iata</th>\n",
       "      <th>scheduled_arrival_hour</th>\n",
       "      <th>arrival_backlog</th>\n",
       "    </tr>\n",
       "  </thead>\n",
       "  <tbody>\n",
       "    <tr>\n",
       "      <th>0</th>\n",
       "      <td>ATH</td>\n",
       "      <td>432851</td>\n",
       "      <td>1959.333333</td>\n",
       "    </tr>\n",
       "    <tr>\n",
       "      <th>1</th>\n",
       "      <td>ATH</td>\n",
       "      <td>432852</td>\n",
       "      <td>1908.000000</td>\n",
       "    </tr>\n",
       "    <tr>\n",
       "      <th>2</th>\n",
       "      <td>ATH</td>\n",
       "      <td>432853</td>\n",
       "      <td>1330.333333</td>\n",
       "    </tr>\n",
       "    <tr>\n",
       "      <th>3</th>\n",
       "      <td>ATH</td>\n",
       "      <td>432854</td>\n",
       "      <td>2099.000000</td>\n",
       "    </tr>\n",
       "    <tr>\n",
       "      <th>4</th>\n",
       "      <td>ATH</td>\n",
       "      <td>432855</td>\n",
       "      <td>1219.000000</td>\n",
       "    </tr>\n",
       "  </tbody>\n",
       "</table>\n",
       "</div>"
      ],
      "text/plain": [
       "  flight_destination_code_iata  scheduled_arrival_hour  arrival_backlog\n",
       "0                          ATH                  432851      1959.333333\n",
       "1                          ATH                  432852      1908.000000\n",
       "2                          ATH                  432853      1330.333333\n",
       "3                          ATH                  432854      2099.000000\n",
       "4                          ATH                  432855      1219.000000"
      ]
     },
     "execution_count": 86,
     "metadata": {},
     "output_type": "execute_result"
    }
   ],
   "source": [
    "arrival_backlog = flight_weather.groupby(['flight_destination_code_iata',\n",
    "                            'scheduled_arrival_hour']).agg({'departure_delay':'mean',}).reset_index().rename(\n",
    "    columns={'departure_delay':'arrival_backlog'})   \n",
    "\n",
    "arrival_backlog.head()"
   ]
  },
  {
   "cell_type": "code",
   "execution_count": 87,
   "metadata": {},
   "outputs": [
    {
     "data": {
      "text/plain": [
       "mode                                  object\n",
       "flight_number                         object\n",
       "callsign                              object\n",
       "aircraft_model_code                   object\n",
       "aircraft_model_description            object\n",
       "aircraft_registration                 object\n",
       "airline_name                          object\n",
       "airline_iata                          object\n",
       "airline_icao                          object\n",
       "flight_origin_code_iata               object\n",
       "flight_origin_code_icao               object\n",
       "flight_origin_name                    object\n",
       "flight_origin_time_offset              int64\n",
       "flight_destination_code_iata          object\n",
       "flight_destination_code_icao          object\n",
       "flight_destination_name               object\n",
       "flight_destination_time_offset         int64\n",
       "flight_departure_scheduled             int64\n",
       "flight_departure_real                float64\n",
       "flight_arrival_scheduled               int64\n",
       "flight_arrival_real                  float64\n",
       "flight_duration                      float64\n",
       "assumed_cancellation                   int64\n",
       "scheduled_arrival_hour_current         int64\n",
       "scheduled_departure_hour_current       int64\n",
       "flight_duration_scheduled              int64\n",
       "arrival_delay                        float64\n",
       "departure_delay                      float64\n",
       "origin_departure_delay               float64\n",
       "origin_cancellation                  float64\n",
       "                                      ...   \n",
       "AIRPORT_IATA_arrival                  object\n",
       "hours_arrival                          int64\n",
       "arrival_METAR                         object\n",
       "arrival_weather                       object\n",
       "departure_visibility                   int64\n",
       "arrival_visibility                     int64\n",
       "departure_temperature                  int64\n",
       "arrival_temperature                    int64\n",
       "freezing_at_departure                  int64\n",
       "freezing_at_arrival                    int64\n",
       "departure_windspeed                    int64\n",
       "arrival_windspeed                      int64\n",
       "departure_pressure                     int64\n",
       "arrival_pressure                       int64\n",
       "departure_dewpoint                     int64\n",
       "arrival_dewpoint                       int64\n",
       "departure_clouds                       int64\n",
       "arrival_clouds                         int64\n",
       "departure_previous_hour                int64\n",
       "departure_day                          int64\n",
       "arrival_previous_hour                  int64\n",
       "arrival_day                            int64\n",
       "departure_backlog_today              float64\n",
       "cancellations_today                  float64\n",
       "scheduled_departure_hour_previous      int64\n",
       "departure_backlog                    float64\n",
       "previous_cancellations               float64\n",
       "arrival_backlog_today                float64\n",
       "scheduled_arrival_hour_previous        int64\n",
       "arrival_backlog                      float64\n",
       "Length: 71, dtype: object"
      ]
     },
     "execution_count": 87,
     "metadata": {},
     "output_type": "execute_result"
    }
   ],
   "source": [
    "features = pd.merge(features,arrival_backlog_daily, on=['flight_destination_code_iata','arrival_day'],\n",
    "                   suffixes=('_current','_previous'))\n",
    "\n",
    "features = pd.merge(features,arrival_backlog, \n",
    "                          left_on=['flight_destination_code_iata','arrival_previous_hour'], \n",
    "                          right_on=['flight_destination_code_iata','scheduled_arrival_hour'], \n",
    "                          suffixes=('_current','_previous'))\n",
    "                                    \n",
    "features.dtypes"
   ]
  },
  {
   "cell_type": "code",
   "execution_count": 88,
   "metadata": {},
   "outputs": [
    {
     "data": {
      "text/plain": [
       "<matplotlib.axes._subplots.AxesSubplot at 0x11e562748>"
      ]
     },
     "execution_count": 88,
     "metadata": {},
     "output_type": "execute_result"
    },
    {
     "data": {
      "image/png": "[encoded data removed]",
      "text/plain": [
       "<Figure size 432x288 with 1 Axes>"
      ]
     },
     "metadata": {
      "needs_background": "light"
     },
     "output_type": "display_data"
    }
   ],
   "source": [
    "features.plot('arrival_delay','arrival_backlog_today',kind='scatter')"
   ]
  },
  {
   "cell_type": "code",
   "execution_count": 89,
   "metadata": {},
   "outputs": [
    {
     "name": "stdout",
     "output_type": "stream",
     "text": [
      "0.07122332574340884\n"
     ]
    }
   ],
   "source": [
    "print (explained_variance_score (features['arrival_delay'],features['arrival_backlog_today']))"
   ]
  },
  {
   "cell_type": "code",
   "execution_count": 90,
   "metadata": {},
   "outputs": [
    {
     "data": {
      "text/plain": [
       "<matplotlib.axes._subplots.AxesSubplot at 0x120b090f0>"
      ]
     },
     "execution_count": 90,
     "metadata": {},
     "output_type": "execute_result"
    },
    {
     "data": {
      "image/png": "[encoded data removed]",
      "text/plain": [
       "<Figure size 432x288 with 1 Axes>"
      ]
     },
     "metadata": {
      "needs_background": "light"
     },
     "output_type": "display_data"
    }
   ],
   "source": [
    "features.plot('arrival_delay','arrival_backlog',kind='scatter')"
   ]
  },
  {
   "cell_type": "markdown",
   "metadata": {},
   "source": [
    "Summary so far: we derived founds lots of _weakly_ correlated features for delays and two _strongly_ correlated features for cancellations; there is also a strong correlation between departure delays and arrival delays, but apart from that, no single feature is significant _by itself_, so we need to find one or more models that use the available features to predict *departure* delays, cancellations and *arrival* delays."
   ]
  },
  {
   "cell_type": "markdown",
   "metadata": {},
   "source": [
    "# Evaluate Linear Regression model for prediction of departure delays"
   ]
  },
  {
   "cell_type": "code",
   "execution_count": 91,
   "metadata": {},
   "outputs": [],
   "source": [
    "from sklearn.linear_model import LinearRegression"
   ]
  },
  {
   "cell_type": "code",
   "execution_count": 92,
   "metadata": {},
   "outputs": [],
   "source": [
    "from sklearn.model_selection import train_test_split"
   ]
  },
  {
   "cell_type": "code",
   "execution_count": 93,
   "metadata": {},
   "outputs": [],
   "source": [
    "feature_labels = features[['departure_delay','assumed_cancellation','arrival_delay']]"
   ]
  },
  {
   "cell_type": "code",
   "execution_count": 94,
   "metadata": {},
   "outputs": [],
   "source": [
    "feature_set = features[['departure_backlog','departure_backlog_today','departure_windspeed',\n",
    "                                          'departure_visibility','departure_windspeed','departure_temperature',\n",
    "                                         'departure_pressure','departure_dewpoint','departure_clouds',\n",
    "                                         'cancellations_today','previous_cancellations',\n",
    "                           'arrival_backlog','arrival_backlog_today','origin_departure_delay',\n",
    "                           'origin_cancellation','destination_arrival_delay',\n",
    "                           'airline_departure_delay', 'airline_cancellation', 'airline_arrival_delay',\n",
    "                           'aircraft_departure_delay', 'aircraft_cancellation', 'aircraft_arrival_delay',\n",
    "                           'freezing_at_departure', 'freezing_at_arrival']]"
   ]
  },
  {
   "cell_type": "code",
   "execution_count": 96,
   "metadata": {},
   "outputs": [],
   "source": [
    "from sklearn import preprocessing\n",
    "\n",
    "scaled_features = preprocessing.scale (feature_set)"
   ]
  },
  {
   "cell_type": "code",
   "execution_count": 99,
   "metadata": {},
   "outputs": [],
   "source": [
    "train_set, test_set, train_labels, test_labels = train_test_split(scaled_features, feature_labels, test_size=0.3)"
   ]
  },
  {
   "cell_type": "code",
   "execution_count": 100,
   "metadata": {},
   "outputs": [
    {
     "data": {
      "text/html": [
       "<div>\n",
       "<style scoped>\n",
       "    .dataframe tbody tr th:only-of-type {\n",
       "        vertical-align: middle;\n",
       "    }\n",
       "\n",
       "    .dataframe tbody tr th {\n",
       "        vertical-align: top;\n",
       "    }\n",
       "\n",
       "    .dataframe thead th {\n",
       "        text-align: right;\n",
       "    }\n",
       "</style>\n",
       "<table border=\"1\" class=\"dataframe\">\n",
       "  <thead>\n",
       "    <tr style=\"text-align: right;\">\n",
       "      <th></th>\n",
       "      <th>departure_delay</th>\n",
       "    </tr>\n",
       "  </thead>\n",
       "  <tbody>\n",
       "    <tr>\n",
       "      <th>12797</th>\n",
       "      <td>3521.0</td>\n",
       "    </tr>\n",
       "    <tr>\n",
       "      <th>8679</th>\n",
       "      <td>9782.0</td>\n",
       "    </tr>\n",
       "    <tr>\n",
       "      <th>14395</th>\n",
       "      <td>3504.0</td>\n",
       "    </tr>\n",
       "    <tr>\n",
       "      <th>14691</th>\n",
       "      <td>3143.0</td>\n",
       "    </tr>\n",
       "    <tr>\n",
       "      <th>8812</th>\n",
       "      <td>2628.0</td>\n",
       "    </tr>\n",
       "  </tbody>\n",
       "</table>\n",
       "</div>"
      ],
      "text/plain": [
       "       departure_delay\n",
       "12797           3521.0\n",
       "8679            9782.0\n",
       "14395           3504.0\n",
       "14691           3143.0\n",
       "8812            2628.0"
      ]
     },
     "execution_count": 100,
     "metadata": {},
     "output_type": "execute_result"
    }
   ],
   "source": [
    "train_labels_departure_delay = train_labels[['departure_delay']]\n",
    "test_labels_departure_delay = test_labels[['departure_delay']]\n",
    "train_labels_departure_delay.head()"
   ]
  },
  {
   "cell_type": "code",
   "execution_count": 101,
   "metadata": {},
   "outputs": [],
   "source": [
    "linreg = LinearRegression().fit(train_set, train_labels_departure_delay)"
   ]
  },
  {
   "cell_type": "code",
   "execution_count": 102,
   "metadata": {},
   "outputs": [],
   "source": [
    "predicted_delay = linreg.predict(test_set)"
   ]
  },
  {
   "cell_type": "code",
   "execution_count": 103,
   "metadata": {},
   "outputs": [
    {
     "data": {
      "text/plain": [
       "(14152, 1)"
      ]
     },
     "execution_count": 103,
     "metadata": {},
     "output_type": "execute_result"
    }
   ],
   "source": [
    "predicted_delay.shape"
   ]
  },
  {
   "cell_type": "code",
   "execution_count": 104,
   "metadata": {},
   "outputs": [
    {
     "name": "stdout",
     "output_type": "stream",
     "text": [
      "[[1900.4988819]\n",
      " [1352.4988819]\n",
      " [3792.4988819]\n",
      " ...\n",
      " [2472.4988819]\n",
      " [1432.4988819]\n",
      " [4148.4988819]]\n"
     ]
    }
   ],
   "source": [
    "print (predicted_delay)"
   ]
  },
  {
   "cell_type": "code",
   "execution_count": 105,
   "metadata": {},
   "outputs": [
    {
     "name": "stdout",
     "output_type": "stream",
     "text": [
      "[[ 624.]\n",
      " [   0.]\n",
      " [4589.]\n",
      " ...\n",
      " [ 817.]\n",
      " [2249.]\n",
      " [2437.]]\n"
     ]
    }
   ],
   "source": [
    "actual_delay = np.array(test_labels_departure_delay)\n",
    "\n",
    "print (actual_delay)"
   ]
  },
  {
   "cell_type": "code",
   "execution_count": 106,
   "metadata": {},
   "outputs": [
    {
     "data": {
      "text/plain": [
       "(14152, 1)"
      ]
     },
     "execution_count": 106,
     "metadata": {},
     "output_type": "execute_result"
    }
   ],
   "source": [
    "actual_delay.shape"
   ]
  },
  {
   "cell_type": "code",
   "execution_count": 107,
   "metadata": {},
   "outputs": [
    {
     "name": "stdout",
     "output_type": "stream",
     "text": [
      "0.13847240873469013\n"
     ]
    }
   ],
   "source": [
    "print (r2_score (actual_delay, predicted_delay))"
   ]
  },
  {
   "cell_type": "code",
   "execution_count": 108,
   "metadata": {},
   "outputs": [
    {
     "name": "stdout",
     "output_type": "stream",
     "text": [
      "0.13847299985421124\n"
     ]
    }
   ],
   "source": [
    "print (explained_variance_score (actual_delay, predicted_delay))"
   ]
  },
  {
   "cell_type": "code",
   "execution_count": 109,
   "metadata": {},
   "outputs": [
    {
     "data": {
      "text/plain": [
       "<matplotlib.collections.PathCollection at 0x12107c828>"
      ]
     },
     "execution_count": 109,
     "metadata": {},
     "output_type": "execute_result"
    },
    {
     "data": {
      "image/png": "[encoded data removed]",
      "text/plain": [
       "<Figure size 432x288 with 1 Axes>"
      ]
     },
     "metadata": {
      "needs_background": "light"
     },
     "output_type": "display_data"
    }
   ],
   "source": [
    "plt.scatter(actual_delay,predicted_delay)"
   ]
  },
  {
   "cell_type": "markdown",
   "metadata": {},
   "source": [
    "# Evaluate Random Forest model for prediction of departure delays"
   ]
  },
  {
   "cell_type": "code",
   "execution_count": 110,
   "metadata": {},
   "outputs": [
    {
     "data": {
      "text/plain": [
       "RandomForestRegressor(bootstrap=True, criterion='mse', max_depth=None,\n",
       "                      max_features='auto', max_leaf_nodes=None,\n",
       "                      min_impurity_decrease=0.0, min_impurity_split=None,\n",
       "                      min_samples_leaf=1, min_samples_split=2,\n",
       "                      min_weight_fraction_leaf=0.0, n_estimators=700,\n",
       "                      n_jobs=None, oob_score=False, random_state=4, verbose=0,\n",
       "                      warm_start=False)"
      ]
     },
     "execution_count": 110,
     "metadata": {},
     "output_type": "execute_result"
    }
   ],
   "source": [
    "from sklearn.ensemble import RandomForestRegressor\n",
    "\n",
    "rf = RandomForestRegressor(random_state=4, n_estimators=700)\n",
    "                           \n",
    "rf.fit(train_set, np.ravel(train_labels_departure_delay))"
   ]
  },
  {
   "cell_type": "code",
   "execution_count": 113,
   "metadata": {},
   "outputs": [],
   "source": [
    "rf_predicted_delay = rf.predict(test_set)"
   ]
  },
  {
   "cell_type": "code",
   "execution_count": 114,
   "metadata": {},
   "outputs": [
    {
     "data": {
      "text/plain": [
       "<matplotlib.collections.PathCollection at 0x12b1f4c18>"
      ]
     },
     "execution_count": 114,
     "metadata": {},
     "output_type": "execute_result"
    },
    {
     "data": {
      "image/png": "[encoded data removed]",
      "text/plain": [
       "<Figure size 432x288 with 1 Axes>"
      ]
     },
     "metadata": {
      "needs_background": "light"
     },
     "output_type": "display_data"
    }
   ],
   "source": [
    "plt.scatter(actual_delay,rf_predicted_delay)"
   ]
  },
  {
   "cell_type": "code",
   "execution_count": 115,
   "metadata": {},
   "outputs": [
    {
     "name": "stdout",
     "output_type": "stream",
     "text": [
      "0.3087056466369782\n"
     ]
    }
   ],
   "source": [
    "print (r2_score (actual_delay, rf_predicted_delay))"
   ]
  },
  {
   "cell_type": "code",
   "execution_count": 116,
   "metadata": {},
   "outputs": [
    {
     "name": "stdout",
     "output_type": "stream",
     "text": [
      "0.31155473219639496\n"
     ]
    }
   ],
   "source": [
    "print (explained_variance_score (actual_delay, rf_predicted_delay))"
   ]
  },
  {
   "cell_type": "markdown",
   "metadata": {},
   "source": [
    "# Evaluate Gradient Booster model for prediction of  departure delays"
   ]
  },
  {
   "cell_type": "code",
   "execution_count": 117,
   "metadata": {},
   "outputs": [
    {
     "data": {
      "text/plain": [
       "GradientBoostingRegressor(alpha=0.9, criterion='friedman_mse', init=None,\n",
       "                          learning_rate=0.1, loss='ls', max_depth=3,\n",
       "                          max_features=None, max_leaf_nodes=None,\n",
       "                          min_impurity_decrease=0.0, min_impurity_split=None,\n",
       "                          min_samples_leaf=1, min_samples_split=2,\n",
       "                          min_weight_fraction_leaf=0.0, n_estimators=700,\n",
       "                          n_iter_no_change=None, presort='auto', random_state=4,\n",
       "                          subsample=1.0, tol=0.0001, validation_fraction=0.1,\n",
       "                          verbose=0, warm_start=False)"
      ]
     },
     "execution_count": 117,
     "metadata": {},
     "output_type": "execute_result"
    }
   ],
   "source": [
    "from sklearn.ensemble import GradientBoostingRegressor\n",
    "\n",
    "gb = GradientBoostingRegressor(random_state=4, n_estimators=700)\n",
    "                           \n",
    "gb.fit(train_set, np.ravel(train_labels_departure_delay))"
   ]
  },
  {
   "cell_type": "code",
   "execution_count": 118,
   "metadata": {},
   "outputs": [],
   "source": [
    "gb_predicted_delay = gb.predict(test_set)"
   ]
  },
  {
   "cell_type": "code",
   "execution_count": 119,
   "metadata": {},
   "outputs": [
    {
     "name": "stdout",
     "output_type": "stream",
     "text": [
      "0.22161936917622538\n"
     ]
    }
   ],
   "source": [
    "print (explained_variance_score (actual_delay, gb_predicted_delay))"
   ]
  },
  {
   "cell_type": "code",
   "execution_count": 120,
   "metadata": {},
   "outputs": [
    {
     "name": "stdout",
     "output_type": "stream",
     "text": [
      "0.22131543840515155\n"
     ]
    }
   ],
   "source": [
    "print (r2_score (actual_delay, gb_predicted_delay))"
   ]
  },
  {
   "cell_type": "markdown",
   "metadata": {},
   "source": [
    "# Evaluate Support Vector Machine model for prediction of cancellations"
   ]
  },
  {
   "cell_type": "code",
   "execution_count": 121,
   "metadata": {},
   "outputs": [
    {
     "data": {
      "text/html": [
       "<div>\n",
       "<style scoped>\n",
       "    .dataframe tbody tr th:only-of-type {\n",
       "        vertical-align: middle;\n",
       "    }\n",
       "\n",
       "    .dataframe tbody tr th {\n",
       "        vertical-align: top;\n",
       "    }\n",
       "\n",
       "    .dataframe thead th {\n",
       "        text-align: right;\n",
       "    }\n",
       "</style>\n",
       "<table border=\"1\" class=\"dataframe\">\n",
       "  <thead>\n",
       "    <tr style=\"text-align: right;\">\n",
       "      <th></th>\n",
       "      <th>assumed_cancellation</th>\n",
       "    </tr>\n",
       "  </thead>\n",
       "  <tbody>\n",
       "    <tr>\n",
       "      <th>12797</th>\n",
       "      <td>0</td>\n",
       "    </tr>\n",
       "    <tr>\n",
       "      <th>8679</th>\n",
       "      <td>0</td>\n",
       "    </tr>\n",
       "    <tr>\n",
       "      <th>14395</th>\n",
       "      <td>0</td>\n",
       "    </tr>\n",
       "    <tr>\n",
       "      <th>14691</th>\n",
       "      <td>0</td>\n",
       "    </tr>\n",
       "    <tr>\n",
       "      <th>8812</th>\n",
       "      <td>0</td>\n",
       "    </tr>\n",
       "  </tbody>\n",
       "</table>\n",
       "</div>"
      ],
      "text/plain": [
       "       assumed_cancellation\n",
       "12797                     0\n",
       "8679                      0\n",
       "14395                     0\n",
       "14691                     0\n",
       "8812                      0"
      ]
     },
     "execution_count": 121,
     "metadata": {},
     "output_type": "execute_result"
    }
   ],
   "source": [
    "train_labels_cancellation = train_labels[['assumed_cancellation']]\n",
    "test_labels_cancellation = test_labels[['assumed_cancellation']]\n",
    "train_labels_cancellation.head()"
   ]
  },
  {
   "cell_type": "code",
   "execution_count": 122,
   "metadata": {},
   "outputs": [],
   "source": [
    "from sklearn import svm"
   ]
  },
  {
   "cell_type": "code",
   "execution_count": 123,
   "metadata": {},
   "outputs": [],
   "source": [
    "svc = svm.SVC(gamma='scale', class_weight='balanced') # automatically give higher weight to under-represented classes"
   ]
  },
  {
   "cell_type": "code",
   "execution_count": 124,
   "metadata": {},
   "outputs": [
    {
     "data": {
      "text/plain": [
       "SVC(C=1.0, cache_size=200, class_weight='balanced', coef0=0.0,\n",
       "    decision_function_shape='ovr', degree=3, gamma='scale', kernel='rbf',\n",
       "    max_iter=-1, probability=False, random_state=None, shrinking=True,\n",
       "    tol=0.001, verbose=False)"
      ]
     },
     "execution_count": 124,
     "metadata": {},
     "output_type": "execute_result"
    }
   ],
   "source": [
    "svc.fit(train_set,np.ravel(train_labels_cancellation))"
   ]
  },
  {
   "cell_type": "code",
   "execution_count": 125,
   "metadata": {},
   "outputs": [],
   "source": [
    "predicted_cancellations = svc.predict(test_set)"
   ]
  },
  {
   "cell_type": "code",
   "execution_count": 126,
   "metadata": {},
   "outputs": [
    {
     "name": "stdout",
     "output_type": "stream",
     "text": [
      "[0 1 0 ... 0 0 0]\n"
     ]
    }
   ],
   "source": [
    "actual_cancellations = np.ravel(test_labels_cancellation)\n",
    "print (actual_cancellations)"
   ]
  },
  {
   "cell_type": "code",
   "execution_count": 127,
   "metadata": {},
   "outputs": [
    {
     "name": "stdout",
     "output_type": "stream",
     "text": [
      "0.8645881178810089\n"
     ]
    }
   ],
   "source": [
    "from sklearn.metrics import roc_auc_score\n",
    "\n",
    "print (roc_auc_score (actual_cancellations, predicted_cancellations))"
   ]
  },
  {
   "cell_type": "markdown",
   "metadata": {},
   "source": [
    "An area-under-the-curve of 50% is no better than chance, so the balanced SVC is significantly better than chance"
   ]
  },
  {
   "cell_type": "code",
   "execution_count": 128,
   "metadata": {},
   "outputs": [
    {
     "name": "stdout",
     "output_type": "stream",
     "text": [
      "[[12953   738]\n",
      " [  100   361]]\n"
     ]
    }
   ],
   "source": [
    "from sklearn.metrics import confusion_matrix\n",
    "\n",
    "print (confusion_matrix (actual_cancellations, predicted_cancellations))"
   ]
  },
  {
   "cell_type": "code",
   "execution_count": 129,
   "metadata": {},
   "outputs": [
    {
     "name": "stdout",
     "output_type": "stream",
     "text": [
      "0.8645881178810089\n"
     ]
    }
   ],
   "source": [
    "from sklearn.metrics import balanced_accuracy_score\n",
    "\n",
    "print (balanced_accuracy_score (actual_cancellations, predicted_cancellations))"
   ]
  },
  {
   "cell_type": "markdown",
   "metadata": {},
   "source": [
    "# Evaluate Stochastic Gradient Descent model for prediction of cancellations"
   ]
  },
  {
   "cell_type": "code",
   "execution_count": 130,
   "metadata": {},
   "outputs": [],
   "source": [
    "from sklearn.linear_model import SGDClassifier"
   ]
  },
  {
   "cell_type": "code",
   "execution_count": 131,
   "metadata": {},
   "outputs": [],
   "source": [
    "sgc = SGDClassifier(loss=\"log\", penalty=\"l2\", max_iter=50000, early_stopping=True, class_weight='balanced')"
   ]
  },
  {
   "cell_type": "code",
   "execution_count": 132,
   "metadata": {},
   "outputs": [
    {
     "data": {
      "text/plain": [
       "SGDClassifier(alpha=0.0001, average=False, class_weight='balanced',\n",
       "              early_stopping=True, epsilon=0.1, eta0=0.0, fit_intercept=True,\n",
       "              l1_ratio=0.15, learning_rate='optimal', loss='log',\n",
       "              max_iter=50000, n_iter_no_change=5, n_jobs=None, penalty='l2',\n",
       "              power_t=0.5, random_state=None, shuffle=True, tol=0.001,\n",
       "              validation_fraction=0.1, verbose=0, warm_start=False)"
      ]
     },
     "execution_count": 132,
     "metadata": {},
     "output_type": "execute_result"
    }
   ],
   "source": [
    "sgc.fit(train_set,np.ravel(train_labels_cancellation))"
   ]
  },
  {
   "cell_type": "code",
   "execution_count": 133,
   "metadata": {},
   "outputs": [],
   "source": [
    "sgc_predicted_cancellations = sgc.predict(test_set)"
   ]
  },
  {
   "cell_type": "code",
   "execution_count": 134,
   "metadata": {},
   "outputs": [
    {
     "name": "stdout",
     "output_type": "stream",
     "text": [
      "0.8119114461722642\n"
     ]
    }
   ],
   "source": [
    "print (roc_auc_score (actual_cancellations, sgc_predicted_cancellations))"
   ]
  },
  {
   "cell_type": "code",
   "execution_count": 135,
   "metadata": {},
   "outputs": [
    {
     "name": "stdout",
     "output_type": "stream",
     "text": [
      "0.8119114461722641\n"
     ]
    }
   ],
   "source": [
    "print (balanced_accuracy_score (actual_cancellations, sgc_predicted_cancellations))"
   ]
  },
  {
   "cell_type": "code",
   "execution_count": 136,
   "metadata": {},
   "outputs": [
    {
     "name": "stdout",
     "output_type": "stream",
     "text": [
      "[[9699 3992]\n",
      " [  39  422]]\n"
     ]
    }
   ],
   "source": [
    "print (confusion_matrix (actual_cancellations, sgc_predicted_cancellations))"
   ]
  },
  {
   "cell_type": "code",
   "execution_count": 137,
   "metadata": {},
   "outputs": [],
   "source": [
    "from sklearn.ensemble import VotingClassifier"
   ]
  },
  {
   "cell_type": "markdown",
   "metadata": {},
   "source": [
    "# Evaluate Linear Regression model for prediction of arrival delays"
   ]
  },
  {
   "cell_type": "code",
   "execution_count": 138,
   "metadata": {},
   "outputs": [
    {
     "data": {
      "text/html": [
       "<div>\n",
       "<style scoped>\n",
       "    .dataframe tbody tr th:only-of-type {\n",
       "        vertical-align: middle;\n",
       "    }\n",
       "\n",
       "    .dataframe tbody tr th {\n",
       "        vertical-align: top;\n",
       "    }\n",
       "\n",
       "    .dataframe thead th {\n",
       "        text-align: right;\n",
       "    }\n",
       "</style>\n",
       "<table border=\"1\" class=\"dataframe\">\n",
       "  <thead>\n",
       "    <tr style=\"text-align: right;\">\n",
       "      <th></th>\n",
       "      <th>arrival_delay</th>\n",
       "    </tr>\n",
       "  </thead>\n",
       "  <tbody>\n",
       "    <tr>\n",
       "      <th>12797</th>\n",
       "      <td>1945.0</td>\n",
       "    </tr>\n",
       "    <tr>\n",
       "      <th>8679</th>\n",
       "      <td>7275.0</td>\n",
       "    </tr>\n",
       "    <tr>\n",
       "      <th>14395</th>\n",
       "      <td>1769.0</td>\n",
       "    </tr>\n",
       "    <tr>\n",
       "      <th>14691</th>\n",
       "      <td>49.0</td>\n",
       "    </tr>\n",
       "    <tr>\n",
       "      <th>8812</th>\n",
       "      <td>1148.0</td>\n",
       "    </tr>\n",
       "  </tbody>\n",
       "</table>\n",
       "</div>"
      ],
      "text/plain": [
       "       arrival_delay\n",
       "12797         1945.0\n",
       "8679          7275.0\n",
       "14395         1769.0\n",
       "14691           49.0\n",
       "8812          1148.0"
      ]
     },
     "execution_count": 138,
     "metadata": {},
     "output_type": "execute_result"
    }
   ],
   "source": [
    "train_labels_arrival_delay = train_labels[['arrival_delay']]\n",
    "test_labels_arrival_delay = test_labels[['arrival_delay']]\n",
    "train_labels_arrival_delay.head()"
   ]
  },
  {
   "cell_type": "code",
   "execution_count": 139,
   "metadata": {},
   "outputs": [],
   "source": [
    "linreg_arrivals = LinearRegression().fit(train_set, train_labels_arrival_delay)"
   ]
  },
  {
   "cell_type": "code",
   "execution_count": 140,
   "metadata": {},
   "outputs": [],
   "source": [
    "predicted_arrival_delay = linreg_arrivals.predict(test_set)"
   ]
  },
  {
   "cell_type": "code",
   "execution_count": 141,
   "metadata": {},
   "outputs": [],
   "source": [
    "actual_arrival_delay = np.array(test_labels_arrival_delay)"
   ]
  },
  {
   "cell_type": "code",
   "execution_count": 142,
   "metadata": {},
   "outputs": [
    {
     "name": "stdout",
     "output_type": "stream",
     "text": [
      "0.11890286211010781\n"
     ]
    }
   ],
   "source": [
    "print (r2_score (actual_arrival_delay, predicted_arrival_delay))"
   ]
  },
  {
   "cell_type": "code",
   "execution_count": 143,
   "metadata": {},
   "outputs": [
    {
     "name": "stdout",
     "output_type": "stream",
     "text": [
      "0.11896392882094797\n"
     ]
    }
   ],
   "source": [
    "print (explained_variance_score (actual_arrival_delay, predicted_arrival_delay))"
   ]
  },
  {
   "cell_type": "markdown",
   "metadata": {},
   "source": [
    "# Evaluate Support Vector Machine model for prediction of arrival delays"
   ]
  },
  {
   "cell_type": "code",
   "execution_count": 144,
   "metadata": {},
   "outputs": [],
   "source": [
    "from sklearn.svm import SVR"
   ]
  },
  {
   "cell_type": "code",
   "execution_count": 145,
   "metadata": {},
   "outputs": [],
   "source": [
    "svr_rbf = SVR(kernel='rbf', C=100, gamma=0.1, epsilon=.1)"
   ]
  },
  {
   "cell_type": "code",
   "execution_count": 147,
   "metadata": {},
   "outputs": [
    {
     "data": {
      "text/plain": [
       "SVR(C=100, cache_size=200, coef0=0.0, degree=3, epsilon=0.1, gamma=0.1,\n",
       "    kernel='rbf', max_iter=-1, shrinking=True, tol=0.001, verbose=False)"
      ]
     },
     "execution_count": 147,
     "metadata": {},
     "output_type": "execute_result"
    }
   ],
   "source": [
    "svr_rbf.fit(train_set, np.ravel(train_labels_arrival_delay))"
   ]
  },
  {
   "cell_type": "code",
   "execution_count": 148,
   "metadata": {},
   "outputs": [],
   "source": [
    "pred_rbf = svr_rbf.predict(test_set)"
   ]
  },
  {
   "cell_type": "code",
   "execution_count": 149,
   "metadata": {},
   "outputs": [
    {
     "name": "stdout",
     "output_type": "stream",
     "text": [
      "-0.05395238411185499\n"
     ]
    }
   ],
   "source": [
    "print (r2_score (actual_arrival_delay, pred_rbf))"
   ]
  },
  {
   "cell_type": "code",
   "execution_count": 150,
   "metadata": {},
   "outputs": [
    {
     "name": "stdout",
     "output_type": "stream",
     "text": [
      "0.023640468842816675\n"
     ]
    }
   ],
   "source": [
    "print (explained_variance_score (actual_arrival_delay, pred_rbf))"
   ]
  },
  {
   "cell_type": "code",
   "execution_count": null,
   "metadata": {},
   "outputs": [],
   "source": [
    "## _TO DO:_ More investigation of the data and models for arrival and departure delays"
   ]
  },
  {
   "cell_type": "code",
   "execution_count": null,
   "metadata": {},
   "outputs": [],
   "source": []
  }
 ],
 "metadata": {
  "kernelspec": {
   "display_name": "Python 3",
   "language": "python",
   "name": "python3"
  },
  "language_info": {
   "codemirror_mode": {
    "name": "ipython",
    "version": 3
   },
   "file_extension": ".py",
   "mimetype": "text/x-python",
   "name": "python",
   "nbconvert_exporter": "python",
   "pygments_lexer": "ipython3",
   "version": "3.7.1"
  }
 },
 "nbformat": 4,
 "nbformat_minor": 2
}
