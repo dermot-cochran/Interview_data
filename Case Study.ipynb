{
 "cells": [
  {
   "cell_type": "code",
   "execution_count": 572,
   "metadata": {},
   "outputs": [],
   "source": [
    "import pandas as pd\n",
    "import matplotlib.pyplot as plt\n",
    "import numpy as np"
   ]
  },
  {
   "cell_type": "code",
   "execution_count": 573,
   "metadata": {},
   "outputs": [
    {
     "data": {
      "text/html": [
       "<div>\n",
       "<style scoped>\n",
       "    .dataframe tbody tr th:only-of-type {\n",
       "        vertical-align: middle;\n",
       "    }\n",
       "\n",
       "    .dataframe tbody tr th {\n",
       "        vertical-align: top;\n",
       "    }\n",
       "\n",
       "    .dataframe thead th {\n",
       "        text-align: right;\n",
       "    }\n",
       "</style>\n",
       "<table border=\"1\" class=\"dataframe\">\n",
       "  <thead>\n",
       "    <tr style=\"text-align: right;\">\n",
       "      <th></th>\n",
       "      <th>mode</th>\n",
       "      <th>flight_number</th>\n",
       "      <th>callsign</th>\n",
       "      <th>aircraft_model_code</th>\n",
       "      <th>aircraft_model_description</th>\n",
       "      <th>aircraft_registration</th>\n",
       "      <th>airline_name</th>\n",
       "      <th>airline_iata</th>\n",
       "      <th>airline_icao</th>\n",
       "      <th>flight_origin_code_iata</th>\n",
       "      <th>...</th>\n",
       "      <th>flight_origin_time_offset</th>\n",
       "      <th>flight_destination_code_iata</th>\n",
       "      <th>flight_destination_code_icao</th>\n",
       "      <th>flight_destination_name</th>\n",
       "      <th>flight_destination_time_offset</th>\n",
       "      <th>flight_departure_scheduled</th>\n",
       "      <th>flight_departure_real</th>\n",
       "      <th>flight_arrival_scheduled</th>\n",
       "      <th>flight_arrival_real</th>\n",
       "      <th>flight_duaration</th>\n",
       "    </tr>\n",
       "  </thead>\n",
       "  <tbody>\n",
       "    <tr>\n",
       "      <th>0</th>\n",
       "      <td>arrivals</td>\n",
       "      <td>JL41</td>\n",
       "      <td>JAL41</td>\n",
       "      <td>B788</td>\n",
       "      <td>Boeing 787-8 Dreamliner</td>\n",
       "      <td>JA837J</td>\n",
       "      <td>Japan Airlines</td>\n",
       "      <td>JL</td>\n",
       "      <td>JAL</td>\n",
       "      <td>HND</td>\n",
       "      <td>...</td>\n",
       "      <td>32400</td>\n",
       "      <td>LHR</td>\n",
       "      <td>EGLL</td>\n",
       "      <td>London Heathrow Airport</td>\n",
       "      <td>3600</td>\n",
       "      <td>1558284900</td>\n",
       "      <td>1.558287e+09</td>\n",
       "      <td>1558329900</td>\n",
       "      <td>1.558329e+09</td>\n",
       "      <td>41940.0</td>\n",
       "    </tr>\n",
       "    <tr>\n",
       "      <th>1</th>\n",
       "      <td>arrivals</td>\n",
       "      <td>SA234</td>\n",
       "      <td>SAA234</td>\n",
       "      <td>A333</td>\n",
       "      <td>Airbus A330-343</td>\n",
       "      <td>ZS-SXK</td>\n",
       "      <td>South African Airways</td>\n",
       "      <td>SA</td>\n",
       "      <td>SAA</td>\n",
       "      <td>JNB</td>\n",
       "      <td>...</td>\n",
       "      <td>7200</td>\n",
       "      <td>LHR</td>\n",
       "      <td>EGLL</td>\n",
       "      <td>London Heathrow Airport</td>\n",
       "      <td>3600</td>\n",
       "      <td>1558288800</td>\n",
       "      <td>1.558290e+09</td>\n",
       "      <td>1558329900</td>\n",
       "      <td>1.558329e+09</td>\n",
       "      <td>39720.0</td>\n",
       "    </tr>\n",
       "    <tr>\n",
       "      <th>2</th>\n",
       "      <td>arrivals</td>\n",
       "      <td>QF1</td>\n",
       "      <td>QFA1</td>\n",
       "      <td>A388</td>\n",
       "      <td>Airbus A380-842</td>\n",
       "      <td>VH-OQA</td>\n",
       "      <td>Qantas</td>\n",
       "      <td>QF</td>\n",
       "      <td>QFA</td>\n",
       "      <td>SIN</td>\n",
       "      <td>...</td>\n",
       "      <td>28800</td>\n",
       "      <td>LHR</td>\n",
       "      <td>EGLL</td>\n",
       "      <td>London Heathrow Airport</td>\n",
       "      <td>3600</td>\n",
       "      <td>1558281300</td>\n",
       "      <td>1.558286e+09</td>\n",
       "      <td>1558329900</td>\n",
       "      <td>1.558333e+09</td>\n",
       "      <td>46860.0</td>\n",
       "    </tr>\n",
       "    <tr>\n",
       "      <th>3</th>\n",
       "      <td>arrivals</td>\n",
       "      <td>BI3</td>\n",
       "      <td>RBA003</td>\n",
       "      <td>B788</td>\n",
       "      <td>Boeing 787-8 Dreamliner</td>\n",
       "      <td>V8-DLD</td>\n",
       "      <td>Royal Brunei Airlines</td>\n",
       "      <td>BI</td>\n",
       "      <td>RBA</td>\n",
       "      <td>BWN</td>\n",
       "      <td>...</td>\n",
       "      <td>28800</td>\n",
       "      <td>LHR</td>\n",
       "      <td>EGLL</td>\n",
       "      <td>London Heathrow Airport</td>\n",
       "      <td>3600</td>\n",
       "      <td>1558277700</td>\n",
       "      <td>1.558278e+09</td>\n",
       "      <td>1558329900</td>\n",
       "      <td>1.558329e+09</td>\n",
       "      <td>51120.0</td>\n",
       "    </tr>\n",
       "    <tr>\n",
       "      <th>4</th>\n",
       "      <td>arrivals</td>\n",
       "      <td>VS4</td>\n",
       "      <td>VIR4C</td>\n",
       "      <td>A333</td>\n",
       "      <td>Airbus A330-343</td>\n",
       "      <td>G-VWAG</td>\n",
       "      <td>Virgin Atlantic</td>\n",
       "      <td>VS</td>\n",
       "      <td>VIR</td>\n",
       "      <td>JFK</td>\n",
       "      <td>...</td>\n",
       "      <td>-14400</td>\n",
       "      <td>LHR</td>\n",
       "      <td>EGLL</td>\n",
       "      <td>London Heathrow Airport</td>\n",
       "      <td>3600</td>\n",
       "      <td>1558303200</td>\n",
       "      <td>1.558306e+09</td>\n",
       "      <td>1558329900</td>\n",
       "      <td>1.558329e+09</td>\n",
       "      <td>23220.0</td>\n",
       "    </tr>\n",
       "  </tbody>\n",
       "</table>\n",
       "<p>5 rows × 22 columns</p>\n",
       "</div>"
      ],
      "text/plain": [
       "       mode flight_number callsign aircraft_model_code  \\\n",
       "0  arrivals          JL41    JAL41                B788   \n",
       "1  arrivals         SA234   SAA234                A333   \n",
       "2  arrivals           QF1     QFA1                A388   \n",
       "3  arrivals           BI3   RBA003                B788   \n",
       "4  arrivals           VS4    VIR4C                A333   \n",
       "\n",
       "  aircraft_model_description aircraft_registration           airline_name  \\\n",
       "0    Boeing 787-8 Dreamliner                JA837J         Japan Airlines   \n",
       "1            Airbus A330-343                ZS-SXK  South African Airways   \n",
       "2            Airbus A380-842                VH-OQA                 Qantas   \n",
       "3    Boeing 787-8 Dreamliner                V8-DLD  Royal Brunei Airlines   \n",
       "4            Airbus A330-343                G-VWAG        Virgin Atlantic   \n",
       "\n",
       "  airline_iata airline_icao flight_origin_code_iata        ...         \\\n",
       "0           JL          JAL                     HND        ...          \n",
       "1           SA          SAA                     JNB        ...          \n",
       "2           QF          QFA                     SIN        ...          \n",
       "3           BI          RBA                     BWN        ...          \n",
       "4           VS          VIR                     JFK        ...          \n",
       "\n",
       "  flight_origin_time_offset flight_destination_code_iata  \\\n",
       "0                     32400                          LHR   \n",
       "1                      7200                          LHR   \n",
       "2                     28800                          LHR   \n",
       "3                     28800                          LHR   \n",
       "4                    -14400                          LHR   \n",
       "\n",
       "   flight_destination_code_icao  flight_destination_name  \\\n",
       "0                          EGLL  London Heathrow Airport   \n",
       "1                          EGLL  London Heathrow Airport   \n",
       "2                          EGLL  London Heathrow Airport   \n",
       "3                          EGLL  London Heathrow Airport   \n",
       "4                          EGLL  London Heathrow Airport   \n",
       "\n",
       "  flight_destination_time_offset flight_departure_scheduled  \\\n",
       "0                           3600                 1558284900   \n",
       "1                           3600                 1558288800   \n",
       "2                           3600                 1558281300   \n",
       "3                           3600                 1558277700   \n",
       "4                           3600                 1558303200   \n",
       "\n",
       "   flight_departure_real  flight_arrival_scheduled  flight_arrival_real  \\\n",
       "0           1.558287e+09                1558329900         1.558329e+09   \n",
       "1           1.558290e+09                1558329900         1.558329e+09   \n",
       "2           1.558286e+09                1558329900         1.558333e+09   \n",
       "3           1.558278e+09                1558329900         1.558329e+09   \n",
       "4           1.558306e+09                1558329900         1.558329e+09   \n",
       "\n",
       "   flight_duaration  \n",
       "0           41940.0  \n",
       "1           39720.0  \n",
       "2           46860.0  \n",
       "3           51120.0  \n",
       "4           23220.0  \n",
       "\n",
       "[5 rows x 22 columns]"
      ]
     },
     "execution_count": 573,
     "metadata": {},
     "output_type": "execute_result"
    }
   ],
   "source": [
    "arrivals = pd.read_csv(\"data/arrivals.csv\", sep='\\t')\n",
    "arrivals.head()"
   ]
  },
  {
   "cell_type": "code",
   "execution_count": 574,
   "metadata": {},
   "outputs": [
    {
     "data": {
      "text/html": [
       "<div>\n",
       "<style scoped>\n",
       "    .dataframe tbody tr th:only-of-type {\n",
       "        vertical-align: middle;\n",
       "    }\n",
       "\n",
       "    .dataframe tbody tr th {\n",
       "        vertical-align: top;\n",
       "    }\n",
       "\n",
       "    .dataframe thead th {\n",
       "        text-align: right;\n",
       "    }\n",
       "</style>\n",
       "<table border=\"1\" class=\"dataframe\">\n",
       "  <thead>\n",
       "    <tr style=\"text-align: right;\">\n",
       "      <th></th>\n",
       "      <th>mode</th>\n",
       "      <th>flight_number</th>\n",
       "      <th>callsign</th>\n",
       "      <th>aircraft_model_code</th>\n",
       "      <th>aircraft_model_description</th>\n",
       "      <th>aircraft_registration</th>\n",
       "      <th>airline_name</th>\n",
       "      <th>airline_iata</th>\n",
       "      <th>airline_icao</th>\n",
       "      <th>flight_origin_code_iata</th>\n",
       "      <th>...</th>\n",
       "      <th>flight_origin_time_offset</th>\n",
       "      <th>flight_destination_code_iata</th>\n",
       "      <th>flight_destination_code_icao</th>\n",
       "      <th>flight_destination_name</th>\n",
       "      <th>flight_destination_time_offset</th>\n",
       "      <th>flight_departure_scheduled</th>\n",
       "      <th>flight_departure_real</th>\n",
       "      <th>flight_arrival_scheduled</th>\n",
       "      <th>flight_arrival_real</th>\n",
       "      <th>flight_duration</th>\n",
       "    </tr>\n",
       "  </thead>\n",
       "  <tbody>\n",
       "    <tr>\n",
       "      <th>0</th>\n",
       "      <td>arrivals</td>\n",
       "      <td>JL41</td>\n",
       "      <td>JAL41</td>\n",
       "      <td>B788</td>\n",
       "      <td>Boeing 787-8 Dreamliner</td>\n",
       "      <td>JA837J</td>\n",
       "      <td>Japan Airlines</td>\n",
       "      <td>JL</td>\n",
       "      <td>JAL</td>\n",
       "      <td>HND</td>\n",
       "      <td>...</td>\n",
       "      <td>32400</td>\n",
       "      <td>LHR</td>\n",
       "      <td>EGLL</td>\n",
       "      <td>London Heathrow Airport</td>\n",
       "      <td>3600</td>\n",
       "      <td>1558284900</td>\n",
       "      <td>1.558287e+09</td>\n",
       "      <td>1558329900</td>\n",
       "      <td>1.558329e+09</td>\n",
       "      <td>41940.0</td>\n",
       "    </tr>\n",
       "    <tr>\n",
       "      <th>1</th>\n",
       "      <td>arrivals</td>\n",
       "      <td>SA234</td>\n",
       "      <td>SAA234</td>\n",
       "      <td>A333</td>\n",
       "      <td>Airbus A330-343</td>\n",
       "      <td>ZS-SXK</td>\n",
       "      <td>South African Airways</td>\n",
       "      <td>SA</td>\n",
       "      <td>SAA</td>\n",
       "      <td>JNB</td>\n",
       "      <td>...</td>\n",
       "      <td>7200</td>\n",
       "      <td>LHR</td>\n",
       "      <td>EGLL</td>\n",
       "      <td>London Heathrow Airport</td>\n",
       "      <td>3600</td>\n",
       "      <td>1558288800</td>\n",
       "      <td>1.558290e+09</td>\n",
       "      <td>1558329900</td>\n",
       "      <td>1.558329e+09</td>\n",
       "      <td>39720.0</td>\n",
       "    </tr>\n",
       "    <tr>\n",
       "      <th>2</th>\n",
       "      <td>arrivals</td>\n",
       "      <td>QF1</td>\n",
       "      <td>QFA1</td>\n",
       "      <td>A388</td>\n",
       "      <td>Airbus A380-842</td>\n",
       "      <td>VH-OQA</td>\n",
       "      <td>Qantas</td>\n",
       "      <td>QF</td>\n",
       "      <td>QFA</td>\n",
       "      <td>SIN</td>\n",
       "      <td>...</td>\n",
       "      <td>28800</td>\n",
       "      <td>LHR</td>\n",
       "      <td>EGLL</td>\n",
       "      <td>London Heathrow Airport</td>\n",
       "      <td>3600</td>\n",
       "      <td>1558281300</td>\n",
       "      <td>1.558286e+09</td>\n",
       "      <td>1558329900</td>\n",
       "      <td>1.558333e+09</td>\n",
       "      <td>46860.0</td>\n",
       "    </tr>\n",
       "    <tr>\n",
       "      <th>3</th>\n",
       "      <td>arrivals</td>\n",
       "      <td>BI3</td>\n",
       "      <td>RBA003</td>\n",
       "      <td>B788</td>\n",
       "      <td>Boeing 787-8 Dreamliner</td>\n",
       "      <td>V8-DLD</td>\n",
       "      <td>Royal Brunei Airlines</td>\n",
       "      <td>BI</td>\n",
       "      <td>RBA</td>\n",
       "      <td>BWN</td>\n",
       "      <td>...</td>\n",
       "      <td>28800</td>\n",
       "      <td>LHR</td>\n",
       "      <td>EGLL</td>\n",
       "      <td>London Heathrow Airport</td>\n",
       "      <td>3600</td>\n",
       "      <td>1558277700</td>\n",
       "      <td>1.558278e+09</td>\n",
       "      <td>1558329900</td>\n",
       "      <td>1.558329e+09</td>\n",
       "      <td>51120.0</td>\n",
       "    </tr>\n",
       "    <tr>\n",
       "      <th>4</th>\n",
       "      <td>arrivals</td>\n",
       "      <td>VS4</td>\n",
       "      <td>VIR4C</td>\n",
       "      <td>A333</td>\n",
       "      <td>Airbus A330-343</td>\n",
       "      <td>G-VWAG</td>\n",
       "      <td>Virgin Atlantic</td>\n",
       "      <td>VS</td>\n",
       "      <td>VIR</td>\n",
       "      <td>JFK</td>\n",
       "      <td>...</td>\n",
       "      <td>-14400</td>\n",
       "      <td>LHR</td>\n",
       "      <td>EGLL</td>\n",
       "      <td>London Heathrow Airport</td>\n",
       "      <td>3600</td>\n",
       "      <td>1558303200</td>\n",
       "      <td>1.558306e+09</td>\n",
       "      <td>1558329900</td>\n",
       "      <td>1.558329e+09</td>\n",
       "      <td>23220.0</td>\n",
       "    </tr>\n",
       "  </tbody>\n",
       "</table>\n",
       "<p>5 rows × 22 columns</p>\n",
       "</div>"
      ],
      "text/plain": [
       "       mode flight_number callsign aircraft_model_code  \\\n",
       "0  arrivals          JL41    JAL41                B788   \n",
       "1  arrivals         SA234   SAA234                A333   \n",
       "2  arrivals           QF1     QFA1                A388   \n",
       "3  arrivals           BI3   RBA003                B788   \n",
       "4  arrivals           VS4    VIR4C                A333   \n",
       "\n",
       "  aircraft_model_description aircraft_registration           airline_name  \\\n",
       "0    Boeing 787-8 Dreamliner                JA837J         Japan Airlines   \n",
       "1            Airbus A330-343                ZS-SXK  South African Airways   \n",
       "2            Airbus A380-842                VH-OQA                 Qantas   \n",
       "3    Boeing 787-8 Dreamliner                V8-DLD  Royal Brunei Airlines   \n",
       "4            Airbus A330-343                G-VWAG        Virgin Atlantic   \n",
       "\n",
       "  airline_iata airline_icao flight_origin_code_iata       ...         \\\n",
       "0           JL          JAL                     HND       ...          \n",
       "1           SA          SAA                     JNB       ...          \n",
       "2           QF          QFA                     SIN       ...          \n",
       "3           BI          RBA                     BWN       ...          \n",
       "4           VS          VIR                     JFK       ...          \n",
       "\n",
       "  flight_origin_time_offset flight_destination_code_iata  \\\n",
       "0                     32400                          LHR   \n",
       "1                      7200                          LHR   \n",
       "2                     28800                          LHR   \n",
       "3                     28800                          LHR   \n",
       "4                    -14400                          LHR   \n",
       "\n",
       "   flight_destination_code_icao  flight_destination_name  \\\n",
       "0                          EGLL  London Heathrow Airport   \n",
       "1                          EGLL  London Heathrow Airport   \n",
       "2                          EGLL  London Heathrow Airport   \n",
       "3                          EGLL  London Heathrow Airport   \n",
       "4                          EGLL  London Heathrow Airport   \n",
       "\n",
       "  flight_destination_time_offset flight_departure_scheduled  \\\n",
       "0                           3600                 1558284900   \n",
       "1                           3600                 1558288800   \n",
       "2                           3600                 1558281300   \n",
       "3                           3600                 1558277700   \n",
       "4                           3600                 1558303200   \n",
       "\n",
       "   flight_departure_real  flight_arrival_scheduled  flight_arrival_real  \\\n",
       "0           1.558287e+09                1558329900         1.558329e+09   \n",
       "1           1.558290e+09                1558329900         1.558329e+09   \n",
       "2           1.558286e+09                1558329900         1.558333e+09   \n",
       "3           1.558278e+09                1558329900         1.558329e+09   \n",
       "4           1.558306e+09                1558329900         1.558329e+09   \n",
       "\n",
       "   flight_duration  \n",
       "0          41940.0  \n",
       "1          39720.0  \n",
       "2          46860.0  \n",
       "3          51120.0  \n",
       "4          23220.0  \n",
       "\n",
       "[5 rows x 22 columns]"
      ]
     },
     "execution_count": 574,
     "metadata": {},
     "output_type": "execute_result"
    }
   ],
   "source": [
    "arrivals = arrivals.rename(columns={'flight_duaration':'flight_duration'})\n",
    "arrivals.head()"
   ]
  },
  {
   "cell_type": "code",
   "execution_count": 575,
   "metadata": {},
   "outputs": [
    {
     "data": {
      "text/plain": [
       "mode                                  0\n",
       "flight_number                         0\n",
       "callsign                           6460\n",
       "aircraft_model_code                  72\n",
       "aircraft_model_description         4625\n",
       "aircraft_registration              4553\n",
       "airline_name                          0\n",
       "airline_iata                          0\n",
       "airline_icao                          0\n",
       "flight_origin_code_iata               0\n",
       "flight_origin_code_icao              97\n",
       "flight_origin_name                    0\n",
       "flight_origin_time_offset             0\n",
       "flight_destination_code_iata          0\n",
       "flight_destination_code_icao          0\n",
       "flight_destination_name               0\n",
       "flight_destination_time_offset        0\n",
       "flight_departure_scheduled            0\n",
       "flight_departure_real              7083\n",
       "flight_arrival_scheduled              0\n",
       "flight_arrival_real               10327\n",
       "flight_duration                   10785\n",
       "dtype: int64"
      ]
     },
     "execution_count": 575,
     "metadata": {},
     "output_type": "execute_result"
    }
   ],
   "source": [
    "arrivals.isnull().sum(axis=0) # check for missing values"
   ]
  },
  {
   "cell_type": "code",
   "execution_count": 576,
   "metadata": {},
   "outputs": [
    {
     "data": {
      "text/html": [
       "<div>\n",
       "<style scoped>\n",
       "    .dataframe tbody tr th:only-of-type {\n",
       "        vertical-align: middle;\n",
       "    }\n",
       "\n",
       "    .dataframe tbody tr th {\n",
       "        vertical-align: top;\n",
       "    }\n",
       "\n",
       "    .dataframe thead th {\n",
       "        text-align: right;\n",
       "    }\n",
       "</style>\n",
       "<table border=\"1\" class=\"dataframe\">\n",
       "  <thead>\n",
       "    <tr style=\"text-align: right;\">\n",
       "      <th></th>\n",
       "      <th>mode</th>\n",
       "      <th>flight_number</th>\n",
       "      <th>callsign</th>\n",
       "      <th>aircraft_model_code</th>\n",
       "      <th>aircraft_model_description</th>\n",
       "      <th>aircraft_registration</th>\n",
       "      <th>airline_name</th>\n",
       "      <th>airline_iata</th>\n",
       "      <th>airline_icao</th>\n",
       "      <th>flight_origin_code_iata</th>\n",
       "      <th>...</th>\n",
       "      <th>flight_origin_time_offset</th>\n",
       "      <th>flight_destination_code_iata</th>\n",
       "      <th>flight_destination_code_icao</th>\n",
       "      <th>flight_destination_name</th>\n",
       "      <th>flight_destination_time_offset</th>\n",
       "      <th>flight_departure_scheduled</th>\n",
       "      <th>flight_departure_real</th>\n",
       "      <th>flight_arrival_scheduled</th>\n",
       "      <th>flight_arrival_real</th>\n",
       "      <th>flight_duaration</th>\n",
       "    </tr>\n",
       "  </thead>\n",
       "  <tbody>\n",
       "    <tr>\n",
       "      <th>0</th>\n",
       "      <td>arrivals</td>\n",
       "      <td>JL41</td>\n",
       "      <td>JAL41</td>\n",
       "      <td>B788</td>\n",
       "      <td>Boeing 787-8 Dreamliner</td>\n",
       "      <td>JA837J</td>\n",
       "      <td>Japan Airlines</td>\n",
       "      <td>JL</td>\n",
       "      <td>JAL</td>\n",
       "      <td>HND</td>\n",
       "      <td>...</td>\n",
       "      <td>32400</td>\n",
       "      <td>LHR</td>\n",
       "      <td>EGLL</td>\n",
       "      <td>London Heathrow Airport</td>\n",
       "      <td>3600</td>\n",
       "      <td>1558284900</td>\n",
       "      <td>1.558287e+09</td>\n",
       "      <td>1558329900</td>\n",
       "      <td>1.558329e+09</td>\n",
       "      <td>41940.0</td>\n",
       "    </tr>\n",
       "    <tr>\n",
       "      <th>1</th>\n",
       "      <td>arrivals</td>\n",
       "      <td>SA234</td>\n",
       "      <td>SAA234</td>\n",
       "      <td>A333</td>\n",
       "      <td>Airbus A330-343</td>\n",
       "      <td>ZS-SXK</td>\n",
       "      <td>South African Airways</td>\n",
       "      <td>SA</td>\n",
       "      <td>SAA</td>\n",
       "      <td>JNB</td>\n",
       "      <td>...</td>\n",
       "      <td>7200</td>\n",
       "      <td>LHR</td>\n",
       "      <td>EGLL</td>\n",
       "      <td>London Heathrow Airport</td>\n",
       "      <td>3600</td>\n",
       "      <td>1558288800</td>\n",
       "      <td>1.558290e+09</td>\n",
       "      <td>1558329900</td>\n",
       "      <td>1.558329e+09</td>\n",
       "      <td>39720.0</td>\n",
       "    </tr>\n",
       "    <tr>\n",
       "      <th>2</th>\n",
       "      <td>arrivals</td>\n",
       "      <td>QF1</td>\n",
       "      <td>QFA1</td>\n",
       "      <td>A388</td>\n",
       "      <td>Airbus A380-842</td>\n",
       "      <td>VH-OQA</td>\n",
       "      <td>Qantas</td>\n",
       "      <td>QF</td>\n",
       "      <td>QFA</td>\n",
       "      <td>SIN</td>\n",
       "      <td>...</td>\n",
       "      <td>28800</td>\n",
       "      <td>LHR</td>\n",
       "      <td>EGLL</td>\n",
       "      <td>London Heathrow Airport</td>\n",
       "      <td>3600</td>\n",
       "      <td>1558281300</td>\n",
       "      <td>1.558286e+09</td>\n",
       "      <td>1558329900</td>\n",
       "      <td>1.558333e+09</td>\n",
       "      <td>46860.0</td>\n",
       "    </tr>\n",
       "    <tr>\n",
       "      <th>3</th>\n",
       "      <td>arrivals</td>\n",
       "      <td>BI3</td>\n",
       "      <td>RBA003</td>\n",
       "      <td>B788</td>\n",
       "      <td>Boeing 787-8 Dreamliner</td>\n",
       "      <td>V8-DLD</td>\n",
       "      <td>Royal Brunei Airlines</td>\n",
       "      <td>BI</td>\n",
       "      <td>RBA</td>\n",
       "      <td>BWN</td>\n",
       "      <td>...</td>\n",
       "      <td>28800</td>\n",
       "      <td>LHR</td>\n",
       "      <td>EGLL</td>\n",
       "      <td>London Heathrow Airport</td>\n",
       "      <td>3600</td>\n",
       "      <td>1558277700</td>\n",
       "      <td>1.558278e+09</td>\n",
       "      <td>1558329900</td>\n",
       "      <td>1.558329e+09</td>\n",
       "      <td>51120.0</td>\n",
       "    </tr>\n",
       "    <tr>\n",
       "      <th>4</th>\n",
       "      <td>arrivals</td>\n",
       "      <td>VS4</td>\n",
       "      <td>VIR4C</td>\n",
       "      <td>A333</td>\n",
       "      <td>Airbus A330-343</td>\n",
       "      <td>G-VWAG</td>\n",
       "      <td>Virgin Atlantic</td>\n",
       "      <td>VS</td>\n",
       "      <td>VIR</td>\n",
       "      <td>JFK</td>\n",
       "      <td>...</td>\n",
       "      <td>-14400</td>\n",
       "      <td>LHR</td>\n",
       "      <td>EGLL</td>\n",
       "      <td>London Heathrow Airport</td>\n",
       "      <td>3600</td>\n",
       "      <td>1558303200</td>\n",
       "      <td>1.558306e+09</td>\n",
       "      <td>1558329900</td>\n",
       "      <td>1.558329e+09</td>\n",
       "      <td>23220.0</td>\n",
       "    </tr>\n",
       "  </tbody>\n",
       "</table>\n",
       "<p>5 rows × 22 columns</p>\n",
       "</div>"
      ],
      "text/plain": [
       "       mode flight_number callsign aircraft_model_code  \\\n",
       "0  arrivals          JL41    JAL41                B788   \n",
       "1  arrivals         SA234   SAA234                A333   \n",
       "2  arrivals           QF1     QFA1                A388   \n",
       "3  arrivals           BI3   RBA003                B788   \n",
       "4  arrivals           VS4    VIR4C                A333   \n",
       "\n",
       "  aircraft_model_description aircraft_registration           airline_name  \\\n",
       "0    Boeing 787-8 Dreamliner                JA837J         Japan Airlines   \n",
       "1            Airbus A330-343                ZS-SXK  South African Airways   \n",
       "2            Airbus A380-842                VH-OQA                 Qantas   \n",
       "3    Boeing 787-8 Dreamliner                V8-DLD  Royal Brunei Airlines   \n",
       "4            Airbus A330-343                G-VWAG        Virgin Atlantic   \n",
       "\n",
       "  airline_iata airline_icao flight_origin_code_iata        ...         \\\n",
       "0           JL          JAL                     HND        ...          \n",
       "1           SA          SAA                     JNB        ...          \n",
       "2           QF          QFA                     SIN        ...          \n",
       "3           BI          RBA                     BWN        ...          \n",
       "4           VS          VIR                     JFK        ...          \n",
       "\n",
       "  flight_origin_time_offset flight_destination_code_iata  \\\n",
       "0                     32400                          LHR   \n",
       "1                      7200                          LHR   \n",
       "2                     28800                          LHR   \n",
       "3                     28800                          LHR   \n",
       "4                    -14400                          LHR   \n",
       "\n",
       "   flight_destination_code_icao  flight_destination_name  \\\n",
       "0                          EGLL  London Heathrow Airport   \n",
       "1                          EGLL  London Heathrow Airport   \n",
       "2                          EGLL  London Heathrow Airport   \n",
       "3                          EGLL  London Heathrow Airport   \n",
       "4                          EGLL  London Heathrow Airport   \n",
       "\n",
       "  flight_destination_time_offset flight_departure_scheduled  \\\n",
       "0                           3600                 1558284900   \n",
       "1                           3600                 1558288800   \n",
       "2                           3600                 1558281300   \n",
       "3                           3600                 1558277700   \n",
       "4                           3600                 1558303200   \n",
       "\n",
       "   flight_departure_real  flight_arrival_scheduled  flight_arrival_real  \\\n",
       "0           1.558287e+09                1558329900         1.558329e+09   \n",
       "1           1.558290e+09                1558329900         1.558329e+09   \n",
       "2           1.558286e+09                1558329900         1.558333e+09   \n",
       "3           1.558278e+09                1558329900         1.558329e+09   \n",
       "4           1.558306e+09                1558329900         1.558329e+09   \n",
       "\n",
       "   flight_duaration  \n",
       "0           41940.0  \n",
       "1           39720.0  \n",
       "2           46860.0  \n",
       "3           51120.0  \n",
       "4           23220.0  \n",
       "\n",
       "[5 rows x 22 columns]"
      ]
     },
     "execution_count": 576,
     "metadata": {},
     "output_type": "execute_result"
    }
   ],
   "source": [
    "departures = pd.read_csv(\"data/departures.csv\", sep='\\t')\n",
    "departures.head()"
   ]
  },
  {
   "cell_type": "code",
   "execution_count": 577,
   "metadata": {},
   "outputs": [
    {
     "data": {
      "text/html": [
       "<div>\n",
       "<style scoped>\n",
       "    .dataframe tbody tr th:only-of-type {\n",
       "        vertical-align: middle;\n",
       "    }\n",
       "\n",
       "    .dataframe tbody tr th {\n",
       "        vertical-align: top;\n",
       "    }\n",
       "\n",
       "    .dataframe thead th {\n",
       "        text-align: right;\n",
       "    }\n",
       "</style>\n",
       "<table border=\"1\" class=\"dataframe\">\n",
       "  <thead>\n",
       "    <tr style=\"text-align: right;\">\n",
       "      <th></th>\n",
       "      <th>mode</th>\n",
       "      <th>flight_number</th>\n",
       "      <th>callsign</th>\n",
       "      <th>aircraft_model_code</th>\n",
       "      <th>aircraft_model_description</th>\n",
       "      <th>aircraft_registration</th>\n",
       "      <th>airline_name</th>\n",
       "      <th>airline_iata</th>\n",
       "      <th>airline_icao</th>\n",
       "      <th>flight_origin_code_iata</th>\n",
       "      <th>...</th>\n",
       "      <th>flight_origin_time_offset</th>\n",
       "      <th>flight_destination_code_iata</th>\n",
       "      <th>flight_destination_code_icao</th>\n",
       "      <th>flight_destination_name</th>\n",
       "      <th>flight_destination_time_offset</th>\n",
       "      <th>flight_departure_scheduled</th>\n",
       "      <th>flight_departure_real</th>\n",
       "      <th>flight_arrival_scheduled</th>\n",
       "      <th>flight_arrival_real</th>\n",
       "      <th>flight_duration</th>\n",
       "    </tr>\n",
       "  </thead>\n",
       "  <tbody>\n",
       "    <tr>\n",
       "      <th>0</th>\n",
       "      <td>arrivals</td>\n",
       "      <td>JL41</td>\n",
       "      <td>JAL41</td>\n",
       "      <td>B788</td>\n",
       "      <td>Boeing 787-8 Dreamliner</td>\n",
       "      <td>JA837J</td>\n",
       "      <td>Japan Airlines</td>\n",
       "      <td>JL</td>\n",
       "      <td>JAL</td>\n",
       "      <td>HND</td>\n",
       "      <td>...</td>\n",
       "      <td>32400</td>\n",
       "      <td>LHR</td>\n",
       "      <td>EGLL</td>\n",
       "      <td>London Heathrow Airport</td>\n",
       "      <td>3600</td>\n",
       "      <td>1558284900</td>\n",
       "      <td>1.558287e+09</td>\n",
       "      <td>1558329900</td>\n",
       "      <td>1.558329e+09</td>\n",
       "      <td>41940.0</td>\n",
       "    </tr>\n",
       "    <tr>\n",
       "      <th>1</th>\n",
       "      <td>arrivals</td>\n",
       "      <td>SA234</td>\n",
       "      <td>SAA234</td>\n",
       "      <td>A333</td>\n",
       "      <td>Airbus A330-343</td>\n",
       "      <td>ZS-SXK</td>\n",
       "      <td>South African Airways</td>\n",
       "      <td>SA</td>\n",
       "      <td>SAA</td>\n",
       "      <td>JNB</td>\n",
       "      <td>...</td>\n",
       "      <td>7200</td>\n",
       "      <td>LHR</td>\n",
       "      <td>EGLL</td>\n",
       "      <td>London Heathrow Airport</td>\n",
       "      <td>3600</td>\n",
       "      <td>1558288800</td>\n",
       "      <td>1.558290e+09</td>\n",
       "      <td>1558329900</td>\n",
       "      <td>1.558329e+09</td>\n",
       "      <td>39720.0</td>\n",
       "    </tr>\n",
       "    <tr>\n",
       "      <th>2</th>\n",
       "      <td>arrivals</td>\n",
       "      <td>QF1</td>\n",
       "      <td>QFA1</td>\n",
       "      <td>A388</td>\n",
       "      <td>Airbus A380-842</td>\n",
       "      <td>VH-OQA</td>\n",
       "      <td>Qantas</td>\n",
       "      <td>QF</td>\n",
       "      <td>QFA</td>\n",
       "      <td>SIN</td>\n",
       "      <td>...</td>\n",
       "      <td>28800</td>\n",
       "      <td>LHR</td>\n",
       "      <td>EGLL</td>\n",
       "      <td>London Heathrow Airport</td>\n",
       "      <td>3600</td>\n",
       "      <td>1558281300</td>\n",
       "      <td>1.558286e+09</td>\n",
       "      <td>1558329900</td>\n",
       "      <td>1.558333e+09</td>\n",
       "      <td>46860.0</td>\n",
       "    </tr>\n",
       "    <tr>\n",
       "      <th>3</th>\n",
       "      <td>arrivals</td>\n",
       "      <td>BI3</td>\n",
       "      <td>RBA003</td>\n",
       "      <td>B788</td>\n",
       "      <td>Boeing 787-8 Dreamliner</td>\n",
       "      <td>V8-DLD</td>\n",
       "      <td>Royal Brunei Airlines</td>\n",
       "      <td>BI</td>\n",
       "      <td>RBA</td>\n",
       "      <td>BWN</td>\n",
       "      <td>...</td>\n",
       "      <td>28800</td>\n",
       "      <td>LHR</td>\n",
       "      <td>EGLL</td>\n",
       "      <td>London Heathrow Airport</td>\n",
       "      <td>3600</td>\n",
       "      <td>1558277700</td>\n",
       "      <td>1.558278e+09</td>\n",
       "      <td>1558329900</td>\n",
       "      <td>1.558329e+09</td>\n",
       "      <td>51120.0</td>\n",
       "    </tr>\n",
       "    <tr>\n",
       "      <th>4</th>\n",
       "      <td>arrivals</td>\n",
       "      <td>VS4</td>\n",
       "      <td>VIR4C</td>\n",
       "      <td>A333</td>\n",
       "      <td>Airbus A330-343</td>\n",
       "      <td>G-VWAG</td>\n",
       "      <td>Virgin Atlantic</td>\n",
       "      <td>VS</td>\n",
       "      <td>VIR</td>\n",
       "      <td>JFK</td>\n",
       "      <td>...</td>\n",
       "      <td>-14400</td>\n",
       "      <td>LHR</td>\n",
       "      <td>EGLL</td>\n",
       "      <td>London Heathrow Airport</td>\n",
       "      <td>3600</td>\n",
       "      <td>1558303200</td>\n",
       "      <td>1.558306e+09</td>\n",
       "      <td>1558329900</td>\n",
       "      <td>1.558329e+09</td>\n",
       "      <td>23220.0</td>\n",
       "    </tr>\n",
       "  </tbody>\n",
       "</table>\n",
       "<p>5 rows × 22 columns</p>\n",
       "</div>"
      ],
      "text/plain": [
       "       mode flight_number callsign aircraft_model_code  \\\n",
       "0  arrivals          JL41    JAL41                B788   \n",
       "1  arrivals         SA234   SAA234                A333   \n",
       "2  arrivals           QF1     QFA1                A388   \n",
       "3  arrivals           BI3   RBA003                B788   \n",
       "4  arrivals           VS4    VIR4C                A333   \n",
       "\n",
       "  aircraft_model_description aircraft_registration           airline_name  \\\n",
       "0    Boeing 787-8 Dreamliner                JA837J         Japan Airlines   \n",
       "1            Airbus A330-343                ZS-SXK  South African Airways   \n",
       "2            Airbus A380-842                VH-OQA                 Qantas   \n",
       "3    Boeing 787-8 Dreamliner                V8-DLD  Royal Brunei Airlines   \n",
       "4            Airbus A330-343                G-VWAG        Virgin Atlantic   \n",
       "\n",
       "  airline_iata airline_icao flight_origin_code_iata       ...         \\\n",
       "0           JL          JAL                     HND       ...          \n",
       "1           SA          SAA                     JNB       ...          \n",
       "2           QF          QFA                     SIN       ...          \n",
       "3           BI          RBA                     BWN       ...          \n",
       "4           VS          VIR                     JFK       ...          \n",
       "\n",
       "  flight_origin_time_offset flight_destination_code_iata  \\\n",
       "0                     32400                          LHR   \n",
       "1                      7200                          LHR   \n",
       "2                     28800                          LHR   \n",
       "3                     28800                          LHR   \n",
       "4                    -14400                          LHR   \n",
       "\n",
       "   flight_destination_code_icao  flight_destination_name  \\\n",
       "0                          EGLL  London Heathrow Airport   \n",
       "1                          EGLL  London Heathrow Airport   \n",
       "2                          EGLL  London Heathrow Airport   \n",
       "3                          EGLL  London Heathrow Airport   \n",
       "4                          EGLL  London Heathrow Airport   \n",
       "\n",
       "  flight_destination_time_offset flight_departure_scheduled  \\\n",
       "0                           3600                 1558284900   \n",
       "1                           3600                 1558288800   \n",
       "2                           3600                 1558281300   \n",
       "3                           3600                 1558277700   \n",
       "4                           3600                 1558303200   \n",
       "\n",
       "   flight_departure_real  flight_arrival_scheduled  flight_arrival_real  \\\n",
       "0           1.558287e+09                1558329900         1.558329e+09   \n",
       "1           1.558290e+09                1558329900         1.558329e+09   \n",
       "2           1.558286e+09                1558329900         1.558333e+09   \n",
       "3           1.558278e+09                1558329900         1.558329e+09   \n",
       "4           1.558306e+09                1558329900         1.558329e+09   \n",
       "\n",
       "   flight_duration  \n",
       "0          41940.0  \n",
       "1          39720.0  \n",
       "2          46860.0  \n",
       "3          51120.0  \n",
       "4          23220.0  \n",
       "\n",
       "[5 rows x 22 columns]"
      ]
     },
     "execution_count": 577,
     "metadata": {},
     "output_type": "execute_result"
    }
   ],
   "source": [
    "departures = departures.rename(columns={'flight_duaration':'flight_duration'})\n",
    "departures.head()"
   ]
  },
  {
   "cell_type": "code",
   "execution_count": 578,
   "metadata": {},
   "outputs": [
    {
     "data": {
      "text/plain": [
       "mode                                   0\n",
       "flight_number                          0\n",
       "callsign                           12316\n",
       "aircraft_model_code                  145\n",
       "aircraft_model_description          9103\n",
       "aircraft_registration               8958\n",
       "airline_name                           0\n",
       "airline_iata                           0\n",
       "airline_icao                           0\n",
       "flight_origin_code_iata                0\n",
       "flight_origin_code_icao               97\n",
       "flight_origin_name                     0\n",
       "flight_origin_time_offset              0\n",
       "flight_destination_code_iata           0\n",
       "flight_destination_code_icao         111\n",
       "flight_destination_name                0\n",
       "flight_destination_time_offset         0\n",
       "flight_departure_scheduled             0\n",
       "flight_departure_real              13262\n",
       "flight_arrival_scheduled               0\n",
       "flight_arrival_real                22013\n",
       "flight_duration                   147423\n",
       "dtype: int64"
      ]
     },
     "execution_count": 578,
     "metadata": {},
     "output_type": "execute_result"
    }
   ],
   "source": [
    "departures.isnull().sum(axis=0) # check for missing values"
   ]
  },
  {
   "cell_type": "code",
   "execution_count": 579,
   "metadata": {},
   "outputs": [
    {
     "data": {
      "text/html": [
       "<div>\n",
       "<style scoped>\n",
       "    .dataframe tbody tr th:only-of-type {\n",
       "        vertical-align: middle;\n",
       "    }\n",
       "\n",
       "    .dataframe tbody tr th {\n",
       "        vertical-align: top;\n",
       "    }\n",
       "\n",
       "    .dataframe thead th {\n",
       "        text-align: right;\n",
       "    }\n",
       "</style>\n",
       "<table border=\"1\" class=\"dataframe\">\n",
       "  <thead>\n",
       "    <tr style=\"text-align: right;\">\n",
       "      <th></th>\n",
       "      <th>AIRPORT_IATA</th>\n",
       "      <th>AIRPORT_ICAO</th>\n",
       "      <th>UTC DATE/TIME</th>\n",
       "      <th>METAR</th>\n",
       "      <th>DESCRIPTION</th>\n",
       "      <th>timestamp</th>\n",
       "      <th>hours</th>\n",
       "    </tr>\n",
       "  </thead>\n",
       "  <tbody>\n",
       "    <tr>\n",
       "      <th>0</th>\n",
       "      <td>LHR</td>\n",
       "      <td>EGLL</td>\n",
       "      <td>2019-05-18 23:50:00</td>\n",
       "      <td>EGLL 182350Z AUTO 01003KT 9999 NCD 11/09 Q1009...</td>\n",
       "      <td>Day: 18th Time: 23:50 UTC Wind direction: 10 W...</td>\n",
       "      <td>1.558220e+09</td>\n",
       "      <td>432839</td>\n",
       "    </tr>\n",
       "    <tr>\n",
       "      <th>1</th>\n",
       "      <td>LHR</td>\n",
       "      <td>EGLL</td>\n",
       "      <td>2019-05-18 23:20:00</td>\n",
       "      <td>EGLL 182320Z AUTO 02002KT 9999 NCD 10/08 Q1009...</td>\n",
       "      <td>Day: 18th Time: 23:20 UTC Wind direction: 20 W...</td>\n",
       "      <td>1.558218e+09</td>\n",
       "      <td>432838</td>\n",
       "    </tr>\n",
       "    <tr>\n",
       "      <th>2</th>\n",
       "      <td>LHR</td>\n",
       "      <td>EGLL</td>\n",
       "      <td>2019-05-18 22:50:00</td>\n",
       "      <td>EGLL 182250Z AUTO 04002KT 9999 NCD 12/09 Q1009...</td>\n",
       "      <td>Day: 18th Time: 22:50 UTC Wind direction: 40 W...</td>\n",
       "      <td>1.558216e+09</td>\n",
       "      <td>432838</td>\n",
       "    </tr>\n",
       "    <tr>\n",
       "      <th>3</th>\n",
       "      <td>LHR</td>\n",
       "      <td>EGLL</td>\n",
       "      <td>2019-05-18 22:20:00</td>\n",
       "      <td>EGLL 182220Z AUTO 06002KT 9999 NCD 12/09 Q1008</td>\n",
       "      <td>Day: 18th Time: 22:20 UTC Wind direction: 60 W...</td>\n",
       "      <td>1.558214e+09</td>\n",
       "      <td>432837</td>\n",
       "    </tr>\n",
       "    <tr>\n",
       "      <th>4</th>\n",
       "      <td>LHR</td>\n",
       "      <td>EGLL</td>\n",
       "      <td>2019-05-18 21:50:00</td>\n",
       "      <td>EGLL 182150Z AUTO VRB02KT 9999 NCD 13/09 Q1008...</td>\n",
       "      <td>Day: 18th Time: 21:50 UTC Wind speed: 2kt Temp...</td>\n",
       "      <td>1.558213e+09</td>\n",
       "      <td>432837</td>\n",
       "    </tr>\n",
       "  </tbody>\n",
       "</table>\n",
       "</div>"
      ],
      "text/plain": [
       "  AIRPORT_IATA AIRPORT_ICAO        UTC DATE/TIME  \\\n",
       "0          LHR         EGLL  2019-05-18 23:50:00   \n",
       "1          LHR         EGLL  2019-05-18 23:20:00   \n",
       "2          LHR         EGLL  2019-05-18 22:50:00   \n",
       "3          LHR         EGLL  2019-05-18 22:20:00   \n",
       "4          LHR         EGLL  2019-05-18 21:50:00   \n",
       "\n",
       "                                               METAR  \\\n",
       "0  EGLL 182350Z AUTO 01003KT 9999 NCD 11/09 Q1009...   \n",
       "1  EGLL 182320Z AUTO 02002KT 9999 NCD 10/08 Q1009...   \n",
       "2  EGLL 182250Z AUTO 04002KT 9999 NCD 12/09 Q1009...   \n",
       "3     EGLL 182220Z AUTO 06002KT 9999 NCD 12/09 Q1008   \n",
       "4  EGLL 182150Z AUTO VRB02KT 9999 NCD 13/09 Q1008...   \n",
       "\n",
       "                                         DESCRIPTION     timestamp   hours  \n",
       "0  Day: 18th Time: 23:50 UTC Wind direction: 10 W...  1.558220e+09  432839  \n",
       "1  Day: 18th Time: 23:20 UTC Wind direction: 20 W...  1.558218e+09  432838  \n",
       "2  Day: 18th Time: 22:50 UTC Wind direction: 40 W...  1.558216e+09  432838  \n",
       "3  Day: 18th Time: 22:20 UTC Wind direction: 60 W...  1.558214e+09  432837  \n",
       "4  Day: 18th Time: 21:50 UTC Wind speed: 2kt Temp...  1.558213e+09  432837  "
      ]
     },
     "execution_count": 579,
     "metadata": {},
     "output_type": "execute_result"
    }
   ],
   "source": [
    "import datetime\n",
    "\n",
    "weather = pd.read_csv(\"data/METAR_all_airports.csv\")\n",
    "weather['timestamp'] = weather['UTC DATE/TIME'].map(lambda t: datetime.datetime.strptime(t,'%Y-%m-%d %H:%M:%S').timestamp())\n",
    "weather['hours'] = weather['timestamp'].map(lambda s: np.rint(s/3600)).astype(int)\n",
    "weather.head()"
   ]
  },
  {
   "cell_type": "code",
   "execution_count": 580,
   "metadata": {},
   "outputs": [
    {
     "data": {
      "text/plain": [
       "AIRPORT_IATA     0\n",
       "AIRPORT_ICAO     0\n",
       "UTC DATE/TIME    0\n",
       "METAR            0\n",
       "DESCRIPTION      0\n",
       "timestamp        0\n",
       "hours            0\n",
       "dtype: int64"
      ]
     },
     "execution_count": 580,
     "metadata": {},
     "output_type": "execute_result"
    }
   ],
   "source": [
    "weather.isnull().sum(axis=0) # check for missing values"
   ]
  },
  {
   "cell_type": "code",
   "execution_count": 581,
   "metadata": {},
   "outputs": [
    {
     "data": {
      "text/html": [
       "<div>\n",
       "<style scoped>\n",
       "    .dataframe tbody tr th:only-of-type {\n",
       "        vertical-align: middle;\n",
       "    }\n",
       "\n",
       "    .dataframe tbody tr th {\n",
       "        vertical-align: top;\n",
       "    }\n",
       "\n",
       "    .dataframe thead th {\n",
       "        text-align: right;\n",
       "    }\n",
       "</style>\n",
       "<table border=\"1\" class=\"dataframe\">\n",
       "  <thead>\n",
       "    <tr style=\"text-align: right;\">\n",
       "      <th></th>\n",
       "      <th>AIRPORT_IATA</th>\n",
       "      <th>hours</th>\n",
       "      <th>METAR</th>\n",
       "      <th>DESCRIPTION</th>\n",
       "    </tr>\n",
       "  </thead>\n",
       "  <tbody>\n",
       "    <tr>\n",
       "      <th>0</th>\n",
       "      <td>ATH</td>\n",
       "      <td>432815</td>\n",
       "      <td>LGAV 180020Z VRB01KT CAVOK 13/10 Q1009 NOSIG</td>\n",
       "      <td>Day: 18th Time: 00:20 UTC Wind speed: 1kt Temp...</td>\n",
       "    </tr>\n",
       "    <tr>\n",
       "      <th>1</th>\n",
       "      <td>ATH</td>\n",
       "      <td>432816</td>\n",
       "      <td>LGAV 180050Z 20002KT CAVOK 13/10 Q1009 NOSIG</td>\n",
       "      <td>Day: 18th Time: 00:50 UTC Wind direction: 200 ...</td>\n",
       "    </tr>\n",
       "    <tr>\n",
       "      <th>2</th>\n",
       "      <td>ATH</td>\n",
       "      <td>432817</td>\n",
       "      <td>LGAV 180150Z VRB01KT CAVOK 13/11 Q1009 NOSIG</td>\n",
       "      <td>Day: 18th Time: 01:50 UTC Wind speed: 1kt Temp...</td>\n",
       "    </tr>\n",
       "    <tr>\n",
       "      <th>3</th>\n",
       "      <td>ATH</td>\n",
       "      <td>432818</td>\n",
       "      <td>LGAV 180250Z VRB01KT CAVOK 13/11 Q1010 NOSIG</td>\n",
       "      <td>Day: 18th Time: 02:50 UTC Wind speed: 1kt Temp...</td>\n",
       "    </tr>\n",
       "    <tr>\n",
       "      <th>4</th>\n",
       "      <td>ATH</td>\n",
       "      <td>432819</td>\n",
       "      <td>LGAV 180350Z 00000KT CAVOK 12/10 Q1009 NOSIG</td>\n",
       "      <td>Day: 18th Time: 03:50 UTC Wind direction: 0 Wi...</td>\n",
       "    </tr>\n",
       "  </tbody>\n",
       "</table>\n",
       "</div>"
      ],
      "text/plain": [
       "  AIRPORT_IATA   hours                                         METAR  \\\n",
       "0          ATH  432815  LGAV 180020Z VRB01KT CAVOK 13/10 Q1009 NOSIG   \n",
       "1          ATH  432816  LGAV 180050Z 20002KT CAVOK 13/10 Q1009 NOSIG   \n",
       "2          ATH  432817  LGAV 180150Z VRB01KT CAVOK 13/11 Q1009 NOSIG   \n",
       "3          ATH  432818  LGAV 180250Z VRB01KT CAVOK 13/11 Q1010 NOSIG   \n",
       "4          ATH  432819  LGAV 180350Z 00000KT CAVOK 12/10 Q1009 NOSIG   \n",
       "\n",
       "                                         DESCRIPTION  \n",
       "0  Day: 18th Time: 00:20 UTC Wind speed: 1kt Temp...  \n",
       "1  Day: 18th Time: 00:50 UTC Wind direction: 200 ...  \n",
       "2  Day: 18th Time: 01:50 UTC Wind speed: 1kt Temp...  \n",
       "3  Day: 18th Time: 02:50 UTC Wind speed: 1kt Temp...  \n",
       "4  Day: 18th Time: 03:50 UTC Wind direction: 0 Wi...  "
      ]
     },
     "execution_count": 581,
     "metadata": {},
     "output_type": "execute_result"
    }
   ],
   "source": [
    "airport_weather = weather.groupby(['AIRPORT_IATA','hours']).agg({'METAR':'last','DESCRIPTION':'last'}).reset_index()\n",
    "airport_weather.head()"
   ]
  },
  {
   "cell_type": "code",
   "execution_count": 582,
   "metadata": {},
   "outputs": [
    {
     "data": {
      "text/plain": [
       "AIRPORT_IATA    0\n",
       "hours           0\n",
       "METAR           0\n",
       "DESCRIPTION     0\n",
       "dtype: int64"
      ]
     },
     "execution_count": 582,
     "metadata": {},
     "output_type": "execute_result"
    }
   ],
   "source": [
    "airport_weather.isnull().sum(axis=0) # check for missing values"
   ]
  },
  {
   "cell_type": "code",
   "execution_count": 583,
   "metadata": {},
   "outputs": [
    {
     "data": {
      "text/plain": [
       "mode                                   0\n",
       "flight_number                          0\n",
       "callsign                           12316\n",
       "aircraft_model_code                  145\n",
       "aircraft_model_description          9103\n",
       "aircraft_registration               8958\n",
       "airline_name                           0\n",
       "airline_iata                           0\n",
       "airline_icao                           0\n",
       "flight_origin_code_iata                0\n",
       "flight_origin_code_icao               97\n",
       "flight_origin_name                     0\n",
       "flight_origin_time_offset              0\n",
       "flight_destination_code_iata           0\n",
       "flight_destination_code_icao         111\n",
       "flight_destination_name                0\n",
       "flight_destination_time_offset         0\n",
       "flight_departure_scheduled             0\n",
       "flight_departure_real              13262\n",
       "flight_arrival_scheduled               0\n",
       "flight_arrival_real                22013\n",
       "flight_duration                   147423\n",
       "dtype: int64"
      ]
     },
     "execution_count": 583,
     "metadata": {},
     "output_type": "execute_result"
    }
   ],
   "source": [
    "flights = pd.concat ([arrivals,departures], sort=False).drop_duplicates()\n",
    "flights.isnull().sum(axis=0) # re-check for missing values"
   ]
  },
  {
   "cell_type": "code",
   "execution_count": 584,
   "metadata": {},
   "outputs": [
    {
     "data": {
      "text/plain": [
       "count    282133.000000\n",
       "mean          0.047006\n",
       "std           0.211652\n",
       "min           0.000000\n",
       "25%           0.000000\n",
       "50%           0.000000\n",
       "75%           0.000000\n",
       "max           1.000000\n",
       "Name: assumed_cancellation, dtype: float64"
      ]
     },
     "execution_count": 584,
     "metadata": {},
     "output_type": "execute_result"
    }
   ],
   "source": [
    "flights['assumed_cancellation'] = np.where(flights['flight_departure_real'].isnull(),1,0).astype(int)\n",
    "flights['assumed_cancellation'].describe()"
   ]
  },
  {
   "cell_type": "code",
   "execution_count": 585,
   "metadata": {},
   "outputs": [],
   "source": [
    "flights['flight_arrival_real'] = np.where(flights['flight_arrival_real'].isnull(),\n",
    "                                          flights['flight_arrival_scheduled'],\n",
    "                                          flights['flight_arrival_real'])\n",
    "flights['scheduled_arrival_hour'] = flights['flight_arrival_scheduled'].map(lambda s: np.rint(s/3600)).astype(int)"
   ]
  },
  {
   "cell_type": "code",
   "execution_count": 586,
   "metadata": {},
   "outputs": [],
   "source": [
    "flights['flight_departure_real'] = np.where(flights['flight_departure_real'].isnull(),\n",
    "                                          flights['flight_departure_scheduled'],\n",
    "                                          flights['flight_departure_real'])\n",
    "flights['scheduled_departure_hour'] = flights['flight_departure_scheduled'].map(lambda s: np.rint(s/3600)).astype(int)"
   ]
  },
  {
   "cell_type": "code",
   "execution_count": 587,
   "metadata": {},
   "outputs": [],
   "source": [
    "flights['flight_duration_scheduled'] = flights['flight_arrival_scheduled'] - flights['flight_departure_scheduled']\n",
    "\n",
    "flights['flight_duration'] = np.where(flights['flight_duration'].isnull(),\n",
    "                                          flights['flight_duration_scheduled'],\n",
    "                                          flights['flight_duration'])"
   ]
  },
  {
   "cell_type": "code",
   "execution_count": 588,
   "metadata": {},
   "outputs": [],
   "source": [
    "flights['callsign'].fillna('None', inplace=True)\n",
    "flights['aircraft_model_code'].fillna('None', inplace=True)\n",
    "flights['aircraft_model_description'].fillna(flights['aircraft_model_code'], inplace=True)\n",
    "flights['aircraft_registration'].fillna('None', inplace=True)\n",
    "flights['flight_origin_code_icao'].fillna('None', inplace=True)\n",
    "flights['flight_destination_code_icao'].fillna('None', inplace=True)"
   ]
  },
  {
   "cell_type": "code",
   "execution_count": 589,
   "metadata": {},
   "outputs": [
    {
     "data": {
      "text/plain": [
       "mode                              0\n",
       "flight_number                     0\n",
       "callsign                          0\n",
       "aircraft_model_code               0\n",
       "aircraft_model_description        0\n",
       "aircraft_registration             0\n",
       "airline_name                      0\n",
       "airline_iata                      0\n",
       "airline_icao                      0\n",
       "flight_origin_code_iata           0\n",
       "flight_origin_code_icao           0\n",
       "flight_origin_name                0\n",
       "flight_origin_time_offset         0\n",
       "flight_destination_code_iata      0\n",
       "flight_destination_code_icao      0\n",
       "flight_destination_name           0\n",
       "flight_destination_time_offset    0\n",
       "flight_departure_scheduled        0\n",
       "flight_departure_real             0\n",
       "flight_arrival_scheduled          0\n",
       "flight_arrival_real               0\n",
       "flight_duration                   0\n",
       "assumed_cancellation              0\n",
       "scheduled_arrival_hour            0\n",
       "scheduled_departure_hour          0\n",
       "flight_duration_scheduled         0\n",
       "dtype: int64"
      ]
     },
     "execution_count": 589,
     "metadata": {},
     "output_type": "execute_result"
    }
   ],
   "source": [
    "flights.isnull().sum(axis=0) # re-check for missing values"
   ]
  },
  {
   "cell_type": "code",
   "execution_count": 590,
   "metadata": {},
   "outputs": [
    {
     "data": {
      "text/plain": [
       "count    282133.000000\n",
       "mean        707.976486\n",
       "std        2289.777189\n",
       "min           0.000000\n",
       "25%           0.000000\n",
       "50%           0.000000\n",
       "75%         386.000000\n",
       "max       85290.000000\n",
       "Name: arrival_delay, dtype: float64"
      ]
     },
     "execution_count": 590,
     "metadata": {},
     "output_type": "execute_result"
    }
   ],
   "source": [
    "flights['arrival_delay'] = np.where(flights['flight_arrival_real'] < flights['flight_arrival_scheduled'],0,\n",
    "                                   flights['flight_arrival_real'] - flights['flight_arrival_scheduled'])\n",
    "flights['arrival_delay'].describe()"
   ]
  },
  {
   "cell_type": "code",
   "execution_count": 591,
   "metadata": {},
   "outputs": [
    {
     "data": {
      "text/plain": [
       "count    282133.000000\n",
       "mean       1818.733222\n",
       "std        2853.318770\n",
       "min           0.000000\n",
       "25%         612.000000\n",
       "50%        1134.000000\n",
       "75%        2024.000000\n",
       "max      139440.000000\n",
       "Name: departure_delay, dtype: float64"
      ]
     },
     "execution_count": 591,
     "metadata": {},
     "output_type": "execute_result"
    }
   ],
   "source": [
    "flights['departure_delay'] = np.where(flights['flight_departure_real'] < flights['flight_departure_scheduled'],0,\n",
    "                                      flights['flight_departure_real'] - flights['flight_departure_scheduled'])\n",
    "flights['departure_delay'].describe()"
   ]
  },
  {
   "cell_type": "markdown",
   "metadata": {},
   "source": [
    "Departure delays affect over 75% of flights, with an average delay of 30 minutes, whereas arrival delays affect less than 50% of flights with an average delay of about 11 minutes."
   ]
  },
  {
   "cell_type": "code",
   "execution_count": 592,
   "metadata": {},
   "outputs": [
    {
     "data": {
      "text/plain": [
       "departure_delay         float64\n",
       "assumed_cancellation      int64\n",
       "dtype: object"
      ]
     },
     "execution_count": 592,
     "metadata": {},
     "output_type": "execute_result"
    }
   ],
   "source": [
    "departure_delays = flights.groupby('flight_origin_name').agg({'departure_delay':'mean', \n",
    "                                                              'assumed_cancellation':'sum'})\n",
    "departure_delays.dtypes"
   ]
  },
  {
   "cell_type": "code",
   "execution_count": 593,
   "metadata": {},
   "outputs": [
    {
     "data": {
      "text/html": [
       "<div>\n",
       "<style scoped>\n",
       "    .dataframe tbody tr th:only-of-type {\n",
       "        vertical-align: middle;\n",
       "    }\n",
       "\n",
       "    .dataframe tbody tr th {\n",
       "        vertical-align: top;\n",
       "    }\n",
       "\n",
       "    .dataframe thead th {\n",
       "        text-align: right;\n",
       "    }\n",
       "</style>\n",
       "<table border=\"1\" class=\"dataframe\">\n",
       "  <thead>\n",
       "    <tr style=\"text-align: right;\">\n",
       "      <th></th>\n",
       "      <th>departure_delay</th>\n",
       "      <th>assumed_cancellation</th>\n",
       "    </tr>\n",
       "    <tr>\n",
       "      <th>flight_origin_name</th>\n",
       "      <th></th>\n",
       "      <th></th>\n",
       "    </tr>\n",
       "  </thead>\n",
       "  <tbody>\n",
       "    <tr>\n",
       "      <th>Angeles City Clark International Airport</th>\n",
       "      <td>21897.000000</td>\n",
       "      <td>0</td>\n",
       "    </tr>\n",
       "    <tr>\n",
       "      <th>Rutland Southern Vermont Regional Airport</th>\n",
       "      <td>19046.000000</td>\n",
       "      <td>0</td>\n",
       "    </tr>\n",
       "    <tr>\n",
       "      <th>Cold Lake</th>\n",
       "      <td>14233.000000</td>\n",
       "      <td>0</td>\n",
       "    </tr>\n",
       "    <tr>\n",
       "      <th>Salisbury Ocean City Wicomico Regional Airport</th>\n",
       "      <td>11314.000000</td>\n",
       "      <td>0</td>\n",
       "    </tr>\n",
       "    <tr>\n",
       "      <th>Maastricht Aachen Airport</th>\n",
       "      <td>9493.428571</td>\n",
       "      <td>5</td>\n",
       "    </tr>\n",
       "  </tbody>\n",
       "</table>\n",
       "</div>"
      ],
      "text/plain": [
       "                                                departure_delay  \\\n",
       "flight_origin_name                                                \n",
       "Angeles City Clark International Airport           21897.000000   \n",
       "Rutland Southern Vermont Regional Airport          19046.000000   \n",
       "Cold Lake                                          14233.000000   \n",
       "Salisbury Ocean City Wicomico Regional Airport     11314.000000   \n",
       "Maastricht Aachen Airport                           9493.428571   \n",
       "\n",
       "                                                assumed_cancellation  \n",
       "flight_origin_name                                                    \n",
       "Angeles City Clark International Airport                           0  \n",
       "Rutland Southern Vermont Regional Airport                          0  \n",
       "Cold Lake                                                          0  \n",
       "Salisbury Ocean City Wicomico Regional Airport                     0  \n",
       "Maastricht Aachen Airport                                          5  "
      ]
     },
     "execution_count": 593,
     "metadata": {},
     "output_type": "execute_result"
    }
   ],
   "source": [
    "departure_delays.sort_values(by='departure_delay', ascending=False).head()"
   ]
  },
  {
   "cell_type": "code",
   "execution_count": 594,
   "metadata": {},
   "outputs": [
    {
     "data": {
      "text/plain": [
       "arrival_delay           float64\n",
       "assumed_cancellation      int64\n",
       "dtype: object"
      ]
     },
     "execution_count": 594,
     "metadata": {},
     "output_type": "execute_result"
    }
   ],
   "source": [
    "arrival_delays = flights.groupby('flight_destination_name').agg({'arrival_delay':'mean',\n",
    "                                                                'assumed_cancellation':'sum'})\n",
    "arrival_delays.dtypes"
   ]
  },
  {
   "cell_type": "code",
   "execution_count": 595,
   "metadata": {},
   "outputs": [
    {
     "data": {
      "text/html": [
       "<div>\n",
       "<style scoped>\n",
       "    .dataframe tbody tr th:only-of-type {\n",
       "        vertical-align: middle;\n",
       "    }\n",
       "\n",
       "    .dataframe tbody tr th {\n",
       "        vertical-align: top;\n",
       "    }\n",
       "\n",
       "    .dataframe thead th {\n",
       "        text-align: right;\n",
       "    }\n",
       "</style>\n",
       "<table border=\"1\" class=\"dataframe\">\n",
       "  <thead>\n",
       "    <tr style=\"text-align: right;\">\n",
       "      <th></th>\n",
       "      <th>arrival_delay</th>\n",
       "      <th>assumed_cancellation</th>\n",
       "    </tr>\n",
       "    <tr>\n",
       "      <th>flight_destination_name</th>\n",
       "      <th></th>\n",
       "      <th></th>\n",
       "    </tr>\n",
       "  </thead>\n",
       "  <tbody>\n",
       "    <tr>\n",
       "      <th>Lake City Gateway Airport</th>\n",
       "      <td>14857.000</td>\n",
       "      <td>0</td>\n",
       "    </tr>\n",
       "    <tr>\n",
       "      <th>Millington Regional Jetport</th>\n",
       "      <td>13437.000</td>\n",
       "      <td>0</td>\n",
       "    </tr>\n",
       "    <tr>\n",
       "      <th>Vitoria Eurico de Aguiar Salles Airport</th>\n",
       "      <td>9273.000</td>\n",
       "      <td>1</td>\n",
       "    </tr>\n",
       "    <tr>\n",
       "      <th>Kassel Calden Airport</th>\n",
       "      <td>8569.625</td>\n",
       "      <td>0</td>\n",
       "    </tr>\n",
       "    <tr>\n",
       "      <th>Jacksonville Cecil Airport</th>\n",
       "      <td>8514.000</td>\n",
       "      <td>0</td>\n",
       "    </tr>\n",
       "  </tbody>\n",
       "</table>\n",
       "</div>"
      ],
      "text/plain": [
       "                                         arrival_delay  assumed_cancellation\n",
       "flight_destination_name                                                     \n",
       "Lake City Gateway Airport                    14857.000                     0\n",
       "Millington Regional Jetport                  13437.000                     0\n",
       "Vitoria Eurico de Aguiar Salles Airport       9273.000                     1\n",
       "Kassel Calden Airport                         8569.625                     0\n",
       "Jacksonville Cecil Airport                    8514.000                     0"
      ]
     },
     "execution_count": 595,
     "metadata": {},
     "output_type": "execute_result"
    }
   ],
   "source": [
    "arrival_delays.sort_values(by='arrival_delay', ascending=False).head()"
   ]
  },
  {
   "cell_type": "code",
   "execution_count": 596,
   "metadata": {},
   "outputs": [
    {
     "data": {
      "text/html": [
       "<div>\n",
       "<style scoped>\n",
       "    .dataframe tbody tr th:only-of-type {\n",
       "        vertical-align: middle;\n",
       "    }\n",
       "\n",
       "    .dataframe tbody tr th {\n",
       "        vertical-align: top;\n",
       "    }\n",
       "\n",
       "    .dataframe thead th {\n",
       "        text-align: right;\n",
       "    }\n",
       "</style>\n",
       "<table border=\"1\" class=\"dataframe\">\n",
       "  <thead>\n",
       "    <tr style=\"text-align: right;\">\n",
       "      <th></th>\n",
       "      <th>departure_delay</th>\n",
       "      <th>arrival_delay</th>\n",
       "      <th>assumed_cancellation</th>\n",
       "    </tr>\n",
       "  </thead>\n",
       "  <tbody>\n",
       "    <tr>\n",
       "      <th>count</th>\n",
       "      <td>900.000000</td>\n",
       "      <td>900.000000</td>\n",
       "      <td>900.000000</td>\n",
       "    </tr>\n",
       "    <tr>\n",
       "      <th>mean</th>\n",
       "      <td>1891.711302</td>\n",
       "      <td>806.830365</td>\n",
       "      <td>14.735556</td>\n",
       "    </tr>\n",
       "    <tr>\n",
       "      <th>std</th>\n",
       "      <td>1882.087929</td>\n",
       "      <td>1391.201972</td>\n",
       "      <td>68.411071</td>\n",
       "    </tr>\n",
       "    <tr>\n",
       "      <th>min</th>\n",
       "      <td>0.000000</td>\n",
       "      <td>0.000000</td>\n",
       "      <td>0.000000</td>\n",
       "    </tr>\n",
       "    <tr>\n",
       "      <th>25%</th>\n",
       "      <td>1073.643486</td>\n",
       "      <td>117.720760</td>\n",
       "      <td>0.000000</td>\n",
       "    </tr>\n",
       "    <tr>\n",
       "      <th>50%</th>\n",
       "      <td>1590.948317</td>\n",
       "      <td>454.291667</td>\n",
       "      <td>0.000000</td>\n",
       "    </tr>\n",
       "    <tr>\n",
       "      <th>75%</th>\n",
       "      <td>2201.780638</td>\n",
       "      <td>975.521491</td>\n",
       "      <td>5.000000</td>\n",
       "    </tr>\n",
       "    <tr>\n",
       "      <th>max</th>\n",
       "      <td>25850.000000</td>\n",
       "      <td>24160.000000</td>\n",
       "      <td>1044.000000</td>\n",
       "    </tr>\n",
       "  </tbody>\n",
       "</table>\n",
       "</div>"
      ],
      "text/plain": [
       "       departure_delay  arrival_delay  assumed_cancellation\n",
       "count       900.000000     900.000000            900.000000\n",
       "mean       1891.711302     806.830365             14.735556\n",
       "std        1882.087929    1391.201972             68.411071\n",
       "min           0.000000       0.000000              0.000000\n",
       "25%        1073.643486     117.720760              0.000000\n",
       "50%        1590.948317     454.291667              0.000000\n",
       "75%        2201.780638     975.521491              5.000000\n",
       "max       25850.000000   24160.000000           1044.000000"
      ]
     },
     "execution_count": 596,
     "metadata": {},
     "output_type": "execute_result"
    }
   ],
   "source": [
    "airline_delays = flights.groupby('airline_name').agg({'departure_delay':'mean','arrival_delay':'mean',\n",
    "                                                     'assumed_cancellation':'sum'})\n",
    "airline_delays.describe()"
   ]
  },
  {
   "cell_type": "code",
   "execution_count": 597,
   "metadata": {},
   "outputs": [
    {
     "data": {
      "text/html": [
       "<div>\n",
       "<style scoped>\n",
       "    .dataframe tbody tr th:only-of-type {\n",
       "        vertical-align: middle;\n",
       "    }\n",
       "\n",
       "    .dataframe tbody tr th {\n",
       "        vertical-align: top;\n",
       "    }\n",
       "\n",
       "    .dataframe thead th {\n",
       "        text-align: right;\n",
       "    }\n",
       "</style>\n",
       "<table border=\"1\" class=\"dataframe\">\n",
       "  <thead>\n",
       "    <tr style=\"text-align: right;\">\n",
       "      <th></th>\n",
       "      <th>departure_delay</th>\n",
       "      <th>arrival_delay</th>\n",
       "      <th>assumed_cancellation</th>\n",
       "    </tr>\n",
       "    <tr>\n",
       "      <th>airline_name</th>\n",
       "      <th></th>\n",
       "      <th></th>\n",
       "      <th></th>\n",
       "    </tr>\n",
       "  </thead>\n",
       "  <tbody>\n",
       "    <tr>\n",
       "      <th>El Al Israel Cargo</th>\n",
       "      <td>25850.00</td>\n",
       "      <td>24160.0</td>\n",
       "      <td>0</td>\n",
       "    </tr>\n",
       "    <tr>\n",
       "      <th>Magma Aviation</th>\n",
       "      <td>18494.00</td>\n",
       "      <td>312.5</td>\n",
       "      <td>0</td>\n",
       "    </tr>\n",
       "    <tr>\n",
       "      <th>Frontier (Seymour the Walrus Livery)</th>\n",
       "      <td>14423.50</td>\n",
       "      <td>12360.0</td>\n",
       "      <td>0</td>\n",
       "    </tr>\n",
       "    <tr>\n",
       "      <th>Nolinor Aviation</th>\n",
       "      <td>14066.25</td>\n",
       "      <td>0.0</td>\n",
       "      <td>3</td>\n",
       "    </tr>\n",
       "    <tr>\n",
       "      <th>Norwegian (Thor Heyerdahl livery)</th>\n",
       "      <td>13890.00</td>\n",
       "      <td>0.0</td>\n",
       "      <td>0</td>\n",
       "    </tr>\n",
       "  </tbody>\n",
       "</table>\n",
       "</div>"
      ],
      "text/plain": [
       "                                      departure_delay  arrival_delay  \\\n",
       "airline_name                                                           \n",
       "El Al Israel Cargo                           25850.00        24160.0   \n",
       "Magma Aviation                               18494.00          312.5   \n",
       "Frontier (Seymour the Walrus Livery)         14423.50        12360.0   \n",
       "Nolinor Aviation                             14066.25            0.0   \n",
       "Norwegian (Thor Heyerdahl livery)            13890.00            0.0   \n",
       "\n",
       "                                      assumed_cancellation  \n",
       "airline_name                                                \n",
       "El Al Israel Cargo                                       0  \n",
       "Magma Aviation                                           0  \n",
       "Frontier (Seymour the Walrus Livery)                     0  \n",
       "Nolinor Aviation                                         3  \n",
       "Norwegian (Thor Heyerdahl livery)                        0  "
      ]
     },
     "execution_count": 597,
     "metadata": {},
     "output_type": "execute_result"
    }
   ],
   "source": [
    "airline_delays.sort_values(by='departure_delay', ascending=False).head()"
   ]
  },
  {
   "cell_type": "code",
   "execution_count": 598,
   "metadata": {},
   "outputs": [
    {
     "data": {
      "text/html": [
       "<div>\n",
       "<style scoped>\n",
       "    .dataframe tbody tr th:only-of-type {\n",
       "        vertical-align: middle;\n",
       "    }\n",
       "\n",
       "    .dataframe tbody tr th {\n",
       "        vertical-align: top;\n",
       "    }\n",
       "\n",
       "    .dataframe thead th {\n",
       "        text-align: right;\n",
       "    }\n",
       "</style>\n",
       "<table border=\"1\" class=\"dataframe\">\n",
       "  <thead>\n",
       "    <tr style=\"text-align: right;\">\n",
       "      <th></th>\n",
       "      <th>departure_delay</th>\n",
       "      <th>arrival_delay</th>\n",
       "      <th>assumed_cancellation</th>\n",
       "    </tr>\n",
       "    <tr>\n",
       "      <th>airline_name</th>\n",
       "      <th></th>\n",
       "      <th></th>\n",
       "      <th></th>\n",
       "    </tr>\n",
       "  </thead>\n",
       "  <tbody>\n",
       "    <tr>\n",
       "      <th>El Al Israel Cargo</th>\n",
       "      <td>25850.00000</td>\n",
       "      <td>24160.000000</td>\n",
       "      <td>0</td>\n",
       "    </tr>\n",
       "    <tr>\n",
       "      <th>Frontier (Seymour the Walrus Livery)</th>\n",
       "      <td>14423.50000</td>\n",
       "      <td>12360.000000</td>\n",
       "      <td>0</td>\n",
       "    </tr>\n",
       "    <tr>\n",
       "      <th>Cargolux (Cutaway Livery)</th>\n",
       "      <td>11677.00000</td>\n",
       "      <td>9461.500000</td>\n",
       "      <td>1</td>\n",
       "    </tr>\n",
       "    <tr>\n",
       "      <th>Aviolet</th>\n",
       "      <td>9727.00000</td>\n",
       "      <td>8299.000000</td>\n",
       "      <td>0</td>\n",
       "    </tr>\n",
       "    <tr>\n",
       "      <th>Ethiopian Cargo</th>\n",
       "      <td>6943.62963</td>\n",
       "      <td>8209.777778</td>\n",
       "      <td>2</td>\n",
       "    </tr>\n",
       "  </tbody>\n",
       "</table>\n",
       "</div>"
      ],
      "text/plain": [
       "                                      departure_delay  arrival_delay  \\\n",
       "airline_name                                                           \n",
       "El Al Israel Cargo                        25850.00000   24160.000000   \n",
       "Frontier (Seymour the Walrus Livery)      14423.50000   12360.000000   \n",
       "Cargolux (Cutaway Livery)                 11677.00000    9461.500000   \n",
       "Aviolet                                    9727.00000    8299.000000   \n",
       "Ethiopian Cargo                            6943.62963    8209.777778   \n",
       "\n",
       "                                      assumed_cancellation  \n",
       "airline_name                                                \n",
       "El Al Israel Cargo                                       0  \n",
       "Frontier (Seymour the Walrus Livery)                     0  \n",
       "Cargolux (Cutaway Livery)                                1  \n",
       "Aviolet                                                  0  \n",
       "Ethiopian Cargo                                          2  "
      ]
     },
     "execution_count": 598,
     "metadata": {},
     "output_type": "execute_result"
    }
   ],
   "source": [
    "airline_delays.sort_values(by='arrival_delay', ascending=False).head()"
   ]
  },
  {
   "cell_type": "code",
   "execution_count": 599,
   "metadata": {},
   "outputs": [
    {
     "data": {
      "text/html": [
       "<div>\n",
       "<style scoped>\n",
       "    .dataframe tbody tr th:only-of-type {\n",
       "        vertical-align: middle;\n",
       "    }\n",
       "\n",
       "    .dataframe tbody tr th {\n",
       "        vertical-align: top;\n",
       "    }\n",
       "\n",
       "    .dataframe thead th {\n",
       "        text-align: right;\n",
       "    }\n",
       "</style>\n",
       "<table border=\"1\" class=\"dataframe\">\n",
       "  <thead>\n",
       "    <tr style=\"text-align: right;\">\n",
       "      <th></th>\n",
       "      <th>airline_departure_delay_risk</th>\n",
       "      <th>airline_arrival_delay_risk</th>\n",
       "      <th>cancellation_risk</th>\n",
       "    </tr>\n",
       "    <tr>\n",
       "      <th>airline_name</th>\n",
       "      <th></th>\n",
       "      <th></th>\n",
       "      <th></th>\n",
       "    </tr>\n",
       "  </thead>\n",
       "  <tbody>\n",
       "    <tr>\n",
       "      <th>21 Air</th>\n",
       "      <td>0.000000</td>\n",
       "      <td>0.000000</td>\n",
       "      <td>2</td>\n",
       "    </tr>\n",
       "    <tr>\n",
       "      <th>ABX Air</th>\n",
       "      <td>1548.197368</td>\n",
       "      <td>618.980263</td>\n",
       "      <td>16</td>\n",
       "    </tr>\n",
       "    <tr>\n",
       "      <th>ASL Airlines Belgium</th>\n",
       "      <td>11788.571429</td>\n",
       "      <td>2852.666667</td>\n",
       "      <td>10</td>\n",
       "    </tr>\n",
       "    <tr>\n",
       "      <th>ASL Airlines France</th>\n",
       "      <td>488.171662</td>\n",
       "      <td>221.215259</td>\n",
       "      <td>240</td>\n",
       "    </tr>\n",
       "    <tr>\n",
       "      <th>ASL Airlines Hungary</th>\n",
       "      <td>0.000000</td>\n",
       "      <td>0.000000</td>\n",
       "      <td>0</td>\n",
       "    </tr>\n",
       "  </tbody>\n",
       "</table>\n",
       "</div>"
      ],
      "text/plain": [
       "                      airline_departure_delay_risk  \\\n",
       "airline_name                                         \n",
       "21 Air                                    0.000000   \n",
       "ABX Air                                1548.197368   \n",
       "ASL Airlines Belgium                  11788.571429   \n",
       "ASL Airlines France                     488.171662   \n",
       "ASL Airlines Hungary                      0.000000   \n",
       "\n",
       "                      airline_arrival_delay_risk  cancellation_risk  \n",
       "airline_name                                                         \n",
       "21 Air                                  0.000000                  2  \n",
       "ABX Air                               618.980263                 16  \n",
       "ASL Airlines Belgium                 2852.666667                 10  \n",
       "ASL Airlines France                   221.215259                240  \n",
       "ASL Airlines Hungary                    0.000000                  0  "
      ]
     },
     "execution_count": 599,
     "metadata": {},
     "output_type": "execute_result"
    }
   ],
   "source": [
    "airline_risk_factors = airline_delays.rename(columns={'departure_delay':'airline_departure_delay_risk',\n",
    "                                                     'arrival_delay':'airline_arrival_delay_risk',\n",
    "                                                     'assumed_cancellation':'cancellation_risk'})\n",
    "airline_risk_factors.head()"
   ]
  },
  {
   "cell_type": "code",
   "execution_count": 600,
   "metadata": {},
   "outputs": [
    {
     "data": {
      "text/html": [
       "<div>\n",
       "<style scoped>\n",
       "    .dataframe tbody tr th:only-of-type {\n",
       "        vertical-align: middle;\n",
       "    }\n",
       "\n",
       "    .dataframe tbody tr th {\n",
       "        vertical-align: top;\n",
       "    }\n",
       "\n",
       "    .dataframe thead th {\n",
       "        text-align: right;\n",
       "    }\n",
       "</style>\n",
       "<table border=\"1\" class=\"dataframe\">\n",
       "  <thead>\n",
       "    <tr style=\"text-align: right;\">\n",
       "      <th></th>\n",
       "      <th>airport_departure_delay_risk</th>\n",
       "      <th>cancellation_risk</th>\n",
       "    </tr>\n",
       "    <tr>\n",
       "      <th>flight_origin_name</th>\n",
       "      <th></th>\n",
       "      <th></th>\n",
       "    </tr>\n",
       "  </thead>\n",
       "  <tbody>\n",
       "    <tr>\n",
       "      <th>A Coruna Airport</th>\n",
       "      <td>597.652174</td>\n",
       "      <td>0</td>\n",
       "    </tr>\n",
       "    <tr>\n",
       "      <th>Aalborg Airport</th>\n",
       "      <td>726.647059</td>\n",
       "      <td>0</td>\n",
       "    </tr>\n",
       "    <tr>\n",
       "      <th>Aarhus Airport</th>\n",
       "      <td>433.842105</td>\n",
       "      <td>0</td>\n",
       "    </tr>\n",
       "    <tr>\n",
       "      <th>Abbotsford International Airport</th>\n",
       "      <td>0.000000</td>\n",
       "      <td>0</td>\n",
       "    </tr>\n",
       "    <tr>\n",
       "      <th>Aberdeen International Airport</th>\n",
       "      <td>1087.748971</td>\n",
       "      <td>1</td>\n",
       "    </tr>\n",
       "  </tbody>\n",
       "</table>\n",
       "</div>"
      ],
      "text/plain": [
       "                                  airport_departure_delay_risk  \\\n",
       "flight_origin_name                                               \n",
       "A Coruna Airport                                    597.652174   \n",
       "Aalborg Airport                                     726.647059   \n",
       "Aarhus Airport                                      433.842105   \n",
       "Abbotsford International Airport                      0.000000   \n",
       "Aberdeen International Airport                     1087.748971   \n",
       "\n",
       "                                  cancellation_risk  \n",
       "flight_origin_name                                   \n",
       "A Coruna Airport                                  0  \n",
       "Aalborg Airport                                   0  \n",
       "Aarhus Airport                                    0  \n",
       "Abbotsford International Airport                  0  \n",
       "Aberdeen International Airport                    1  "
      ]
     },
     "execution_count": 600,
     "metadata": {},
     "output_type": "execute_result"
    }
   ],
   "source": [
    "origin_airport_risk_factors = departure_delays.rename(columns={'departure_delay':'airport_departure_delay_risk',\n",
    "                                                              'assumed_cancellation':'cancellation_risk'})\n",
    "origin_airport_risk_factors.head()"
   ]
  },
  {
   "cell_type": "code",
   "execution_count": 601,
   "metadata": {},
   "outputs": [
    {
     "data": {
      "text/html": [
       "<div>\n",
       "<style scoped>\n",
       "    .dataframe tbody tr th:only-of-type {\n",
       "        vertical-align: middle;\n",
       "    }\n",
       "\n",
       "    .dataframe tbody tr th {\n",
       "        vertical-align: top;\n",
       "    }\n",
       "\n",
       "    .dataframe thead th {\n",
       "        text-align: right;\n",
       "    }\n",
       "</style>\n",
       "<table border=\"1\" class=\"dataframe\">\n",
       "  <thead>\n",
       "    <tr style=\"text-align: right;\">\n",
       "      <th></th>\n",
       "      <th>airport_arrival_delay_risk</th>\n",
       "      <th>cancellation_risk</th>\n",
       "    </tr>\n",
       "  </thead>\n",
       "  <tbody>\n",
       "    <tr>\n",
       "      <th>count</th>\n",
       "      <td>971.000000</td>\n",
       "      <td>971.000000</td>\n",
       "    </tr>\n",
       "    <tr>\n",
       "      <th>mean</th>\n",
       "      <td>641.357761</td>\n",
       "      <td>13.658084</td>\n",
       "    </tr>\n",
       "    <tr>\n",
       "      <th>std</th>\n",
       "      <td>1042.723412</td>\n",
       "      <td>67.438024</td>\n",
       "    </tr>\n",
       "    <tr>\n",
       "      <th>min</th>\n",
       "      <td>0.000000</td>\n",
       "      <td>0.000000</td>\n",
       "    </tr>\n",
       "    <tr>\n",
       "      <th>25%</th>\n",
       "      <td>128.234903</td>\n",
       "      <td>0.000000</td>\n",
       "    </tr>\n",
       "    <tr>\n",
       "      <th>50%</th>\n",
       "      <td>475.531250</td>\n",
       "      <td>1.000000</td>\n",
       "    </tr>\n",
       "    <tr>\n",
       "      <th>75%</th>\n",
       "      <td>783.969538</td>\n",
       "      <td>6.000000</td>\n",
       "    </tr>\n",
       "    <tr>\n",
       "      <th>max</th>\n",
       "      <td>14857.000000</td>\n",
       "      <td>998.000000</td>\n",
       "    </tr>\n",
       "  </tbody>\n",
       "</table>\n",
       "</div>"
      ],
      "text/plain": [
       "       airport_arrival_delay_risk  cancellation_risk\n",
       "count                  971.000000         971.000000\n",
       "mean                   641.357761          13.658084\n",
       "std                   1042.723412          67.438024\n",
       "min                      0.000000           0.000000\n",
       "25%                    128.234903           0.000000\n",
       "50%                    475.531250           1.000000\n",
       "75%                    783.969538           6.000000\n",
       "max                  14857.000000         998.000000"
      ]
     },
     "execution_count": 601,
     "metadata": {},
     "output_type": "execute_result"
    }
   ],
   "source": [
    "destination_airport_risk_factors = arrival_delays.rename(columns={'arrival_delay':'airport_arrival_delay_risk',\n",
    "                                                                 'assumed_cancellation':'cancellation_risk'})\n",
    "destination_airport_risk_factors.describe()"
   ]
  },
  {
   "cell_type": "code",
   "execution_count": 602,
   "metadata": {},
   "outputs": [
    {
     "data": {
      "text/html": [
       "<div>\n",
       "<style scoped>\n",
       "    .dataframe tbody tr th:only-of-type {\n",
       "        vertical-align: middle;\n",
       "    }\n",
       "\n",
       "    .dataframe tbody tr th {\n",
       "        vertical-align: top;\n",
       "    }\n",
       "\n",
       "    .dataframe thead th {\n",
       "        text-align: right;\n",
       "    }\n",
       "</style>\n",
       "<table border=\"1\" class=\"dataframe\">\n",
       "  <thead>\n",
       "    <tr style=\"text-align: right;\">\n",
       "      <th></th>\n",
       "      <th>mode</th>\n",
       "      <th>flight_number</th>\n",
       "      <th>callsign</th>\n",
       "      <th>aircraft_model_code</th>\n",
       "      <th>aircraft_model_description</th>\n",
       "      <th>aircraft_registration</th>\n",
       "      <th>airline_name</th>\n",
       "      <th>airline_iata</th>\n",
       "      <th>airline_icao</th>\n",
       "      <th>flight_origin_code_iata</th>\n",
       "      <th>...</th>\n",
       "      <th>scheduled_arrival_hour</th>\n",
       "      <th>scheduled_departure_hour</th>\n",
       "      <th>flight_duration_scheduled</th>\n",
       "      <th>arrival_delay</th>\n",
       "      <th>departure_delay</th>\n",
       "      <th>airport_departure_delay_risk</th>\n",
       "      <th>cancellation_risk_x</th>\n",
       "      <th>airline_departure_delay_risk</th>\n",
       "      <th>airline_arrival_delay_risk</th>\n",
       "      <th>cancellation_risk_y</th>\n",
       "    </tr>\n",
       "  </thead>\n",
       "  <tbody>\n",
       "    <tr>\n",
       "      <th>0</th>\n",
       "      <td>arrivals</td>\n",
       "      <td>JL41</td>\n",
       "      <td>JAL41</td>\n",
       "      <td>B788</td>\n",
       "      <td>Boeing 787-8 Dreamliner</td>\n",
       "      <td>JA837J</td>\n",
       "      <td>Japan Airlines</td>\n",
       "      <td>JL</td>\n",
       "      <td>JAL</td>\n",
       "      <td>HND</td>\n",
       "      <td>...</td>\n",
       "      <td>432869</td>\n",
       "      <td>432857</td>\n",
       "      <td>45000</td>\n",
       "      <td>0.0</td>\n",
       "      <td>2166.0</td>\n",
       "      <td>1629.953216</td>\n",
       "      <td>1</td>\n",
       "      <td>2113.519868</td>\n",
       "      <td>761.569536</td>\n",
       "      <td>1</td>\n",
       "    </tr>\n",
       "    <tr>\n",
       "      <th>1</th>\n",
       "      <td>arrivals</td>\n",
       "      <td>JL43</td>\n",
       "      <td>JAL43</td>\n",
       "      <td>B77W</td>\n",
       "      <td>Boeing 777-346(ER)</td>\n",
       "      <td>JA736J</td>\n",
       "      <td>Japan Airlines</td>\n",
       "      <td>JL</td>\n",
       "      <td>JAL</td>\n",
       "      <td>HND</td>\n",
       "      <td>...</td>\n",
       "      <td>432855</td>\n",
       "      <td>432842</td>\n",
       "      <td>45000</td>\n",
       "      <td>0.0</td>\n",
       "      <td>1408.0</td>\n",
       "      <td>1629.953216</td>\n",
       "      <td>1</td>\n",
       "      <td>2113.519868</td>\n",
       "      <td>761.569536</td>\n",
       "      <td>1</td>\n",
       "    </tr>\n",
       "    <tr>\n",
       "      <th>2</th>\n",
       "      <td>arrivals</td>\n",
       "      <td>JL43</td>\n",
       "      <td>JAL43</td>\n",
       "      <td>B77W</td>\n",
       "      <td>Boeing 777-346(ER)</td>\n",
       "      <td>JA736J</td>\n",
       "      <td>Japan Airlines</td>\n",
       "      <td>JL</td>\n",
       "      <td>JAL</td>\n",
       "      <td>HND</td>\n",
       "      <td>...</td>\n",
       "      <td>432903</td>\n",
       "      <td>432890</td>\n",
       "      <td>45000</td>\n",
       "      <td>0.0</td>\n",
       "      <td>1921.0</td>\n",
       "      <td>1629.953216</td>\n",
       "      <td>1</td>\n",
       "      <td>2113.519868</td>\n",
       "      <td>761.569536</td>\n",
       "      <td>1</td>\n",
       "    </tr>\n",
       "    <tr>\n",
       "      <th>3</th>\n",
       "      <td>arrivals</td>\n",
       "      <td>JL41</td>\n",
       "      <td>JAL41</td>\n",
       "      <td>B788</td>\n",
       "      <td>Boeing 787-8 Dreamliner</td>\n",
       "      <td>JA840J</td>\n",
       "      <td>Japan Airlines</td>\n",
       "      <td>JL</td>\n",
       "      <td>JAL</td>\n",
       "      <td>HND</td>\n",
       "      <td>...</td>\n",
       "      <td>432893</td>\n",
       "      <td>432881</td>\n",
       "      <td>45000</td>\n",
       "      <td>0.0</td>\n",
       "      <td>3303.0</td>\n",
       "      <td>1629.953216</td>\n",
       "      <td>1</td>\n",
       "      <td>2113.519868</td>\n",
       "      <td>761.569536</td>\n",
       "      <td>1</td>\n",
       "    </tr>\n",
       "    <tr>\n",
       "      <th>4</th>\n",
       "      <td>arrivals</td>\n",
       "      <td>JL41</td>\n",
       "      <td>JAL41</td>\n",
       "      <td>B788</td>\n",
       "      <td>Boeing 787-8 Dreamliner</td>\n",
       "      <td>JA840J</td>\n",
       "      <td>Japan Airlines</td>\n",
       "      <td>JL</td>\n",
       "      <td>JAL</td>\n",
       "      <td>HND</td>\n",
       "      <td>...</td>\n",
       "      <td>432941</td>\n",
       "      <td>432929</td>\n",
       "      <td>45000</td>\n",
       "      <td>0.0</td>\n",
       "      <td>2318.0</td>\n",
       "      <td>1629.953216</td>\n",
       "      <td>1</td>\n",
       "      <td>2113.519868</td>\n",
       "      <td>761.569536</td>\n",
       "      <td>1</td>\n",
       "    </tr>\n",
       "  </tbody>\n",
       "</table>\n",
       "<p>5 rows × 33 columns</p>\n",
       "</div>"
      ],
      "text/plain": [
       "       mode flight_number callsign aircraft_model_code  \\\n",
       "0  arrivals          JL41    JAL41                B788   \n",
       "1  arrivals          JL43    JAL43                B77W   \n",
       "2  arrivals          JL43    JAL43                B77W   \n",
       "3  arrivals          JL41    JAL41                B788   \n",
       "4  arrivals          JL41    JAL41                B788   \n",
       "\n",
       "  aircraft_model_description aircraft_registration    airline_name  \\\n",
       "0    Boeing 787-8 Dreamliner                JA837J  Japan Airlines   \n",
       "1         Boeing 777-346(ER)                JA736J  Japan Airlines   \n",
       "2         Boeing 777-346(ER)                JA736J  Japan Airlines   \n",
       "3    Boeing 787-8 Dreamliner                JA840J  Japan Airlines   \n",
       "4    Boeing 787-8 Dreamliner                JA840J  Japan Airlines   \n",
       "\n",
       "  airline_iata airline_icao flight_origin_code_iata         ...           \\\n",
       "0           JL          JAL                     HND         ...            \n",
       "1           JL          JAL                     HND         ...            \n",
       "2           JL          JAL                     HND         ...            \n",
       "3           JL          JAL                     HND         ...            \n",
       "4           JL          JAL                     HND         ...            \n",
       "\n",
       "  scheduled_arrival_hour scheduled_departure_hour  flight_duration_scheduled  \\\n",
       "0                 432869                   432857                      45000   \n",
       "1                 432855                   432842                      45000   \n",
       "2                 432903                   432890                      45000   \n",
       "3                 432893                   432881                      45000   \n",
       "4                 432941                   432929                      45000   \n",
       "\n",
       "  arrival_delay departure_delay airport_departure_delay_risk  \\\n",
       "0           0.0          2166.0                  1629.953216   \n",
       "1           0.0          1408.0                  1629.953216   \n",
       "2           0.0          1921.0                  1629.953216   \n",
       "3           0.0          3303.0                  1629.953216   \n",
       "4           0.0          2318.0                  1629.953216   \n",
       "\n",
       "   cancellation_risk_x  airline_departure_delay_risk  \\\n",
       "0                    1                   2113.519868   \n",
       "1                    1                   2113.519868   \n",
       "2                    1                   2113.519868   \n",
       "3                    1                   2113.519868   \n",
       "4                    1                   2113.519868   \n",
       "\n",
       "   airline_arrival_delay_risk  cancellation_risk_y  \n",
       "0                  761.569536                    1  \n",
       "1                  761.569536                    1  \n",
       "2                  761.569536                    1  \n",
       "3                  761.569536                    1  \n",
       "4                  761.569536                    1  \n",
       "\n",
       "[5 rows x 33 columns]"
      ]
     },
     "execution_count": 602,
     "metadata": {},
     "output_type": "execute_result"
    }
   ],
   "source": [
    "departure_delay_features = pd.merge (flights, origin_airport_risk_factors, on='flight_origin_name')\n",
    "departure_delay_features = pd.merge (departure_delay_features, airline_risk_factors, on='airline_name')\n",
    "departure_delay_features.head()"
   ]
  },
  {
   "cell_type": "code",
   "execution_count": 603,
   "metadata": {},
   "outputs": [
    {
     "data": {
      "text/plain": [
       "<matplotlib.axes._subplots.AxesSubplot at 0x165ed6cc0>"
      ]
     },
     "execution_count": 603,
     "metadata": {},
     "output_type": "execute_result"
    },
    {
     "data": {
      "image/png": "[encoded data removed]",
      "text/plain": [
       "<Figure size 432x288 with 1 Axes>"
      ]
     },
     "metadata": {
      "needs_background": "light"
     },
     "output_type": "display_data"
    }
   ],
   "source": [
    "departure_delay_features.plot ('airline_departure_delay_risk', 'departure_delay', kind='scatter')"
   ]
  },
  {
   "cell_type": "code",
   "execution_count": 604,
   "metadata": {},
   "outputs": [
    {
     "data": {
      "text/plain": [
       "<matplotlib.axes._subplots.AxesSubplot at 0x165ea5cc0>"
      ]
     },
     "execution_count": 604,
     "metadata": {},
     "output_type": "execute_result"
    },
    {
     "data": {
      "image/png": "[encoded data removed]",
      "text/plain": [
       "<Figure size 432x288 with 1 Axes>"
      ]
     },
     "metadata": {
      "needs_background": "light"
     },
     "output_type": "display_data"
    }
   ],
   "source": [
    "departure_delay_features.plot ('airline_arrival_delay_risk', 'arrival_delay', kind='scatter')"
   ]
  },
  {
   "cell_type": "code",
   "execution_count": 605,
   "metadata": {},
   "outputs": [
    {
     "name": "stdout",
     "output_type": "stream",
     "text": [
      "0.03507124920176985\n"
     ]
    }
   ],
   "source": [
    "from sklearn.metrics import explained_variance_score, r2_score\n",
    "\n",
    "departure_delay_features['airport_departure_delay_risk'].fillna(0,inplace=True)\n",
    "departure_delay_features['departure_delay'].fillna(0,inplace=True)\n",
    "\n",
    "print (explained_variance_score (departure_delay_features['departure_delay'],\n",
    "                                      departure_delay_features['airport_departure_delay_risk']))"
   ]
  },
  {
   "cell_type": "code",
   "execution_count": 606,
   "metadata": {},
   "outputs": [
    {
     "name": "stdout",
     "output_type": "stream",
     "text": [
      "0.03507124920176974\n"
     ]
    }
   ],
   "source": [
    "print (r2_score (departure_delay_features['departure_delay'],\n",
    "                                      departure_delay_features['airport_departure_delay_risk']))"
   ]
  },
  {
   "cell_type": "code",
   "execution_count": 607,
   "metadata": {},
   "outputs": [
    {
     "name": "stdout",
     "output_type": "stream",
     "text": [
      "0.03440308468527986\n"
     ]
    }
   ],
   "source": [
    "departure_delay_features['airline_departure_delay_risk'].fillna(0,inplace=True)\n",
    "\n",
    "print (explained_variance_score (departure_delay_features['departure_delay'],\n",
    "                                      departure_delay_features['airline_departure_delay_risk']))"
   ]
  },
  {
   "cell_type": "code",
   "execution_count": 608,
   "metadata": {},
   "outputs": [
    {
     "name": "stdout",
     "output_type": "stream",
     "text": [
      "0.03440308468527986\n"
     ]
    }
   ],
   "source": [
    "print (r2_score (departure_delay_features['departure_delay'],\n",
    "                                      departure_delay_features['airline_departure_delay_risk']))"
   ]
  },
  {
   "cell_type": "markdown",
   "metadata": {},
   "source": [
    "Despite the apparent variation in delay times between airports and airlines, there seems to be little or no predictive power in using the average delay per airport or average delay per airline."
   ]
  },
  {
   "cell_type": "code",
   "execution_count": 609,
   "metadata": {},
   "outputs": [
    {
     "data": {
      "text/html": [
       "<div>\n",
       "<style scoped>\n",
       "    .dataframe tbody tr th:only-of-type {\n",
       "        vertical-align: middle;\n",
       "    }\n",
       "\n",
       "    .dataframe tbody tr th {\n",
       "        vertical-align: top;\n",
       "    }\n",
       "\n",
       "    .dataframe thead th {\n",
       "        text-align: right;\n",
       "    }\n",
       "</style>\n",
       "<table border=\"1\" class=\"dataframe\">\n",
       "  <thead>\n",
       "    <tr style=\"text-align: right;\">\n",
       "      <th></th>\n",
       "      <th>departure_delay</th>\n",
       "      <th>arrival_delay</th>\n",
       "    </tr>\n",
       "  </thead>\n",
       "  <tbody>\n",
       "    <tr>\n",
       "      <th>count</th>\n",
       "      <td>927.000000</td>\n",
       "      <td>927.000000</td>\n",
       "    </tr>\n",
       "    <tr>\n",
       "      <th>mean</th>\n",
       "      <td>1729.851648</td>\n",
       "      <td>686.815334</td>\n",
       "    </tr>\n",
       "    <tr>\n",
       "      <th>std</th>\n",
       "      <td>2056.843487</td>\n",
       "      <td>1276.264551</td>\n",
       "    </tr>\n",
       "    <tr>\n",
       "      <th>min</th>\n",
       "      <td>0.000000</td>\n",
       "      <td>0.000000</td>\n",
       "    </tr>\n",
       "    <tr>\n",
       "      <th>25%</th>\n",
       "      <td>474.678571</td>\n",
       "      <td>0.000000</td>\n",
       "    </tr>\n",
       "    <tr>\n",
       "      <th>50%</th>\n",
       "      <td>1525.195122</td>\n",
       "      <td>368.828571</td>\n",
       "    </tr>\n",
       "    <tr>\n",
       "      <th>75%</th>\n",
       "      <td>2214.430831</td>\n",
       "      <td>855.041667</td>\n",
       "    </tr>\n",
       "    <tr>\n",
       "      <th>max</th>\n",
       "      <td>29060.000000</td>\n",
       "      <td>18965.000000</td>\n",
       "    </tr>\n",
       "  </tbody>\n",
       "</table>\n",
       "</div>"
      ],
      "text/plain": [
       "       departure_delay  arrival_delay\n",
       "count       927.000000     927.000000\n",
       "mean       1729.851648     686.815334\n",
       "std        2056.843487    1276.264551\n",
       "min           0.000000       0.000000\n",
       "25%         474.678571       0.000000\n",
       "50%        1525.195122     368.828571\n",
       "75%        2214.430831     855.041667\n",
       "max       29060.000000   18965.000000"
      ]
     },
     "execution_count": 609,
     "metadata": {},
     "output_type": "execute_result"
    }
   ],
   "source": [
    "aircraft_delays = flights.groupby('aircraft_model_description').agg({'departure_delay':'mean','arrival_delay':'mean'})\n",
    "aircraft_delays.describe()"
   ]
  },
  {
   "cell_type": "code",
   "execution_count": 610,
   "metadata": {},
   "outputs": [
    {
     "data": {
      "text/html": [
       "<div>\n",
       "<style scoped>\n",
       "    .dataframe tbody tr th:only-of-type {\n",
       "        vertical-align: middle;\n",
       "    }\n",
       "\n",
       "    .dataframe tbody tr th {\n",
       "        vertical-align: top;\n",
       "    }\n",
       "\n",
       "    .dataframe thead th {\n",
       "        text-align: right;\n",
       "    }\n",
       "</style>\n",
       "<table border=\"1\" class=\"dataframe\">\n",
       "  <thead>\n",
       "    <tr style=\"text-align: right;\">\n",
       "      <th></th>\n",
       "      <th>departure_delay</th>\n",
       "      <th>arrival_delay</th>\n",
       "    </tr>\n",
       "    <tr>\n",
       "      <th>aircraft_model_description</th>\n",
       "      <th></th>\n",
       "      <th></th>\n",
       "    </tr>\n",
       "  </thead>\n",
       "  <tbody>\n",
       "    <tr>\n",
       "      <th>GL5T</th>\n",
       "      <td>29060.000000</td>\n",
       "      <td>0.0</td>\n",
       "    </tr>\n",
       "    <tr>\n",
       "      <th>Boeing 767-306(ER)</th>\n",
       "      <td>19842.000000</td>\n",
       "      <td>18965.0</td>\n",
       "    </tr>\n",
       "    <tr>\n",
       "      <th>Boeing 747-412(BDSF)</th>\n",
       "      <td>18494.000000</td>\n",
       "      <td>312.5</td>\n",
       "    </tr>\n",
       "    <tr>\n",
       "      <th>Cessna 700 Citation Longitude</th>\n",
       "      <td>14207.000000</td>\n",
       "      <td>0.0</td>\n",
       "    </tr>\n",
       "    <tr>\n",
       "      <th>Boeing 777-F</th>\n",
       "      <td>12851.333333</td>\n",
       "      <td>12091.5</td>\n",
       "    </tr>\n",
       "  </tbody>\n",
       "</table>\n",
       "</div>"
      ],
      "text/plain": [
       "                               departure_delay  arrival_delay\n",
       "aircraft_model_description                                   \n",
       "GL5T                              29060.000000            0.0\n",
       "Boeing 767-306(ER)                19842.000000        18965.0\n",
       "Boeing 747-412(BDSF)              18494.000000          312.5\n",
       "Cessna 700 Citation Longitude     14207.000000            0.0\n",
       "Boeing 777-F                      12851.333333        12091.5"
      ]
     },
     "execution_count": 610,
     "metadata": {},
     "output_type": "execute_result"
    }
   ],
   "source": [
    "aircraft_delays.sort_values(by='departure_delay', ascending=False).head()"
   ]
  },
  {
   "cell_type": "code",
   "execution_count": 611,
   "metadata": {},
   "outputs": [
    {
     "data": {
      "text/html": [
       "<div>\n",
       "<style scoped>\n",
       "    .dataframe tbody tr th:only-of-type {\n",
       "        vertical-align: middle;\n",
       "    }\n",
       "\n",
       "    .dataframe tbody tr th {\n",
       "        vertical-align: top;\n",
       "    }\n",
       "\n",
       "    .dataframe thead th {\n",
       "        text-align: right;\n",
       "    }\n",
       "</style>\n",
       "<table border=\"1\" class=\"dataframe\">\n",
       "  <thead>\n",
       "    <tr style=\"text-align: right;\">\n",
       "      <th></th>\n",
       "      <th>mode</th>\n",
       "      <th>flight_number</th>\n",
       "      <th>callsign</th>\n",
       "      <th>aircraft_model_code</th>\n",
       "      <th>aircraft_model_description</th>\n",
       "      <th>aircraft_registration</th>\n",
       "      <th>airline_name</th>\n",
       "      <th>airline_iata</th>\n",
       "      <th>airline_icao</th>\n",
       "      <th>flight_origin_code_iata</th>\n",
       "      <th>...</th>\n",
       "      <th>flight_duration_scheduled</th>\n",
       "      <th>arrival_delay</th>\n",
       "      <th>departure_delay</th>\n",
       "      <th>airport_departure_delay_risk</th>\n",
       "      <th>cancellation_risk_x</th>\n",
       "      <th>airline_departure_delay_risk</th>\n",
       "      <th>airline_arrival_delay_risk</th>\n",
       "      <th>cancellation_risk_y</th>\n",
       "      <th>aircraft_departure_delay_risk</th>\n",
       "      <th>aircraft_arrival_delay_risk</th>\n",
       "    </tr>\n",
       "  </thead>\n",
       "  <tbody>\n",
       "    <tr>\n",
       "      <th>0</th>\n",
       "      <td>arrivals</td>\n",
       "      <td>JL41</td>\n",
       "      <td>JAL41</td>\n",
       "      <td>B788</td>\n",
       "      <td>Boeing 787-8 Dreamliner</td>\n",
       "      <td>JA837J</td>\n",
       "      <td>Japan Airlines</td>\n",
       "      <td>JL</td>\n",
       "      <td>JAL</td>\n",
       "      <td>HND</td>\n",
       "      <td>...</td>\n",
       "      <td>45000</td>\n",
       "      <td>0.0</td>\n",
       "      <td>2166.0</td>\n",
       "      <td>1629.953216</td>\n",
       "      <td>1</td>\n",
       "      <td>2113.519868</td>\n",
       "      <td>761.569536</td>\n",
       "      <td>1</td>\n",
       "      <td>2350.710636</td>\n",
       "      <td>986.190824</td>\n",
       "    </tr>\n",
       "    <tr>\n",
       "      <th>1</th>\n",
       "      <td>arrivals</td>\n",
       "      <td>JL41</td>\n",
       "      <td>JAL41</td>\n",
       "      <td>B788</td>\n",
       "      <td>Boeing 787-8 Dreamliner</td>\n",
       "      <td>JA840J</td>\n",
       "      <td>Japan Airlines</td>\n",
       "      <td>JL</td>\n",
       "      <td>JAL</td>\n",
       "      <td>HND</td>\n",
       "      <td>...</td>\n",
       "      <td>45000</td>\n",
       "      <td>0.0</td>\n",
       "      <td>3303.0</td>\n",
       "      <td>1629.953216</td>\n",
       "      <td>1</td>\n",
       "      <td>2113.519868</td>\n",
       "      <td>761.569536</td>\n",
       "      <td>1</td>\n",
       "      <td>2350.710636</td>\n",
       "      <td>986.190824</td>\n",
       "    </tr>\n",
       "    <tr>\n",
       "      <th>2</th>\n",
       "      <td>arrivals</td>\n",
       "      <td>JL41</td>\n",
       "      <td>JAL41</td>\n",
       "      <td>B788</td>\n",
       "      <td>Boeing 787-8 Dreamliner</td>\n",
       "      <td>JA840J</td>\n",
       "      <td>Japan Airlines</td>\n",
       "      <td>JL</td>\n",
       "      <td>JAL</td>\n",
       "      <td>HND</td>\n",
       "      <td>...</td>\n",
       "      <td>45000</td>\n",
       "      <td>0.0</td>\n",
       "      <td>2318.0</td>\n",
       "      <td>1629.953216</td>\n",
       "      <td>1</td>\n",
       "      <td>2113.519868</td>\n",
       "      <td>761.569536</td>\n",
       "      <td>1</td>\n",
       "      <td>2350.710636</td>\n",
       "      <td>986.190824</td>\n",
       "    </tr>\n",
       "    <tr>\n",
       "      <th>3</th>\n",
       "      <td>arrivals</td>\n",
       "      <td>JL41</td>\n",
       "      <td>JAL41</td>\n",
       "      <td>B788</td>\n",
       "      <td>Boeing 787-8 Dreamliner</td>\n",
       "      <td>JA837J</td>\n",
       "      <td>Japan Airlines</td>\n",
       "      <td>JL</td>\n",
       "      <td>JAL</td>\n",
       "      <td>HND</td>\n",
       "      <td>...</td>\n",
       "      <td>45000</td>\n",
       "      <td>0.0</td>\n",
       "      <td>3281.0</td>\n",
       "      <td>1629.953216</td>\n",
       "      <td>1</td>\n",
       "      <td>2113.519868</td>\n",
       "      <td>761.569536</td>\n",
       "      <td>1</td>\n",
       "      <td>2350.710636</td>\n",
       "      <td>986.190824</td>\n",
       "    </tr>\n",
       "    <tr>\n",
       "      <th>4</th>\n",
       "      <td>arrivals</td>\n",
       "      <td>JL41</td>\n",
       "      <td>JAL41</td>\n",
       "      <td>B788</td>\n",
       "      <td>Boeing 787-8 Dreamliner</td>\n",
       "      <td>JA837J</td>\n",
       "      <td>Japan Airlines</td>\n",
       "      <td>JL</td>\n",
       "      <td>JAL</td>\n",
       "      <td>HND</td>\n",
       "      <td>...</td>\n",
       "      <td>45000</td>\n",
       "      <td>0.0</td>\n",
       "      <td>3243.0</td>\n",
       "      <td>1629.953216</td>\n",
       "      <td>1</td>\n",
       "      <td>2113.519868</td>\n",
       "      <td>761.569536</td>\n",
       "      <td>1</td>\n",
       "      <td>2350.710636</td>\n",
       "      <td>986.190824</td>\n",
       "    </tr>\n",
       "  </tbody>\n",
       "</table>\n",
       "<p>5 rows × 35 columns</p>\n",
       "</div>"
      ],
      "text/plain": [
       "       mode flight_number callsign aircraft_model_code  \\\n",
       "0  arrivals          JL41    JAL41                B788   \n",
       "1  arrivals          JL41    JAL41                B788   \n",
       "2  arrivals          JL41    JAL41                B788   \n",
       "3  arrivals          JL41    JAL41                B788   \n",
       "4  arrivals          JL41    JAL41                B788   \n",
       "\n",
       "  aircraft_model_description aircraft_registration    airline_name  \\\n",
       "0    Boeing 787-8 Dreamliner                JA837J  Japan Airlines   \n",
       "1    Boeing 787-8 Dreamliner                JA840J  Japan Airlines   \n",
       "2    Boeing 787-8 Dreamliner                JA840J  Japan Airlines   \n",
       "3    Boeing 787-8 Dreamliner                JA837J  Japan Airlines   \n",
       "4    Boeing 787-8 Dreamliner                JA837J  Japan Airlines   \n",
       "\n",
       "  airline_iata airline_icao flight_origin_code_iata  \\\n",
       "0           JL          JAL                     HND   \n",
       "1           JL          JAL                     HND   \n",
       "2           JL          JAL                     HND   \n",
       "3           JL          JAL                     HND   \n",
       "4           JL          JAL                     HND   \n",
       "\n",
       "              ...              flight_duration_scheduled arrival_delay  \\\n",
       "0             ...                                  45000           0.0   \n",
       "1             ...                                  45000           0.0   \n",
       "2             ...                                  45000           0.0   \n",
       "3             ...                                  45000           0.0   \n",
       "4             ...                                  45000           0.0   \n",
       "\n",
       "   departure_delay airport_departure_delay_risk cancellation_risk_x  \\\n",
       "0           2166.0                  1629.953216                   1   \n",
       "1           3303.0                  1629.953216                   1   \n",
       "2           2318.0                  1629.953216                   1   \n",
       "3           3281.0                  1629.953216                   1   \n",
       "4           3243.0                  1629.953216                   1   \n",
       "\n",
       "  airline_departure_delay_risk  airline_arrival_delay_risk  \\\n",
       "0                  2113.519868                  761.569536   \n",
       "1                  2113.519868                  761.569536   \n",
       "2                  2113.519868                  761.569536   \n",
       "3                  2113.519868                  761.569536   \n",
       "4                  2113.519868                  761.569536   \n",
       "\n",
       "   cancellation_risk_y  aircraft_departure_delay_risk  \\\n",
       "0                    1                    2350.710636   \n",
       "1                    1                    2350.710636   \n",
       "2                    1                    2350.710636   \n",
       "3                    1                    2350.710636   \n",
       "4                    1                    2350.710636   \n",
       "\n",
       "   aircraft_arrival_delay_risk  \n",
       "0                   986.190824  \n",
       "1                   986.190824  \n",
       "2                   986.190824  \n",
       "3                   986.190824  \n",
       "4                   986.190824  \n",
       "\n",
       "[5 rows x 35 columns]"
      ]
     },
     "execution_count": 611,
     "metadata": {},
     "output_type": "execute_result"
    }
   ],
   "source": [
    "aircraft_risk_factors = aircraft_delays.rename(columns={'departure_delay':'aircraft_departure_delay_risk',\n",
    "                                                     'arrival_delay':'aircraft_arrival_delay_risk'})\n",
    "departure_delay_features = pd.merge (departure_delay_features, aircraft_risk_factors, on='aircraft_model_description')\n",
    "\n",
    "departure_delay_features.head()"
   ]
  },
  {
   "cell_type": "code",
   "execution_count": 612,
   "metadata": {},
   "outputs": [
    {
     "data": {
      "text/plain": [
       "<matplotlib.axes._subplots.AxesSubplot at 0x19ec3fbe0>"
      ]
     },
     "execution_count": 612,
     "metadata": {},
     "output_type": "execute_result"
    },
    {
     "data": {
      "image/png": "[encoded data removed]",
      "text/plain": [
       "<Figure size 432x288 with 1 Axes>"
      ]
     },
     "metadata": {
      "needs_background": "light"
     },
     "output_type": "display_data"
    }
   ],
   "source": [
    "departure_delay_features.plot ('aircraft_arrival_delay_risk', 'arrival_delay', kind='scatter')"
   ]
  },
  {
   "cell_type": "code",
   "execution_count": 613,
   "metadata": {},
   "outputs": [
    {
     "name": "stdout",
     "output_type": "stream",
     "text": [
      "0.04236785622743555\n"
     ]
    }
   ],
   "source": [
    "departure_delay_features['aircraft_departure_delay_risk'].fillna(0,inplace=True)\n",
    "\n",
    "print (explained_variance_score (departure_delay_features['departure_delay'],\n",
    "                                      departure_delay_features['aircraft_departure_delay_risk']))"
   ]
  },
  {
   "cell_type": "code",
   "execution_count": 614,
   "metadata": {},
   "outputs": [
    {
     "name": "stdout",
     "output_type": "stream",
     "text": [
      "0.04236785622743555\n"
     ]
    }
   ],
   "source": [
    "print (r2_score (departure_delay_features['departure_delay'],\n",
    "                                      departure_delay_features['aircraft_departure_delay_risk']))"
   ]
  },
  {
   "cell_type": "code",
   "execution_count": 615,
   "metadata": {},
   "outputs": [
    {
     "data": {
      "text/html": [
       "<div>\n",
       "<style scoped>\n",
       "    .dataframe tbody tr th:only-of-type {\n",
       "        vertical-align: middle;\n",
       "    }\n",
       "\n",
       "    .dataframe tbody tr th {\n",
       "        vertical-align: top;\n",
       "    }\n",
       "\n",
       "    .dataframe thead th {\n",
       "        text-align: right;\n",
       "    }\n",
       "</style>\n",
       "<table border=\"1\" class=\"dataframe\">\n",
       "  <thead>\n",
       "    <tr style=\"text-align: right;\">\n",
       "      <th></th>\n",
       "      <th></th>\n",
       "      <th></th>\n",
       "      <th></th>\n",
       "      <th>departure_delay</th>\n",
       "      <th>arrival_delay</th>\n",
       "    </tr>\n",
       "    <tr>\n",
       "      <th>flight_origin_name</th>\n",
       "      <th>flight_destination_name</th>\n",
       "      <th>airline_name</th>\n",
       "      <th>aircraft_model_description</th>\n",
       "      <th></th>\n",
       "      <th></th>\n",
       "    </tr>\n",
       "  </thead>\n",
       "  <tbody>\n",
       "    <tr>\n",
       "      <th>New York Newark Liberty International Airport</th>\n",
       "      <th>Indianapolis International Airport</th>\n",
       "      <th>United Airlines</th>\n",
       "      <th>E75L</th>\n",
       "      <td>97260.0</td>\n",
       "      <td>0.0</td>\n",
       "    </tr>\n",
       "    <tr>\n",
       "      <th>San Francisco International Airport</th>\n",
       "      <th>White Plains Westchester County Airport</th>\n",
       "      <th>Nolinor Aviation</th>\n",
       "      <th>GL5T</th>\n",
       "      <td>87180.0</td>\n",
       "      <td>0.0</td>\n",
       "    </tr>\n",
       "    <tr>\n",
       "      <th>Boston Logan International Airport</th>\n",
       "      <th>New York LaGuardia Airport</th>\n",
       "      <th>Delta Air Lines</th>\n",
       "      <th>Airbus A320-212</th>\n",
       "      <td>61229.0</td>\n",
       "      <td>58518.0</td>\n",
       "    </tr>\n",
       "    <tr>\n",
       "      <th>Indianapolis International Airport</th>\n",
       "      <th>New York Newark Liberty International Airport</th>\n",
       "      <th>United Airlines</th>\n",
       "      <th>Airbus A320-232</th>\n",
       "      <td>59193.0</td>\n",
       "      <td>0.0</td>\n",
       "    </tr>\n",
       "    <tr>\n",
       "      <th>Malaga Costa Del Sol Airport</th>\n",
       "      <th>London Heathrow Airport</th>\n",
       "      <th>British Airways</th>\n",
       "      <th>321</th>\n",
       "      <td>58680.0</td>\n",
       "      <td>0.0</td>\n",
       "    </tr>\n",
       "  </tbody>\n",
       "</table>\n",
       "</div>"
      ],
      "text/plain": [
       "                                                                                                                                         departure_delay  \\\n",
       "flight_origin_name                            flight_destination_name                       airline_name     aircraft_model_description                    \n",
       "New York Newark Liberty International Airport Indianapolis International Airport            United Airlines  E75L                                97260.0   \n",
       "San Francisco International Airport           White Plains Westchester County Airport       Nolinor Aviation GL5T                                87180.0   \n",
       "Boston Logan International Airport            New York LaGuardia Airport                    Delta Air Lines  Airbus A320-212                     61229.0   \n",
       "Indianapolis International Airport            New York Newark Liberty International Airport United Airlines  Airbus A320-232                     59193.0   \n",
       "Malaga Costa Del Sol Airport                  London Heathrow Airport                       British Airways  321                                 58680.0   \n",
       "\n",
       "                                                                                                                                         arrival_delay  \n",
       "flight_origin_name                            flight_destination_name                       airline_name     aircraft_model_description                 \n",
       "New York Newark Liberty International Airport Indianapolis International Airport            United Airlines  E75L                                  0.0  \n",
       "San Francisco International Airport           White Plains Westchester County Airport       Nolinor Aviation GL5T                                  0.0  \n",
       "Boston Logan International Airport            New York LaGuardia Airport                    Delta Air Lines  Airbus A320-212                   58518.0  \n",
       "Indianapolis International Airport            New York Newark Liberty International Airport United Airlines  Airbus A320-232                       0.0  \n",
       "Malaga Costa Del Sol Airport                  London Heathrow Airport                       British Airways  321                                   0.0  "
      ]
     },
     "execution_count": 615,
     "metadata": {},
     "output_type": "execute_result"
    }
   ],
   "source": [
    "multifactor_delays = flights.groupby(['flight_origin_name','flight_destination_name','airline_name',\n",
    "                                      'aircraft_model_description']).agg({'departure_delay':'mean',\n",
    "                                                                          'arrival_delay':'mean'})\n",
    "multifactor_delays.sort_values(by='departure_delay', ascending=False).head()"
   ]
  },
  {
   "cell_type": "code",
   "execution_count": 616,
   "metadata": {},
   "outputs": [
    {
     "data": {
      "text/html": [
       "<div>\n",
       "<style scoped>\n",
       "    .dataframe tbody tr th:only-of-type {\n",
       "        vertical-align: middle;\n",
       "    }\n",
       "\n",
       "    .dataframe tbody tr th {\n",
       "        vertical-align: top;\n",
       "    }\n",
       "\n",
       "    .dataframe thead th {\n",
       "        text-align: right;\n",
       "    }\n",
       "</style>\n",
       "<table border=\"1\" class=\"dataframe\">\n",
       "  <thead>\n",
       "    <tr style=\"text-align: right;\">\n",
       "      <th></th>\n",
       "      <th></th>\n",
       "      <th></th>\n",
       "      <th></th>\n",
       "      <th>departure_delay</th>\n",
       "      <th>arrival_delay</th>\n",
       "    </tr>\n",
       "    <tr>\n",
       "      <th>flight_origin_name</th>\n",
       "      <th>flight_destination_name</th>\n",
       "      <th>airline_name</th>\n",
       "      <th>aircraft_model_description</th>\n",
       "      <th></th>\n",
       "      <th></th>\n",
       "    </tr>\n",
       "  </thead>\n",
       "  <tbody>\n",
       "    <tr>\n",
       "      <th>New York John F. Kennedy International Airport</th>\n",
       "      <th>Brussels Airport</th>\n",
       "      <th>Asiana Cargo</th>\n",
       "      <th>Boeing 747-419(BDSF)</th>\n",
       "      <td>1893.0</td>\n",
       "      <td>61199.0</td>\n",
       "    </tr>\n",
       "    <tr>\n",
       "      <th>Boston Logan International Airport</th>\n",
       "      <th>New York LaGuardia Airport</th>\n",
       "      <th>Delta Air Lines</th>\n",
       "      <th>Airbus A320-212</th>\n",
       "      <td>61229.0</td>\n",
       "      <td>58518.0</td>\n",
       "    </tr>\n",
       "    <tr>\n",
       "      <th>Washington Dulles International Airport</th>\n",
       "      <th>New York Newark Liberty International Airport</th>\n",
       "      <th>American Airlines</th>\n",
       "      <th>Boeing 737-823</th>\n",
       "      <td>48487.0</td>\n",
       "      <td>46885.0</td>\n",
       "    </tr>\n",
       "    <tr>\n",
       "      <th>George Town Exuma International Airport</th>\n",
       "      <th>Miami International Airport</th>\n",
       "      <th>Wheels Up</th>\n",
       "      <th>Beech B300 Super King Air 350</th>\n",
       "      <td>1078.0</td>\n",
       "      <td>44268.0</td>\n",
       "    </tr>\n",
       "    <tr>\n",
       "      <th>Miami International Airport</th>\n",
       "      <th>Buenos Aires Ministro Pistarini International Airport</th>\n",
       "      <th>Atlas Air</th>\n",
       "      <th>Boeing 747-47U(F)</th>\n",
       "      <td>46298.0</td>\n",
       "      <td>44228.0</td>\n",
       "    </tr>\n",
       "  </tbody>\n",
       "</table>\n",
       "</div>"
      ],
      "text/plain": [
       "                                                                                                                                                   departure_delay  \\\n",
       "flight_origin_name                             flight_destination_name                            airline_name      aircraft_model_description                       \n",
       "New York John F. Kennedy International Airport Brussels Airport                                   Asiana Cargo      Boeing 747-419(BDSF)                    1893.0   \n",
       "Boston Logan International Airport             New York LaGuardia Airport                         Delta Air Lines   Airbus A320-212                        61229.0   \n",
       "Washington Dulles International Airport        New York Newark Liberty International Airport      American Airlines Boeing 737-823                         48487.0   \n",
       "George Town Exuma International Airport        Miami International Airport                        Wheels Up         Beech B300 Super King Air 350           1078.0   \n",
       "Miami International Airport                    Buenos Aires Ministro Pistarini International A... Atlas Air         Boeing 747-47U(F)                      46298.0   \n",
       "\n",
       "                                                                                                                                                   arrival_delay  \n",
       "flight_origin_name                             flight_destination_name                            airline_name      aircraft_model_description                    \n",
       "New York John F. Kennedy International Airport Brussels Airport                                   Asiana Cargo      Boeing 747-419(BDSF)                 61199.0  \n",
       "Boston Logan International Airport             New York LaGuardia Airport                         Delta Air Lines   Airbus A320-212                      58518.0  \n",
       "Washington Dulles International Airport        New York Newark Liberty International Airport      American Airlines Boeing 737-823                       46885.0  \n",
       "George Town Exuma International Airport        Miami International Airport                        Wheels Up         Beech B300 Super King Air 350        44268.0  \n",
       "Miami International Airport                    Buenos Aires Ministro Pistarini International A... Atlas Air         Boeing 747-47U(F)                    44228.0  "
      ]
     },
     "execution_count": 616,
     "metadata": {},
     "output_type": "execute_result"
    }
   ],
   "source": [
    "multifactor_delays.sort_values(by='arrival_delay', ascending=False).head()"
   ]
  },
  {
   "cell_type": "code",
   "execution_count": 617,
   "metadata": {},
   "outputs": [
    {
     "data": {
      "text/html": [
       "<div>\n",
       "<style scoped>\n",
       "    .dataframe tbody tr th:only-of-type {\n",
       "        vertical-align: middle;\n",
       "    }\n",
       "\n",
       "    .dataframe tbody tr th {\n",
       "        vertical-align: top;\n",
       "    }\n",
       "\n",
       "    .dataframe thead th {\n",
       "        text-align: right;\n",
       "    }\n",
       "</style>\n",
       "<table border=\"1\" class=\"dataframe\">\n",
       "  <thead>\n",
       "    <tr style=\"text-align: right;\">\n",
       "      <th></th>\n",
       "      <th>mode</th>\n",
       "      <th>flight_number</th>\n",
       "      <th>callsign</th>\n",
       "      <th>aircraft_model_code</th>\n",
       "      <th>aircraft_model_description</th>\n",
       "      <th>aircraft_registration</th>\n",
       "      <th>airline_name</th>\n",
       "      <th>airline_iata</th>\n",
       "      <th>airline_icao</th>\n",
       "      <th>flight_origin_code_iata</th>\n",
       "      <th>...</th>\n",
       "      <th>arrival_delay</th>\n",
       "      <th>departure_delay</th>\n",
       "      <th>AIRPORT_IATA_destination</th>\n",
       "      <th>hours_destination</th>\n",
       "      <th>departure_METAR</th>\n",
       "      <th>departure_weather</th>\n",
       "      <th>AIRPORT_IATA_arrival</th>\n",
       "      <th>hours_arrival</th>\n",
       "      <th>arrival_METAR</th>\n",
       "      <th>arrival_weather</th>\n",
       "    </tr>\n",
       "  </thead>\n",
       "  <tbody>\n",
       "    <tr>\n",
       "      <th>0</th>\n",
       "      <td>arrivals</td>\n",
       "      <td>VS4</td>\n",
       "      <td>VIR4C</td>\n",
       "      <td>A333</td>\n",
       "      <td>Airbus A330-343</td>\n",
       "      <td>G-VWAG</td>\n",
       "      <td>Virgin Atlantic</td>\n",
       "      <td>VS</td>\n",
       "      <td>VIR</td>\n",
       "      <td>JFK</td>\n",
       "      <td>...</td>\n",
       "      <td>0.0</td>\n",
       "      <td>2894.0</td>\n",
       "      <td>JFK</td>\n",
       "      <td>432862</td>\n",
       "      <td>KJFK 192251Z 17020G29KT 10SM FEW010 BKN140 BKN...</td>\n",
       "      <td>Day: 19th Time: 22:51 UTC Wind direction: 170 ...</td>\n",
       "      <td>LHR</td>\n",
       "      <td>432869</td>\n",
       "      <td>EGLL 200550Z 32005KT 290V360 CAVOK 13/11 Q1011...</td>\n",
       "      <td>Day: 20th Time: 05:50 UTC Wind direction: 320 ...</td>\n",
       "    </tr>\n",
       "    <tr>\n",
       "      <th>1</th>\n",
       "      <td>arrivals</td>\n",
       "      <td>AA100</td>\n",
       "      <td>AAL100</td>\n",
       "      <td>B77W</td>\n",
       "      <td>Boeing 777-323(ER)</td>\n",
       "      <td>N731AN</td>\n",
       "      <td>American Airlines</td>\n",
       "      <td>AA</td>\n",
       "      <td>AAL</td>\n",
       "      <td>JFK</td>\n",
       "      <td>...</td>\n",
       "      <td>566.0</td>\n",
       "      <td>3544.0</td>\n",
       "      <td>JFK</td>\n",
       "      <td>432862</td>\n",
       "      <td>KJFK 192251Z 17020G29KT 10SM FEW010 BKN140 BKN...</td>\n",
       "      <td>Day: 19th Time: 22:51 UTC Wind direction: 170 ...</td>\n",
       "      <td>LHR</td>\n",
       "      <td>432869</td>\n",
       "      <td>EGLL 200550Z 32005KT 290V360 CAVOK 13/11 Q1011...</td>\n",
       "      <td>Day: 20th Time: 05:50 UTC Wind direction: 320 ...</td>\n",
       "    </tr>\n",
       "    <tr>\n",
       "      <th>2</th>\n",
       "      <td>departures</td>\n",
       "      <td>AA100</td>\n",
       "      <td>AAL100</td>\n",
       "      <td>B77W</td>\n",
       "      <td>Boeing 777-323(ER)</td>\n",
       "      <td>N731AN</td>\n",
       "      <td>American Airlines</td>\n",
       "      <td>AA</td>\n",
       "      <td>AAL</td>\n",
       "      <td>JFK</td>\n",
       "      <td>...</td>\n",
       "      <td>566.0</td>\n",
       "      <td>3544.0</td>\n",
       "      <td>JFK</td>\n",
       "      <td>432862</td>\n",
       "      <td>KJFK 192251Z 17020G29KT 10SM FEW010 BKN140 BKN...</td>\n",
       "      <td>Day: 19th Time: 22:51 UTC Wind direction: 170 ...</td>\n",
       "      <td>LHR</td>\n",
       "      <td>432869</td>\n",
       "      <td>EGLL 200550Z 32005KT 290V360 CAVOK 13/11 Q1011...</td>\n",
       "      <td>Day: 20th Time: 05:50 UTC Wind direction: 320 ...</td>\n",
       "    </tr>\n",
       "    <tr>\n",
       "      <th>3</th>\n",
       "      <td>departures</td>\n",
       "      <td>VS4</td>\n",
       "      <td>VIR4C</td>\n",
       "      <td>A333</td>\n",
       "      <td>Airbus A330-343</td>\n",
       "      <td>G-VWAG</td>\n",
       "      <td>Virgin Atlantic</td>\n",
       "      <td>VS</td>\n",
       "      <td>VIR</td>\n",
       "      <td>JFK</td>\n",
       "      <td>...</td>\n",
       "      <td>0.0</td>\n",
       "      <td>2894.0</td>\n",
       "      <td>JFK</td>\n",
       "      <td>432862</td>\n",
       "      <td>KJFK 192251Z 17020G29KT 10SM FEW010 BKN140 BKN...</td>\n",
       "      <td>Day: 19th Time: 22:51 UTC Wind direction: 170 ...</td>\n",
       "      <td>LHR</td>\n",
       "      <td>432869</td>\n",
       "      <td>EGLL 200550Z 32005KT 290V360 CAVOK 13/11 Q1011...</td>\n",
       "      <td>Day: 20th Time: 05:50 UTC Wind direction: 320 ...</td>\n",
       "    </tr>\n",
       "    <tr>\n",
       "      <th>4</th>\n",
       "      <td>arrivals</td>\n",
       "      <td>UA110</td>\n",
       "      <td>UAL110</td>\n",
       "      <td>B763</td>\n",
       "      <td>Boeing 767-322(ER)</td>\n",
       "      <td>N666UA</td>\n",
       "      <td>United Airlines</td>\n",
       "      <td>UA</td>\n",
       "      <td>UAL</td>\n",
       "      <td>EWR</td>\n",
       "      <td>...</td>\n",
       "      <td>0.0</td>\n",
       "      <td>2777.0</td>\n",
       "      <td>EWR</td>\n",
       "      <td>432862</td>\n",
       "      <td>KEWR 192251Z 17012G18KT 10SM FEW050 SCT120 BKN...</td>\n",
       "      <td>Day: 19th Time: 22:51 UTC Wind direction: 170 ...</td>\n",
       "      <td>LHR</td>\n",
       "      <td>432869</td>\n",
       "      <td>EGLL 200550Z 32005KT 290V360 CAVOK 13/11 Q1011...</td>\n",
       "      <td>Day: 20th Time: 05:50 UTC Wind direction: 320 ...</td>\n",
       "    </tr>\n",
       "  </tbody>\n",
       "</table>\n",
       "<p>5 rows × 36 columns</p>\n",
       "</div>"
      ],
      "text/plain": [
       "         mode flight_number callsign aircraft_model_code  \\\n",
       "0    arrivals           VS4    VIR4C                A333   \n",
       "1    arrivals         AA100   AAL100                B77W   \n",
       "2  departures         AA100   AAL100                B77W   \n",
       "3  departures           VS4    VIR4C                A333   \n",
       "4    arrivals         UA110   UAL110                B763   \n",
       "\n",
       "  aircraft_model_description aircraft_registration       airline_name  \\\n",
       "0            Airbus A330-343                G-VWAG    Virgin Atlantic   \n",
       "1         Boeing 777-323(ER)                N731AN  American Airlines   \n",
       "2         Boeing 777-323(ER)                N731AN  American Airlines   \n",
       "3            Airbus A330-343                G-VWAG    Virgin Atlantic   \n",
       "4         Boeing 767-322(ER)                N666UA    United Airlines   \n",
       "\n",
       "  airline_iata airline_icao flight_origin_code_iata  \\\n",
       "0           VS          VIR                     JFK   \n",
       "1           AA          AAL                     JFK   \n",
       "2           AA          AAL                     JFK   \n",
       "3           VS          VIR                     JFK   \n",
       "4           UA          UAL                     EWR   \n",
       "\n",
       "                         ...                         arrival_delay  \\\n",
       "0                        ...                                   0.0   \n",
       "1                        ...                                 566.0   \n",
       "2                        ...                                 566.0   \n",
       "3                        ...                                   0.0   \n",
       "4                        ...                                   0.0   \n",
       "\n",
       "  departure_delay  AIRPORT_IATA_destination hours_destination  \\\n",
       "0          2894.0                       JFK            432862   \n",
       "1          3544.0                       JFK            432862   \n",
       "2          3544.0                       JFK            432862   \n",
       "3          2894.0                       JFK            432862   \n",
       "4          2777.0                       EWR            432862   \n",
       "\n",
       "                                     departure_METAR  \\\n",
       "0  KJFK 192251Z 17020G29KT 10SM FEW010 BKN140 BKN...   \n",
       "1  KJFK 192251Z 17020G29KT 10SM FEW010 BKN140 BKN...   \n",
       "2  KJFK 192251Z 17020G29KT 10SM FEW010 BKN140 BKN...   \n",
       "3  KJFK 192251Z 17020G29KT 10SM FEW010 BKN140 BKN...   \n",
       "4  KEWR 192251Z 17012G18KT 10SM FEW050 SCT120 BKN...   \n",
       "\n",
       "                                   departure_weather  AIRPORT_IATA_arrival  \\\n",
       "0  Day: 19th Time: 22:51 UTC Wind direction: 170 ...                   LHR   \n",
       "1  Day: 19th Time: 22:51 UTC Wind direction: 170 ...                   LHR   \n",
       "2  Day: 19th Time: 22:51 UTC Wind direction: 170 ...                   LHR   \n",
       "3  Day: 19th Time: 22:51 UTC Wind direction: 170 ...                   LHR   \n",
       "4  Day: 19th Time: 22:51 UTC Wind direction: 170 ...                   LHR   \n",
       "\n",
       "   hours_arrival                                      arrival_METAR  \\\n",
       "0         432869  EGLL 200550Z 32005KT 290V360 CAVOK 13/11 Q1011...   \n",
       "1         432869  EGLL 200550Z 32005KT 290V360 CAVOK 13/11 Q1011...   \n",
       "2         432869  EGLL 200550Z 32005KT 290V360 CAVOK 13/11 Q1011...   \n",
       "3         432869  EGLL 200550Z 32005KT 290V360 CAVOK 13/11 Q1011...   \n",
       "4         432869  EGLL 200550Z 32005KT 290V360 CAVOK 13/11 Q1011...   \n",
       "\n",
       "                                     arrival_weather  \n",
       "0  Day: 20th Time: 05:50 UTC Wind direction: 320 ...  \n",
       "1  Day: 20th Time: 05:50 UTC Wind direction: 320 ...  \n",
       "2  Day: 20th Time: 05:50 UTC Wind direction: 320 ...  \n",
       "3  Day: 20th Time: 05:50 UTC Wind direction: 320 ...  \n",
       "4  Day: 20th Time: 05:50 UTC Wind direction: 320 ...  \n",
       "\n",
       "[5 rows x 36 columns]"
      ]
     },
     "execution_count": 617,
     "metadata": {},
     "output_type": "execute_result"
    }
   ],
   "source": [
    "flight_weather = pd.merge(flights,airport_weather, \n",
    "                          left_on=['flight_origin_code_iata','scheduled_departure_hour'], \n",
    "                          right_on=['AIRPORT_IATA','hours'], \n",
    "                          suffixes=('_origin','_departure')).rename(columns={'METAR':'departure_METAR',\n",
    "                                                                             'DESCRIPTION':'departure_weather'})\n",
    "flight_weather = pd.merge(flight_weather,airport_weather, \n",
    "                          left_on=['flight_destination_code_iata','scheduled_arrival_hour'], \n",
    "                          right_on=['AIRPORT_IATA','hours'], \n",
    "                          suffixes=('_destination','_arrival')).rename(columns={'METAR':'arrival_METAR',\n",
    "                                                                             'DESCRIPTION':'arrival_weather'})\n",
    "flight_weather.head()"
   ]
  },
  {
   "cell_type": "code",
   "execution_count": 618,
   "metadata": {},
   "outputs": [
    {
     "data": {
      "text/plain": [
       "mode                              0\n",
       "flight_number                     0\n",
       "callsign                          0\n",
       "aircraft_model_code               0\n",
       "aircraft_model_description        0\n",
       "aircraft_registration             0\n",
       "airline_name                      0\n",
       "airline_iata                      0\n",
       "airline_icao                      0\n",
       "flight_origin_code_iata           0\n",
       "flight_origin_code_icao           0\n",
       "flight_origin_name                0\n",
       "flight_origin_time_offset         0\n",
       "flight_destination_code_iata      0\n",
       "flight_destination_code_icao      0\n",
       "flight_destination_name           0\n",
       "flight_destination_time_offset    0\n",
       "flight_departure_scheduled        0\n",
       "flight_departure_real             0\n",
       "flight_arrival_scheduled          0\n",
       "flight_arrival_real               0\n",
       "flight_duration                   0\n",
       "assumed_cancellation              0\n",
       "scheduled_arrival_hour            0\n",
       "scheduled_departure_hour          0\n",
       "flight_duration_scheduled         0\n",
       "arrival_delay                     0\n",
       "departure_delay                   0\n",
       "AIRPORT_IATA_destination          0\n",
       "hours_destination                 0\n",
       "departure_METAR                   0\n",
       "departure_weather                 0\n",
       "AIRPORT_IATA_arrival              0\n",
       "hours_arrival                     0\n",
       "arrival_METAR                     0\n",
       "arrival_weather                   0\n",
       "dtype: int64"
      ]
     },
     "execution_count": 618,
     "metadata": {},
     "output_type": "execute_result"
    }
   ],
   "source": [
    "flight_weather.isnull().sum(axis=0) # check for missing values"
   ]
  },
  {
   "cell_type": "code",
   "execution_count": 619,
   "metadata": {},
   "outputs": [
    {
     "data": {
      "text/plain": [
       "mode                               object\n",
       "flight_number                      object\n",
       "callsign                           object\n",
       "aircraft_model_code                object\n",
       "aircraft_model_description         object\n",
       "aircraft_registration              object\n",
       "airline_name                       object\n",
       "airline_iata                       object\n",
       "airline_icao                       object\n",
       "flight_origin_code_iata            object\n",
       "flight_origin_code_icao            object\n",
       "flight_origin_name                 object\n",
       "flight_origin_time_offset           int64\n",
       "flight_destination_code_iata       object\n",
       "flight_destination_code_icao       object\n",
       "flight_destination_name            object\n",
       "flight_destination_time_offset      int64\n",
       "flight_departure_scheduled          int64\n",
       "flight_departure_real             float64\n",
       "flight_arrival_scheduled            int64\n",
       "flight_arrival_real               float64\n",
       "flight_duration                   float64\n",
       "assumed_cancellation                int64\n",
       "scheduled_arrival_hour              int64\n",
       "scheduled_departure_hour            int64\n",
       "flight_duration_scheduled           int64\n",
       "arrival_delay                     float64\n",
       "departure_delay                   float64\n",
       "AIRPORT_IATA_destination           object\n",
       "hours_destination                   int64\n",
       "departure_METAR                    object\n",
       "departure_weather                  object\n",
       "AIRPORT_IATA_arrival               object\n",
       "hours_arrival                       int64\n",
       "arrival_METAR                      object\n",
       "arrival_weather                    object\n",
       "dtype: object"
      ]
     },
     "execution_count": 619,
     "metadata": {},
     "output_type": "execute_result"
    }
   ],
   "source": [
    "flight_weather.dtypes"
   ]
  },
  {
   "cell_type": "code",
   "execution_count": 620,
   "metadata": {},
   "outputs": [
    {
     "data": {
      "text/plain": [
       "count    25539.000000\n",
       "mean      9912.734719\n",
       "std        603.695498\n",
       "min        700.000000\n",
       "25%       9999.000000\n",
       "50%       9999.000000\n",
       "75%       9999.000000\n",
       "max       9999.000000\n",
       "Name: departure_visibility, dtype: float64"
      ]
     },
     "execution_count": 620,
     "metadata": {},
     "output_type": "execute_result"
    }
   ],
   "source": [
    "import re\n",
    "\n",
    "def extract_visibility (w):\n",
    "    match = re.search('Visibility: (.+?) m',w)\n",
    "    if match:\n",
    "        return int (match.group(1))\n",
    "    else:\n",
    "        return 9999 # METAR NOSIG default is 9999 m\n",
    "\n",
    "flight_weather['departure_visibility'] = flight_weather['departure_weather'].map(lambda w: extract_visibility(w))\n",
    "flight_weather['arrival_visibility'] = flight_weather['departure_weather'].map(lambda w: extract_visibility(w))\n",
    "\n",
    "flight_weather['departure_visibility'].describe()"
   ]
  },
  {
   "cell_type": "code",
   "execution_count": 621,
   "metadata": {},
   "outputs": [
    {
     "name": "stdout",
     "output_type": "stream",
     "text": [
      "-0.04114611289283254\n"
     ]
    }
   ],
   "source": [
    "print (explained_variance_score (flight_weather['departure_delay'],flight_weather['departure_visibility']))"
   ]
  },
  {
   "cell_type": "code",
   "execution_count": 622,
   "metadata": {},
   "outputs": [
    {
     "name": "stdout",
     "output_type": "stream",
     "text": [
      "-10483807.881091833\n"
     ]
    }
   ],
   "source": [
    "print (explained_variance_score (flight_weather['assumed_cancellation'],flight_weather['departure_visibility']))"
   ]
  },
  {
   "cell_type": "code",
   "execution_count": 623,
   "metadata": {},
   "outputs": [
    {
     "data": {
      "text/plain": [
       "<matplotlib.axes._subplots.AxesSubplot at 0x165f33d30>"
      ]
     },
     "execution_count": 623,
     "metadata": {},
     "output_type": "execute_result"
    },
    {
     "data": {
      "image/png": "[encoded data removed]",
      "text/plain": [
       "<Figure size 432x288 with 1 Axes>"
      ]
     },
     "metadata": {
      "needs_background": "light"
     },
     "output_type": "display_data"
    }
   ],
   "source": [
    "flight_weather.plot('departure_visibility', 'departure_delay', kind='scatter')"
   ]
  },
  {
   "cell_type": "code",
   "execution_count": 624,
   "metadata": {},
   "outputs": [
    {
     "data": {
      "text/plain": [
       "<matplotlib.axes._subplots.AxesSubplot at 0x165e29cf8>"
      ]
     },
     "execution_count": 624,
     "metadata": {},
     "output_type": "execute_result"
    },
    {
     "data": {
      "image/png": "[encoded data removed]",
      "text/plain": [
       "<Figure size 432x288 with 1 Axes>"
      ]
     },
     "metadata": {
      "needs_background": "light"
     },
     "output_type": "display_data"
    }
   ],
   "source": [
    "flight_weather.plot('departure_visibility', 'assumed_cancellation', kind='scatter')"
   ]
  },
  {
   "cell_type": "code",
   "execution_count": 625,
   "metadata": {},
   "outputs": [
    {
     "data": {
      "text/plain": [
       "<matplotlib.axes._subplots.AxesSubplot at 0x1616d4ba8>"
      ]
     },
     "execution_count": 625,
     "metadata": {},
     "output_type": "execute_result"
    },
    {
     "data": {
      "image/png": "[encoded data removed]",
      "text/plain": [
       "<Figure size 432x288 with 1 Axes>"
      ]
     },
     "metadata": {
      "needs_background": "light"
     },
     "output_type": "display_data"
    }
   ],
   "source": [
    "flight_weather.plot('arrival_visibility', 'arrival_delay', kind='scatter')"
   ]
  },
  {
   "cell_type": "code",
   "execution_count": 626,
   "metadata": {},
   "outputs": [
    {
     "name": "stdout",
     "output_type": "stream",
     "text": [
      "-0.058075000206268435\n"
     ]
    }
   ],
   "source": [
    "print (explained_variance_score (flight_weather['arrival_delay'],flight_weather['arrival_visibility']))"
   ]
  },
  {
   "cell_type": "code",
   "execution_count": 627,
   "metadata": {},
   "outputs": [
    {
     "data": {
      "text/plain": [
       "count    25539.000000\n",
       "mean        19.101335\n",
       "std          4.653604\n",
       "min          6.000000\n",
       "25%         16.000000\n",
       "50%         18.000000\n",
       "75%         22.000000\n",
       "max         34.000000\n",
       "Name: departure_temperature, dtype: float64"
      ]
     },
     "execution_count": 627,
     "metadata": {},
     "output_type": "execute_result"
    }
   ],
   "source": [
    "def extract_temperature (w):\n",
    "    match = re.search('Temperature: (.+?)C',w)\n",
    "    if match:\n",
    "        return int (match.group(1))\n",
    "    else:\n",
    "        return 16 # if temperature missing then assume gloval average temperature as default\n",
    "\n",
    "flight_weather['departure_temperature'] = flight_weather['departure_weather'].map(lambda w: extract_temperature(w))\n",
    "flight_weather['arrival_temperature'] = flight_weather['arrival_weather'].map(lambda w: extract_temperature(w))\n",
    "\n",
    "flight_weather['departure_temperature'].describe()"
   ]
  },
  {
   "cell_type": "code",
   "execution_count": 628,
   "metadata": {},
   "outputs": [
    {
     "data": {
      "text/plain": [
       "count    25539.0\n",
       "mean         0.0\n",
       "std          0.0\n",
       "min          0.0\n",
       "25%          0.0\n",
       "50%          0.0\n",
       "75%          0.0\n",
       "max          0.0\n",
       "Name: freezing_at_departure, dtype: float64"
      ]
     },
     "execution_count": 628,
     "metadata": {},
     "output_type": "execute_result"
    }
   ],
   "source": [
    "def is_freezing (t):\n",
    "    if (t < 4):\n",
    "        return 1\n",
    "    else:\n",
    "        return 0\n",
    "\n",
    "flight_weather['freezing_at_departure'] = flight_weather['departure_temperature'].map(lambda t: is_freezing(t))\n",
    "flight_weather['freezing_at_arrival'] = flight_weather['arrival_temperature'].map(lambda t: is_freezing(t))\n",
    "\n",
    "flight_weather['freezing_at_departure'].describe()"
   ]
  },
  {
   "cell_type": "code",
   "execution_count": 629,
   "metadata": {},
   "outputs": [
    {
     "data": {
      "text/plain": [
       "<matplotlib.axes._subplots.AxesSubplot at 0x1a2206438>"
      ]
     },
     "execution_count": 629,
     "metadata": {},
     "output_type": "execute_result"
    },
    {
     "data": {
      "image/png": "[encoded data removed]",
      "text/plain": [
       "<Figure size 432x288 with 1 Axes>"
      ]
     },
     "metadata": {
      "needs_background": "light"
     },
     "output_type": "display_data"
    }
   ],
   "source": [
    "flight_weather.plot('departure_temperature', 'departure_delay', kind='scatter')"
   ]
  },
  {
   "cell_type": "code",
   "execution_count": 630,
   "metadata": {},
   "outputs": [
    {
     "data": {
      "text/plain": [
       "<matplotlib.axes._subplots.AxesSubplot at 0x1a3351668>"
      ]
     },
     "execution_count": 630,
     "metadata": {},
     "output_type": "execute_result"
    },
    {
     "data": {
      "image/png": "[encoded data removed]",
      "text/plain": [
       "<Figure size 432x288 with 1 Axes>"
      ]
     },
     "metadata": {
      "needs_background": "light"
     },
     "output_type": "display_data"
    }
   ],
   "source": [
    "flight_weather.plot('arrival_temperature', 'arrival_delay', kind='scatter')"
   ]
  },
  {
   "cell_type": "code",
   "execution_count": 635,
   "metadata": {},
   "outputs": [
    {
     "data": {
      "text/plain": [
       "count    25539.000000\n",
       "mean         8.702847\n",
       "std          4.467975\n",
       "min          0.000000\n",
       "25%          6.000000\n",
       "50%          8.000000\n",
       "75%         11.000000\n",
       "max         33.000000\n",
       "Name: departure_windspeed, dtype: float64"
      ]
     },
     "execution_count": 635,
     "metadata": {},
     "output_type": "execute_result"
    }
   ],
   "source": [
    "def extract_windspeed (w):\n",
    "    match = re.search('Wind speed: (.+?)kt',w)\n",
    "    if match:\n",
    "        return int (match.group(1))\n",
    "    else:\n",
    "        return 0 # if windspeed is missing then assume no wind\n",
    "\n",
    "flight_weather['departure_windspeed'] = flight_weather['departure_weather'].map(lambda w: extract_windspeed(w))\n",
    "flight_weather['arrival_windspeed'] = flight_weather['arrival_weather'].map(lambda w: extract_windspeed(w))\n",
    "\n",
    "flight_weather['departure_windspeed'].describe()"
   ]
  },
  {
   "cell_type": "code",
   "execution_count": 636,
   "metadata": {},
   "outputs": [
    {
     "data": {
      "text/plain": [
       "<matplotlib.axes._subplots.AxesSubplot at 0x1a3e1da20>"
      ]
     },
     "execution_count": 636,
     "metadata": {},
     "output_type": "execute_result"
    },
    {
     "data": {
      "image/png": "[encoded data removed]",
      "text/plain": [
       "<Figure size 432x288 with 1 Axes>"
      ]
     },
     "metadata": {
      "needs_background": "light"
     },
     "output_type": "display_data"
    }
   ],
   "source": [
    "flight_weather.plot('departure_windspeed', 'departure_delay', kind='scatter')"
   ]
  },
  {
   "cell_type": "code",
   "execution_count": 637,
   "metadata": {},
   "outputs": [
    {
     "data": {
      "text/plain": [
       "<matplotlib.axes._subplots.AxesSubplot at 0x1a3e78c18>"
      ]
     },
     "execution_count": 637,
     "metadata": {},
     "output_type": "execute_result"
    },
    {
     "data": {
      "image/png": "[encoded data removed]",
      "text/plain": [
       "<Figure size 432x288 with 1 Axes>"
      ]
     },
     "metadata": {
      "needs_background": "light"
     },
     "output_type": "display_data"
    }
   ],
   "source": [
    "flight_weather.plot('arrival_windspeed', 'arrival_delay', kind='scatter')"
   ]
  },
  {
   "cell_type": "code",
   "execution_count": 641,
   "metadata": {},
   "outputs": [
    {
     "data": {
      "text/plain": [
       "count    25539.000000\n",
       "mean      1007.669838\n",
       "std          8.642688\n",
       "min       1000.000000\n",
       "25%       1000.000000\n",
       "50%       1001.000000\n",
       "75%       1015.000000\n",
       "max       1031.000000\n",
       "Name: departure_pressure, dtype: float64"
      ]
     },
     "execution_count": 641,
     "metadata": {},
     "output_type": "execute_result"
    }
   ],
   "source": [
    "def extract_pressure (w):\n",
    "    match = re.search('Pressure: (.+?) hPa',w)\n",
    "    if match:\n",
    "        return int (match.group(1))\n",
    "    else:\n",
    "        return 1000 # if pressure is missing then assume global average\n",
    "\n",
    "flight_weather['departure_pressure'] = flight_weather['departure_weather'].map(lambda w: extract_pressure(w))\n",
    "flight_weather['arrival_pressure'] = flight_weather['arrival_weather'].map(lambda w: extract_pressure(w))\n",
    "\n",
    "flight_weather['departure_pressure'].describe()"
   ]
  },
  {
   "cell_type": "code",
   "execution_count": 642,
   "metadata": {},
   "outputs": [
    {
     "data": {
      "text/plain": [
       "<matplotlib.axes._subplots.AxesSubplot at 0x1a477f5c0>"
      ]
     },
     "execution_count": 642,
     "metadata": {},
     "output_type": "execute_result"
    },
    {
     "data": {
      "image/png": "[encoded data removed]",
      "text/plain": [
       "<Figure size 432x288 with 1 Axes>"
      ]
     },
     "metadata": {
      "needs_background": "light"
     },
     "output_type": "display_data"
    }
   ],
   "source": [
    "flight_weather.plot('departure_pressure', 'departure_delay', kind='scatter')"
   ]
  },
  {
   "cell_type": "code",
   "execution_count": 643,
   "metadata": {},
   "outputs": [
    {
     "data": {
      "text/plain": [
       "<matplotlib.axes._subplots.AxesSubplot at 0x1a59c7400>"
      ]
     },
     "execution_count": 643,
     "metadata": {},
     "output_type": "execute_result"
    },
    {
     "data": {
      "image/png": "[encoded data removed]",
      "text/plain": [
       "<Figure size 432x288 with 1 Axes>"
      ]
     },
     "metadata": {
      "needs_background": "light"
     },
     "output_type": "display_data"
    }
   ],
   "source": [
    "flight_weather.plot('arrival_pressure', 'arrival_delay', kind='scatter')"
   ]
  },
  {
   "cell_type": "code",
   "execution_count": 660,
   "metadata": {},
   "outputs": [
    {
     "data": {
      "text/plain": [
       "count    25539.000000\n",
       "mean        11.480168\n",
       "std          4.152691\n",
       "min         -2.000000\n",
       "25%          9.000000\n",
       "50%         11.000000\n",
       "75%         14.000000\n",
       "max         25.000000\n",
       "Name: departure_dewpoint, dtype: float64"
      ]
     },
     "execution_count": 660,
     "metadata": {},
     "output_type": "execute_result"
    }
   ],
   "source": [
    "def extract_dewpoint (w):\n",
    "    match = re.search('Dew point: (.+?)C',w)\n",
    "    if match:\n",
    "        return int (match.group(1))\n",
    "    else:\n",
    "        return 16 # if temperature missing then global average temperature as default\n",
    "\n",
    "flight_weather['departure_dewpoint'] = flight_weather['departure_weather'].map(lambda w: extract_dewpoint(w))\n",
    "flight_weather['arrival_dewpoint'] = flight_weather['arrival_weather'].map(lambda w: extract_dewpoint(w))\n",
    "flight_weather['departure_clouds'] = flight_weather['departure_temperature'] - flight_weather['departure_dewpoint']\n",
    "flight_weather['arrival_clouds'] = flight_weather['arrival_temperature'] - flight_weather['arrival_dewpoint']\n",
    "\n",
    "flight_weather['departure_dewpoint'].describe()"
   ]
  },
  {
   "cell_type": "code",
   "execution_count": 661,
   "metadata": {},
   "outputs": [
    {
     "data": {
      "text/plain": [
       "count    25539.000000\n",
       "mean        11.563021\n",
       "std          4.195023\n",
       "min         -2.000000\n",
       "25%          9.000000\n",
       "50%         11.000000\n",
       "75%         14.000000\n",
       "max         25.000000\n",
       "Name: arrival_dewpoint, dtype: float64"
      ]
     },
     "execution_count": 661,
     "metadata": {},
     "output_type": "execute_result"
    }
   ],
   "source": [
    "flight_weather['arrival_dewpoint'].describe()"
   ]
  },
  {
   "cell_type": "code",
   "execution_count": 662,
   "metadata": {},
   "outputs": [
    {
     "data": {
      "text/plain": [
       "count    25539.000000\n",
       "mean         7.621168\n",
       "std          4.609871\n",
       "min          0.000000\n",
       "25%          4.000000\n",
       "50%          7.000000\n",
       "75%         10.000000\n",
       "max         24.000000\n",
       "Name: departure_clouds, dtype: float64"
      ]
     },
     "execution_count": 662,
     "metadata": {},
     "output_type": "execute_result"
    }
   ],
   "source": [
    "flight_weather['departure_clouds'].describe()"
   ]
  },
  {
   "cell_type": "code",
   "execution_count": 663,
   "metadata": {},
   "outputs": [
    {
     "data": {
      "text/plain": [
       "count    25539.000000\n",
       "mean         7.560711\n",
       "std          4.610189\n",
       "min          0.000000\n",
       "25%          4.000000\n",
       "50%          7.000000\n",
       "75%         10.000000\n",
       "max         24.000000\n",
       "Name: arrival_clouds, dtype: float64"
      ]
     },
     "execution_count": 663,
     "metadata": {},
     "output_type": "execute_result"
    }
   ],
   "source": [
    "flight_weather['arrival_clouds'].describe()"
   ]
  },
  {
   "cell_type": "code",
   "execution_count": 664,
   "metadata": {},
   "outputs": [
    {
     "data": {
      "text/plain": [
       "<matplotlib.axes._subplots.AxesSubplot at 0x1a6085d30>"
      ]
     },
     "execution_count": 664,
     "metadata": {},
     "output_type": "execute_result"
    },
    {
     "data": {
      "image/png": "[encoded data removed]",
      "text/plain": [
       "<Figure size 432x288 with 1 Axes>"
      ]
     },
     "metadata": {
      "needs_background": "light"
     },
     "output_type": "display_data"
    }
   ],
   "source": [
    "flight_weather.plot('departure_dewpoint', 'departure_delay', kind='scatter')"
   ]
  },
  {
   "cell_type": "code",
   "execution_count": 665,
   "metadata": {},
   "outputs": [
    {
     "data": {
      "text/plain": [
       "<matplotlib.axes._subplots.AxesSubplot at 0x1ae4f4a90>"
      ]
     },
     "execution_count": 665,
     "metadata": {},
     "output_type": "execute_result"
    },
    {
     "data": {
      "image/png": "[encoded data removed]",
      "text/plain": [
       "<Figure size 432x288 with 1 Axes>"
      ]
     },
     "metadata": {
      "needs_background": "light"
     },
     "output_type": "display_data"
    }
   ],
   "source": [
    "flight_weather.plot('arrival_dewpoint', 'arrival_delay', kind='scatter')"
   ]
  },
  {
   "cell_type": "code",
   "execution_count": 666,
   "metadata": {},
   "outputs": [
    {
     "name": "stdout",
     "output_type": "stream",
     "text": [
      "0.00018604841301372854\n"
     ]
    }
   ],
   "source": [
    "print (explained_variance_score (flight_weather['departure_delay'],flight_weather['departure_dewpoint']))"
   ]
  },
  {
   "cell_type": "code",
   "execution_count": 667,
   "metadata": {},
   "outputs": [
    {
     "name": "stdout",
     "output_type": "stream",
     "text": [
      "0.00012621855383365688\n"
     ]
    }
   ],
   "source": [
    "print (explained_variance_score (flight_weather['arrival_delay'],flight_weather['arrival_dewpoint']))"
   ]
  },
  {
   "cell_type": "code",
   "execution_count": 668,
   "metadata": {},
   "outputs": [
    {
     "name": "stdout",
     "output_type": "stream",
     "text": [
      "-506.79575628965637\n"
     ]
    }
   ],
   "source": [
    "print (explained_variance_score (flight_weather['assumed_cancellation'],flight_weather['arrival_dewpoint']))"
   ]
  },
  {
   "cell_type": "code",
   "execution_count": 669,
   "metadata": {},
   "outputs": [
    {
     "data": {
      "text/plain": [
       "<matplotlib.axes._subplots.AxesSubplot at 0x1ac85d208>"
      ]
     },
     "execution_count": 669,
     "metadata": {},
     "output_type": "execute_result"
    },
    {
     "data": {
      "image/png": "[encoded data removed]",
      "text/plain": [
       "<Figure size 432x288 with 1 Axes>"
      ]
     },
     "metadata": {
      "needs_background": "light"
     },
     "output_type": "display_data"
    }
   ],
   "source": [
    "flight_weather.plot('departure_clouds', 'departure_delay', kind='scatter')"
   ]
  },
  {
   "cell_type": "code",
   "execution_count": 670,
   "metadata": {},
   "outputs": [
    {
     "data": {
      "text/plain": [
       "<matplotlib.axes._subplots.AxesSubplot at 0x1a4707748>"
      ]
     },
     "execution_count": 670,
     "metadata": {},
     "output_type": "execute_result"
    },
    {
     "data": {
      "image/png": "[encoded data removed]",
      "text/plain": [
       "<Figure size 432x288 with 1 Axes>"
      ]
     },
     "metadata": {
      "needs_background": "light"
     },
     "output_type": "display_data"
    }
   ],
   "source": [
    "flight_weather.plot('arrival_clouds', 'arrival_delay', kind='scatter')"
   ]
  },
  {
   "cell_type": "code",
   "execution_count": 655,
   "metadata": {},
   "outputs": [
    {
     "data": {
      "text/plain": [
       "<matplotlib.axes._subplots.AxesSubplot at 0x1ae2ca978>"
      ]
     },
     "execution_count": 655,
     "metadata": {},
     "output_type": "execute_result"
    },
    {
     "data": {
      "image/png": "[encoded data removed]",
      "text/plain": [
       "<Figure size 432x288 with 1 Axes>"
      ]
     },
     "metadata": {
      "needs_background": "light"
     },
     "output_type": "display_data"
    }
   ],
   "source": [
    "flight_weather.plot('departure_delay', 'arrival_delay', kind='scatter')"
   ]
  },
  {
   "cell_type": "code",
   "execution_count": 656,
   "metadata": {},
   "outputs": [
    {
     "name": "stdout",
     "output_type": "stream",
     "text": [
      "0.6200186730704473\n"
     ]
    }
   ],
   "source": [
    "print (explained_variance_score (flight_weather['arrival_delay'],flight_weather['departure_delay']))"
   ]
  },
  {
   "cell_type": "code",
   "execution_count": 657,
   "metadata": {},
   "outputs": [
    {
     "name": "stdout",
     "output_type": "stream",
     "text": [
      "0.34271916634105437\n"
     ]
    }
   ],
   "source": [
    "print (r2_score (flight_weather['arrival_delay'],flight_weather['departure_delay']))"
   ]
  },
  {
   "cell_type": "markdown",
   "metadata": {},
   "source": [
    "Hypotheses 1: Departure delays are mostly influenced by the existing departure backlog at origin airport\n",
    "Hypotheses 2: Arrival delays are partly influenced by the departure delay and partly by the existing arrivals backlog at destination airport"
   ]
  }
 ],
 "metadata": {
  "kernelspec": {
   "display_name": "Python 3",
   "language": "python",
   "name": "python3"
  },
  "language_info": {
   "codemirror_mode": {
    "name": "ipython",
    "version": 3
   },
   "file_extension": ".py",
   "mimetype": "text/x-python",
   "name": "python",
   "nbconvert_exporter": "python",
   "pygments_lexer": "ipython3",
   "version": "3.7.1"
  }
 },
 "nbformat": 4,
 "nbformat_minor": 2
}
